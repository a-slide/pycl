{
 "cells": [
  {
   "cell_type": "markdown",
   "metadata": {},
   "source": [
    "# TEST pycltools package\n",
    "** This notebook contains tests for the functions contained in pycltools package **"
   ]
  },
  {
   "cell_type": "code",
   "execution_count": 167,
   "metadata": {
    "ExecuteTime": {
     "end_time": "2018-12-10T12:08:28.146051Z",
     "start_time": "2018-12-10T12:08:28.132445Z"
    },
    "init_cell": true
   },
   "outputs": [],
   "source": [
    "# Jupyter specific imports\n",
    "from IPython.core.display import display, HTML, Markdown\n",
    "# Import of required packages\n",
    "from os import remove\n",
    "# import all the functions from pyCL\n",
    "from pycltools.pycltools import *"
   ]
  },
  {
   "cell_type": "markdown",
   "metadata": {},
   "source": [
    "# JUPYTER NOTEBOOK SPECIFIC TOOLS"
   ]
  },
  {
   "cell_type": "markdown",
   "metadata": {},
   "source": [
    "## jhelp"
   ]
  },
  {
   "cell_type": "code",
   "execution_count": 168,
   "metadata": {
    "ExecuteTime": {
     "end_time": "2018-12-10T12:08:28.156020Z",
     "start_time": "2018-12-10T12:08:28.147486Z"
    },
    "init_cell": true,
    "scrolled": true
   },
   "outputs": [
    {
     "name": "stdout",
     "output_type": "stream",
     "text": [
      "Help on function jhelp in module pycltools.pycltools:\n",
      "\n",
      "jhelp(function, full=True, print_private=False, **kwargs)\n",
      "    Print a nice looking help string based on the name of a declared function. By default print the function\n",
      "    definition and description\n",
      "    * function\n",
      "        Name of a declared function or class method\n",
      "    * full\n",
      "        If True, the help string will included a description of all arguments\n",
      "\n"
     ]
    }
   ],
   "source": [
    "help(jhelp)"
   ]
  },
  {
   "cell_type": "code",
   "execution_count": 169,
   "metadata": {
    "ExecuteTime": {
     "end_time": "2018-12-10T12:08:28.167596Z",
     "start_time": "2018-12-10T12:08:28.158744Z"
    },
    "init_cell": true
   },
   "outputs": [
    {
     "data": {
      "text/html": [
       "<p style=\"line-height:15px;\"><b>jhelp</b> (function, full=True, print_private=False, **kwargs)<br><br>    Print a nice looking help string based on the name of a declared function. By default print the function<br>    definition and description<br>    * function<br>        Name of a declared function or class method<br>    * full<br>        If True, the help string will included a description of all arguments<br>    </p>"
      ],
      "text/plain": [
       "<IPython.core.display.HTML object>"
      ]
     },
     "metadata": {},
     "output_type": "display_data"
    }
   ],
   "source": [
    "jhelp(jhelp, full=True)"
   ]
  },
  {
   "cell_type": "markdown",
   "metadata": {},
   "source": [
    "## jprint"
   ]
  },
  {
   "cell_type": "code",
   "execution_count": 170,
   "metadata": {
    "ExecuteTime": {
     "end_time": "2018-12-10T12:08:28.177712Z",
     "start_time": "2018-12-10T12:08:28.170489Z"
    },
    "init_cell": true,
    "scrolled": true
   },
   "outputs": [
    {
     "data": {
      "text/html": [
       "<p style=\"line-height:15px;\"><b>jprint</b> (*args, **kwargs)<br><br>    FOR JUPYTER NOTEBOOK ONLY<br>    Format a string in HTML and print the output. Equivalent of print, but highly customizable. Many options can be<br>    passed to the function.<br>    * *args<br>        One or several objects that can be cast in str<br>    * **kwargs<br>        Formatting options to tweak the html rendering<br>        Boolean options : bold, italic, highlight, underlined, striked, subscripted, superscripted<br>        String oprions: font, color, size, align, background_color, line_height<br>    </p>"
      ],
      "text/plain": [
       "<IPython.core.display.HTML object>"
      ]
     },
     "metadata": {},
     "output_type": "display_data"
    }
   ],
   "source": [
    "jhelp(jprint, full=True)"
   ]
  },
  {
   "cell_type": "code",
   "execution_count": 45,
   "metadata": {
    "ExecuteTime": {
     "end_time": "2018-12-10T12:07:25.637830Z",
     "start_time": "2018-12-10T12:07:25.630788Z"
    },
    "init_cell": false
   },
   "outputs": [
    {
     "data": {
      "text/html": [
       "<p style=\"font-family:sans;color:purple;font-size:200%;line-height:15px;\"><b>Lorem ipsum condimentum elementum sapien nam eleifend quisque sapien curae</b></p>"
      ],
      "text/plain": [
       "<IPython.core.display.HTML object>"
      ]
     },
     "metadata": {},
     "output_type": "display_data"
    }
   ],
   "source": [
    "txt=\"Lorem ipsum condimentum elementum sapien nam eleifend quisque sapien curae\"\n",
    "jprint(txt,font=\"sans\", color=\"purple\", size=200, bold=True)"
   ]
  },
  {
   "cell_type": "code",
   "execution_count": 46,
   "metadata": {
    "ExecuteTime": {
     "end_time": "2018-12-10T12:07:25.654290Z",
     "start_time": "2018-12-10T12:07:25.640786Z"
    }
   },
   "outputs": [
    {
     "data": {
      "text/html": [
       "<p style=\"font-family:sans;color:powderblue;font-size:200%;line-height:50px;\"><b>Lorem ipsum<br>&emsp;condimentum elementum<br>&emsp;&emsp;sapien nam eleifend quisque<br>&emsp;&emsp;&emsp;sapien curae</b></p>"
      ],
      "text/plain": [
       "<IPython.core.display.HTML object>"
      ]
     },
     "metadata": {},
     "output_type": "display_data"
    }
   ],
   "source": [
    "txt=\"Lorem ipsum\\n\\tcondimentum elementum\\n\\t\\tsapien nam eleifend quisque\\n\\t\\t\\tsapien curae\"\n",
    "jprint(txt,font=\"sans\", color=\"powderblue\", size=200, bold=True, line_height=50)"
   ]
  },
  {
   "cell_type": "code",
   "execution_count": 47,
   "metadata": {
    "ExecuteTime": {
     "end_time": "2018-12-10T12:07:25.666757Z",
     "start_time": "2018-12-10T12:07:25.657289Z"
    }
   },
   "outputs": [
    {
     "data": {
      "text/html": [
       "<p style=\"font-family:calibri;color:grey;font-size:250%;text-align:center;line-height:15px;\"><ins>Lorem ipsum condimentum elementum 1 True</ins></p>"
      ],
      "text/plain": [
       "<IPython.core.display.HTML object>"
      ]
     },
     "metadata": {},
     "output_type": "display_data"
    }
   ],
   "source": [
    "jprint(\"Lorem\",\"ipsum\",\"condimentum\",\"elementum\", 1, True, bold=False, italic=False, highlight=False, underlined=True, striked=False, subscripted=False, superscripted=False, font=\"calibri\", color=\"grey\", size=250, align=\"center\")"
   ]
  },
  {
   "cell_type": "markdown",
   "metadata": {},
   "source": [
    "## toogle_code"
   ]
  },
  {
   "cell_type": "code",
   "execution_count": 171,
   "metadata": {
    "ExecuteTime": {
     "end_time": "2018-12-10T12:08:28.188332Z",
     "start_time": "2018-12-10T12:08:28.180201Z"
    },
    "init_cell": true
   },
   "outputs": [
    {
     "data": {
      "text/html": [
       "<p style=\"line-height:15px;\"><b>toogle_code</b> (**kwargs)<br><br>    FOR JUPYTER NOTEBOOK ONLY<br>    Hide code with a clickable link in a j<br>    upyter notebook<br>    </p>"
      ],
      "text/plain": [
       "<IPython.core.display.HTML object>"
      ]
     },
     "metadata": {},
     "output_type": "display_data"
    }
   ],
   "source": [
    "jhelp(toogle_code, full=True)"
   ]
  },
  {
   "cell_type": "code",
   "execution_count": 49,
   "metadata": {
    "ExecuteTime": {
     "end_time": "2018-12-10T12:07:25.685742Z",
     "start_time": "2018-12-10T12:07:25.681151Z"
    }
   },
   "outputs": [],
   "source": [
    "#toogle_code()"
   ]
  },
  {
   "cell_type": "markdown",
   "metadata": {},
   "source": [
    "## larger_display"
   ]
  },
  {
   "cell_type": "code",
   "execution_count": 172,
   "metadata": {
    "ExecuteTime": {
     "end_time": "2018-12-10T12:08:28.198660Z",
     "start_time": "2018-12-10T12:08:28.190526Z"
    },
    "init_cell": true
   },
   "outputs": [
    {
     "data": {
      "text/html": [
       "<p style=\"line-height:15px;\"><b>larger_display</b> (percent=100, **kwargs)<br><br>    FOR JUPYTER NOTEBOOK ONLY<br>    Resize the area of the screen containing the notebook according to a given percentage of the available width<br>    *  percent percentage of the width of the screen to use [DEFAULT:100]<br>    </p>"
      ],
      "text/plain": [
       "<IPython.core.display.HTML object>"
      ]
     },
     "metadata": {},
     "output_type": "display_data"
    }
   ],
   "source": [
    "jhelp(larger_display, full=True)"
   ]
  },
  {
   "cell_type": "code",
   "execution_count": 173,
   "metadata": {
    "ExecuteTime": {
     "end_time": "2018-12-10T12:08:28.206671Z",
     "start_time": "2018-12-10T12:08:28.200635Z"
    },
    "init_cell": true
   },
   "outputs": [
    {
     "data": {
      "text/html": [
       "<style>.container { width:100% !important; }</style>"
      ],
      "text/plain": [
       "<IPython.core.display.HTML object>"
      ]
     },
     "metadata": {},
     "output_type": "display_data"
    }
   ],
   "source": [
    "larger_display(100)"
   ]
  },
  {
   "cell_type": "markdown",
   "metadata": {},
   "source": [
    "# PREDICATES"
   ]
  },
  {
   "cell_type": "markdown",
   "metadata": {},
   "source": [
    "## is_readable_file"
   ]
  },
  {
   "cell_type": "code",
   "execution_count": 174,
   "metadata": {
    "ExecuteTime": {
     "end_time": "2018-12-10T12:08:28.216313Z",
     "start_time": "2018-12-10T12:08:28.208743Z"
    },
    "init_cell": true,
    "scrolled": false
   },
   "outputs": [
    {
     "data": {
      "text/html": [
       "<p style=\"line-height:15px;\"><b>is_readable_file</b> (fp, raise_exception=True, **kwargs)<br><br>    Verify the readability of a file or list of file<br>    </p>"
      ],
      "text/plain": [
       "<IPython.core.display.HTML object>"
      ]
     },
     "metadata": {},
     "output_type": "display_data"
    }
   ],
   "source": [
    "jhelp(is_readable_file, full=True)"
   ]
  },
  {
   "cell_type": "code",
   "execution_count": 53,
   "metadata": {
    "ExecuteTime": {
     "end_time": "2018-12-10T12:07:25.794817Z",
     "start_time": "2018-12-10T12:07:25.788400Z"
    }
   },
   "outputs": [
    {
     "name": "stdout",
     "output_type": "stream",
     "text": [
      "./data/KJHYTGYUJ is not a valid file\n"
     ]
    }
   ],
   "source": [
    "try:\n",
    "    is_readable_file(\"./data/KJHYTGYUJ\")\n",
    "    print (\"OK\")\n",
    "except OSError as E:\n",
    "    print(E)"
   ]
  },
  {
   "cell_type": "code",
   "execution_count": 54,
   "metadata": {
    "ExecuteTime": {
     "end_time": "2018-12-10T12:07:25.805513Z",
     "start_time": "2018-12-10T12:07:25.798187Z"
    }
   },
   "outputs": [
    {
     "name": "stdout",
     "output_type": "stream",
     "text": [
      "OK\n"
     ]
    }
   ],
   "source": [
    "try:\n",
    "    is_readable_file(\"./data/RADAR_Secondary.txt\")\n",
    "    print (\"OK\")\n",
    "except OSError as E:\n",
    "    print(E)"
   ]
  },
  {
   "cell_type": "markdown",
   "metadata": {},
   "source": [
    "## is_gziped"
   ]
  },
  {
   "cell_type": "code",
   "execution_count": 175,
   "metadata": {
    "ExecuteTime": {
     "end_time": "2018-12-10T12:08:28.236448Z",
     "start_time": "2018-12-10T12:08:28.218330Z"
    },
    "init_cell": true
   },
   "outputs": [
    {
     "data": {
      "text/html": [
       "<p style=\"line-height:15px;\"><b>is_gziped</b> (fp, **kwargs)<br><br>    Return True if the file is Gziped else False<br>    </p>"
      ],
      "text/plain": [
       "<IPython.core.display.HTML object>"
      ]
     },
     "metadata": {},
     "output_type": "display_data"
    }
   ],
   "source": [
    "jhelp(is_gziped, full=True)"
   ]
  },
  {
   "cell_type": "code",
   "execution_count": 56,
   "metadata": {
    "ExecuteTime": {
     "end_time": "2018-12-10T12:07:25.857421Z",
     "start_time": "2018-12-10T12:07:25.852248Z"
    }
   },
   "outputs": [
    {
     "data": {
      "text/plain": [
       "False"
      ]
     },
     "execution_count": 56,
     "metadata": {},
     "output_type": "execute_result"
    }
   ],
   "source": [
    "is_gziped(\"./data/RADAR_Secondary.txt\")"
   ]
  },
  {
   "cell_type": "code",
   "execution_count": 57,
   "metadata": {
    "ExecuteTime": {
     "end_time": "2018-12-10T12:07:25.867928Z",
     "start_time": "2018-12-10T12:07:25.861016Z"
    }
   },
   "outputs": [
    {
     "data": {
      "text/plain": [
       "True"
      ]
     },
     "execution_count": 57,
     "metadata": {},
     "output_type": "execute_result"
    }
   ],
   "source": [
    "is_gziped(\"./data/RADAR_Secondary.txt.gz\")"
   ]
  },
  {
   "cell_type": "markdown",
   "metadata": {},
   "source": [
    "## has_extension"
   ]
  },
  {
   "cell_type": "code",
   "execution_count": 176,
   "metadata": {
    "ExecuteTime": {
     "end_time": "2018-12-10T12:08:28.271466Z",
     "start_time": "2018-12-10T12:08:28.247560Z"
    },
    "init_cell": true
   },
   "outputs": [
    {
     "data": {
      "text/html": [
       "<p style=\"line-height:15px;\"><b>has_extension</b> (fp, ext, pos=-1, raise_exception=False, **kwargs)<br><br>    Test presence of extension in a file path<br>    * ext<br>        Single extension name or list of extension names  without dot. Example [\"gz, \"fa\"]<br>    * pos<br>        Postition of the extension in the file path. -1 for the last, -2 for the penultimate and so on [DEFAULT -1 = Last position]<br>    </p>"
      ],
      "text/plain": [
       "<IPython.core.display.HTML object>"
      ]
     },
     "metadata": {},
     "output_type": "display_data"
    }
   ],
   "source": [
    "jhelp(has_extension, full=True)"
   ]
  },
  {
   "cell_type": "code",
   "execution_count": 59,
   "metadata": {
    "ExecuteTime": {
     "end_time": "2018-12-10T12:07:25.919762Z",
     "start_time": "2018-12-10T12:07:25.913707Z"
    }
   },
   "outputs": [
    {
     "data": {
      "text/plain": [
       "True"
      ]
     },
     "execution_count": 59,
     "metadata": {},
     "output_type": "execute_result"
    }
   ],
   "source": [
    "has_extension(\"./data/test/RADAR_Secondary.txt.gz\", \"gz\")"
   ]
  },
  {
   "cell_type": "code",
   "execution_count": 60,
   "metadata": {
    "ExecuteTime": {
     "end_time": "2018-12-10T12:07:25.931321Z",
     "start_time": "2018-12-10T12:07:25.923017Z"
    }
   },
   "outputs": [
    {
     "data": {
      "text/plain": [
       "False"
      ]
     },
     "execution_count": 60,
     "metadata": {},
     "output_type": "execute_result"
    }
   ],
   "source": [
    "has_extension(\"./data/test/RADAR_Secondary.txt.gz\", \"fa\")"
   ]
  },
  {
   "cell_type": "code",
   "execution_count": 61,
   "metadata": {
    "ExecuteTime": {
     "end_time": "2018-12-10T12:07:25.941432Z",
     "start_time": "2018-12-10T12:07:25.934005Z"
    }
   },
   "outputs": [
    {
     "data": {
      "text/plain": [
       "True"
      ]
     },
     "execution_count": 61,
     "metadata": {},
     "output_type": "execute_result"
    }
   ],
   "source": [
    "has_extension(\"./data/test/RADAR_Secondary.txt.gz\", \"txt\", -2)"
   ]
  },
  {
   "cell_type": "markdown",
   "metadata": {},
   "source": [
    "---"
   ]
  },
  {
   "cell_type": "markdown",
   "metadata": {},
   "source": [
    "# PATH MANIPULATION"
   ]
  },
  {
   "cell_type": "markdown",
   "metadata": {},
   "source": [
    "## file_basename"
   ]
  },
  {
   "cell_type": "code",
   "execution_count": 177,
   "metadata": {
    "ExecuteTime": {
     "end_time": "2018-12-10T12:08:28.287128Z",
     "start_time": "2018-12-10T12:08:28.277843Z"
    },
    "init_cell": true
   },
   "outputs": [
    {
     "data": {
      "text/html": [
       "<p style=\"line-height:15px;\"><b>file_basename</b> (fp, **kwargs)<br><br>    Return the basename of a file without folder location and extension<br>    </p>"
      ],
      "text/plain": [
       "<IPython.core.display.HTML object>"
      ]
     },
     "metadata": {},
     "output_type": "display_data"
    }
   ],
   "source": [
    "jhelp(file_basename, full=True)"
   ]
  },
  {
   "cell_type": "code",
   "execution_count": 63,
   "metadata": {
    "ExecuteTime": {
     "end_time": "2018-12-10T12:07:26.070380Z",
     "start_time": "2018-12-10T12:07:26.064560Z"
    }
   },
   "outputs": [
    {
     "data": {
      "text/plain": [
       "'RADAR_Secondary'"
      ]
     },
     "execution_count": 63,
     "metadata": {},
     "output_type": "execute_result"
    }
   ],
   "source": [
    "file_basename(\"./data/RADAR_Secondary.txt.gz\")"
   ]
  },
  {
   "cell_type": "markdown",
   "metadata": {},
   "source": [
    "## extensions"
   ]
  },
  {
   "cell_type": "code",
   "execution_count": 178,
   "metadata": {
    "ExecuteTime": {
     "end_time": "2018-12-10T12:08:28.297867Z",
     "start_time": "2018-12-10T12:08:28.290685Z"
    },
    "init_cell": true
   },
   "outputs": [
    {
     "data": {
      "text/html": [
       "<p style=\"line-height:15px;\"><b>extensions</b> (fp, comp_ext_list=['gz', 'tgz', 'zip', 'xz', 'bz2'], **kwargs)<br><br>    Return The extension of a file in lower-case. If archived file (\"gz\", \"tgz\", \"zip\", \"xz\", \"bz2\")<br>    the method will output the base extension + the archive extension as a string<br>    </p>"
      ],
      "text/plain": [
       "<IPython.core.display.HTML object>"
      ]
     },
     "metadata": {},
     "output_type": "display_data"
    }
   ],
   "source": [
    "jhelp(extensions, full=True)"
   ]
  },
  {
   "cell_type": "code",
   "execution_count": 65,
   "metadata": {
    "ExecuteTime": {
     "end_time": "2018-12-10T12:07:26.127219Z",
     "start_time": "2018-12-10T12:07:26.121886Z"
    }
   },
   "outputs": [
    {
     "name": "stdout",
     "output_type": "stream",
     "text": [
      ".txt.gz\n",
      ".txt\n",
      "\n"
     ]
    }
   ],
   "source": [
    "print(extensions(\"./data/RADAR_Secondary.txt.gz\"))\n",
    "print(extensions(\"./data/RADAR_Secondary.txt\"))\n",
    "print(extensions(\"./data/RADAR_Secondary\"))"
   ]
  },
  {
   "cell_type": "markdown",
   "metadata": {
    "ExecuteTime": {
     "end_time": "2017-08-03T10:32:08.847380",
     "start_time": "2017-08-03T10:32:08.843688Z"
    }
   },
   "source": [
    "## extensions_list"
   ]
  },
  {
   "cell_type": "code",
   "execution_count": 66,
   "metadata": {
    "ExecuteTime": {
     "end_time": "2018-12-10T12:07:26.184442Z",
     "start_time": "2018-12-10T12:07:26.179601Z"
    }
   },
   "outputs": [
    {
     "data": {
      "text/html": [
       "<p style=\"line-height:15px;\"><b>extensions_list</b> (fp, comp_ext_list=['gz', 'tgz', 'zip', 'xz', 'bz2'], **kwargs)<br><br>    Return The extension of a file in lower-case. If archived file (\"gz\", \"tgz\", \"zip\", \"xz\", \"bz2\")<br>    the method will output the base extension + the archive extension as a list<br>    </p>"
      ],
      "text/plain": [
       "<IPython.core.display.HTML object>"
      ]
     },
     "metadata": {},
     "output_type": "display_data"
    }
   ],
   "source": [
    "jhelp(extensions_list, full=True)"
   ]
  },
  {
   "cell_type": "code",
   "execution_count": 67,
   "metadata": {
    "ExecuteTime": {
     "end_time": "2018-12-10T12:07:26.196139Z",
     "start_time": "2018-12-10T12:07:26.192145Z"
    },
    "scrolled": true
   },
   "outputs": [
    {
     "name": "stdout",
     "output_type": "stream",
     "text": [
      "['txt', 'gz']\n",
      "['txt']\n",
      "[]\n"
     ]
    }
   ],
   "source": [
    "print(extensions_list(\"./data/RADAR_Secondary.txt.gz\"))\n",
    "print(extensions_list(\"./data/RADAR_Secondary.txt\"))\n",
    "print(extensions_list(\"./data/RADAR_Secondary\"))"
   ]
  },
  {
   "cell_type": "markdown",
   "metadata": {},
   "source": [
    "## file_name"
   ]
  },
  {
   "cell_type": "code",
   "execution_count": 179,
   "metadata": {
    "ExecuteTime": {
     "end_time": "2018-12-10T12:08:28.307127Z",
     "start_time": "2018-12-10T12:08:28.300142Z"
    },
    "init_cell": true
   },
   "outputs": [
    {
     "data": {
      "text/html": [
       "<p style=\"line-height:15px;\"><b>file_name</b> (fp, **kwargs)<br><br>    Return The complete name of a file with the extension but without folder location<br>    </p>"
      ],
      "text/plain": [
       "<IPython.core.display.HTML object>"
      ]
     },
     "metadata": {},
     "output_type": "display_data"
    }
   ],
   "source": [
    "jhelp(file_name, full=True)"
   ]
  },
  {
   "cell_type": "code",
   "execution_count": 69,
   "metadata": {
    "ExecuteTime": {
     "end_time": "2018-12-10T12:07:26.254586Z",
     "start_time": "2018-12-10T12:07:26.250507Z"
    }
   },
   "outputs": [
    {
     "data": {
      "text/plain": [
       "'RADAR_Secondary.txt.gz'"
      ]
     },
     "execution_count": 69,
     "metadata": {},
     "output_type": "execute_result"
    }
   ],
   "source": [
    "file_name(\"./data/test/RADAR_Secondary.txt.gz\")"
   ]
  },
  {
   "cell_type": "markdown",
   "metadata": {},
   "source": [
    "## dir_name"
   ]
  },
  {
   "cell_type": "code",
   "execution_count": 180,
   "metadata": {
    "ExecuteTime": {
     "end_time": "2018-12-10T12:08:28.314833Z",
     "start_time": "2018-12-10T12:08:28.309013Z"
    },
    "init_cell": true
   },
   "outputs": [
    {
     "data": {
      "text/html": [
       "<p style=\"line-height:15px;\"><b>dir_name</b> (fp, **kwargs)<br><br>    Return the name of the directory where the file is located<br>    </p>"
      ],
      "text/plain": [
       "<IPython.core.display.HTML object>"
      ]
     },
     "metadata": {},
     "output_type": "display_data"
    }
   ],
   "source": [
    "jhelp(dir_name, full=True)"
   ]
  },
  {
   "cell_type": "code",
   "execution_count": 71,
   "metadata": {
    "ExecuteTime": {
     "end_time": "2018-12-10T12:07:26.310667Z",
     "start_time": "2018-12-10T12:07:26.304249Z"
    },
    "scrolled": false
   },
   "outputs": [
    {
     "name": "stdout",
     "output_type": "stream",
     "text": [
      "test\n",
      ".\n",
      "bin\n"
     ]
    }
   ],
   "source": [
    "print(dir_name(\"./data/test/RADAR_Secondary.txt.gz\"))\n",
    "print(dir_name(\"./__init__.py\"))\n",
    "print(dir_name(\"/bin/bash\"))"
   ]
  },
  {
   "cell_type": "markdown",
   "metadata": {},
   "source": [
    "## dir_path"
   ]
  },
  {
   "cell_type": "code",
   "execution_count": 72,
   "metadata": {
    "ExecuteTime": {
     "end_time": "2018-12-10T12:07:26.353738Z",
     "start_time": "2018-12-10T12:07:26.348776Z"
    }
   },
   "outputs": [
    {
     "data": {
      "text/html": [
       "<p style=\"line-height:15px;\"><b>dir_path</b> (fp, **kwargs)<br><br>    Return the directory path of a file<br>    </p>"
      ],
      "text/plain": [
       "<IPython.core.display.HTML object>"
      ]
     },
     "metadata": {},
     "output_type": "display_data"
    }
   ],
   "source": [
    "jhelp(dir_path, full=True)"
   ]
  },
  {
   "cell_type": "code",
   "execution_count": 73,
   "metadata": {
    "ExecuteTime": {
     "end_time": "2018-12-10T12:07:26.363239Z",
     "start_time": "2018-12-10T12:07:26.356588Z"
    }
   },
   "outputs": [
    {
     "name": "stdout",
     "output_type": "stream",
     "text": [
      "./data/test\n",
      ".\n",
      "/bin\n"
     ]
    }
   ],
   "source": [
    "print(dir_path(\"./data/test/RADAR_Secondary.txt.gz\"))\n",
    "print(dir_path(\"./__init__.py\"))\n",
    "print(dir_path(\"/bin/bash\"))"
   ]
  },
  {
   "cell_type": "markdown",
   "metadata": {},
   "source": [
    "---"
   ]
  },
  {
   "cell_type": "markdown",
   "metadata": {},
   "source": [
    "# STRING FORMATTING"
   ]
  },
  {
   "cell_type": "markdown",
   "metadata": {},
   "source": [
    "## supersplit"
   ]
  },
  {
   "cell_type": "code",
   "execution_count": 181,
   "metadata": {
    "ExecuteTime": {
     "end_time": "2018-12-10T12:08:28.324545Z",
     "start_time": "2018-12-10T12:08:28.316529Z"
    },
    "init_cell": true
   },
   "outputs": [
    {
     "data": {
      "text/html": [
       "<p style=\"line-height:15px;\"><b>supersplit</b> (string, separator='', **kwargs)<br><br>    like split but can take a list of separators instead of a simple separator<br>    </p>"
      ],
      "text/plain": [
       "<IPython.core.display.HTML object>"
      ]
     },
     "metadata": {},
     "output_type": "display_data"
    }
   ],
   "source": [
    "jhelp(supersplit, full=True)"
   ]
  },
  {
   "cell_type": "code",
   "execution_count": 75,
   "metadata": {
    "ExecuteTime": {
     "end_time": "2018-12-10T12:07:26.499222Z",
     "start_time": "2018-12-10T12:07:26.493282Z"
    }
   },
   "outputs": [
    {
     "name": "stdout",
     "output_type": "stream",
     "text": [
      "['chr7', '74138', '774138', 'A>I', 'LOC100129917', 'LUNG:LYMPHOBLASTOID_CELL_LINE', '15342557:15258596:22327324', '0']\n",
      "['chr7', '74138', '774138', 'A>I|LOC100129917|LUNG:LYMPHOBLASTOID_CELL_LINE|15342557:15258596:22327324', '0']\n",
      "['chr7\\t74138\\t774138\\tA>I', 'LOC100129917', 'LUNG:LYMPHOBLASTOID_CELL_LINE', '15342557:15258596:22327324\\t0']\n"
     ]
    }
   ],
   "source": [
    "a = \"chr7\\t74138\\t774138\\tA>I|LOC100129917|LUNG:LYMPHOBLASTOID_CELL_LINE|15342557:15258596:22327324\\t0\"\n",
    "\n",
    "print(supersplit(a, [\"\\t\",\"|\"]))\n",
    "\n",
    "print(supersplit(a))\n",
    "\n",
    "print(supersplit(a, \"|\"))"
   ]
  },
  {
   "cell_type": "markdown",
   "metadata": {},
   "source": [
    "## rm_blank"
   ]
  },
  {
   "cell_type": "code",
   "execution_count": 182,
   "metadata": {
    "ExecuteTime": {
     "end_time": "2018-12-10T12:08:28.334296Z",
     "start_time": "2018-12-10T12:08:28.326354Z"
    },
    "init_cell": true
   },
   "outputs": [
    {
     "data": {
      "text/html": [
       "<p style=\"line-height:15px;\"><b>rm_blank</b> (name, replace='', **kwargs)<br> Replace blank spaces in a name by a given character (default = remove)<br>    Blanks at extremities are always removed and nor replaced </p>"
      ],
      "text/plain": [
       "<IPython.core.display.HTML object>"
      ]
     },
     "metadata": {},
     "output_type": "display_data"
    }
   ],
   "source": [
    "jhelp(rm_blank, full=True)"
   ]
  },
  {
   "cell_type": "code",
   "execution_count": 77,
   "metadata": {
    "ExecuteTime": {
     "end_time": "2018-12-10T12:07:26.551208Z",
     "start_time": "2018-12-10T12:07:26.544282Z"
    },
    "scrolled": true
   },
   "outputs": [
    {
     "name": "stdout",
     "output_type": "stream",
     "text": [
      "chr17|LUNG:LYMPHOBLASTOID_CELL_LINE|15342557:15258596:223273240\n",
      "chr*17|LU*NG:LYMPHOBLAST*OID_CELL_LINE|15342557:152585*96:22327324*0\n"
     ]
    }
   ],
   "source": [
    "a = \"chr\\t\\t17|LU NG:LYMPHOBLAST    OID_CELL_LINE|15342557:152585     96:22327324\\t0\"\n",
    "\n",
    "print(rm_blank(a))\n",
    "\n",
    "print(rm_blank(a, replace=\"*\"))"
   ]
  },
  {
   "cell_type": "markdown",
   "metadata": {},
   "source": [
    "---"
   ]
  },
  {
   "cell_type": "markdown",
   "metadata": {},
   "source": [
    "# FILE MANIPULATION"
   ]
  },
  {
   "cell_type": "markdown",
   "metadata": {},
   "source": [
    "## copyFile"
   ]
  },
  {
   "cell_type": "code",
   "execution_count": 183,
   "metadata": {
    "ExecuteTime": {
     "end_time": "2018-12-10T12:08:28.344190Z",
     "start_time": "2018-12-10T12:08:28.336048Z"
    },
    "init_cell": true
   },
   "outputs": [
    {
     "data": {
      "text/html": [
       "<p style=\"line-height:15px;\"><b>copyFile</b> (src, dest, **kwargs)<br><br>    Copy a single file to a destination file or folder (with error handling/reporting)<br>    * src<br>        Source file path<br>    * dest<br>        Path of the folder where to copy the source file<br>    </p>"
      ],
      "text/plain": [
       "<IPython.core.display.HTML object>"
      ]
     },
     "metadata": {},
     "output_type": "display_data"
    }
   ],
   "source": [
    "jhelp(copyFile, full=True)"
   ]
  },
  {
   "cell_type": "code",
   "execution_count": 79,
   "metadata": {
    "ExecuteTime": {
     "end_time": "2018-12-10T12:07:26.686935Z",
     "start_time": "2018-12-10T12:07:26.680142Z"
    }
   },
   "outputs": [
    {
     "name": "stdout",
     "output_type": "stream",
     "text": [
      "Error: './data/RADAR_Secondary.txt' and './data/RADAR_Secondary.txt' are the same file\n"
     ]
    }
   ],
   "source": [
    "copyFile(src=\"./data/RADAR_Secondary.txt\", dest=\"./data/\")"
   ]
  },
  {
   "cell_type": "code",
   "execution_count": 80,
   "metadata": {
    "ExecuteTime": {
     "end_time": "2018-12-10T12:07:26.697238Z",
     "start_time": "2018-12-10T12:07:26.693951Z"
    },
    "scrolled": true
   },
   "outputs": [],
   "source": [
    "copyFile(src=\"./data/RADAR_Secondary.txt\", dest=\"./data/RADAR_Secondary_copy.txt\")"
   ]
  },
  {
   "cell_type": "markdown",
   "metadata": {},
   "source": [
    "## gzip_file"
   ]
  },
  {
   "cell_type": "code",
   "execution_count": 184,
   "metadata": {
    "ExecuteTime": {
     "end_time": "2018-12-10T12:08:28.353833Z",
     "start_time": "2018-12-10T12:08:28.346026Z"
    },
    "init_cell": true
   },
   "outputs": [
    {
     "data": {
      "text/html": [
       "<p style=\"line-height:15px;\"><b>gzip_file</b> (fpin, fpout=None, **kwargs)<br><br>    gzip a file<br>    * fpin<br>        Path of the input uncompressed file<br>    * fpout<br>        Path of the output compressed file (facultative)<br>    </p>"
      ],
      "text/plain": [
       "<IPython.core.display.HTML object>"
      ]
     },
     "metadata": {},
     "output_type": "display_data"
    }
   ],
   "source": [
    "jhelp(gzip_file, full=True)"
   ]
  },
  {
   "cell_type": "code",
   "execution_count": 82,
   "metadata": {
    "ExecuteTime": {
     "end_time": "2018-12-10T12:07:26.750896Z",
     "start_time": "2018-12-10T12:07:26.743042Z"
    }
   },
   "outputs": [
    {
     "name": "stdout",
     "output_type": "stream",
     "text": [
      "Compressing ./data/RADAR_Secondary.txt\n"
     ]
    },
    {
     "data": {
      "text/plain": [
       "'/home/aleg/Programming/pycltools/docs/data/RADAR_Secondary.txt.gz'"
      ]
     },
     "execution_count": 82,
     "metadata": {},
     "output_type": "execute_result"
    }
   ],
   "source": [
    "gzip_file(\"./data/RADAR_Secondary.txt\")"
   ]
  },
  {
   "cell_type": "markdown",
   "metadata": {},
   "source": [
    "## gunzip_file"
   ]
  },
  {
   "cell_type": "code",
   "execution_count": 185,
   "metadata": {
    "ExecuteTime": {
     "end_time": "2018-12-10T12:08:28.363710Z",
     "start_time": "2018-12-10T12:08:28.355322Z"
    },
    "init_cell": true
   },
   "outputs": [
    {
     "data": {
      "text/html": [
       "<p style=\"line-height:15px;\"><b>gunzip_file</b> (fpin, fpout=None, **kwargs)<br><br>    ungzip a file<br>    * fpin<br>        Path of the input compressed file<br>    * fpout<br>        Path of the output uncompressed file (facultative)<br>    </p>"
      ],
      "text/plain": [
       "<IPython.core.display.HTML object>"
      ]
     },
     "metadata": {},
     "output_type": "display_data"
    }
   ],
   "source": [
    "jhelp(gunzip_file, full=True)"
   ]
  },
  {
   "cell_type": "code",
   "execution_count": 84,
   "metadata": {
    "ExecuteTime": {
     "end_time": "2018-12-10T12:07:26.808106Z",
     "start_time": "2018-12-10T12:07:26.800447Z"
    }
   },
   "outputs": [
    {
     "name": "stdout",
     "output_type": "stream",
     "text": [
      "Uncompressing ./data/RADAR_Secondary.txt.gz\n"
     ]
    },
    {
     "data": {
      "text/plain": [
       "'/home/aleg/Programming/pycltools/docs/data/RADAR_Secondary.txt'"
      ]
     },
     "execution_count": 84,
     "metadata": {},
     "output_type": "execute_result"
    }
   ],
   "source": [
    "gunzip_file(\"./data/RADAR_Secondary.txt.gz\")"
   ]
  },
  {
   "cell_type": "markdown",
   "metadata": {},
   "source": [
    "---"
   ]
  },
  {
   "cell_type": "markdown",
   "metadata": {},
   "source": [
    "# FILE INFORMATION"
   ]
  },
  {
   "cell_type": "markdown",
   "metadata": {},
   "source": [
    "## linerange"
   ]
  },
  {
   "cell_type": "code",
   "execution_count": 186,
   "metadata": {
    "ExecuteTime": {
     "end_time": "2018-12-10T12:08:28.373213Z",
     "start_time": "2018-12-10T12:08:28.365713Z"
    },
    "init_cell": true
   },
   "outputs": [
    {
     "data": {
      "text/html": [
       "<p style=\"line-height:15px;\"><b>linerange</b> (fp, range_list=[], line_numbering=True, max_char_line=150, **kwargs)<br><br>    Print a range of lines in a file according to a list of start end lists. Handle gziped files<br>    * fp<br>        Path to the file to be parsed<br>    * range_list<br>        list of start, end coordinates lists or tuples<br>    * line_numbering<br>        If True the number of the line will be indicated in front of the line<br>    * max_char_line<br>        Maximal number of character to print per line<br>    </p>"
      ],
      "text/plain": [
       "<IPython.core.display.HTML object>"
      ]
     },
     "metadata": {},
     "output_type": "display_data"
    }
   ],
   "source": [
    "jhelp(linerange, full=True)"
   ]
  },
  {
   "cell_type": "code",
   "execution_count": 86,
   "metadata": {
    "ExecuteTime": {
     "end_time": "2018-12-10T12:07:26.951005Z",
     "start_time": "2018-12-10T12:07:26.934072Z"
    }
   },
   "outputs": [
    {
     "name": "stdout",
     "output_type": "stream",
     "text": [
      "0\t#location\treference\ttissue\tcoverage\tediting_level(%)\n",
      "1\tchr1:1037916\tPeng et al 2012\tLymphoblastoid cell line\t9\t66.67\n",
      "2\tchr1:1156882\tPeng et al 2012\tLymphoblastoid cell line\t42\t36.59\n",
      "...\n",
      "97\tchr1:10560773\tPeng et al 2012\tLymphoblastoid cell line\t20\t40.00\n",
      "98\tchr1:10602697\tPeng et al 2012\tLymphoblastoid cell line\t5\t60.00\n",
      "99\tchr1:11138237\tPeng et al 2012\tLymphoblastoid cell line\t14\t42.86\n"
     ]
    }
   ],
   "source": [
    "file = \"./data/RADAR_Secondary.txt\"\n",
    "linerange (file)"
   ]
  },
  {
   "cell_type": "code",
   "execution_count": 87,
   "metadata": {
    "ExecuteTime": {
     "end_time": "2018-12-10T12:07:26.967836Z",
     "start_time": "2018-12-10T12:07:26.953268Z"
    }
   },
   "outputs": [
    {
     "name": "stdout",
     "output_type": "stream",
     "text": [
      "...\n",
      "2\t#provider: GENCODE\n",
      "3\t#contact: gencode-help@sanger.ac.uk\n",
      "4\t#format: gff3\n",
      "5\t#date: 2015-12-03\n",
      "...\n",
      "10\tchr1\tHAVANA\texon\t30564\t30667\t.\t+\t.\tID=exon:ENST00000473358.1:2;Parent=ENST00000473358.1;gene_id=E...\n",
      "11\tchr1\tHAVANA\texon\t30976\t31097\t.\t+\t.\tID=exon:ENST00000473358.1:3;Parent=ENST00000473358.1;gene_id=E...\n",
      "12\tchr1\tHAVANA\ttranscript\t30267\t31109\t.\t+\t.\tID=ENST00000469289.1;Parent=ENSG00000243485.3;gene_id=EN...\n",
      "...\n",
      "98\tchr1\tHAVANA\texon\t287517\t287921\t.\t-\t.\tID=exon:ENST00000335577.4:2;Parent=ENST00000335577.4;gene_id...\n",
      "99\tchr1\tHAVANA\tgene\t357383\t359681\t.\t-\t.\tID=ENSG00000236743.1;gene_id=ENSG00000236743.1;gene_type=lin...\n",
      "100\tchr1\tHAVANA\ttranscript\t357383\t359681\t.\t-\t.\tID=ENST00000441866.1;Parent=ENSG00000236743.1;gene_id...\n",
      "...\n"
     ]
    }
   ],
   "source": [
    "file = \"./data/gencode_sample.gff3\"\n",
    "linerange (file, [[2,5],[10,12],[98,100]], max_char_line=100)"
   ]
  },
  {
   "cell_type": "code",
   "execution_count": 88,
   "metadata": {
    "ExecuteTime": {
     "end_time": "2018-12-10T12:07:26.973561Z",
     "start_time": "2018-12-10T12:07:26.969769Z"
    }
   },
   "outputs": [
    {
     "name": "stdout",
     "output_type": "stream",
     "text": [
      "#location\treference\ttissue\tcoverage\tediting_level(%)\n",
      "chr1:1037916\tPeng et al 2012\tLymphoblastoid cell line\t9\t66.67\n",
      "chr1:1156882\tPeng et al 2012\tLymphoblastoid cell line\t42\t36.59\n",
      "...\n",
      "chr1:10560773\tPeng et al 2012\tLymphoblastoid cell line\t20\t40.00\n",
      "chr1:10602697\tPeng et al 2012\tLymphoblastoid cell line\t5\t60.00\n",
      "chr1:11138237\tPeng et al 2012\tLymphoblastoid cell line\t14\t42.86\n"
     ]
    }
   ],
   "source": [
    "file = \"./data/RADAR_Secondary.txt.gz\"\n",
    "linerange (file, line_numbering=False)"
   ]
  },
  {
   "cell_type": "markdown",
   "metadata": {},
   "source": [
    "## cat"
   ]
  },
  {
   "cell_type": "code",
   "execution_count": 187,
   "metadata": {
    "ExecuteTime": {
     "end_time": "2018-12-10T12:08:28.382816Z",
     "start_time": "2018-12-10T12:08:28.375250Z"
    },
    "init_cell": true
   },
   "outputs": [
    {
     "data": {
      "text/html": [
       "<p style=\"line-height:15px;\"><b>cat</b> (fp, max_lines=100, line_numbering=False, max_char_line=150, **kwargs)<br><br>    Emulate linux cat cmd but with line cap protection. Handle gziped files<br>    * fp<br>        Path to the file to be parsed<br>    * max_lines<br>        Maximal number of lines to print<br>    * line_numbering<br>        If True the number of the line will be indicated in front of the line<br>    * max_char_line<br>        Maximal number of character to print per line<br>    </p>"
      ],
      "text/plain": [
       "<IPython.core.display.HTML object>"
      ]
     },
     "metadata": {},
     "output_type": "display_data"
    }
   ],
   "source": [
    "jhelp(cat, full=True)"
   ]
  },
  {
   "cell_type": "code",
   "execution_count": 90,
   "metadata": {
    "ExecuteTime": {
     "end_time": "2018-12-10T12:07:27.012450Z",
     "start_time": "2018-12-10T12:07:27.005745Z"
    }
   },
   "outputs": [
    {
     "name": "stdout",
     "output_type": "stream",
     "text": [
      "#location\treference\ttissue\tcoverage\tediting_level(%)\n",
      "chr1:1037916\tPeng et al 2012\tLymphoblastoid cell line\t9\t66.67\n",
      "chr1:1156882\tPeng et al 2012\tLymphoblastoid cell line\t42\t36.59\n",
      "chr1:1157460\tPeng et al 2012\tLymphoblastoid cell line\t66\t22.73\n",
      "chr1:1252441\tPeng et al 2012\tLymphoblastoid cell line\t11\t72.73\n",
      "...\n",
      "chr1:10521237\tPeng et al 2012\tLymphoblastoid cell line\t34\t17.65\n",
      "chr1:10521238\tPeng et al 2012\tLymphoblastoid cell line\t35\t37.14\n",
      "chr1:10560773\tPeng et al 2012\tLymphoblastoid cell line\t20\t40.00\n",
      "chr1:10602697\tPeng et al 2012\tLymphoblastoid cell line\t5\t60.00\n",
      "chr1:11138237\tPeng et al 2012\tLymphoblastoid cell line\t14\t42.86\n"
     ]
    }
   ],
   "source": [
    "file = \"./data/RADAR_Secondary.txt.gz\"\n",
    "cat (file, max_lines=10)"
   ]
  },
  {
   "cell_type": "code",
   "execution_count": 91,
   "metadata": {
    "ExecuteTime": {
     "end_time": "2018-12-10T12:07:27.058124Z",
     "start_time": "2018-12-10T12:07:27.018729Z"
    }
   },
   "outputs": [
    {
     "name": "stdout",
     "output_type": "stream",
     "text": [
      "0\t##gff-version 3\n",
      "1\t#description: evidence-based annotation of the human genome (GRCh38), version 24 (Ensembl 83) - lo...\n",
      "2\t#provider: GENCODE\n",
      "3\t#contact: gencode-help@sanger.ac.uk\n",
      "4\t#format: gff3\n",
      "5\t#date: 2015-12-03\n",
      "6\t##sequence-region chr1 1 248956422\n",
      "7\tchr1\tHAVANA\tgene\t29554\t31109\t.\t+\t.\tID=ENSG00000243485.3;gene_id=ENSG00000243485.3;gene_type=lincRN...\n",
      "8\tchr1\tHAVANA\ttranscript\t29554\t31097\t.\t+\t.\tID=ENST00000473358.1;Parent=ENSG00000243485.3;gene_id=ENS...\n",
      "9\tchr1\tHAVANA\texon\t29554\t30039\t.\t+\t.\tID=exon:ENST00000473358.1:1;Parent=ENST00000473358.1;gene_id=EN...\n",
      "...\n",
      "9990\tchr1\tHAVANA\texon\t221983000\t221983143\t.\t+\t.\tID=exon:ENST00000421147.5:3;Parent=ENST00000421147.5...\n",
      "9991\tchr1\tHAVANA\ttranscript\t221966410\t221984964\t.\t+\t.\tID=ENST00000441160.1;Parent=ENSG00000228437.5;...\n",
      "9992\tchr1\tHAVANA\texon\t221966410\t221966502\t.\t+\t.\tID=exon:ENST00000441160.1:1;Parent=ENST00000441160.1...\n",
      "9993\tchr1\tHAVANA\texon\t221983000\t221983143\t.\t+\t.\tID=exon:ENST00000441160.1:2;Parent=ENST00000441160.1...\n",
      "9994\tchr1\tHAVANA\texon\t221984054\t221984964\t.\t+\t.\tID=exon:ENST00000441160.1:3;Parent=ENST00000441160.1...\n",
      "9995\tchr1\tHAVANA\tgene\t222041705\t222064763\t.\t-\t.\tID=ENSG00000232679.1;gene_id=ENSG00000232679.1;gene_...\n",
      "9996\tchr1\tHAVANA\ttranscript\t222041705\t222064763\t.\t-\t.\tID=ENST00000438158.1;Parent=ENSG00000232679.1;...\n",
      "9997\tchr1\tHAVANA\texon\t222064685\t222064763\t.\t-\t.\tID=exon:ENST00000438158.1:1;Parent=ENST00000438158.1...\n",
      "9998\tchr1\tHAVANA\texon\t222058414\t222058678\t.\t-\t.\tID=exon:ENST00000438158.1:2;Parent=ENST00000438158.1...\n",
      "9999\tchr1\tHAVANA\texon\t222041705\t222041922\t.\t-\t.\tID=exon:ENST00000438158.1:3;Parent=ENST00000438158.1...\n"
     ]
    }
   ],
   "source": [
    "file=\"./data/gencode_sample.gff3\"\n",
    "cat (file, max_lines=20, line_numbering=True, max_char_line=100)"
   ]
  },
  {
   "cell_type": "markdown",
   "metadata": {},
   "source": [
    "## tail"
   ]
  },
  {
   "cell_type": "code",
   "execution_count": 188,
   "metadata": {
    "ExecuteTime": {
     "end_time": "2018-12-10T12:08:28.391904Z",
     "start_time": "2018-12-10T12:08:28.384595Z"
    },
    "init_cell": true
   },
   "outputs": [
    {
     "data": {
      "text/html": [
       "<p style=\"line-height:15px;\"><b>tail</b> (fp, n=10, line_numbering=False, max_char_line=150, **kwargs)<br><br>    Emulate linux tail cmd. Handle gziped files<br>    * fp<br>        Path to the file to be parsed<br>    * n<br>        Number of lines to print starting from the end of the file<br>    * line_numbering<br>        If True the number of the line will be indicated in front of the line<br>    * max_char_line<br>        Maximal number of character to print per line<br>    </p>"
      ],
      "text/plain": [
       "<IPython.core.display.HTML object>"
      ]
     },
     "metadata": {},
     "output_type": "display_data"
    }
   ],
   "source": [
    "jhelp(tail, full=True)"
   ]
  },
  {
   "cell_type": "code",
   "execution_count": 93,
   "metadata": {
    "ExecuteTime": {
     "end_time": "2018-12-10T12:07:27.090487Z",
     "start_time": "2018-12-10T12:07:27.075488Z"
    }
   },
   "outputs": [
    {
     "name": "stdout",
     "output_type": "stream",
     "text": [
      "...\n",
      "chr1\t225974581\t225974581\tA>I|SRP9|YH|22327324\t28.89\t+\n",
      "chr1\t225974735\t225974735\tA>I|SRP9|YH|22327324\t23.88\t+\n",
      "chr1\t225974746\t225974746\tA>I|SRP9|YH|22327324\t71.19\t+\n"
     ]
    }
   ],
   "source": [
    "file = \"./data/RADAR_clean.txt\"\n",
    "tail (file, n = 4)"
   ]
  },
  {
   "cell_type": "code",
   "execution_count": 94,
   "metadata": {
    "ExecuteTime": {
     "end_time": "2018-12-10T12:07:27.102040Z",
     "start_time": "2018-12-10T12:07:27.093832Z"
    },
    "scrolled": true
   },
   "outputs": [
    {
     "name": "stdout",
     "output_type": "stream",
     "text": [
      "...\n",
      "97\tchr1:10560773\tPeng et al 2012\tLymphoblastoid cell line\t20\t40.00\n",
      "98\tchr1:10602697\tPeng et al 2012\tLymphoblastoid cell line\t5\t60.00\n",
      "99\tchr1:11138237\tPeng et al 2012\tLymphoblastoid cell line\t14\t42.86\n"
     ]
    }
   ],
   "source": [
    "file = \"./data/RADAR_Secondary.txt.gz\"\n",
    "tail (file, n = 4, line_numbering=True)"
   ]
  },
  {
   "cell_type": "code",
   "execution_count": 95,
   "metadata": {
    "ExecuteTime": {
     "end_time": "2018-12-10T12:07:27.126098Z",
     "start_time": "2018-12-10T12:07:27.105340Z"
    }
   },
   "outputs": [
    {
     "name": "stdout",
     "output_type": "stream",
     "text": [
      "...\n",
      "chr1\tHAVANA\ttranscript\t222041705\t222064763\t.\t-\t.\tID=ENST00000438158.1;Parent=ENSG00000232679.1;gene_...\n",
      "chr1\tHAVANA\texon\t222064685\t222064763\t.\t-\t.\tID=exon:ENST00000438158.1:1;Parent=ENST00000438158.1;gene...\n",
      "chr1\tHAVANA\texon\t222058414\t222058678\t.\t-\t.\tID=exon:ENST00000438158.1:2;Parent=ENST00000438158.1;gene...\n",
      "chr1\tHAVANA\texon\t222041705\t222041922\t.\t-\t.\tID=exon:ENST00000438158.1:3;Parent=ENST00000438158.1;gene...\n"
     ]
    }
   ],
   "source": [
    "file=\"./data/gencode_sample.gff3\"\n",
    "tail (file, n = 5, max_char_line=100)"
   ]
  },
  {
   "cell_type": "markdown",
   "metadata": {},
   "source": [
    "## head"
   ]
  },
  {
   "cell_type": "code",
   "execution_count": 189,
   "metadata": {
    "ExecuteTime": {
     "end_time": "2018-12-10T12:08:28.405378Z",
     "start_time": "2018-12-10T12:08:28.393506Z"
    },
    "init_cell": true,
    "scrolled": false
   },
   "outputs": [
    {
     "data": {
      "text/html": [
       "<p style=\"line-height:15px;\"><b>head</b> (fp, n=10, ignore_comment_line=False, comment_char='#', max_char_line=200, sep='\\t', max_char_col=50, **kwargs)<br><br>    Emulate linux head cmd. Handle gziped files and bam files<br>    * fp<br>        Path to the file to be parsed. Works with text, gunziped and binary bam/sam files<br>    * n<br>        Number of lines to print starting from the begining of the file (Default 10)<br>    * ignore_comment_line<br>        Skip initial lines starting with a specific character. Pointless for bam files(Default False)<br>    * comment_char<br>        Character or string for ignore_comment_line argument (Default \"#\")<br>    * max_char_line<br>        Maximal number of character to print per line (Default 150)<br>    </p>"
      ],
      "text/plain": [
       "<IPython.core.display.HTML object>"
      ]
     },
     "metadata": {},
     "output_type": "display_data"
    }
   ],
   "source": [
    "jhelp(head, full=True)"
   ]
  },
  {
   "cell_type": "code",
   "execution_count": 97,
   "metadata": {
    "ExecuteTime": {
     "end_time": "2018-12-10T12:07:27.160902Z",
     "start_time": "2018-12-10T12:07:27.152969Z"
    }
   },
   "outputs": [
    {
     "name": "stdout",
     "output_type": "stream",
     "text": [
      "#chromosome position  gene       strand annot1     annot2     alu? non_alu_repetitive? conservation_chimp conservation_rhesus conservation_mouse \n",
      "chr1        206256301 C1orf186   -      intronic   intronic   no   no                  N                  N                   N                  \n",
      "chr6        116991832 intergenic -      intergenic intergenic no   no                  N                  N                   N                  \n",
      "\n"
     ]
    }
   ],
   "source": [
    "head(\"./data/RADAR_Main.txt\", n= 3)"
   ]
  },
  {
   "cell_type": "code",
   "execution_count": 98,
   "metadata": {
    "ExecuteTime": {
     "end_time": "2018-12-10T12:07:27.174015Z",
     "start_time": "2018-12-10T12:07:27.164470Z"
    }
   },
   "outputs": [
    {
     "name": "stdout",
     "output_type": "stream",
     "text": [
      "chr1 206256301 C1orf186   - intronic   intronic   no no N N N \n",
      "chr6 116991832 intergenic - intergenic intergenic no no N N N \n",
      "chr7 30504355  NOD1       - intronic   intronic   no no N N N \n",
      "\n"
     ]
    }
   ],
   "source": [
    "head(\"./data/RADAR_Main.txt\", ignore_comment_line=True,n= 3)"
   ]
  },
  {
   "cell_type": "code",
   "execution_count": 99,
   "metadata": {
    "ExecuteTime": {
     "end_time": "2018-12-10T12:07:27.192098Z",
     "start_time": "2018-12-10T12:07:27.177622Z"
    },
    "scrolled": true
   },
   "outputs": [
    {
     "name": "stdout",
     "output_type": "stream",
     "text": [
      "#chromosome position  gene       strand annot1     annot2     alu? non_alu_repetitive? conservation_chimp cons...\n",
      "chr1        206256301 C1orf186   -      intronic   intronic   no   no                  N                  N   ...\n",
      "chr6        116991832 intergenic -      intergenic intergenic no   no                  N                  N   ...\n",
      "chr7        30504355  NOD1       -      intronic   intronic   no   no                  N                  N   ...\n",
      "chr1        85127959  SSX2IP     -      Syn        Gln->Gln   no   no                  N                  N   ...\n",
      "\n"
     ]
    }
   ],
   "source": [
    "head(\"./data/RADAR_Main.txt\", n=5, max_char_line=110)"
   ]
  },
  {
   "cell_type": "code",
   "execution_count": 100,
   "metadata": {
    "ExecuteTime": {
     "end_time": "2018-12-10T12:07:27.206959Z",
     "start_time": "2018-12-10T12:07:27.194668Z"
    },
    "scrolled": true
   },
   "outputs": [
    {
     "name": "stdout",
     "output_type": "stream",
     "text": [
      "chr1:1037916 Peng et al 2012 Lymphoblastoid cell line 9  66.67 \n",
      "chr1:1156882 Peng et al 2012 Lymphoblastoid cell line 42 36.59 \n",
      "chr1:1157460 Peng et al 2012 Lymphoblastoid cell line 66 22.73 \n",
      "chr1:1252441 Peng et al 2012 Lymphoblastoid cell line 11 72.73 \n",
      "chr1:1252443 Peng et al 2012 Lymphoblastoid cell line 11 45.45 \n",
      "chr1:1253357 Peng et al 2012 Lymphoblastoid cell line 31 32.26 \n",
      "\n"
     ]
    }
   ],
   "source": [
    "head(\"./data/RADAR_Secondary.txt.gz\", n=6, ignore_comment_line=True)"
   ]
  },
  {
   "cell_type": "code",
   "execution_count": 101,
   "metadata": {
    "ExecuteTime": {
     "end_time": "2018-12-10T12:07:27.220960Z",
     "start_time": "2018-12-10T12:07:27.209224Z"
    },
    "scrolled": true
   },
   "outputs": [
    {
     "name": "stdout",
     "output_type": "stream",
     "text": [
      "chr1|35235|35295|-|5.1   272 chr12 37283     0 61M * 0 0 *                                                  *                                                  \n",
      "chr1|90965|91025|-|7.57  256 chr16 90215899  0 61M * 0 0 *                                                  *                                                  \n",
      "chr1|91055|91115|-|7.60  256 chr2  168290980 0 61M * 0 0 *                                                  *                                                  \n",
      "chr1|92081|92141|-|8.1   272 chr1  268657    0 61M * 0 0 *                                                  *                                                  \n",
      "chr1|92111|92171|-|8.2   256 chr5  181462264 0 61M * 0 0 *                                                  *                                                  \n",
      "chr1|110943|111003|-|9.1 0   chrY  24307299  0 61M * 0 0 AATGAAAGATATGTGTTTTTCATATTACCAGGTAGATGATAAGGAGATTT IIIIIIIIIIIIIIIIIIIIIIIIIIIIIIIIIIIIIIIIIIIIIIIIII \n",
      "\n"
     ]
    }
   ],
   "source": [
    "head(\"./data/sample.sam\", n=6, ignore_comment_line=True)"
   ]
  },
  {
   "cell_type": "code",
   "execution_count": 102,
   "metadata": {
    "ExecuteTime": {
     "end_time": "2018-12-10T12:07:27.231588Z",
     "start_time": "2018-12-10T12:07:27.222619Z"
    }
   },
   "outputs": [
    {
     "name": "stdout",
     "output_type": "stream",
     "text": [
      "chr1|1736694|1736754|-|168.51      256 chr6  108404793 0  32M29H   * 0 0 *                                                  *                                                  \n",
      "chr1|20158612|20158672|+|508.32    0   chr1  20158612  60 61M      * 0 0 CTCAGAGGCTTGAAAAGTAGCATCCACCCCCTTCTGGGCATCAATCACAG IIIIIIIIIIIIIIIIIIIIIIIIIIIIIIIIIIIIIIIIIIIIIIIIII \n",
      "chr1|47096793|47096853|-|1008.6    272 chr1  156061950 0  2H54M5H  * 0 0 *                                                  *                                                  \n",
      "chr1|65003940|65004000|-|1364.17   256 chr13 107349700 0  16M1I44M * 0 0 *                                                  *                                                  \n",
      "chr1|108202106|108202166|+|1958.74 0   chr1  108202106 60 61M      * 0 0 GGACAGAAAACAAATCAGTAGTTACCAGTTGTGACTAGCGGGAAGGGAAT IIIIIIIIIIIIIIIIIIIIIIIIIIIIIIIIIIIIIIIIIIIIIIIIII \n",
      "chr1|147173091|147173151|+|2353.12 272 chr2  74122749  0  22H39M   * 0 0 *                                                  *                                                  \n",
      "\n"
     ]
    }
   ],
   "source": [
    "head (\"./data/sample_100.bam\", n=6)"
   ]
  },
  {
   "cell_type": "markdown",
   "metadata": {},
   "source": [
    "## linesample"
   ]
  },
  {
   "cell_type": "code",
   "execution_count": 103,
   "metadata": {
    "ExecuteTime": {
     "end_time": "2018-12-10T12:07:27.258253Z",
     "start_time": "2018-12-10T12:07:27.236048Z"
    },
    "scrolled": true
   },
   "outputs": [
    {
     "data": {
      "text/html": [
       "<p style=\"line-height:15px;\"><b>linesample</b> (fp, n_lines=100, line_numbering=True, max_char_line=150, **kwargs)<br><br>    Randomly sample lines in a file and print them. Handle gziped files<br>    * fp<br>        Path to the file to be parsed<br>    * n_lines<br>        Number of lines to sample in the file<br>    * line_numbering<br>        If True the number of the line will be indicated in front of the line<br>    * max_char_line<br>        Maximal number of character to print per line<br>    </p>"
      ],
      "text/plain": [
       "<IPython.core.display.HTML object>"
      ]
     },
     "metadata": {},
     "output_type": "display_data"
    }
   ],
   "source": [
    "jhelp(linesample, full=True)"
   ]
  },
  {
   "cell_type": "code",
   "execution_count": 104,
   "metadata": {
    "ExecuteTime": {
     "end_time": "2018-12-10T12:07:27.271010Z",
     "start_time": "2018-12-10T12:07:27.261303Z"
    },
    "scrolled": true
   },
   "outputs": [
    {
     "name": "stdout",
     "output_type": "stream",
     "text": [
      "77\tchr1\t6710595\t6710595\tA>I|DNAJC11|YH|22327324\t50.00\t-\n",
      "96\tchr1\t10521237\t10521237\tA>I|DFFA|YH|22327324\t17.65\t-\n",
      "266\tchr1\t32737172\t32737172\tA>I|LCK|YH|22327324\t35.71\t+\n",
      "342\tchr1\t40205396\t40205396\tA>I|PPIE|YH|22327324\t63.64\t+\n",
      "448\tchr1\t52875019\t52875019\tA>I|PRPF38A|YH|22327324\t38.89\t+\n",
      "533\tchr1\t85449497\t85449497\tA>I|MCOLN2|YH|22327324\t20.00\t-\n",
      "610\tchr1\t114296188\t114296188\tA>I|PHTF1|YH|22327324\t20.59\t-\n",
      "767\tchr1\t155444343\t155444343\tA>I|ASH1L|YH|22327324\t42.86\t-\n",
      "824\tchr1\t157516004\t157516004\tA>I|FCRL5|YH|22327324\t21.88\t-\n",
      "946\tchr1\t204526795\t204526795\tA>I|MDM4|YH|22327324\t32.29\t+\n"
     ]
    }
   ],
   "source": [
    "linesample(\"./data/RADAR_clean.txt\", n_lines=10, line_numbering=True)"
   ]
  },
  {
   "cell_type": "code",
   "execution_count": 105,
   "metadata": {
    "ExecuteTime": {
     "end_time": "2018-12-10T12:07:27.280518Z",
     "start_time": "2018-12-10T12:07:27.273461Z"
    }
   },
   "outputs": [
    {
     "name": "stdout",
     "output_type": "stream",
     "text": [
      "4\tchr1:1252441\tPeng et al 2012\tLymphoblastoid cell line\t11\t72.73\n",
      "8\tchr1:1418532\tPeng et al 2012\tLymphoblastoid cell line\t5\t60.00\n",
      "51\tchr1:6608345\tPeng et al 2012\tLymphoblastoid cell line\t13\t46.15\n",
      "56\tchr1:6707305\tPeng et al 2012\tLymphoblastoid cell line\t33\t39.39\n",
      "61\tchr1:6708354\tPeng et al 2012\tLymphoblastoid cell line\t15\t40.00\n",
      "62\tchr1:6708680\tPeng et al 2012\tLymphoblastoid cell line\t24\t25.00\n",
      "63\tchr1:6708681\tPeng et al 2012\tLymphoblastoid cell line\t24\t20.83\n",
      "75\tchr1:6710585\tPeng et al 2012\tLymphoblastoid cell line\t30\t65.52\n",
      "90\tchr1:10520702\tPeng et al 2012\tLymphoblastoid cell line\t98\t11.22\n",
      "93\tchr1:10520751\tPeng et al 2012\tLymphoblastoid cell line\t166\t28.92\n"
     ]
    }
   ],
   "source": [
    "linesample(\"./data/RADAR_Secondary.txt.gz\", n_lines=10, line_numbering=True)"
   ]
  },
  {
   "cell_type": "markdown",
   "metadata": {},
   "source": [
    "## count_uniq"
   ]
  },
  {
   "cell_type": "code",
   "execution_count": 106,
   "metadata": {
    "ExecuteTime": {
     "end_time": "2018-12-10T12:07:27.305775Z",
     "start_time": "2018-12-10T12:07:27.300827Z"
    }
   },
   "outputs": [
    {
     "data": {
      "text/html": [
       "<p style=\"line-height:15px;\"><b>count_uniq</b> (fp, colnum, select_values=None, drop_values=None, skip_comment='#', sep='\\t', **kwargs)<br><br>    Count unique occurences in a specific column of a tabulated file<br>    * fp<br>        Path to the file to be parsed (gzipped or not)<br>    * colnum<br>        Index number of the column to summarize<br>    * select_values<br>        Select specific lines in the file based on a dictionary containing column index(es) and valu(es) or list<br>        of values to select. Exemple {2:[\"exon\", \"transcript\"], 4:\"lincRNA\"}. DEFAULT=None<br>    * drop_values<br>        Same think that select_value but will drop the lines instead. DEFAULT=None<br>    * skip_comment<br>        Drop any comment lines starting with this character. DEFAULT=\"#\"<br>    * sep<br>        Character or list of characters to use in order to split the lines. Exemple [\"&emsp;\",\";\"]. DEFAULT=\"&emsp;\"<br>    </p>"
      ],
      "text/plain": [
       "<IPython.core.display.HTML object>"
      ]
     },
     "metadata": {},
     "output_type": "display_data"
    }
   ],
   "source": [
    "jhelp(count_uniq, full=True)"
   ]
  },
  {
   "cell_type": "code",
   "execution_count": 107,
   "metadata": {
    "ExecuteTime": {
     "end_time": "2018-12-10T12:07:27.334222Z",
     "start_time": "2018-12-10T12:07:27.313555Z"
    }
   },
   "outputs": [
    {
     "data": {
      "text/plain": [
       "17\n",
       "intergenic    110\n",
       "intron         55\n",
       "3-UTR          17\n",
       "unknown        12\n",
       "dtype: int64"
      ]
     },
     "execution_count": 107,
     "metadata": {},
     "output_type": "execute_result"
    }
   ],
   "source": [
    "count_uniq(\"./data/Small_editing_Peng_hg38.bed\", colnum=17, sep=['\\t',\"|\"])"
   ]
  },
  {
   "cell_type": "code",
   "execution_count": 108,
   "metadata": {
    "ExecuteTime": {
     "end_time": "2018-12-10T12:07:27.727088Z",
     "start_time": "2018-12-10T12:07:27.337070Z"
    }
   },
   "outputs": [
    {
     "data": {
      "text/plain": [
       "17\n",
       "lincRNA                     2031\n",
       "antisense                   1600\n",
       "processed_transcript         686\n",
       "sense_intronic               105\n",
       "TEC                           36\n",
       "sense_overlapping             11\n",
       "3prime_overlapping_ncrna       2\n",
       "dtype: int64"
      ]
     },
     "execution_count": 108,
     "metadata": {},
     "output_type": "execute_result"
    }
   ],
   "source": [
    "count_uniq(\"./data/gencode_sample.gff3\", colnum=17, sep=[\"\\t\",\"=\", \";\"], select_values={2:[\"transcript\", \"exon\"], 6:\"+\"})"
   ]
  },
  {
   "cell_type": "markdown",
   "metadata": {},
   "source": [
    "## colsum"
   ]
  },
  {
   "cell_type": "code",
   "execution_count": 190,
   "metadata": {
    "ExecuteTime": {
     "end_time": "2018-12-10T12:08:28.414683Z",
     "start_time": "2018-12-10T12:08:28.407429Z"
    },
    "init_cell": true
   },
   "outputs": [
    {
     "data": {
      "text/html": [
       "<p style=\"line-height:15px;\"><b>colsum</b> (fp, colrange=None, separator='', header=False, ignore_hashtag_line=False, max_items=10, ret_type='md', **kwargs)<br><br>    Create a summary of selected columns of a file<br>    * fp<br>        Path to the file to be parsed<br>    * colrange<br>        A list of column index to parse<br>    * separator<br>        A character or a list of characters to split the lines<br>    * ignore_hashtag_line<br>        skip line starting with a # symbol<br>    * max_items<br>        maximum item per line<br>    * ret_type<br>        Possible return types:<br>        md = markdown formatted table,<br>        dict = raw parsing dict,<br>        report = Indented_text_report<br>    </p>"
      ],
      "text/plain": [
       "<IPython.core.display.HTML object>"
      ]
     },
     "metadata": {},
     "output_type": "display_data"
    }
   ],
   "source": [
    "jhelp(colsum, full=True)"
   ]
  },
  {
   "cell_type": "code",
   "execution_count": 110,
   "metadata": {
    "ExecuteTime": {
     "end_time": "2018-12-10T12:07:27.747653Z",
     "start_time": "2018-12-10T12:07:27.739116Z"
    }
   },
   "outputs": [
    {
     "data": {
      "text/markdown": [
       "|#chromosome|chr1|chr17|chr9|chr15|chr6|chr14|chr18|chr2|chrY|chr4|chr7|\n",
       "|:---|:---|:---|:---|:---|:---|:---|:---|:---|:---|:---|:---|\n",
       "|Count|4|3|2|2|2|1|1|1|1|1|1|\n",
       "\n",
       "|gene|RABEP1|NUP133|JUB|GREB1L|SPHKAP|NLGN4Y|CELSR2|RBPJ|TLE4|SOCS7|ADPGK|UBE2O|TSC1|GRIK2|MEF2A|...|\n",
       "|:---|:---|:---|:---|:---|:---|:---|:---|:---|:---|:---|:---|:---|:---|:---|:---|:---|\n",
       "|Count|1|1|1|1|1|1|1|1|1|1|1|1|1|1|1|...|\n",
       "\n",
       "|alu?|no|\n",
       "|:---|:---|\n",
       "|Count|19|\n",
       "\n"
      ],
      "text/plain": [
       "<IPython.core.display.Markdown object>"
      ]
     },
     "metadata": {},
     "output_type": "display_data"
    }
   ],
   "source": [
    "display(Markdown(colsum(\"./data/RADAR_Main.txt\", header=True, colrange=[0,2,6], max_items=15)))"
   ]
  },
  {
   "cell_type": "code",
   "execution_count": 111,
   "metadata": {
    "ExecuteTime": {
     "end_time": "2018-12-10T12:07:27.758825Z",
     "start_time": "2018-12-10T12:07:27.750328Z"
    }
   },
   "outputs": [
    {
     "data": {
      "text/plain": [
       "OrderedDict([(0,\n",
       "              OrderedDict([('chr1', 4),\n",
       "                           ('chr6', 2),\n",
       "                           ('chr7', 1),\n",
       "                           ('chr15', 2),\n",
       "                           ('chr9', 2),\n",
       "                           ('chr17', 3),\n",
       "                           ('chr4', 1),\n",
       "                           ('chrY', 1),\n",
       "                           ('chr2', 1),\n",
       "                           ('chr18', 1),\n",
       "                           ('chr14', 1)])),\n",
       "             (3, OrderedDict([('-', 10), ('+', 9)]))])"
      ]
     },
     "execution_count": 111,
     "metadata": {},
     "output_type": "execute_result"
    }
   ],
   "source": [
    "colsum(\"./data/RADAR_Main.txt\", header=True, ret_type=\"dict\", colrange=[0,3])"
   ]
  },
  {
   "cell_type": "code",
   "execution_count": 112,
   "metadata": {
    "ExecuteTime": {
     "end_time": "2018-12-10T12:07:27.779011Z",
     "start_time": "2018-12-10T12:07:27.760875Z"
    }
   },
   "outputs": [
    {
     "name": "stdout",
     "output_type": "stream",
     "text": [
      "0\n",
      "\tchr1\t997\n",
      "1\n",
      "\t225974746\t1\n",
      "\t225974735\t1\n",
      "\t225974581\t1\n",
      "\t224599486\t1\n",
      "\t224584888\t1\n",
      "\t...\t...\n",
      "2\n",
      "\t225974746\t1\n",
      "\t225974735\t1\n",
      "\t225974581\t1\n",
      "\t224599486\t1\n",
      "\t224584888\t1\n",
      "\t...\t...\n",
      "3\n",
      "\tA>I\t997\n",
      "4\n",
      "\tFDPS\t34\n",
      "\tMDM4\t31\n",
      "\tCTSS\t28\n",
      "\tDNAJC11\t25\n",
      "\tS100PBP\t24\n",
      "\t...\t...\n",
      "5\n",
      "\tYH\t997\n",
      "6\n",
      "\t22327324\t997\n",
      "7\n",
      "\t33.33\t31\n",
      "\t66.67\t31\n",
      "\t50.00\t23\n",
      "\t57.14\t22\n",
      "\t60.00\t22\n",
      "\t...\t...\n",
      "8\n",
      "\t-\t527\n",
      "\t+\t470\n",
      "\n"
     ]
    }
   ],
   "source": [
    "print(colsum(\n",
    "        \"./data/RADAR_clean.txt\",\n",
    "        header=True,\n",
    "        ignore_hashtag_line=True,\n",
    "        ret_type=\"report\",\n",
    "        separator=[\"\\t\",\"|\"],\n",
    "        max_items=5))"
   ]
  },
  {
   "cell_type": "markdown",
   "metadata": {},
   "source": [
    "## fastcount"
   ]
  },
  {
   "cell_type": "code",
   "execution_count": 191,
   "metadata": {
    "ExecuteTime": {
     "end_time": "2018-12-10T12:08:28.424561Z",
     "start_time": "2018-12-10T12:08:28.416209Z"
    },
    "init_cell": true
   },
   "outputs": [
    {
     "data": {
      "text/html": [
       "<p style=\"line-height:15px;\"><b>fastcount</b> (fp, **kwargs)<br><br>    Efficient way to count the number of lines in a file. Handle gziped files<br>    </p>"
      ],
      "text/plain": [
       "<IPython.core.display.HTML object>"
      ]
     },
     "metadata": {},
     "output_type": "display_data"
    }
   ],
   "source": [
    "jhelp(fastcount, full=True)"
   ]
  },
  {
   "cell_type": "code",
   "execution_count": 114,
   "metadata": {
    "ExecuteTime": {
     "end_time": "2018-12-10T12:07:27.813203Z",
     "start_time": "2018-12-10T12:07:27.790695Z"
    }
   },
   "outputs": [
    {
     "data": {
      "text/plain": [
       "100"
      ]
     },
     "execution_count": 114,
     "metadata": {},
     "output_type": "execute_result"
    }
   ],
   "source": [
    "fastcount(\"./data/RADAR_Secondary.txt\")"
   ]
  },
  {
   "cell_type": "code",
   "execution_count": 115,
   "metadata": {
    "ExecuteTime": {
     "end_time": "2018-12-10T12:07:27.823272Z",
     "start_time": "2018-12-10T12:07:27.816312Z"
    }
   },
   "outputs": [
    {
     "data": {
      "text/plain": [
       "100"
      ]
     },
     "execution_count": 115,
     "metadata": {},
     "output_type": "execute_result"
    }
   ],
   "source": [
    "fastcount(\"./data/RADAR_Secondary.txt.gz\")"
   ]
  },
  {
   "cell_type": "markdown",
   "metadata": {},
   "source": [
    "## simplecount"
   ]
  },
  {
   "cell_type": "code",
   "execution_count": 192,
   "metadata": {
    "ExecuteTime": {
     "end_time": "2018-12-10T12:08:28.433774Z",
     "start_time": "2018-12-10T12:08:28.426180Z"
    },
    "init_cell": true
   },
   "outputs": [
    {
     "data": {
      "text/html": [
       "<p style=\"line-height:15px;\"><b>simplecount</b> (fp, ignore_hashtag_line=False, **kwargs)<br><br>    Simple way to count the number of lines in a file with more options<br>    </p>"
      ],
      "text/plain": [
       "<IPython.core.display.HTML object>"
      ]
     },
     "metadata": {},
     "output_type": "display_data"
    }
   ],
   "source": [
    "jhelp(simplecount, full=True)"
   ]
  },
  {
   "cell_type": "code",
   "execution_count": 117,
   "metadata": {
    "ExecuteTime": {
     "end_time": "2018-12-10T12:07:27.842867Z",
     "start_time": "2018-12-10T12:07:27.835319Z"
    }
   },
   "outputs": [
    {
     "data": {
      "text/plain": [
       "194"
      ]
     },
     "execution_count": 117,
     "metadata": {},
     "output_type": "execute_result"
    }
   ],
   "source": [
    "simplecount(\"./data/Small_m5C_Squires_hg38.bed\", ignore_hashtag_line=True)"
   ]
  },
  {
   "cell_type": "code",
   "execution_count": 118,
   "metadata": {
    "ExecuteTime": {
     "end_time": "2018-12-10T12:07:27.852997Z",
     "start_time": "2018-12-10T12:07:27.844783Z"
    }
   },
   "outputs": [
    {
     "data": {
      "text/plain": [
       "100"
      ]
     },
     "execution_count": 118,
     "metadata": {},
     "output_type": "execute_result"
    }
   ],
   "source": [
    "simplecount(\"./data/RADAR_Secondary.txt.gz\")"
   ]
  },
  {
   "cell_type": "markdown",
   "metadata": {},
   "source": [
    "---"
   ]
  },
  {
   "cell_type": "markdown",
   "metadata": {},
   "source": [
    "# DIRECTORY MANIPULATION"
   ]
  },
  {
   "cell_type": "markdown",
   "metadata": {},
   "source": [
    "## mkdir"
   ]
  },
  {
   "cell_type": "code",
   "execution_count": 193,
   "metadata": {
    "ExecuteTime": {
     "end_time": "2018-12-10T12:08:28.445058Z",
     "start_time": "2018-12-10T12:08:28.435269Z"
    },
    "init_cell": true
   },
   "outputs": [
    {
     "data": {
      "text/html": [
       "<p style=\"line-height:15px;\"><b>mkdir</b> (fp, level=1, **kwargs)<br><br>    Reproduce the ability of UNIX \"mkdir -p\" command<br>    (ie if the path already exits no exception will be raised).<br>    Can create nested directories by recursivity<br>    * fp<br>        path name where the folder should be created<br>    * level<br>        level in the path where to start to create the directories. Used by the program for the recursive creation of<br>        directories<br>    </p>"
      ],
      "text/plain": [
       "<IPython.core.display.HTML object>"
      ]
     },
     "metadata": {},
     "output_type": "display_data"
    }
   ],
   "source": [
    "jhelp(mkdir, full=True)"
   ]
  },
  {
   "cell_type": "code",
   "execution_count": 120,
   "metadata": {
    "ExecuteTime": {
     "end_time": "2018-12-10T12:07:27.875242Z",
     "start_time": "2018-12-10T12:07:27.868332Z"
    }
   },
   "outputs": [],
   "source": [
    "mkdir(\"./data/test_dir\")"
   ]
  },
  {
   "cell_type": "code",
   "execution_count": 121,
   "metadata": {
    "ExecuteTime": {
     "end_time": "2018-12-10T12:07:28.004319Z",
     "start_time": "2018-12-10T12:07:27.876874Z"
    }
   },
   "outputs": [
    {
     "name": "stdout",
     "output_type": "stream",
     "text": [
      "Creating /home/aleg/Programming/pycltools/docs/test\n",
      "Creating /home/aleg/Programming/pycltools/docs/test/test\n",
      "Creating /home/aleg/Programming/pycltools/docs/test/test/test\n"
     ]
    }
   ],
   "source": [
    "mkdir (\"./test/test/test\")\n",
    "!rm -rf ./test"
   ]
  },
  {
   "cell_type": "markdown",
   "metadata": {},
   "source": [
    "---"
   ]
  },
  {
   "cell_type": "markdown",
   "metadata": {},
   "source": [
    "# SHELL MANIPULATION"
   ]
  },
  {
   "cell_type": "markdown",
   "metadata": {},
   "source": [
    "## make_cmd_str"
   ]
  },
  {
   "cell_type": "code",
   "execution_count": 194,
   "metadata": {
    "ExecuteTime": {
     "end_time": "2018-12-10T12:08:28.453619Z",
     "start_time": "2018-12-10T12:08:28.446809Z"
    },
    "init_cell": true
   },
   "outputs": [
    {
     "data": {
      "text/html": [
       "<p style=\"line-height:15px;\"><b>make_cmd_str</b> (prog_name, opt_dict={}, opt_list=[], **kwargs)<br><br>    Create a Unix like command line string from the prog name, a dict named arguments and a list of unmammed arguments<br>    exemple make_cmd_str(\"bwa\", {\"b\":None, t\":6, \"i\":\"../idx/seq.fa\"}, [\"../read1\", \"../read2\"])<br>    * prog_name<br>        Name (if added to the system path) or path of the program<br>    * opt_dict<br>        Dictionary of option arguments such as \"-t 5\". The option flag have to be the key (without \"-\") and the the<br>        option value in the dictionary value. If no value is requested after the option flag \"None\" had to be assigned<br>        to the value field.<br>    * opt_list<br>        List of simple command line arguments<br>    </p>"
      ],
      "text/plain": [
       "<IPython.core.display.HTML object>"
      ]
     },
     "metadata": {},
     "output_type": "display_data"
    }
   ],
   "source": [
    "jhelp(make_cmd_str, full=True)"
   ]
  },
  {
   "cell_type": "code",
   "execution_count": 123,
   "metadata": {
    "ExecuteTime": {
     "end_time": "2018-12-10T12:07:28.020871Z",
     "start_time": "2018-12-10T12:07:28.012406Z"
    }
   },
   "outputs": [
    {
     "data": {
      "text/plain": [
       "'bwa -b -t 6 -i ../idx/seq.fa ../read1 ../read2 '"
      ]
     },
     "execution_count": 123,
     "metadata": {},
     "output_type": "execute_result"
    }
   ],
   "source": [
    "make_cmd_str(\"bwa\", {\"-b\":None, \"-t\":6, \"-i\":\"../idx/seq.fa\"}, [\"../read1\", \"../read2\"])"
   ]
  },
  {
   "cell_type": "markdown",
   "metadata": {},
   "source": [
    "## bash_basic"
   ]
  },
  {
   "cell_type": "code",
   "execution_count": 195,
   "metadata": {
    "ExecuteTime": {
     "end_time": "2018-12-10T12:08:28.464825Z",
     "start_time": "2018-12-10T12:08:28.456299Z"
    },
    "init_cell": true
   },
   "outputs": [
    {
     "data": {
      "text/html": [
       "<p style=\"line-height:15px;\"><b>bash_basic</b> (cmd, virtualenv=None, **kwargs)<br><br>    Sent basic bash command<br>    * cmd<br>        A command line string formatted as a string<br>    * virtualenv<br>        If specified will try to load a virtualenvwrapper environment before runing the command<br>    </p>"
      ],
      "text/plain": [
       "<IPython.core.display.HTML object>"
      ]
     },
     "metadata": {},
     "output_type": "display_data"
    }
   ],
   "source": [
    "jhelp(bash_basic, full=True)"
   ]
  },
  {
   "cell_type": "code",
   "execution_count": 125,
   "metadata": {
    "ExecuteTime": {
     "end_time": "2018-12-10T12:07:28.068897Z",
     "start_time": "2018-12-10T12:07:28.032242Z"
    }
   },
   "outputs": [
    {
     "name": "stdout",
     "output_type": "stream",
     "text": [
      "total 136\n",
      "drwxrwxr-x 3 aleg aleg  4096 Dec 10 10:54 data\n",
      "-rw-rw-r-- 1 aleg aleg 39582 Dec 10 12:05 pycltools_functions_list.ipynb\n",
      "-rw-rw-r-- 1 aleg aleg 93686 Dec 10 12:07 pycltools_tests.ipynb\n",
      "\n",
      "\n",
      "None\n",
      "TTTT\n",
      "\n",
      "\n",
      "None\n",
      "\n",
      "\n",
      "None\n"
     ]
    }
   ],
   "source": [
    "print(bash_basic(\"ls -l\"))\n",
    "print(bash_basic(\"echo TTTT\"))\n",
    "print(bash_basic(\"grep ./data/RADAR_Secondary.txt\"))"
   ]
  },
  {
   "cell_type": "markdown",
   "metadata": {},
   "source": [
    "## bash"
   ]
  },
  {
   "cell_type": "code",
   "execution_count": 196,
   "metadata": {
    "ExecuteTime": {
     "end_time": "2018-12-10T12:08:28.474289Z",
     "start_time": "2018-12-10T12:08:28.466623Z"
    },
    "init_cell": true
   },
   "outputs": [
    {
     "data": {
      "text/html": [
       "<p style=\"line-height:15px;\"><b>bash</b> (cmd, virtualenv=None, live='stdout', print_stdout=True, ret_stdout=False, log_stdout=None, print_stderr=True, ret_stderr=False, log_stderr=None, print_cmd=False, dry=False, **kwargs)<br><br>    More advanced version of bash calling with live printing of the standard output and possibilities to log the<br>    redirect the output and error as a string return or directly in files. If ret_stderr and ret_stdout are True a<br>    tuple will be returned and if both are False None will be returned<br>    * cmd<br>        A command line string formatted as a string<br>    * virtualenv<br>        If specified will try to load a virtualenvwrapper environment before runing the command<br>    * print_stdout<br>        If True the standard output will be LIVE printed through the system standard output stream<br>    * ret_stdout<br>        If True the standard output will be returned as a string<br>    * log_stdout<br>        If a filename is given, the standard output will logged in this file<br>    * print_stderr<br>        If True the standard error will be printed through the system standard error stream<br>    * ret_stderr<br>        If True the standard error will be returned as a string<br>    * log_stderr<br>        If a filename is given, the standard error will logged in this file<br>    </p>"
      ],
      "text/plain": [
       "<IPython.core.display.HTML object>"
      ]
     },
     "metadata": {},
     "output_type": "display_data"
    }
   ],
   "source": [
    "jhelp(bash, full=True)"
   ]
  },
  {
   "cell_type": "code",
   "execution_count": 127,
   "metadata": {
    "ExecuteTime": {
     "end_time": "2018-12-10T12:07:28.095256Z",
     "start_time": "2018-12-10T12:07:28.078902Z"
    }
   },
   "outputs": [
    {
     "name": "stdout",
     "output_type": "stream",
     "text": [
      "data\n",
      "pycltools_functions_list.ipynb\n",
      "pycltools_tests.ipynb\n"
     ]
    },
    {
     "data": {
      "text/plain": [
       "'data\\npycltools_functions_list.ipynb\\npycltools_tests.ipynb\\n'"
      ]
     },
     "execution_count": 127,
     "metadata": {},
     "output_type": "execute_result"
    }
   ],
   "source": [
    "bash(\"ls\", print_stdout=True, ret_stdout=True,)"
   ]
  },
  {
   "cell_type": "code",
   "execution_count": 128,
   "metadata": {
    "ExecuteTime": {
     "end_time": "2018-12-10T12:07:32.134267Z",
     "start_time": "2018-12-10T12:07:28.098557Z"
    }
   },
   "outputs": [
    {
     "name": "stderr",
     "output_type": "stream",
     "text": [
      "ls: cannot access 'error': No such file or directory\n",
      "ls: cannot access 'error': No such file or directory\n",
      "ls: cannot access 'error': No such file or directory\n",
      "ls: cannot access 'error': No such file or directory\n",
      "Error code #2 during execution of the command : for i in 1 2 3 4; do echo $i && sleep 1 && ls error ;done\n"
     ]
    }
   ],
   "source": [
    "bash(\"for i in 1 2 3 4; do echo $i && sleep 1 && ls error ;done\", live=\"stderr\",  print_stdout=True, ret_stdout=True, print_stderr=True)"
   ]
  },
  {
   "cell_type": "code",
   "execution_count": 129,
   "metadata": {
    "ExecuteTime": {
     "end_time": "2018-12-10T12:07:32.167986Z",
     "start_time": "2018-12-10T12:07:32.143040Z"
    }
   },
   "outputs": [
    {
     "name": "stdout",
     "output_type": "stream",
     "text": [
      "Only 3 lines in the file\n",
      "data                           \n",
      "pycltools_functions_list.ipynb \n",
      "pycltools_tests.ipynb          \n",
      "\n"
     ]
    }
   ],
   "source": [
    "bash(\"ls\", print_stdout=False, ret_stdout=False, log_stdout=\"./data/stdout.txt\")\n",
    "head(\"./data/stdout.txt\")"
   ]
  },
  {
   "cell_type": "markdown",
   "metadata": {},
   "source": [
    "## bash_update"
   ]
  },
  {
   "cell_type": "code",
   "execution_count": 197,
   "metadata": {
    "ExecuteTime": {
     "end_time": "2018-12-10T12:08:28.484063Z",
     "start_time": "2018-12-10T12:08:28.475920Z"
    },
    "init_cell": true
   },
   "outputs": [
    {
     "data": {
      "text/html": [
       "<p style=\"line-height:15px;\"><b>bash_update</b> (cmd, update_freq=1, **kwargs)<br><br>    FOR JUPYTER NOTEBOOK<br>    Run a bash command and print the output in the cell. The output is updated each time until the output is None.<br>    This is suitable for monitoring tasks that log events until there is nothing else to print such as bjobs or bpeeks.<br>    * cmd<br>        A command line string formatted as a string<br>    * update_freq<br>        The frequency of output updating in seconds [DEFAULT: 1]<br>    </p>"
      ],
      "text/plain": [
       "<IPython.core.display.HTML object>"
      ]
     },
     "metadata": {},
     "output_type": "display_data"
    }
   ],
   "source": [
    "jhelp(bash_update, full=True)"
   ]
  },
  {
   "cell_type": "code",
   "execution_count": 131,
   "metadata": {
    "ExecuteTime": {
     "end_time": "2018-12-10T12:07:32.365900Z",
     "start_time": "2018-12-10T12:07:32.245643Z"
    },
    "scrolled": true
   },
   "outputs": [],
   "source": [
    "#bash_update(\"htop\")"
   ]
  },
  {
   "cell_type": "markdown",
   "metadata": {},
   "source": [
    "---"
   ]
  },
  {
   "cell_type": "markdown",
   "metadata": {},
   "source": [
    "# DICTIONNARY FORMATTING"
   ]
  },
  {
   "cell_type": "markdown",
   "metadata": {},
   "source": [
    "## dict_to_md"
   ]
  },
  {
   "cell_type": "code",
   "execution_count": 198,
   "metadata": {
    "ExecuteTime": {
     "end_time": "2018-12-10T12:08:28.498347Z",
     "start_time": "2018-12-10T12:08:28.485901Z"
    },
    "init_cell": true
   },
   "outputs": [
    {
     "data": {
      "text/html": [
       "<p style=\"line-height:15px;\"><b>dict_to_md</b> (d, key_label='', value_label='', transpose=False, sort_by_key=False, sort_by_val=True, max_items=None, **kwargs)<br><br>    Transform a dict into a markdown formated table<br>    </p>"
      ],
      "text/plain": [
       "<IPython.core.display.HTML object>"
      ]
     },
     "metadata": {},
     "output_type": "display_data"
    }
   ],
   "source": [
    "jhelp(dict_to_md, full=True)"
   ]
  },
  {
   "cell_type": "code",
   "execution_count": 133,
   "metadata": {
    "ExecuteTime": {
     "end_time": "2018-12-10T12:07:32.515415Z",
     "start_time": "2018-12-10T12:07:32.457586Z"
    }
   },
   "outputs": [
    {
     "data": {
      "text/markdown": [
       "|Letter|Number|\n",
       "|:---|:---|\n",
       "|e|76|\n",
       "|d|56|\n",
       "|b|14|\n",
       "|a|12|\n",
       "|c|8|\n"
      ],
      "text/plain": [
       "<IPython.core.display.Markdown object>"
      ]
     },
     "metadata": {},
     "output_type": "display_data"
    },
    {
     "data": {
      "text/markdown": [
       "|Letter|e|d|b|...|\n",
       "|:---|:---|:---|:---|:---|\n",
       "|Number|76|56|14|...|\n"
      ],
      "text/plain": [
       "<IPython.core.display.Markdown object>"
      ]
     },
     "metadata": {},
     "output_type": "display_data"
    }
   ],
   "source": [
    "d = {\"a\":12,\"b\":14,\"c\":8,\"d\":56,\"e\":76}\n",
    "display(Markdown(dict_to_md(d, \"Letter\", \"Number\", sort_by_val=True)))\n",
    "display(Markdown(dict_to_md(d, \"Letter\", \"Number\", transpose=True, max_items=3)))"
   ]
  },
  {
   "cell_type": "markdown",
   "metadata": {},
   "source": [
    "## dict_to_report"
   ]
  },
  {
   "cell_type": "code",
   "execution_count": 199,
   "metadata": {
    "ExecuteTime": {
     "end_time": "2018-12-10T12:08:28.509868Z",
     "start_time": "2018-12-10T12:08:28.500336Z"
    },
    "init_cell": true
   },
   "outputs": [
    {
     "data": {
      "text/html": [
       "<p style=\"line-height:15px;\"><b>dict_to_report</b> (d, tab='\\t', ntab=0, sep=':', sort_dict=True, max_items=None, **kwargs)<br><br>    Recursive function to return a text report from nested dict or OrderedDict objects<br>    </p>"
      ],
      "text/plain": [
       "<IPython.core.display.HTML object>"
      ]
     },
     "metadata": {},
     "output_type": "display_data"
    }
   ],
   "source": [
    "jhelp(dict_to_report, full=True)"
   ]
  },
  {
   "cell_type": "code",
   "execution_count": 135,
   "metadata": {
    "ExecuteTime": {
     "end_time": "2018-12-10T12:07:32.641033Z",
     "start_time": "2018-12-10T12:07:32.587090Z"
    }
   },
   "outputs": [
    {
     "name": "stdout",
     "output_type": "stream",
     "text": [
      "a:12\n",
      "b:14\n",
      "c\n",
      " | c1:12\n",
      " | c2\n",
      " |  | c2.1:33221\n",
      " |  | c2.2:765\n",
      " | c3:32\n",
      " | c4:443\n",
      "d:56\n",
      "e:76\n",
      "\n",
      "a:12\n",
      "b:14\n",
      "c\n",
      "--c1:12\n",
      "--c2\n",
      "----c2.5:876543\n",
      "----c2.6:89765\n",
      "----c2.4:76433\n",
      "----c2.1:33221\n",
      "----...:...\n",
      "--c3:32\n",
      "--c4:443\n",
      "d:56\n",
      "e:76\n",
      "\n"
     ]
    }
   ],
   "source": [
    "d = {\"a\":12,\"b\":14,\"c\":{\"c1\":12,\"c2\":{\"c2.1\":33221,\"c2.2\":765},\"c3\":32,\"c4\":443},\"d\":56,\"e\":76}\n",
    "print(dict_to_report(d, tab=\" | \"))\n",
    "\n",
    "d = {\"a\":12,\"b\":14,\"c\":{\"c1\":12,\"c2\":{\"c2.1\":33221,\"c2.2\":765, \"c2.3\":7533,\"c2.4\":76433,\"c2.5\":876543,\"c2.6\":89765,\"c2.7\":8654},\"c3\":32,\"c4\":443},\"d\":56,\"e\":76}\n",
    "print(dict_to_report(d, tab=\"--\", max_items=4, sort_dict=True))"
   ]
  },
  {
   "cell_type": "markdown",
   "metadata": {},
   "source": [
    "---"
   ]
  },
  {
   "cell_type": "markdown",
   "metadata": {},
   "source": [
    "# TABLE FORMATTING"
   ]
  },
  {
   "cell_type": "markdown",
   "metadata": {},
   "source": [
    "## reformat_table"
   ]
  },
  {
   "cell_type": "code",
   "execution_count": 200,
   "metadata": {
    "ExecuteTime": {
     "end_time": "2018-12-10T12:08:28.517935Z",
     "start_time": "2018-12-10T12:08:28.511435Z"
    },
    "init_cell": true
   },
   "outputs": [
    {
     "data": {
      "text/html": [
       "<p style=\"line-height:15px;\"><b>reformat_table</b> (input_file, output_file='', return_df=False, init_template=[], final_template=[], header='', keep_original_header=True, header_from_final_template=False, replace_internal_space='_', replace_null_val='*', subst_dict={}, filter_dict=[], predicate=None, standard_template=None, verbose=False, **kwargs)<br><br>    Reformat a table given an initial and a final line templates indicated as a list where numbers<br>    indicate the data column and strings the formatting characters<br><br>    *  input_file<br>        A file with a structured text formatting (gzipped or not)<br>    *  output_file<br>        A file path to output the reformatted table (if empty will not write in a file)<br>    *  return_df<br>        If true will return a pandas dataframe containing the reformated table (Third party pandas package required)<br>        by default the columns will be names after the final template [DEFAULT:False]<br>    *  init_template<br>        A list of indexes and separators describing the structure of the input file<br>            Example initial line = \"chr1    631539    631540    Squires|id1    0    +\"<br>            Initial template = [0,\"&emsp;\",1,\"&emsp;\",2,\"&emsp;\",3,\"|\",4,\"&emsp;\",5,\"&emsp;\",6]<br>            Alternatively, instead of the numbers, string indexes can be used, but they need to be enclosed in curly<br>            brackets to differentiate them from the separators. This greatly simplify the writing of the final template.<br>            Example initial line = \"chr1    631539    631540    Squires|id1    0    +\"<br>            Initial template = [\"{chrom}\",\"&emsp;\",\"{start}\",\"&emsp;\",\"{end}\",\"|\",\"{name}\",\"&emsp;\",\"{score}\",\"&emsp;\",\"{strand}\"]<br>    *  final_template<br>        A list of indexes and separators describing the required structure of the output file. Name indexes need to<br>        match indexes of the init_template and have to follow the same synthax  [DEFAULT:Same that init template]<br>            Example final line = \"chr1    631539    631540    m5C|-|HeLa|22344696    -    -\"<br>            Final template = [0,\"&emsp;\",1,\"&emsp;\",2,\"&emsp;m5C|-|HeLa|22344696&emsp;-&emsp;\",6]<br>    *  header<br>        A string to write as a file header at the beginning of the file<br>    *  keep_original_header<br>        If True the original header of the input file will be copied at the beginning of the output file [DEFAULT:True]<br>    *  header_from_final_template<br>        Generate a header according to the name or number of the fields given in the final_template [DEFAULT:True]<br>    *  replace_internal_space<br>        All internal blank space will be replaced by this character [DEFAULT:\"_\"]<br>    *  replace_null_val<br>        Field with no value will be replaced by this character [DEFAULT:\"*\"]<br>    *  subst_dict<br>        Nested dictionary of substitution per position to replace specific values by others [DEFAULT:None]<br>            Example: { 0:{\"chr1\":\"1\",\"chr2\":\"2\"}, 3:{\"Squires\":\"5376774764\",\"Li\":\"27664684\"}}<br>    *  filter_dict<br>        A dictionary of list per position  to filter out lines  with specific values [DEFAULT:None]<br>            Example: { 0:[\"chr2\", \"chr4\"], 1:[\"46767\", \"87765\"], 5:[\"76559\", \"77543\"]}<br>    *  predicate<br>        A lambda predicate function for more advance filtering operations [DEFAULT:None]<br>            Example:  lambda val_dict: abs(int(val_dict[1])-int(val_dict[2])) <= 2000<br>    *  standard_template<br>        Existing standard template to parse the file  instead of providing one manually. List of saved templates:<br>        - \"gff3_ens_gene\" = Template for ensembl gff3 fields. Select only the genes lines and decompose to individual elements.<br>        - \"gff3_ens_transcript\" = Template for ensembl gff3 fields. Select only the transcript lines and decompose to individual elements.<br>        - \"gtf_ens_gene\" = Template for ensembl gft fields. Select only the genes lines and decompose to individual elements<br>    * verbose<br>        If True will print detailed information [DEFAULT:False]<br>    </p>"
      ],
      "text/plain": [
       "<IPython.core.display.HTML object>"
      ]
     },
     "metadata": {},
     "output_type": "display_data"
    }
   ],
   "source": [
    "jhelp(reformat_table, full = True)"
   ]
  },
  {
   "cell_type": "code",
   "execution_count": 137,
   "metadata": {
    "ExecuteTime": {
     "end_time": "2018-12-10T12:07:32.801465Z",
     "start_time": "2018-12-10T12:07:32.728263Z"
    }
   },
   "outputs": [
    {
     "name": "stdout",
     "output_type": "stream",
     "text": [
      "0\t# Transcriptome-wide map of m5C [hg38 coordinates]\n",
      "1\t# Reference: Squires et al., Nucleic Acids Res. 40, 5023 (2012) [PMID 22344696, DOI 10.1093/nar/gks144]\n",
      "2\t#\n",
      "...\n",
      "197\tchr1\t19311959\t19311960\tSquires|id185\t0\t-\n",
      "198\tchr1\t19608342\t19608343\tSquires|id186\t0\t+\n",
      "199\tchr1\t19608343\t19608344\tSquires|id187\t0\t+\n",
      "0\t# New header\n",
      "1\tchr1\t631539\t631540\tm5C|*|HeLa|22344696\t-\t+\n",
      "2\tchr1\t631540\t631541\tm5C|*|HeLa|22344696\t-\t+\n",
      "...\n",
      "192\tchr1\t19311959\t19311960\tm5C|*|HeLa|22344696\t-\t-\n",
      "193\tchr1\t19608342\t19608343\tm5C|*|HeLa|22344696\t-\t+\n",
      "194\tchr1\t19608343\t19608344\tm5C|*|HeLa|22344696\t-\t+\n"
     ]
    }
   ],
   "source": [
    "# With numeric index\n",
    "reformat_table(\n",
    "    input_file=\"./data/Small_m5C_Squires_hg38.bed\",\n",
    "    output_file=\"./data/Small_m5C_Squires_hg38_reformat.bed\",\n",
    "    init_template=[0,\"\\t\",1,\"\\t\",2,\"\\t\",3,\"|\",4,\"\\t\",5,\"\\t\",6],\n",
    "    final_template=[0,\"\\t\",1,\"\\t\",2,\"\\tm5C|*|HeLa|22344696\\t-\\t\",6],\n",
    "    replace_internal_space='_',\n",
    "    replace_null_val=\"*\",\n",
    "    keep_original_header=False,\n",
    "    header=\"# New header\\n\"\n",
    "    )\n",
    "\n",
    "linerange (\"./data/Small_m5C_Squires_hg38.bed\")\n",
    "linerange (\"./data/Small_m5C_Squires_hg38_reformat.bed\")"
   ]
  },
  {
   "cell_type": "code",
   "execution_count": 138,
   "metadata": {
    "ExecuteTime": {
     "end_time": "2018-12-10T12:07:33.022036Z",
     "start_time": "2018-12-10T12:07:32.812049Z"
    }
   },
   "outputs": [
    {
     "name": "stdout",
     "output_type": "stream",
     "text": [
      "Enumerated named argument list:\n",
      "\tverbose: True\n",
      "\tstandard_template: None\n",
      "\tpredicate: None\n",
      "\tfilter_dict: []\n",
      "\tsubst_dict: {}\n",
      "\treplace_null_val: *\n",
      "\treplace_internal_space: _\n",
      "\theader_from_final_template: False\n",
      "\tkeep_original_header: False\n",
      "\theader: # New header\n",
      "\n",
      "\tfinal_template: ['{start}', '\\t', '{end}', '\\tadditional_informations\\t', '{name}']\n",
      "\tinit_template: ['{chrom}', '\\t', '{start}', '\\t', '{end}', '|', '{name}', '\\t', '{score}', '\\t', '{strand}']\n",
      "\treturn_df: False\n",
      "\toutput_file: ./data/Small_m5C_Squires_hg38_reformat.bed\n",
      "\tinput_file: ./data/Small_m5C_Squires_hg38.bed\n",
      "Unenumerated named arguments list:\n",
      "Initial template values\n",
      "chrom\tstart\tend|name\tscore\tstrand\n",
      "Final template values\n",
      "start\tend\tadditional_informations\tname\n",
      "194 Lines processed\t194 Lines pass\t0 Lines filtered out\t0 Lines fail\n",
      "0\t# Transcriptome-wide map of m5C [hg38 coordinates]\n",
      "1\t# Reference: Squires et al., Nucleic Acids Res. 40, 5023 (2012) [PMID 22344696, DOI 10.1093/nar/gks144]\n",
      "2\t#\n",
      "...\n",
      "197\tchr1\t19311959\t19311960\tSquires|id185\t0\t-\n",
      "198\tchr1\t19608342\t19608343\tSquires|id186\t0\t+\n",
      "199\tchr1\t19608343\t19608344\tSquires|id187\t0\t+\n",
      "0\t# New header\n",
      "1\t631539\t631540\tSquires\tadditional_informations\tid1\n",
      "2\t631540\t631541\tSquires\tadditional_informations\tid2\n",
      "...\n",
      "192\t19311959\t19311960\tSquires\tadditional_informations\tid185\n",
      "193\t19608342\t19608343\tSquires\tadditional_informations\tid186\n",
      "194\t19608343\t19608344\tSquires\tadditional_informations\tid187\n"
     ]
    }
   ],
   "source": [
    "# With str index\n",
    "reformat_table(\n",
    "    input_file=\"./data/Small_m5C_Squires_hg38.bed\",\n",
    "    output_file=\"./data/Small_m5C_Squires_hg38_reformat.bed\",\n",
    "    init_template=[\"{chrom}\",\"\\t\",\"{start}\",\"\\t\",\"{end}\",\"|\",\"{name}\",\"\\t\",\"{score}\",\"\\t\",\"{strand}\"],\n",
    "    final_template=[\"{start}\",\"\\t\",\"{end}\",\"\\tadditional_informations\\t\",\"{name}\"],\n",
    "    replace_internal_space='_',\n",
    "    replace_null_val=\"*\",\n",
    "    keep_original_header=False,\n",
    "    header=\"# New header\\n\",\n",
    "    verbose=True\n",
    "    )\n",
    "\n",
    "linerange (\"./data/Small_m5C_Squires_hg38.bed\")\n",
    "linerange (\"./data/Small_m5C_Squires_hg38_reformat.bed\")"
   ]
  },
  {
   "cell_type": "code",
   "execution_count": 139,
   "metadata": {
    "ExecuteTime": {
     "end_time": "2018-12-10T12:07:33.054321Z",
     "start_time": "2018-12-10T12:07:33.024222Z"
    }
   },
   "outputs": [
    {
     "name": "stdout",
     "output_type": "stream",
     "text": [
      "Enumerated named argument list:\n",
      "\tverbose: True\n",
      "\tstandard_template: None\n",
      "\tpredicate: None\n",
      "\tfilter_dict: {18: ['intron']}\n",
      "\tsubst_dict: {0: {'chr1': '1', 'chr2': '2'}, 3: {'Peng': '22344696'}}\n",
      "\treplace_null_val: *\n",
      "\treplace_internal_space: _\n",
      "\theader_from_final_template: False\n",
      "\tkeep_original_header: True\n",
      "\theader: \n",
      "\tfinal_template: [0, '\\t', 1, '\\t', 2, '\\t', 9, '>', 10, '|', 3, '|HeLa|', 19, '\\t', 11, '\\t', 21]\n",
      "\tinit_template: [0, '\\t', 1, '\\t', 2, '\\t', 3, '|', 4, '|', 5, '|', 6, '|', 7, '|', 8, '|', 9, '->', 10, '|', 11, '%|', 12, '|', 13, '|', 14, '|', 15, '|', 16, '|', 17, '|', 18, '|', 19, '\\t', 20, '\\t', 21]\n",
      "\treturn_df: False\n",
      "\toutput_file: ./data/Small_editing_Peng_hg38_reformat.bed\n",
      "\tinput_file: ./data/Small_editing_Peng_hg38.bed\n",
      "Unenumerated named arguments list:\n",
      "Initial template values\n",
      "0\t1\t2\t3|4|5|6|7|8|9->10|11%|12|13|14|15|16|17|18|19\t20\t21\n",
      "Final template values\n",
      "0\t1\t2\t9>10|3|HeLa|19\t11\t21\n",
      "194 Lines processed\t139 Lines pass\t55 Lines filtered out\t0 Lines fail\n",
      "0\t# Transcriptome-wide map of editing sites [hg38 coordinates]\n",
      "1\t# Reference: Peng et al., Nat. Biotechnol. 30, 253 (2012) [PMID 22327324, DOI 10.1038/nbt.2122]\n",
      "2\t#\n",
      "...\n",
      "197\tchr1\t9173454\t9173455\tPeng|chr1|9156101|-|T|Y|A->G|35.14%|99|T|24|C|13|37|intergenic|-\t0\t-\n",
      "198\tchr1\t9173533\t9173534\tPeng|chr1|9156180|-|T|Y|A->G|24.10%|61|T|148|C|47|195|intergenic|-\t0\t-\n",
      "199\tchr1\t9173535\t9173536\tPeng|chr1|9156182|-|T|Y|A->G|66.15%|99|C|129|T|66|195|intergenic|-\t0\t-\n",
      "0\t# Transcriptome-wide map of editing sites [hg38 coordinates]\n",
      "1\t# Reference: Peng et al., Nat. Biotechnol. 30, 253 (2012) [PMID 22327324, DOI 10.1038/nbt.2122]\n",
      "2\t#\n",
      "...\n",
      "142\t1\t9173454\t9173455\tA>G|22344696|HeLa|-\t35.14\t-\n",
      "143\t1\t9173533\t9173534\tA>G|22344696|HeLa|-\t24.10\t-\n",
      "144\t1\t9173535\t9173536\tA>G|22344696|HeLa|-\t66.15\t-\n"
     ]
    }
   ],
   "source": [
    "subst_dict = {0:{\"chr1\":\"1\", \"chr2\":\"2\"}, 3:{\"Peng\":\"22344696\"}}\n",
    "filter_dict = {18:[\"intron\"]}\n",
    "input_file=\"./data/Small_editing_Peng_hg38.bed\"\n",
    "output_file=\"./data/Small_editing_Peng_hg38_reformat.bed\"\n",
    "\n",
    "reformat_table(\n",
    "    input_file, output_file,\n",
    "    init_template=[0,\"\\t\",1,\"\\t\",2,\"\\t\",3,\"|\",4,\"|\",5,\"|\",6,\"|\",7,\"|\",8,\"|\",9,\"->\",10,\"|\",11,\"%|\",12,\"|\",13,\"|\",14,\"|\",15,\"|\",16,\"|\",17,\"|\",18,\"|\",19,\"\\t\",20,\"\\t\",21],\n",
    "    final_template=[0,\"\\t\",1,\"\\t\",2,\"\\t\",9,\">\",10,\"|\",3,\"|HeLa|\",19,\"\\t\",11,\"\\t\",21],\n",
    "    replace_internal_space='_',\n",
    "    replace_null_val=\"*\",\n",
    "    subst_dict = subst_dict,\n",
    "    filter_dict = filter_dict,\n",
    "    verbose=True\n",
    "    )\n",
    "\n",
    "linerange (input_file)\n",
    "linerange (output_file)"
   ]
  },
  {
   "cell_type": "code",
   "execution_count": 140,
   "metadata": {
    "ExecuteTime": {
     "end_time": "2018-12-10T12:07:33.273805Z",
     "start_time": "2018-12-10T12:07:33.056112Z"
    }
   },
   "outputs": [
    {
     "name": "stdout",
     "output_type": "stream",
     "text": [
      "Enumerated named argument list:\n",
      "\tverbose: True\n",
      "\tstandard_template: None\n",
      "\tpredicate: None\n",
      "\tfilter_dict: []\n",
      "\tsubst_dict: {}\n",
      "\treplace_null_val: *\n",
      "\treplace_internal_space: _\n",
      "\theader_from_final_template: False\n",
      "\tkeep_original_header: True\n",
      "\theader: \n",
      "\tfinal_template: []\n",
      "\tinit_template: [0, '\\t', 1, '\\t', 2, '\\t', 3, '|', 4, '|', 5, '|', 6, '|', 7, '|', 8, '|', 9, '->', 10, '|', 11, '%|', 12, '|', 13, '|', 14, '|', 15, '|', 16, '|', 17, '|', 18, '|', 19, '\\t', 20, '\\t', 21]\n",
      "\treturn_df: True\n",
      "\toutput_file: \n",
      "\tinput_file: ./data/Small_editing_Peng_hg38.bed\n",
      "Unenumerated named arguments list:\n",
      "No final template given. Create final template from init template\n",
      "Initial template values\n",
      "0\t1\t2\t3|4|5|6|7|8|9->10|11%|12|13|14|15|16|17|18|19\t20\t21\n",
      "Final template values\n",
      "0\t1\t2\t3|4|5|6|7|8|9->10|11%|12|13|14|15|16|17|18|19\t20\t21\n",
      "# Transcriptome-wide map of editing sites [hg38 coordinates]\n",
      "# Reference: Peng et al., Nat. Biotechnol. 30, 253 (2012) [PMID 22327324, DOI 10.1038/nbt.2122]\n",
      "#\n",
      "# Data cleaned and converted to BED6, coordinate conversion to hg38 using liftOver.\n",
      "# Maintainer: Maurits Evers (maurits.evers@anu.edu.au)\n",
      "#\n",
      "chr1\t1102535\t1102536\tPeng|chr1|1027779|-|T|Y|A->G|66.67%|37|C|6|T|3|9|intron|C1orf159\t0\t-\n",
      "chr1\t1221501\t1221502\tPeng|chr1|1146745|-|T|Y|A->G|36.59%|99|T|26|C|15|42|intron|SDF4\t0\t-\n",
      "chr1\t1222079\t1222080\tPeng|chr1|1147323|-|T|Y|A->G|22.73%|94|T|51|C|15|66|intron|SDF4\t0\t-\n",
      "chr1\t1251840\t1251841\tPeng|chr1|1177084|-|T|Y|A->G|56.25%|99|C|9|T|7|16|intergenic|-\t0\t-\n",
      "chr1\t1252243\t1252244\tPeng|chr1|1177487|-|T|Y|A->G|19.44%|30|T|29|C|7|36|intergenic|-\t0\t-\n",
      "\n",
      "None\n"
     ]
    },
    {
     "data": {
      "text/html": [
       "<div>\n",
       "<style scoped>\n",
       "    .dataframe tbody tr th:only-of-type {\n",
       "        vertical-align: middle;\n",
       "    }\n",
       "\n",
       "    .dataframe tbody tr th {\n",
       "        vertical-align: top;\n",
       "    }\n",
       "\n",
       "    .dataframe thead th {\n",
       "        text-align: right;\n",
       "    }\n",
       "</style>\n",
       "<table border=\"1\" class=\"dataframe\">\n",
       "  <thead>\n",
       "    <tr style=\"text-align: right;\">\n",
       "      <th></th>\n",
       "      <th>0</th>\n",
       "      <th>1</th>\n",
       "      <th>2</th>\n",
       "      <th>3</th>\n",
       "      <th>4</th>\n",
       "      <th>5</th>\n",
       "      <th>6</th>\n",
       "      <th>7</th>\n",
       "      <th>8</th>\n",
       "      <th>9</th>\n",
       "      <th>...</th>\n",
       "      <th>12</th>\n",
       "      <th>13</th>\n",
       "      <th>14</th>\n",
       "      <th>15</th>\n",
       "      <th>16</th>\n",
       "      <th>17</th>\n",
       "      <th>18</th>\n",
       "      <th>19</th>\n",
       "      <th>20</th>\n",
       "      <th>21</th>\n",
       "    </tr>\n",
       "  </thead>\n",
       "  <tbody>\n",
       "    <tr>\n",
       "      <th>0</th>\n",
       "      <td>chr1</td>\n",
       "      <td>1102535</td>\n",
       "      <td>1102536</td>\n",
       "      <td>Peng</td>\n",
       "      <td>chr1</td>\n",
       "      <td>1027779</td>\n",
       "      <td>-</td>\n",
       "      <td>T</td>\n",
       "      <td>Y</td>\n",
       "      <td>A</td>\n",
       "      <td>...</td>\n",
       "      <td>37</td>\n",
       "      <td>C</td>\n",
       "      <td>6</td>\n",
       "      <td>T</td>\n",
       "      <td>3</td>\n",
       "      <td>9</td>\n",
       "      <td>intron</td>\n",
       "      <td>C1orf159</td>\n",
       "      <td>0</td>\n",
       "      <td>-</td>\n",
       "    </tr>\n",
       "    <tr>\n",
       "      <th>1</th>\n",
       "      <td>chr1</td>\n",
       "      <td>1221501</td>\n",
       "      <td>1221502</td>\n",
       "      <td>Peng</td>\n",
       "      <td>chr1</td>\n",
       "      <td>1146745</td>\n",
       "      <td>-</td>\n",
       "      <td>T</td>\n",
       "      <td>Y</td>\n",
       "      <td>A</td>\n",
       "      <td>...</td>\n",
       "      <td>99</td>\n",
       "      <td>T</td>\n",
       "      <td>26</td>\n",
       "      <td>C</td>\n",
       "      <td>15</td>\n",
       "      <td>42</td>\n",
       "      <td>intron</td>\n",
       "      <td>SDF4</td>\n",
       "      <td>0</td>\n",
       "      <td>-</td>\n",
       "    </tr>\n",
       "    <tr>\n",
       "      <th>2</th>\n",
       "      <td>chr1</td>\n",
       "      <td>1222079</td>\n",
       "      <td>1222080</td>\n",
       "      <td>Peng</td>\n",
       "      <td>chr1</td>\n",
       "      <td>1147323</td>\n",
       "      <td>-</td>\n",
       "      <td>T</td>\n",
       "      <td>Y</td>\n",
       "      <td>A</td>\n",
       "      <td>...</td>\n",
       "      <td>94</td>\n",
       "      <td>T</td>\n",
       "      <td>51</td>\n",
       "      <td>C</td>\n",
       "      <td>15</td>\n",
       "      <td>66</td>\n",
       "      <td>intron</td>\n",
       "      <td>SDF4</td>\n",
       "      <td>0</td>\n",
       "      <td>-</td>\n",
       "    </tr>\n",
       "    <tr>\n",
       "      <th>3</th>\n",
       "      <td>chr1</td>\n",
       "      <td>1251840</td>\n",
       "      <td>1251841</td>\n",
       "      <td>Peng</td>\n",
       "      <td>chr1</td>\n",
       "      <td>1177084</td>\n",
       "      <td>-</td>\n",
       "      <td>T</td>\n",
       "      <td>Y</td>\n",
       "      <td>A</td>\n",
       "      <td>...</td>\n",
       "      <td>99</td>\n",
       "      <td>C</td>\n",
       "      <td>9</td>\n",
       "      <td>T</td>\n",
       "      <td>7</td>\n",
       "      <td>16</td>\n",
       "      <td>intergenic</td>\n",
       "      <td>-</td>\n",
       "      <td>0</td>\n",
       "      <td>-</td>\n",
       "    </tr>\n",
       "    <tr>\n",
       "      <th>4</th>\n",
       "      <td>chr1</td>\n",
       "      <td>1252243</td>\n",
       "      <td>1252244</td>\n",
       "      <td>Peng</td>\n",
       "      <td>chr1</td>\n",
       "      <td>1177487</td>\n",
       "      <td>-</td>\n",
       "      <td>T</td>\n",
       "      <td>Y</td>\n",
       "      <td>A</td>\n",
       "      <td>...</td>\n",
       "      <td>30</td>\n",
       "      <td>T</td>\n",
       "      <td>29</td>\n",
       "      <td>C</td>\n",
       "      <td>7</td>\n",
       "      <td>36</td>\n",
       "      <td>intergenic</td>\n",
       "      <td>-</td>\n",
       "      <td>0</td>\n",
       "      <td>-</td>\n",
       "    </tr>\n",
       "  </tbody>\n",
       "</table>\n",
       "<p>5 rows × 22 columns</p>\n",
       "</div>"
      ],
      "text/plain": [
       "      0        1        2     3     4        5  6  7  8  9 ...  12 13  14 15  \\\n",
       "0  chr1  1102535  1102536  Peng  chr1  1027779  -  T  Y  A ...  37  C   6  T   \n",
       "1  chr1  1221501  1221502  Peng  chr1  1146745  -  T  Y  A ...  99  T  26  C   \n",
       "2  chr1  1222079  1222080  Peng  chr1  1147323  -  T  Y  A ...  94  T  51  C   \n",
       "3  chr1  1251840  1251841  Peng  chr1  1177084  -  T  Y  A ...  99  C   9  T   \n",
       "4  chr1  1252243  1252244  Peng  chr1  1177487  -  T  Y  A ...  30  T  29  C   \n",
       "\n",
       "   16  17          18        19 20 21  \n",
       "0   3   9      intron  C1orf159  0  -  \n",
       "1  15  42      intron      SDF4  0  -  \n",
       "2  15  66      intron      SDF4  0  -  \n",
       "3   7  16  intergenic         -  0  -  \n",
       "4   7  36  intergenic         -  0  -  \n",
       "\n",
       "[5 rows x 22 columns]"
      ]
     },
     "execution_count": 140,
     "metadata": {},
     "output_type": "execute_result"
    }
   ],
   "source": [
    "input_file=\"./data/Small_editing_Peng_hg38.bed\"\n",
    "\n",
    "df = reformat_table(\n",
    "    input_file,\n",
    "    return_df=True,\n",
    "    init_template=[0,\"\\t\",1,\"\\t\",2,\"\\t\",3,\"|\",4,\"|\",5,\"|\",6,\"|\",7,\"|\",8,\"|\",9,\"->\",10,\"|\",11,\"%|\",12,\"|\",13,\"|\",14,\"|\",15,\"|\",16,\"|\",17,\"|\",18,\"|\",19,\"\\t\",20,\"\\t\",21],\n",
    "    replace_internal_space='_',\n",
    "    replace_null_val=\"*\",\n",
    "    verbose=True)\n",
    "\n",
    "print(head(input_file, 11))\n",
    "\n",
    "df.head()"
   ]
  },
  {
   "cell_type": "code",
   "execution_count": 141,
   "metadata": {
    "ExecuteTime": {
     "end_time": "2018-12-10T12:07:37.980349Z",
     "start_time": "2018-12-10T12:07:33.276312Z"
    }
   },
   "outputs": [
    {
     "name": "stdout",
     "output_type": "stream",
     "text": [
      "Enumerated named argument list:\n",
      "\tverbose: True\n",
      "\tstandard_template: gff3_ens_transcript\n",
      "\tpredicate: None\n",
      "\tfilter_dict: []\n",
      "\tsubst_dict: {}\n",
      "\treplace_null_val: *\n",
      "\treplace_internal_space: _\n",
      "\theader_from_final_template: True\n",
      "\tkeep_original_header: False\n",
      "\theader: \n",
      "\tfinal_template: []\n",
      "\tinit_template: []\n",
      "\treturn_df: True\n",
      "\toutput_file: \n",
      "\tinput_file: ./data/gencode_sample.gff3\n",
      "Unenumerated named arguments list:\n",
      "Using gff3 ensembl transcript template. Non-transcript features will be filtered out\n",
      "No final template given. Create final template from init template\n",
      "Initial template values\n",
      "seqid\tsource\ttype\tstart\tend\tscore\tstrand\tphase\tID=ID;Parent=Parent;gene_id=gene_id;transcript_id=transcript_id;gene_type=gene_type;gene_status=gene_status;gene_name=gene_name;transcript_type=transcript_type;transcript_status=transcript_status;transcript_name=transcript_name;level=level;transcript_support_level=transcript_support_level;tag=tag;havana_gene=havana_gene;havana_transcript=havana_transcript\n",
      "Final template values\n",
      "seqid\tsource\ttype\tstart\tend\tscore\tstrand\tphase\tID=ID;Parent=Parent;gene_id=gene_id;transcript_id=transcript_id;gene_type=gene_type;gene_status=gene_status;gene_name=gene_name;transcript_type=transcript_type;transcript_status=transcript_status;transcript_name=transcript_name;level=level;transcript_support_level=transcript_support_level;tag=tag;havana_gene=havana_gene;havana_transcript=havana_transcript\n",
      "##gff-version 3\n",
      "#description: evidence-based annotation of the human genome (GRCh38), version 24 (Ensembl 83) - long non-coding RNAs\n",
      "#provider: GENCODE\n",
      "#contact: gencode-help@sanger.ac.uk\n",
      "#format: gff3\n",
      "#date: 2015-12-03\n",
      "##sequence-region chr1 1 248956422\n",
      "chr1\tHAVANA\tgene\t29554\t31109\t.\t+\t.\tID=ENSG00000243485.3;gene_id=ENSG00000243485.3;gene_type=lincRNA;gene_status=KNOWN;gene_name=RP11-34P13.3;level=2;tag=ncRNA_host;havana_gene=OTTHUMG00000000959.2\n",
      "chr1\tHAVANA\ttranscript\t29554\t31097\t.\t+\t.\tID=ENST00000473358.1;Parent=ENSG00000243485.3;gene_id=ENSG00000243485.3;transcript_id=ENST00000473358.1;gene_type=lincRNA;gene_status=KNOWN;gene_name=RP11-34P1...\n",
      "chr1\tHAVANA\texon\t29554\t30039\t.\t+\t.\tID=exon:ENST00000473358.1:1;Parent=ENST00000473358.1;gene_id=ENSG00000243485.3;transcript_id=ENST00000473358.1;gene_type=lincRNA;gene_status=KNOWN;gene_name=RP11-34P...\n",
      "chr1\tHAVANA\texon\t30564\t30667\t.\t+\t.\tID=exon:ENST00000473358.1:2;Parent=ENST00000473358.1;gene_id=ENSG00000243485.3;transcript_id=ENST00000473358.1;gene_type=lincRNA;gene_status=KNOWN;gene_name=RP11-34P...\n",
      "\n",
      "None\n"
     ]
    },
    {
     "data": {
      "text/html": [
       "<div>\n",
       "<style scoped>\n",
       "    .dataframe tbody tr th:only-of-type {\n",
       "        vertical-align: middle;\n",
       "    }\n",
       "\n",
       "    .dataframe tbody tr th {\n",
       "        vertical-align: top;\n",
       "    }\n",
       "\n",
       "    .dataframe thead th {\n",
       "        text-align: right;\n",
       "    }\n",
       "</style>\n",
       "<table border=\"1\" class=\"dataframe\">\n",
       "  <thead>\n",
       "    <tr style=\"text-align: right;\">\n",
       "      <th></th>\n",
       "      <th>seqid</th>\n",
       "      <th>source</th>\n",
       "      <th>type</th>\n",
       "      <th>start</th>\n",
       "      <th>end</th>\n",
       "      <th>score</th>\n",
       "      <th>strand</th>\n",
       "      <th>phase</th>\n",
       "      <th>ID</th>\n",
       "      <th>Parent</th>\n",
       "      <th>...</th>\n",
       "      <th>gene_status</th>\n",
       "      <th>gene_name</th>\n",
       "      <th>transcript_type</th>\n",
       "      <th>transcript_status</th>\n",
       "      <th>transcript_name</th>\n",
       "      <th>level</th>\n",
       "      <th>transcript_support_level</th>\n",
       "      <th>tag</th>\n",
       "      <th>havana_gene</th>\n",
       "      <th>havana_transcript</th>\n",
       "    </tr>\n",
       "  </thead>\n",
       "  <tbody>\n",
       "    <tr>\n",
       "      <th>0</th>\n",
       "      <td>chr1</td>\n",
       "      <td>HAVANA</td>\n",
       "      <td>transcript</td>\n",
       "      <td>29554</td>\n",
       "      <td>31097</td>\n",
       "      <td>.</td>\n",
       "      <td>+</td>\n",
       "      <td>.</td>\n",
       "      <td>ENST00000473358.1</td>\n",
       "      <td>ENSG00000243485.3</td>\n",
       "      <td>...</td>\n",
       "      <td>KNOWN</td>\n",
       "      <td>RP11-34P13.3</td>\n",
       "      <td>lincRNA</td>\n",
       "      <td>KNOWN</td>\n",
       "      <td>RP11-34P13.3-001</td>\n",
       "      <td>2</td>\n",
       "      <td>5</td>\n",
       "      <td>not_best_in_genome_evidence,dotter_confirmed,b...</td>\n",
       "      <td>OTTHUMG00000000959.2</td>\n",
       "      <td>OTTHUMT00000002840.1</td>\n",
       "    </tr>\n",
       "    <tr>\n",
       "      <th>1</th>\n",
       "      <td>chr1</td>\n",
       "      <td>HAVANA</td>\n",
       "      <td>transcript</td>\n",
       "      <td>30267</td>\n",
       "      <td>31109</td>\n",
       "      <td>.</td>\n",
       "      <td>+</td>\n",
       "      <td>.</td>\n",
       "      <td>ENST00000469289.1</td>\n",
       "      <td>ENSG00000243485.3</td>\n",
       "      <td>...</td>\n",
       "      <td>KNOWN</td>\n",
       "      <td>RP11-34P13.3</td>\n",
       "      <td>lincRNA</td>\n",
       "      <td>KNOWN</td>\n",
       "      <td>RP11-34P13.3-002</td>\n",
       "      <td>2</td>\n",
       "      <td>5</td>\n",
       "      <td>not_best_in_genome_evidence,basic</td>\n",
       "      <td>OTTHUMG00000000959.2</td>\n",
       "      <td>OTTHUMT00000002841.2</td>\n",
       "    </tr>\n",
       "    <tr>\n",
       "      <th>2</th>\n",
       "      <td>chr1</td>\n",
       "      <td>HAVANA</td>\n",
       "      <td>transcript</td>\n",
       "      <td>34554</td>\n",
       "      <td>36081</td>\n",
       "      <td>.</td>\n",
       "      <td>-</td>\n",
       "      <td>.</td>\n",
       "      <td>ENST00000417324.1</td>\n",
       "      <td>ENSG00000237613.2</td>\n",
       "      <td>...</td>\n",
       "      <td>KNOWN</td>\n",
       "      <td>FAM138A</td>\n",
       "      <td>lincRNA</td>\n",
       "      <td>KNOWN</td>\n",
       "      <td>FAM138A-001</td>\n",
       "      <td>2</td>\n",
       "      <td>1</td>\n",
       "      <td>basic</td>\n",
       "      <td>OTTHUMG00000000960.1</td>\n",
       "      <td>OTTHUMT00000002842.1</td>\n",
       "    </tr>\n",
       "    <tr>\n",
       "      <th>3</th>\n",
       "      <td>chr1</td>\n",
       "      <td>HAVANA</td>\n",
       "      <td>transcript</td>\n",
       "      <td>35245</td>\n",
       "      <td>36073</td>\n",
       "      <td>.</td>\n",
       "      <td>-</td>\n",
       "      <td>.</td>\n",
       "      <td>ENST00000461467.1</td>\n",
       "      <td>ENSG00000237613.2</td>\n",
       "      <td>...</td>\n",
       "      <td>KNOWN</td>\n",
       "      <td>FAM138A</td>\n",
       "      <td>lincRNA</td>\n",
       "      <td>KNOWN</td>\n",
       "      <td>FAM138A-002</td>\n",
       "      <td>2</td>\n",
       "      <td>3;havana_gene=OTTHUMG00000000960.1;havana_tran...</td>\n",
       "      <td>*</td>\n",
       "      <td>*</td>\n",
       "      <td>*</td>\n",
       "    </tr>\n",
       "    <tr>\n",
       "      <th>4</th>\n",
       "      <td>chr1</td>\n",
       "      <td>HAVANA</td>\n",
       "      <td>transcript</td>\n",
       "      <td>89295</td>\n",
       "      <td>120932</td>\n",
       "      <td>.</td>\n",
       "      <td>-</td>\n",
       "      <td>.</td>\n",
       "      <td>ENST00000466430.5</td>\n",
       "      <td>ENSG00000238009.6</td>\n",
       "      <td>...</td>\n",
       "      <td>KNOWN</td>\n",
       "      <td>RP11-34P13.7</td>\n",
       "      <td>lincRNA</td>\n",
       "      <td>KNOWN</td>\n",
       "      <td>RP11-34P13.7-001</td>\n",
       "      <td>2</td>\n",
       "      <td>5</td>\n",
       "      <td>not_best_in_genome_evidence,basic</td>\n",
       "      <td>OTTHUMG00000001096.2</td>\n",
       "      <td>OTTHUMT00000003225.1</td>\n",
       "    </tr>\n",
       "  </tbody>\n",
       "</table>\n",
       "<p>5 rows × 23 columns</p>\n",
       "</div>"
      ],
      "text/plain": [
       "  seqid  source        type  start     end score strand phase  \\\n",
       "0  chr1  HAVANA  transcript  29554   31097     .      +     .   \n",
       "1  chr1  HAVANA  transcript  30267   31109     .      +     .   \n",
       "2  chr1  HAVANA  transcript  34554   36081     .      -     .   \n",
       "3  chr1  HAVANA  transcript  35245   36073     .      -     .   \n",
       "4  chr1  HAVANA  transcript  89295  120932     .      -     .   \n",
       "\n",
       "                  ID             Parent          ...          gene_status  \\\n",
       "0  ENST00000473358.1  ENSG00000243485.3          ...                KNOWN   \n",
       "1  ENST00000469289.1  ENSG00000243485.3          ...                KNOWN   \n",
       "2  ENST00000417324.1  ENSG00000237613.2          ...                KNOWN   \n",
       "3  ENST00000461467.1  ENSG00000237613.2          ...                KNOWN   \n",
       "4  ENST00000466430.5  ENSG00000238009.6          ...                KNOWN   \n",
       "\n",
       "      gene_name transcript_type transcript_status   transcript_name level  \\\n",
       "0  RP11-34P13.3         lincRNA             KNOWN  RP11-34P13.3-001     2   \n",
       "1  RP11-34P13.3         lincRNA             KNOWN  RP11-34P13.3-002     2   \n",
       "2       FAM138A         lincRNA             KNOWN       FAM138A-001     2   \n",
       "3       FAM138A         lincRNA             KNOWN       FAM138A-002     2   \n",
       "4  RP11-34P13.7         lincRNA             KNOWN  RP11-34P13.7-001     2   \n",
       "\n",
       "                            transcript_support_level  \\\n",
       "0                                                  5   \n",
       "1                                                  5   \n",
       "2                                                  1   \n",
       "3  3;havana_gene=OTTHUMG00000000960.1;havana_tran...   \n",
       "4                                                  5   \n",
       "\n",
       "                                                 tag           havana_gene  \\\n",
       "0  not_best_in_genome_evidence,dotter_confirmed,b...  OTTHUMG00000000959.2   \n",
       "1                  not_best_in_genome_evidence,basic  OTTHUMG00000000959.2   \n",
       "2                                              basic  OTTHUMG00000000960.1   \n",
       "3                                                  *                     *   \n",
       "4                  not_best_in_genome_evidence,basic  OTTHUMG00000001096.2   \n",
       "\n",
       "      havana_transcript  \n",
       "0  OTTHUMT00000002840.1  \n",
       "1  OTTHUMT00000002841.2  \n",
       "2  OTTHUMT00000002842.1  \n",
       "3                     *  \n",
       "4  OTTHUMT00000003225.1  \n",
       "\n",
       "[5 rows x 23 columns]"
      ]
     },
     "execution_count": 141,
     "metadata": {},
     "output_type": "execute_result"
    }
   ],
   "source": [
    "input_file = \"./data/gencode_sample.gff3\"\n",
    "\n",
    "df = reformat_table(\n",
    "    input_file,\n",
    "    return_df=True,\n",
    "    standard_template=\"gff3_ens_transcript\", \n",
    "    keep_original_header=False,\n",
    "    header_from_final_template= True,\n",
    "    verbose=True\n",
    "    )\n",
    "\n",
    "print(head(input_file, 11))\n",
    "df.head()"
   ]
  },
  {
   "cell_type": "markdown",
   "metadata": {},
   "source": [
    "# WEB TOOLS"
   ]
  },
  {
   "cell_type": "markdown",
   "metadata": {},
   "source": [
    "## url_exist"
   ]
  },
  {
   "cell_type": "code",
   "execution_count": 201,
   "metadata": {
    "ExecuteTime": {
     "end_time": "2018-12-10T12:08:28.528522Z",
     "start_time": "2018-12-10T12:08:28.519880Z"
    },
    "init_cell": true
   },
   "outputs": [
    {
     "data": {
      "text/html": [
       "<p style=\"line-height:15px;\"><b>url_exist</b> (url, **kwargs)<br><br>    Predicate verifying if an url exist without downloading all the link<br>    </p>"
      ],
      "text/plain": [
       "<IPython.core.display.HTML object>"
      ]
     },
     "metadata": {},
     "output_type": "display_data"
    }
   ],
   "source": [
    "jhelp(url_exist, full=True)"
   ]
  },
  {
   "cell_type": "code",
   "execution_count": 143,
   "metadata": {
    "ExecuteTime": {
     "end_time": "2018-12-10T12:07:38.106989Z",
     "start_time": "2018-12-10T12:07:37.987386Z"
    },
    "scrolled": true
   },
   "outputs": [
    {
     "data": {
      "text/plain": [
       "True"
      ]
     },
     "execution_count": 143,
     "metadata": {},
     "output_type": "execute_result"
    }
   ],
   "source": [
    "url_exist(\"http://www.google.com\") # When this one will be False it will probably be the end of the world"
   ]
  },
  {
   "cell_type": "code",
   "execution_count": 144,
   "metadata": {
    "ExecuteTime": {
     "end_time": "2018-12-10T12:07:38.219464Z",
     "start_time": "2018-12-10T12:07:38.113319Z"
    }
   },
   "outputs": [
    {
     "data": {
      "text/plain": [
       "True"
      ]
     },
     "execution_count": 144,
     "metadata": {},
     "output_type": "execute_result"
    }
   ],
   "source": [
    "url_exist(\"http://www.JUYGKUYHGJHFJ.com\")"
   ]
  },
  {
   "cell_type": "markdown",
   "metadata": {},
   "source": [
    "## wget"
   ]
  },
  {
   "cell_type": "code",
   "execution_count": 202,
   "metadata": {
    "ExecuteTime": {
     "end_time": "2018-12-10T12:08:28.538094Z",
     "start_time": "2018-12-10T12:08:28.530639Z"
    },
    "init_cell": true
   },
   "outputs": [
    {
     "data": {
      "text/html": [
       "<p style=\"line-height:15px;\"><b>wget</b> (url, out_name='', progress_block=100000000, **kwargs)<br><br>    Download a file from an URL to a local storage.<br>    *  url<br>        A internet URL pointing to the file to download<br>    *  outname<br>        Name of the outfile where (facultative)<br>    *  progress_block<br>        size of the byte block for the progression of the download<br>    </p>"
      ],
      "text/plain": [
       "<IPython.core.display.HTML object>"
      ]
     },
     "metadata": {},
     "output_type": "display_data"
    }
   ],
   "source": [
    "jhelp(wget, full=True)"
   ]
  },
  {
   "cell_type": "code",
   "execution_count": 146,
   "metadata": {
    "ExecuteTime": {
     "end_time": "2018-12-10T12:07:38.323742Z",
     "start_time": "2018-12-10T12:07:38.256101Z"
    }
   },
   "outputs": [
    {
     "name": "stdout",
     "output_type": "stream",
     "text": [
      "unknown url type: ''\n"
     ]
    }
   ],
   "source": [
    "outfile = wget(\"\")\n",
    "if outfile:\n",
    "    print(outfile)\n",
    "    remove(outfile)"
   ]
  },
  {
   "cell_type": "code",
   "execution_count": 147,
   "metadata": {
    "ExecuteTime": {
     "end_time": "2018-12-10T12:08:27.607902Z",
     "start_time": "2018-12-10T12:07:38.329716Z"
    }
   },
   "outputs": [
    {
     "name": "stdout",
     "output_type": "stream",
     "text": [
      "Downloading: https://www.encodeproject.org/files/ENCFF000HJC/@@download/ENCFF000HJC.bigWig\tBytes: 258930225\n",
      "50.0 MB Downloaded\t[19.31 %]\n",
      "100.0 MB Downloaded\t[38.62 %]\n",
      "150.0 MB Downloaded\t[57.93 %]\n",
      "200.0 MB Downloaded\t[77.24 %]\n",
      "250.0 MB Downloaded\t[96.55 %]\n",
      "258.9 MB Downloaded\t[100 %]\n",
      "test.bigWig\n"
     ]
    }
   ],
   "source": [
    "outfile = wget(\"https://www.encodeproject.org/files/ENCFF000HJC/@@download/ENCFF000HJC.bigWig\", \"test.bigWig\", 50000000)\n",
    "if outfile:\n",
    "    print(outfile)\n",
    "    remove(outfile)"
   ]
  },
  {
   "cell_type": "markdown",
   "metadata": {},
   "source": [
    "---\n",
    "# FUNCTION TOOLS"
   ]
  },
  {
   "cell_type": "markdown",
   "metadata": {},
   "source": [
    "## print_arg"
   ]
  },
  {
   "cell_type": "code",
   "execution_count": 203,
   "metadata": {
    "ExecuteTime": {
     "end_time": "2018-12-10T12:08:28.551065Z",
     "start_time": "2018-12-10T12:08:28.543712Z"
    },
    "init_cell": true
   },
   "outputs": [
    {
     "data": {
      "text/html": [
       "<p style=\"line-height:15px;\"><b>print_arg</b> (**kwargs)<br><br>    Print calling function named and unnamed arguments<br>    </p>"
      ],
      "text/plain": [
       "<IPython.core.display.HTML object>"
      ]
     },
     "metadata": {},
     "output_type": "display_data"
    }
   ],
   "source": [
    "jhelp(print_arg, full=True)"
   ]
  },
  {
   "cell_type": "code",
   "execution_count": 149,
   "metadata": {
    "ExecuteTime": {
     "end_time": "2018-12-10T12:08:27.631860Z",
     "start_time": "2018-12-10T12:08:27.615892Z"
    }
   },
   "outputs": [
    {
     "name": "stdout",
     "output_type": "stream",
     "text": [
      "Enumerated named argument list:\n",
      "\tC: 3\n",
      "\tB: 2\n",
      "\tA: 1\n",
      "Unenumerated named arguments list:\n",
      "\tz: 65\n",
      "\tx: 100\n",
      "Unnamed positional arguments list:\n",
      "\t5\n"
     ]
    }
   ],
   "source": [
    "def test (A,B,C=7,*args, **kwarg):\n",
    "    print_arg()\n",
    "\n",
    "test(1,2,3,5, z=65, x=100)"
   ]
  },
  {
   "cell_type": "markdown",
   "metadata": {
    "collapsed": true
   },
   "source": [
    "# SSH TOOLS"
   ]
  },
  {
   "cell_type": "markdown",
   "metadata": {
    "collapsed": true
   },
   "source": [
    "## scp"
   ]
  },
  {
   "cell_type": "code",
   "execution_count": 204,
   "metadata": {
    "ExecuteTime": {
     "end_time": "2018-12-10T12:08:28.563022Z",
     "start_time": "2018-12-10T12:08:28.554787Z"
    },
    "init_cell": true
   },
   "outputs": [
    {
     "data": {
      "text/html": [
       "<p style=\"line-height:15px;\"><b>scp</b> (hostname, local_file, remote_dir, username=None, rsa_private_key=None, ssh_config='~/.ssh/config', verbose=False, **kwargs)<br><br>    Copy a file over ssh in a target remote directory<br>    * hostname<br>        Name of the host ssh server<br>    * username<br>        name of the user<br>    * rsa_private_key<br>        path to the rsa private key<br>    * local_file<br>        path to the local file<br>    * remote_dir<br>        path to the target directory<br>    * ssh_config<br>        use as an alternative method instead of giving the username and rsa_private_key. Will fetch them from the config file directly<br>    </p>"
      ],
      "text/plain": [
       "<IPython.core.display.HTML object>"
      ]
     },
     "metadata": {},
     "output_type": "display_data"
    }
   ],
   "source": [
    "jhelp(scp, full=True)"
   ]
  },
  {
   "cell_type": "code",
   "execution_count": 151,
   "metadata": {
    "ExecuteTime": {
     "end_time": "2018-12-10T12:08:27.645897Z",
     "start_time": "2018-12-10T12:08:27.639532Z"
    }
   },
   "outputs": [],
   "source": [
    "#scp(hostname=\"ebi-cli-001.ebi.ac.uk\", local_file=\"../README.md\", remote_dir=\"~/test\", username=\"aleg\", rsa_private_key=\"/home/aleg/.ssh/ebi_rsa\")"
   ]
  },
  {
   "cell_type": "code",
   "execution_count": 152,
   "metadata": {
    "ExecuteTime": {
     "end_time": "2018-12-10T12:08:27.659009Z",
     "start_time": "2018-12-10T12:08:27.654529Z"
    }
   },
   "outputs": [],
   "source": [
    "#scp(hostname=\"ebi\", local_file=\"../README.md\", remote_dir=\"~/test\")"
   ]
  },
  {
   "cell_type": "markdown",
   "metadata": {},
   "source": [
    "# Package Tools"
   ]
  },
  {
   "cell_type": "markdown",
   "metadata": {},
   "source": [
    "## get_package_file"
   ]
  },
  {
   "cell_type": "code",
   "execution_count": 153,
   "metadata": {
    "ExecuteTime": {
     "end_time": "2018-12-10T12:08:27.671033Z",
     "start_time": "2018-12-10T12:08:27.664038Z"
    },
    "scrolled": true
   },
   "outputs": [
    {
     "data": {
      "text/html": [
       "<p style=\"line-height:15px;\"><b>get_package_file</b> (package, fp='', **kwargs)<br><br>    Verify the existence of a file from the package data and return a file path<br>    * package<br>        Name of the package<br>    * fp<br>        Relative path to the file in the package. Usually package_name/data/file_name<br>        if the path points to a directory the directory arborescence will be printed<br>    </p>"
      ],
      "text/plain": [
       "<IPython.core.display.HTML object>"
      ]
     },
     "metadata": {},
     "output_type": "display_data"
    }
   ],
   "source": [
    "jhelp(get_package_file, full=True)"
   ]
  },
  {
   "cell_type": "code",
   "execution_count": 154,
   "metadata": {
    "ExecuteTime": {
     "end_time": "2018-12-10T12:08:27.766386Z",
     "start_time": "2018-12-10T12:08:27.677312Z"
    },
    "scrolled": false
   },
   "outputs": [
    {
     "name": "stderr",
     "output_type": "stream",
     "text": [
      "/home/aleg/Programming/pycltools/pycltools/pycltools.py:1947: UserWarning: The 'pyCL' distribution was not found and is required by the application\n",
      "  warnings.warn(str(E))\n"
     ]
    }
   ],
   "source": [
    "get_package_file(\"pyCL\", \"pyCL/\")"
   ]
  },
  {
   "cell_type": "markdown",
   "metadata": {},
   "source": [
    "# SAM/BAM TOOLS"
   ]
  },
  {
   "cell_type": "markdown",
   "metadata": {},
   "source": [
    "## bam_sample"
   ]
  },
  {
   "cell_type": "code",
   "execution_count": 155,
   "metadata": {
    "ExecuteTime": {
     "end_time": "2018-12-10T12:08:27.772046Z",
     "start_time": "2018-12-10T12:08:27.768053Z"
    }
   },
   "outputs": [
    {
     "data": {
      "text/html": [
       "<p style=\"line-height:15px;\"><b>bam_sample</b> (fp_in, fp_out, n_reads, verbose=False, **kwargs)<br><br>    Sample reads from a SAM/BAM file and write in a new file<br>    * fp_in<br>        Path to the input file in .bam/.sam/.cram (the format will be infered from extension)<br>    * fp_out<br>        Path to the output file in .bam/.sam/.cram (the format will be infered from extension)<br>    * n_reads<br>        number of reads to sample<br>    </p>"
      ],
      "text/plain": [
       "<IPython.core.display.HTML object>"
      ]
     },
     "metadata": {},
     "output_type": "display_data"
    }
   ],
   "source": [
    "jhelp(bam_sample, full=True)"
   ]
  },
  {
   "cell_type": "code",
   "execution_count": 156,
   "metadata": {
    "ExecuteTime": {
     "end_time": "2018-12-10T12:08:27.813727Z",
     "start_time": "2018-12-10T12:08:27.773782Z"
    }
   },
   "outputs": [
    {
     "name": "stdout",
     "output_type": "stream",
     "text": [
      "Found 5000 reads in input file\n",
      "Wrote 100 reads in output file\n",
      "20\t@SQ\tSN:chr21\tLN:46709983\n",
      "44\t@SQ\tSN:KI270305.1\tLN:1472\n",
      "111\t@SQ\tSN:KI270508.1\tLN:1951\n",
      "146\t@SQ\tSN:KI270710.1\tLN:40176\n",
      "170\t@SQ\tSN:KI270734.1\tLN:165050\n",
      "171\t@SQ\tSN:KI270735.1\tLN:42811\n",
      "217\tchr14|61657775|61657835|+|13447.7\t272\tchr7\t127489894\t0\t61M\t*\t0\t0\t*\t*\tNM:i:3\tMD:Z:39A14A4A1\tAS:i:49\n",
      "234\tchr17|43159683|43159737|-|19991.10\t272\tchr9\t131908717\t0\t55M\t*\t0\t0\t*\t*\tNM:i:0\tMD:Z:55\tAS:i:55\n",
      "239\tchr18|14010134|14010194|+|21568.4\t272\tchr5\t4925139\t0\t61M\t*\t0\t0\t*\t*\tNM:i:0\tMD:Z:61\tAS:i:61\n",
      "266\tchr3|138485055|138485115|+|33361.101\t256\tchr12\t6132886\t0\t61M\t*\t0\t0\t*\t*\tNM:i:5\tMD:Z:16G4C0A3C25G8\tAS:...\n"
     ]
    }
   ],
   "source": [
    "bam_sample(\"./data/sample.sam\", fp_out=\"./data/sample_100.sam\", n_reads=100, verbose=True)\n",
    "linesample(\"./data/sample_100.sam\", n_lines=10, max_char_line=100)"
   ]
  },
  {
   "cell_type": "code",
   "execution_count": 157,
   "metadata": {
    "ExecuteTime": {
     "end_time": "2018-12-10T12:08:27.960152Z",
     "start_time": "2018-12-10T12:08:27.817008Z"
    },
    "scrolled": false
   },
   "outputs": [
    {
     "name": "stdout",
     "output_type": "stream",
     "text": [
      "Found 5000 reads in input file\n",
      "Wrote 100 reads in output file\n",
      "chr1|805036|805096|+|89.10\t272\tchr8\t436410\t0\t61M\t*\t0\t0\t*\t*\tNM:i:3\tMD:Z:7A19C0A32\tAS:i:46\n",
      "chr1|110408997|110409057|+|2013.22\t272\tchr15\t35143322\t0\t13H48M\t*\t0\t0\t*\t*\tNM:i:3\tMD:Z:37G0A2T6\tAS:i:37\n",
      "chr1|121462469|121462529|+|2240.83\t0\tchr1\t121462469\t48\t61M\t*\t0\t0\tAATCTATTTATTTATTTTTCTTCAGTGTTACAATGAAACAACATTGCTTTATTTAAATTTT\tIIIIIIIIIIIIIIIIIIIIIIIIIIIIIIIIIIIIIIIIIIIIIIIIIIIIIIIIIIIII\tNM:i:0\tMD:Z:61\tAS:i:61\tXS:i:46\n",
      "chr1|205386423|205386483|+|3446.41\t272\tKI270750.1\t53599\t0\t7H47M7H\t*\t0\t0\t*\t*\tNM:i:3\tMD:Z:27C0A6A11\tAS:i:32\n",
      "chr1|221508699|221508759|+|3731.6\t272\tchrX\t69857918\t0\t37M24H\t*\t0\t0\t*\t*\tNM:i:0\tMD:Z:37\tAS:i:37\n",
      "chr1|246607871|246607931|+|4121.10\t256\tchr19\t29557507\t0\t19H42M\t*\t0\t0\t*\t*\tNM:i:0\tMD:Z:42\tAS:i:42\n",
      "chr10|14878128|14878188|-|4488.16\t256\tchr15\t84959120\t0\t17H44M\t*\t0\t0\t*\t*\tNM:i:0\tMD:Z:44\tAS:i:44\n",
      "chr10|65751058|65751118|+|5083.9\t272\tchr2\t222774610\t0\t18H43M\t*\t0\t0\t*\t*\tNM:i:1\tMD:Z:6G36\tAS:i:38\n",
      "chr10|106187699|106187759|+|5744.7\t272\tchr10\t73831305\t0\t61M\t*\t0\t0\t*\t*\tNM:i:5\tMD:Z:0T44C4T3A5C0\tAS:i:44\n",
      "chr10|125698897|125698957|+|5980.5\t0\tchr10\t125698897\t60\t61M\t*\t0\t0\tAGGTGGGCTCCATTTGGCCTCCTTCCTTGGTCCATTCTCATCTTCCTGGGCCCTGCGGATG\tIIIIIIIIIIIIIIIIIIIIIIIIIIIIIIIIIIIIIIIIIIIIIIIIIIIIIIIIIIIII\tNM:i:0\tMD:Z:61\tAS:i:61\tXS:i:0\n"
     ]
    }
   ],
   "source": [
    "bam_sample(\"./data/sample.sam\", fp_out=\"./data/sample_100.bam\", n_reads=100, verbose=True)\n",
    "!samtools view \"./data/sample_100.bam\" | head"
   ]
  },
  {
   "cell_type": "code",
   "execution_count": 158,
   "metadata": {
    "ExecuteTime": {
     "end_time": "2018-12-10T12:08:27.982868Z",
     "start_time": "2018-12-10T12:08:27.967869Z"
    }
   },
   "outputs": [
    {
     "name": "stderr",
     "output_type": "stream",
     "text": [
      "/home/aleg/Programming/pycltools/pycltools/pycltools.py:1990: UserWarning: Invalid input file format (.bam/.sam/.cram)\n",
      "  warnings.warn (\"Invalid input file format (.bam/.sam/.cram)\")\n"
     ]
    }
   ],
   "source": [
    "bam_sample(\"./data/sample.txt\", fp_out=\"./data/sample_100.bam\", n_reads=100, verbose=True)"
   ]
  },
  {
   "cell_type": "code",
   "execution_count": 159,
   "metadata": {
    "ExecuteTime": {
     "end_time": "2018-12-10T12:08:28.009499Z",
     "start_time": "2018-12-10T12:08:27.995064Z"
    }
   },
   "outputs": [
    {
     "name": "stderr",
     "output_type": "stream",
     "text": [
      "/home/aleg/Programming/pycltools/pycltools/pycltools.py:1999: UserWarning: Invalid output file format (.bam/.sam/.cram)\n",
      "  warnings.warn (\"Invalid output file format (.bam/.sam/.cram)\")\n"
     ]
    }
   ],
   "source": [
    "bam_sample(\"./data/sample.sam\", fp_out=\"./data/sample_100.txt\", n_reads=100, verbose=True)"
   ]
  },
  {
   "cell_type": "markdown",
   "metadata": {},
   "source": [
    "# DNA SEQUENCE TOOLS"
   ]
  },
  {
   "cell_type": "markdown",
   "metadata": {},
   "source": [
    "## base_generator"
   ]
  },
  {
   "cell_type": "code",
   "execution_count": 205,
   "metadata": {
    "ExecuteTime": {
     "end_time": "2018-12-10T12:08:28.572205Z",
     "start_time": "2018-12-10T12:08:28.564787Z"
    },
    "init_cell": true,
    "scrolled": true
   },
   "outputs": [
    {
     "data": {
      "text/html": [
       "<p style=\"line-height:15px;\"><b>base_generator</b> (bases=['A', 'T', 'C', 'G'], weights=[0.280788, 0.281691, 0.193973, 0.194773], **kwargs)<br><br>    Generator returning DNA/RNA bases according to a probability weightning<br>    * bases: list (default [\"A\",\"T\",\"C\",\"G\"])<br>        DNA RNA bases allowed<br>    * weights: list (default [0.280788,0.281691,0.193973,0.194773])<br>        Probability of each base to be returned. Should match the index of bases. The sum does not need to be equal to 1.<br>        If the list is empty bases will be returned with a flat probability. The default values represent the frequency in the human<br>        genome (excluding N).<br>    </p>"
      ],
      "text/plain": [
       "<IPython.core.display.HTML object>"
      ]
     },
     "metadata": {},
     "output_type": "display_data"
    }
   ],
   "source": [
    "jhelp(base_generator, full = True)"
   ]
  },
  {
   "cell_type": "code",
   "execution_count": 161,
   "metadata": {
    "ExecuteTime": {
     "end_time": "2018-12-10T12:08:28.065323Z",
     "start_time": "2018-12-10T12:08:28.048919Z"
    }
   },
   "outputs": [
    {
     "name": "stdout",
     "output_type": "stream",
     "text": [
      "A\n",
      "T\n",
      "C\n",
      "A\n",
      "T\n",
      "C\n",
      "G\n",
      "G\n",
      "T\n",
      "T\n"
     ]
    }
   ],
   "source": [
    "bg = base_generator()\n",
    "for i in range(10):\n",
    "    print (next(bg))"
   ]
  },
  {
   "cell_type": "code",
   "execution_count": 162,
   "metadata": {
    "ExecuteTime": {
     "end_time": "2018-12-10T12:08:28.080352Z",
     "start_time": "2018-12-10T12:08:28.071389Z"
    }
   },
   "outputs": [
    {
     "name": "stdout",
     "output_type": "stream",
     "text": [
      "G\n",
      "T\n",
      "A\n",
      "G\n",
      "G\n",
      "G\n",
      "G\n",
      "A\n",
      "T\n",
      "G\n"
     ]
    }
   ],
   "source": [
    "bg = base_generator(bases=['A', 'T', 'C', 'G', 'N'], weights=[0.8, 0.8, 0.2, 0.2, 0.1])\n",
    "for i in range(10):\n",
    "    print (next(bg))"
   ]
  },
  {
   "cell_type": "markdown",
   "metadata": {},
   "source": [
    "## make_sequence"
   ]
  },
  {
   "cell_type": "code",
   "execution_count": 206,
   "metadata": {
    "ExecuteTime": {
     "end_time": "2018-12-10T12:08:28.585020Z",
     "start_time": "2018-12-10T12:08:28.574015Z"
    },
    "init_cell": true
   },
   "outputs": [
    {
     "data": {
      "text/html": [
       "<p style=\"line-height:15px;\"><b>make_sequence</b> (bases=['A', 'T', 'C', 'G'], weights=[0.280788, 0.281691, 0.193973, 0.194773], length=1000, **kwargs)<br><br>    return a sequence of DNA/RNA bases according to a probability weightning<br>    * bases: list (default [\"A\",\"T\",\"C\",\"G\"])<br>        DNA RNA bases allowed in the sequence<br>    * weights: list (default [0.280788,0.281691,0.193973,0.194773])<br>        Probability of each base to be returned. Should match the index of bases. The sum does not need to be equal to 1.<br>        If the list is empty bases will be returned with a flat probability. The default values represent the frequency in the human<br>        genome (excluding N).<br>    * length: int (default 1000)<br>        length of the sequence to be returned<br>    </p>"
      ],
      "text/plain": [
       "<IPython.core.display.HTML object>"
      ]
     },
     "metadata": {},
     "output_type": "display_data"
    }
   ],
   "source": [
    "jhelp(make_sequence, full=True)"
   ]
  },
  {
   "cell_type": "code",
   "execution_count": 164,
   "metadata": {
    "ExecuteTime": {
     "end_time": "2018-12-10T12:08:28.104440Z",
     "start_time": "2018-12-10T12:08:28.093894Z"
    },
    "scrolled": true
   },
   "outputs": [
    {
     "data": {
      "text/plain": [
       "'ACTGGCGTCGGATCGTGAGGTACTGATATTTCCGGCTCGCTGCCTATACCTATCAGTCCAAGTATGATGACTAGGAAGAACGCTAGTAATAGTGGGCGTTCACGGTTGAGAACCTCTTATTCATGGAAATAAATATTGAGTCTTGTGGGTCTGATAAGCGTTCCCCAAGTAAGTACGAAAAATCTGAGAGCCAAAGGAACTACCGTTATGAGGATCTCTGTTTAAATTCTGATAATATGTATTTGGATCCGAAATACGCGGTGATGGTGTGTAGTTACCTTAGGCTGATCGGTAAGCACTGCATCTACAGTTATAGTCCCCACTTTTCGTTTGCAAGCAAAAGTTGATCTATGTCACCCTCAATCTCGTAAAGGTGTTGCTATGGTTAAAGTAAGTGTCTCCTAGTGCTGATCAGAGCAAACGCTAAGGGAAAGGGGAGCTAAGCCCTTATGATCAAAGAGACAGATGGCTTAGCGCCCAATTCAGCTATTATGTGAAATACATGTACGGGAAAAATTCTTCACTTGGAAGAAACAATGGTGAGTCTTTATCCAGGAACATGTAAGGAATTTGTAGTTCCAAATTCGGTCTATGTCCAATGATGACAGAAGCTAACGTATTGCGTTATGAATCAGGTGTACTTGTGTTTGATTTTAGTAATCCTTCGACTGAATTTGCATCTGTGGACGAGATATCACGGAGATTTGGGTGTCTCTACTTGAACATCATAGTTTGTCATAGGGCTAGTTCTTGGCATTTAATAAAATTAATAATATTGACTAATAACAACGCGACTGTTCGTCGCTAAATTGAAAACCATACAATGATCTATTTCAATACCTATTTGTCCCCACAGTAATCGATTTGCTTTATTTATAAGAGAAGATTATCAATATTTTAAGTTCTATGAATTCCTAGCACTCATAGGTCTGTGTCCCGGTGTTCCAATCTGGTGTCAACGTCGATCAGCCTTTGTCTAGTTCTTAATCTAGAGTTTAGT'"
      ]
     },
     "execution_count": 164,
     "metadata": {},
     "output_type": "execute_result"
    }
   ],
   "source": [
    "make_sequence()"
   ]
  },
  {
   "cell_type": "code",
   "execution_count": 165,
   "metadata": {
    "ExecuteTime": {
     "end_time": "2018-12-10T12:08:28.117272Z",
     "start_time": "2018-12-10T12:08:28.106272Z"
    }
   },
   "outputs": [
    {
     "data": {
      "text/plain": [
       "'TATNGGATTNANGGCGTNGAATGNATNANCGTTGNNCCAAATTGANCGNTGTNNTTNGATNNTNAGGCTTGCCCTCNCGCAAAACCNGNCAACTTNNNNG'"
      ]
     },
     "execution_count": 165,
     "metadata": {},
     "output_type": "execute_result"
    }
   ],
   "source": [
    "make_sequence(bases=['A', 'T', 'C', 'G', 'N'], weights=[], length=100)"
   ]
  },
  {
   "cell_type": "code",
   "execution_count": 166,
   "metadata": {
    "ExecuteTime": {
     "end_time": "2018-12-10T12:08:28.129951Z",
     "start_time": "2018-12-10T12:08:28.119695Z"
    }
   },
   "outputs": [
    {
     "data": {
      "text/plain": [
       "'ATCATGATCGNTTTTAATCAAAATTATCTTAATAAATTAATTTCTATTTTANGNAANAGATATCTNTCTTCCTNATACNCAATATAAGTTAAAACTAGGG'"
      ]
     },
     "execution_count": 166,
     "metadata": {},
     "output_type": "execute_result"
    }
   ],
   "source": [
    "make_sequence(bases=['A', 'T', 'C', 'G', 'N'], weights=[0.8, 0.8, 0.2, 0.2, 0.1], length=100)"
   ]
  }
 ],
 "metadata": {
  "celltoolbar": "Initialisation Cell",
  "hide_input": false,
  "kernelspec": {
   "display_name": "test_pycltools",
   "language": "python",
   "name": "test_pycltools"
  },
  "language_info": {
   "codemirror_mode": {
    "name": "ipython",
    "version": 3
   },
   "file_extension": ".py",
   "mimetype": "text/x-python",
   "name": "python",
   "nbconvert_exporter": "python",
   "pygments_lexer": "ipython3",
   "version": "3.6.6"
  },
  "widgets": {
   "state": {},
   "version": "1.1.1"
  }
 },
 "nbformat": 4,
 "nbformat_minor": 1
}
