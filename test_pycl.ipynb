{
 "cells": [
  {
   "cell_type": "markdown",
   "metadata": {},
   "source": [
    "# Test bash"
   ]
  },
  {
   "cell_type": "code",
   "execution_count": 1,
   "metadata": {
    "collapsed": false
   },
   "outputs": [],
   "source": [
    "from pycl import bash\n",
    "\n",
    "# Sent basic bash command\n",
    "# def bash(cmd):"
   ]
  },
  {
   "cell_type": "code",
   "execution_count": 2,
   "metadata": {
    "collapsed": false,
    "scrolled": true
   },
   "outputs": [
    {
     "name": "stdout",
     "output_type": "stream",
     "text": [
      "total 88\n",
      "-rw-rw-r-- 1 aleg aleg 35141 Jun  6 10:20 LICENSE\n",
      "drwxrwxr-x 2 aleg aleg  4096 Jun  6 18:48 __pycache__\n",
      "-rwxrwxrwx 1 aleg aleg  9079 Jun  6 18:48 pycl.py\n",
      "-rwxrwxrwx 1 aleg aleg   143 Jun  5 17:57 README.md\n",
      "drwxrwxr-x 2 aleg aleg  4096 Jun  6 15:28 test_data\n",
      "-rw-rw-r-- 1 aleg aleg 25893 Jun  6 18:24 test_pycl.ipynb\n",
      "\n",
      "\n"
     ]
    }
   ],
   "source": [
    "bash(\"ls -l\")"
   ]
  },
  {
   "cell_type": "code",
   "execution_count": 3,
   "metadata": {
    "collapsed": false
   },
   "outputs": [
    {
     "name": "stdout",
     "output_type": "stream",
     "text": [
      "test\n",
      "\n",
      "\n"
     ]
    }
   ],
   "source": [
    "bash(\"echo test\")"
   ]
  },
  {
   "cell_type": "markdown",
   "metadata": {},
   "source": [
    "# Test Head"
   ]
  },
  {
   "cell_type": "code",
   "execution_count": 4,
   "metadata": {
    "collapsed": false
   },
   "outputs": [],
   "source": [
    "from pycl import head\n",
    "\n",
    "# Emulate linux head cmd \n",
    "# def head (file, n=10, ignore_hashtag_line=False):"
   ]
  },
  {
   "cell_type": "code",
   "execution_count": 5,
   "metadata": {
    "collapsed": false
   },
   "outputs": [
    {
     "name": "stdout",
     "output_type": "stream",
     "text": [
      "#location\treference\ttissue\tcoverage\tediting_level(%)\n",
      "chr1:1037916\tPeng et al 2012\tLymphoblastoid cell line\t9\t66.67\n",
      "chr1:1156882\tPeng et al 2012\tLymphoblastoid cell line\t42\t36.59\n",
      "chr1:1157460\tPeng et al 2012\tLymphoblastoid cell line\t66\t22.73\n",
      "chr1:1252441\tPeng et al 2012\tLymphoblastoid cell line\t11\t72.73\n",
      "chr1:1252443\tPeng et al 2012\tLymphoblastoid cell line\t11\t45.45\n",
      "chr1:1253357\tPeng et al 2012\tLymphoblastoid cell line\t31\t32.26\n"
     ]
    }
   ],
   "source": [
    "file = \"./test_data/RADAR_Secondary.txt\"\n",
    "head (file, n=7)"
   ]
  },
  {
   "cell_type": "code",
   "execution_count": 6,
   "metadata": {
    "collapsed": false
   },
   "outputs": [
    {
     "name": "stdout",
     "output_type": "stream",
     "text": [
      "chr1\t206256301\tC1orf186\t-\tintronic\tintronic\tno\tno\tN\tN\tN\n",
      "chr6\t116991832\tintergenic\t-\tintergenic\tintergenic\tno\tno\tN\tN\tN\n",
      "chr7\t30504355\tNOD1\t-\tintronic\tintronic\tno\tno\tN\tN\tN\n"
     ]
    }
   ],
   "source": [
    "file = \"./test_data/RADAR_Main.txt\"\n",
    "head (file, n=3, ignore_hashtag_line=True)"
   ]
  },
  {
   "cell_type": "markdown",
   "metadata": {},
   "source": [
    "# Test dict_to_md"
   ]
  },
  {
   "cell_type": "code",
   "execution_count": 7,
   "metadata": {
    "collapsed": true
   },
   "outputs": [],
   "source": [
    "from pycl import dict_to_md\n",
    "\n",
    "# Def to transform a dict into a markdown formated table\n",
    "# def dict_to_md (d, key_label=\"\", value_label=\"\",\n",
    "# transpose=False, sort_by_key=False, sort_by_val=True, max_items=None):"
   ]
  },
  {
   "cell_type": "code",
   "execution_count": 8,
   "metadata": {
    "collapsed": false
   },
   "outputs": [
    {
     "name": "stdout",
     "output_type": "stream",
     "text": [
      "|Letter|Number|\n",
      "|:---|:---|\n",
      "|e|76|\n",
      "|d|56|\n",
      "|b|14|\n",
      "|a|12|\n",
      "|c|8|\n",
      "\n"
     ]
    }
   ],
   "source": [
    "d = {\"a\":12,\"b\":14,\"c\":8,\"d\":56,\"e\":76}\n",
    "print (dict_to_md(d, \"Letter\", \"Number\", sort_by_val=True))"
   ]
  },
  {
   "cell_type": "code",
   "execution_count": 9,
   "metadata": {
    "collapsed": false,
    "scrolled": true
   },
   "outputs": [
    {
     "name": "stdout",
     "output_type": "stream",
     "text": [
      "|Letter|e|d|b|a|c|\n",
      "|:---|:---|:---|:---|:---|:---|\n",
      "|Number|76|56|14|12|8|\n",
      "\n"
     ]
    }
   ],
   "source": [
    "d = {\"a\":12,\"b\":14,\"c\":8,\"d\":56,\"e\":76}\n",
    "print (dict_to_md(d, \"Letter\", \"Number\", transpose=True))"
   ]
  },
  {
   "cell_type": "markdown",
   "metadata": {},
   "source": [
    "# Test supesplit"
   ]
  },
  {
   "cell_type": "code",
   "execution_count": 10,
   "metadata": {
    "collapsed": true
   },
   "outputs": [],
   "source": [
    "from pycl import supersplit\n",
    "\n",
    "# like split but can take a list of separators instead of a simple separator \n",
    "# def supersplit (string, separator=\"\"):"
   ]
  },
  {
   "cell_type": "code",
   "execution_count": 11,
   "metadata": {
    "collapsed": false
   },
   "outputs": [
    {
     "name": "stdout",
     "output_type": "stream",
     "text": [
      "['chr7', '74138', '774138', 'A>I', 'LOC100129917', 'LUNG:LYMPHOBLASTOID_CELL_LINE', '15342557:15258596:22327324', '0']\n",
      "['chr7', '74138', '774138', 'A>I|LOC100129917|LUNG:LYMPHOBLASTOID_CELL_LINE|15342557:15258596:22327324', '0']\n",
      "['chr7\\t74138\\t774138\\tA>I', 'LOC100129917', 'LUNG:LYMPHOBLASTOID_CELL_LINE', '15342557:15258596:22327324\\t0']\n"
     ]
    }
   ],
   "source": [
    "a = \"chr7\\t74138\\t774138\\tA>I|LOC100129917|LUNG:LYMPHOBLASTOID_CELL_LINE|15342557:15258596:22327324\\t0\"\n",
    "\n",
    "print(supersplit(a, [\"\\t\",\"|\"]))\n",
    "\n",
    "print(supersplit(a))\n",
    "\n",
    "print(supersplit(a, \"|\"))"
   ]
  },
  {
   "cell_type": "markdown",
   "metadata": {},
   "source": [
    "# Test colsum"
   ]
  },
  {
   "cell_type": "code",
   "execution_count": 12,
   "metadata": {
    "collapsed": true
   },
   "outputs": [],
   "source": [
    "from pycl import colsum\n",
    "\n",
    "# Create a summary of selected columns of a file\n",
    "# def colsum (file, colrange=None, separator=\"\", header=False,\n",
    "# ignore_hashtag_line=False, max_items=10):"
   ]
  },
  {
   "cell_type": "code",
   "execution_count": 13,
   "metadata": {
    "collapsed": false,
    "scrolled": true
   },
   "outputs": [
    {
     "name": "stdout",
     "output_type": "stream",
     "text": [
      "Header found\n",
      "Found 11 colums\n",
      "First line found\n",
      "|#chromosome|chr1|chr17|chr9|chr15|chr6|chr14|chr18|chr2|chrY|chr4|...|\n",
      "|:---|:---|:---|:---|:---|:---|:---|:---|:---|:---|:---|:---|\n",
      "|Count|4|3|2|2|2|1|1|1|1|1|...|\n",
      "\n",
      "|position|5246885|229588105|23442109|18905895|228845758|16694083|109795329|26367531|82255420|36553542|...|\n",
      "|:---|:---|:---|:---|:---|:---|:---|:---|:---|:---|:---|:---|\n",
      "|Count|1|1|1|1|1|1|1|1|1|1|...|\n",
      "\n",
      "|gene|RABEP1|NUP133|JUB|GREB1L|SPHKAP|NLGN4Y|CELSR2|RBPJ|TLE4|SOCS7|...|\n",
      "|:---|:---|:---|:---|:---|:---|:---|:---|:---|:---|:---|:---|\n",
      "|Count|1|1|1|1|1|1|1|1|1|1|...|\n",
      "\n",
      "|strand|-|+|\n",
      "|:---|:---|:---|\n",
      "|Count|10|9|\n",
      "\n",
      "|annot1|intronic|3UTR|Syn|intergenic|\n",
      "|:---|:---|:---|:---|:---|\n",
      "|Count|14|2|2|1|\n",
      "\n",
      "|annot2|intronic|3UTR|Leu->Leu|Gln->Gln|intergenic|\n",
      "|:---|:---|:---|:---|:---|:---|\n",
      "|Count|14|2|1|1|1|\n",
      "\n",
      "|alu?|no|\n",
      "|:---|:---|\n",
      "|Count|19|\n",
      "\n",
      "|non_alu_repetitive?|no|\n",
      "|:---|:---|\n",
      "|Count|19|\n",
      "\n",
      "|conservation_chimp|N|\n",
      "|:---|:---|\n",
      "|Count|19|\n",
      "\n",
      "|conservation_rhesus|N|\n",
      "|:---|:---|\n",
      "|Count|19|\n",
      "\n",
      "|conservation_mouse|N|\n",
      "|:---|:---|\n",
      "|Count|19|\n",
      "\n"
     ]
    }
   ],
   "source": [
    "colsum(\"./test_data/RADAR_Main.txt\", header=True)"
   ]
  },
  {
   "cell_type": "code",
   "execution_count": 14,
   "metadata": {
    "collapsed": false
   },
   "outputs": [
    {
     "name": "stdout",
     "output_type": "stream",
     "text": [
      "#RADAR Human hg19 database v2 cleaned and converted to BED6 format\n",
      "#Adrien Leger / 2016-06-03 15:36:11.680374\n",
      "chrom\tchromstart\tchromend\tOriginalBase:EditedBase|loci|Source1|PMID\tediting_level\torient\n",
      "chr1\t1037916\t1037916\tA>I|C1orf159|YH|22327324\t66.67\t-\n",
      "chr1\t1156882\t1156882\tA>I|SDF4|YH|22327324\t36.59\t-\n"
     ]
    }
   ],
   "source": [
    "head(\"./test_data/RADAR_clean.txt\", n=5)"
   ]
  },
  {
   "cell_type": "code",
   "execution_count": 15,
   "metadata": {
    "collapsed": false,
    "scrolled": true
   },
   "outputs": [
    {
     "name": "stdout",
     "output_type": "stream",
     "text": [
      "Header found\n",
      "First line found\n",
      "|chrom|chr1|\n",
      "|:---|:---|\n",
      "|Count|997|\n",
      "\n",
      "|OriginalBase:EditedBase|A>I|\n",
      "|:---|:---|\n",
      "|Count|997|\n",
      "\n",
      "|Source1|YH|\n",
      "|:---|:---|\n",
      "|Count|997|\n",
      "\n",
      "|PMID|22327324|\n",
      "|:---|:---|\n",
      "|Count|997|\n",
      "\n",
      "|orient\n",
      "|-|+|\n",
      "|:---|:---|:---|\n",
      "|Count|527|470|\n",
      "\n"
     ]
    }
   ],
   "source": [
    "colsum(\"./test_data/RADAR_clean.txt\", header=True, ignore_hashtag_line=True, colrange=[0,3,5,6,8], separator=[\"\\t\",\"|\"])"
   ]
  },
  {
   "cell_type": "code",
   "execution_count": 16,
   "metadata": {
    "collapsed": false,
    "scrolled": true
   },
   "outputs": [
    {
     "name": "stdout",
     "output_type": "stream",
     "text": [
      "Header found\n",
      "Found 9 colums\n",
      "First line found\n",
      "|chrom|chr1|\n",
      "|:---|:---|\n",
      "|Count|997|\n",
      "\n",
      "|chromstart|225974746|225974735|225974581|224599486|224584888|224579366|224443385|224443384|224373930|222888136|...|\n",
      "|:---|:---|:---|:---|:---|:---|:---|:---|:---|:---|:---|:---|\n",
      "|Count|1|1|1|1|1|1|1|1|1|1|...|\n",
      "\n",
      "|chromend|225974746|225974735|225974581|224599486|224584888|224579366|224443385|224443384|224373930|222888136|...|\n",
      "|:---|:---|:---|:---|:---|:---|:---|:---|:---|:---|:---|:---|\n",
      "|Count|1|1|1|1|1|1|1|1|1|1|...|\n",
      "\n",
      "|OriginalBase:EditedBase|A>I|\n",
      "|:---|:---|\n",
      "|Count|997|\n",
      "\n",
      "|loci|FDPS|MDM4|CTSS|DNAJC11|S100PBP|ASH1L|MCOLN2|DAP3|PSMA5|INPP5B|...|\n",
      "|:---|:---|:---|:---|:---|:---|:---|:---|:---|:---|:---|:---|\n",
      "|Count|34|31|28|25|24|20|20|19|19|19|...|\n",
      "\n",
      "|Source1|YH|\n",
      "|:---|:---|\n",
      "|Count|997|\n",
      "\n",
      "|PMID|22327324|\n",
      "|:---|:---|\n",
      "|Count|997|\n",
      "\n",
      "|editing_level|33.33|66.67|50.00|57.14|60.00|40.00|44.44|45.45|42.86|62.50|...|\n",
      "|:---|:---|:---|:---|:---|:---|:---|:---|:---|:---|:---|:---|\n",
      "|Count|31|31|23|22|22|20|17|17|16|13|...|\n",
      "\n",
      "|orient\n",
      "|-|+|\n",
      "|:---|:---|:---|\n",
      "|Count|527|470|\n",
      "\n"
     ]
    }
   ],
   "source": [
    "colsum(\"./test_data/RADAR_clean.txt\", header=True, ignore_hashtag_line=True, separator=[\"\\t\",\"|\"])"
   ]
  },
  {
   "cell_type": "markdown",
   "metadata": {},
   "source": [
    "|chrom|chr1|\n",
    "|:---|:---|\n",
    "|Count|997|\n",
    "\n",
    "|chromstart|225974746|225974735|225974581|224599486|224584888|224579366|224443385|224443384|224373930|222888136|...|\n",
    "|:---|:---|:---|:---|:---|:---|:---|:---|:---|:---|:---|:---|\n",
    "|Count|1|1|1|1|1|1|1|1|1|1|...|\n",
    "\n",
    "|chromend|225974746|225974735|225974581|224599486|224584888|224579366|224443385|224443384|224373930|222888136|...|\n",
    "|:---|:---|:---|:---|:---|:---|:---|:---|:---|:---|:---|:---|\n",
    "|Count|1|1|1|1|1|1|1|1|1|1|...|\n",
    "\n",
    "|OriginalBase:EditedBase|A>I|\n",
    "|:---|:---|\n",
    "|Count|997|\n",
    "\n",
    "|loci|FDPS|MDM4|CTSS|DNAJC11|S100PBP|ASH1L|MCOLN2|DAP3|PSMA5|INPP5B|...|\n",
    "|:---|:---|:---|:---|:---|:---|:---|:---|:---|:---|:---|:---|\n",
    "|Count|34|31|28|25|24|20|20|19|19|19|...|\n",
    "\n",
    "|Source1|YH|\n",
    "|:---|:---|\n",
    "|Count|997|\n",
    "\n",
    "|PMID|22327324|\n",
    "|:---|:---|\n",
    "|Count|997|\n",
    "\n",
    "|editing_level|33.33|66.67|50.00|57.14|60.00|40.00|44.44|45.45|42.86|62.50|...|\n",
    "|:---|:---|:---|:---|:---|:---|:---|:---|:---|:---|:---|:---|\n",
    "|Count|31|31|23|22|22|20|17|17|16|13|...|\n",
    "\n",
    "|orient\n",
    "|-|+|\n",
    "|:---|:---|:---|\n",
    "|Count|527|470|"
   ]
  },
  {
   "cell_type": "markdown",
   "metadata": {
    "collapsed": true
   },
   "source": [
    "# Test _decompose_line"
   ]
  },
  {
   "cell_type": "code",
   "execution_count": 17,
   "metadata": {
    "collapsed": false
   },
   "outputs": [],
   "source": [
    "from pycl import _decompose_line\n",
    "\n",
    "# Helper function for reformat_table. Decompose a line and extract the values given a template list\n",
    "# def _decompose_line(line, template):"
   ]
  },
  {
   "cell_type": "code",
   "execution_count": 18,
   "metadata": {
    "collapsed": false
   },
   "outputs": [
    {
     "data": {
      "text/plain": [
       "['chr1', '631539', '631540', '  Squires', 'id1', '0', '+\\n']"
      ]
     },
     "execution_count": 18,
     "metadata": {},
     "output_type": "execute_result"
    }
   ],
   "source": [
    "_decompose_line(\n",
    "    line = \"chr1\t631539\t631540\t  Squires|id1\t0\t+\\n\",\n",
    "    template = [0,\"\\t\",1,\"\\t\",2,\"\\t\",3,\"|\",4,\"\\t\",5,\"\\t\",6]\n",
    "    )"
   ]
  },
  {
   "cell_type": "code",
   "execution_count": 19,
   "metadata": {
    "collapsed": false,
    "scrolled": true
   },
   "outputs": [
    {
     "data": {
      "text/plain": [
       "['chr1', '6315es|id1', '', '+\\n', '', '', '']"
      ]
     },
     "execution_count": 19,
     "metadata": {},
     "output_type": "execute_result"
    }
   ],
   "source": [
    "_decompose_line(\n",
    "    line = \"chr1\t6315es|id1\t\t+\\n\",\n",
    "    template = [0,\"\\t\",1,\"\\t\",2,\"\\t\",3,\"|\",4,\"\\t\",5,\"\\t\",6]\n",
    "    )"
   ]
  },
  {
   "cell_type": "markdown",
   "metadata": {},
   "source": [
    "# Test _clean_values"
   ]
  },
  {
   "cell_type": "code",
   "execution_count": 20,
   "metadata": {
    "collapsed": false
   },
   "outputs": [],
   "source": [
    "from pycl import _clean_values\n",
    "\n",
    "# Helper function for reformat_table. Clean the extracted values\n",
    "# def _clean_values (val_list, replace_internal_space=None, replace_null_val=\"*\", subst_dict={}):"
   ]
  },
  {
   "cell_type": "code",
   "execution_count": 21,
   "metadata": {
    "collapsed": false
   },
   "outputs": [
    {
     "data": {
      "text/plain": [
       "['chr1', '6315_es|id1', '*', '+', '*', '*', '*']"
      ]
     },
     "execution_count": 21,
     "metadata": {},
     "output_type": "execute_result"
    }
   ],
   "source": [
    "_clean_values(\n",
    "    val_list=['  chr1', '6315 es|id1', '', '+ \\n', '', '', ''],\n",
    "    replace_internal_space='_',\n",
    "    replace_null_val=\"*\")"
   ]
  },
  {
   "cell_type": "code",
   "execution_count": 22,
   "metadata": {
    "collapsed": false
   },
   "outputs": [
    {
     "data": {
      "text/plain": [
       "['1', '63_1539', '631540', '5376774764', 'id1', '0', '+']"
      ]
     },
     "execution_count": 22,
     "metadata": {},
     "output_type": "execute_result"
    }
   ],
   "source": [
    "subst_dict = {\n",
    "    0:{\"chr1\":\"1\", \"chr2\":\"2\", \"chr3\":\"3\", \"chr4\":\"4\"},\n",
    "    3:{\"Squires\":\"5376774764\", \"Li\":\"27664684\", \"Domus\":\"38776554\",}\n",
    "    }\n",
    "\n",
    "_clean_values(\n",
    "    val_list=_decompose_line(line = \"  chr1\t63 1539  \t631540\t  Squires|id1\t0\t+\\n\", template = [0,\"\\t\",1,\"\\t\",2,\"\\t\",3,\"|\",4,\"\\t\",5,\"\\t\",6]),\n",
    "    replace_internal_space = '_',\n",
    "    replace_null_val = \"*\",\n",
    "    subst_dict = subst_dict\n",
    "    )"
   ]
  },
  {
   "cell_type": "markdown",
   "metadata": {},
   "source": [
    "# Test _reformat_line"
   ]
  },
  {
   "cell_type": "code",
   "execution_count": 23,
   "metadata": {
    "collapsed": true
   },
   "outputs": [],
   "source": [
    "from pycl import _reformat_line\n",
    "# Helper function for reformat_table. Reassemble a line from a list of values and a template list\n",
    "# _reformat_line (val_list, template)"
   ]
  },
  {
   "cell_type": "code",
   "execution_count": 24,
   "metadata": {
    "collapsed": false,
    "scrolled": true
   },
   "outputs": [
    {
     "name": "stdout",
     "output_type": "stream",
     "text": [
      "chr1\t631539\t631540\tm5C|-|HeLa|22344696\t-\t+\n",
      "\n"
     ]
    }
   ],
   "source": [
    "line = _reformat_line(\n",
    "    val_list=['chr1', '631539', '631540', 'Squires', 'id1', '0', '+'],\n",
    "    template=[0,\"\\t\",1,\"\\t\",2,\"\\tm5C|-|HeLa|22344696\\t-\\t\",6]\n",
    "    )\n",
    "\n",
    "print(line)"
   ]
  },
  {
   "cell_type": "code",
   "execution_count": 25,
   "metadata": {
    "collapsed": false
   },
   "outputs": [
    {
     "name": "stdout",
     "output_type": "stream",
     "text": [
      "chr1\t631539\t631540\tm5C|-|HeLa|22344696\t-\t+\n",
      "\n"
     ]
    }
   ],
   "source": [
    "line = _reformat_line(\n",
    "    val_list=_clean_values(\n",
    "        val_list=_decompose_line(\n",
    "            line = \"chr1\t631539\t631540\t  Squires|id1\t0\t+\\n\",\n",
    "            template = [0,\"\\t\",1,\"\\t\",2,\"\\t\",3,\"|\",4,\"\\t\",5,\"\\t\",6]\n",
    "            ),\n",
    "        replace_internal_space='_',\n",
    "        replace_null_val=\"*\"\n",
    "        ),\n",
    "    template=[0,\"\\t\",1,\"\\t\",2,\"\\tm5C|-|HeLa|22344696\\t-\\t\",6]\n",
    "    )\n",
    "\n",
    "print(line)"
   ]
  },
  {
   "cell_type": "markdown",
   "metadata": {},
   "source": [
    "# Test reformat_table"
   ]
  },
  {
   "cell_type": "code",
   "execution_count": 26,
   "metadata": {
    "collapsed": true
   },
   "outputs": [],
   "source": [
    "from pycl import reformat_table\n",
    "\n",
    "# Reformat a table given an intial and a final line templates indicated as a list where numbers\n",
    "# indicate the data column and strings the formating characters\n",
    "# Example initial line = \"chr1    631539    631540    Squires|id1    0    +\"\n",
    "# Initial template = [0,\"\\t\",1,\"\\t\",2,\"\\t\",3,\"|\",4,\"\\t\",5,\"\\t\",6]\n",
    "# Example final line = \"chr1    631539    631540    m5C|-|HeLa|22344696    -    -\"\n",
    "# Final template = [0,\"\\t\",1,\"\\t\",2,\"\\tm5C|-|HeLa|22344696\\t-\\t\",6]\n",
    "# A dictionnary of substitution per position can also be provided to replace\n",
    "# specific values by others :\n",
    "# subst_dict = {    \n",
    "#    0:{\"chr1\":\"1\",\"chr2\":\"2\"},\n",
    "#    3:{\"Squires\":\"5376774764\",\"Li\":\"27664684\"}\n",
    "#    }\n",
    "\n",
    "#def reformat_table(\n",
    "#    input_file,\n",
    "#    output_file,\n",
    "#    init_template,\n",
    "#    final_template,\n",
    "#    header = '',\n",
    "#    keep_original_header = True,\n",
    "#    replace_internal_space='_',\n",
    "#    replace_null_val=\"*\",\n",
    "#    subst_dict={}):"
   ]
  },
  {
   "cell_type": "code",
   "execution_count": 27,
   "metadata": {
    "collapsed": false
   },
   "outputs": [
    {
     "name": "stdout",
     "output_type": "stream",
     "text": [
      "# Transcriptome-wide map of m5C [hg38 coordinates]\n",
      "# Reference: Squires et al., Nucleic Acids Res. 40, 5023 (2012) [PMID 22344696, DOI 10.1093/nar/gks144]\n",
      "#\n",
      "# Data cleaned and converted to BED6, coordinate conversion to hg38 using liftOver.\n",
      "# Maintainer: Maurits Evers (maurits.evers@anu.edu.au)\n",
      "#\n",
      "chr1\t631539\t631540\tSquires|id1\t0\t+\n",
      "chr1\t631540\t631541\tSquires|id2\t0\t+\n",
      "chr1\t632285\t632286\tSquires|id3\t0\t+\n",
      "chr1\t632286\t632287\tSquires|id4\t0\t+\n"
     ]
    }
   ],
   "source": [
    "head(\"./test_data/Small_m5C_Squires_hg38.bed\")"
   ]
  },
  {
   "cell_type": "code",
   "execution_count": 28,
   "metadata": {
    "collapsed": false
   },
   "outputs": [
    {
     "name": "stdout",
     "output_type": "stream",
     "text": [
      "194 Sites processed\n",
      "# New header\n",
      "chr1\t631539\t631540\tm5C|*|HeLa|22344696\t-\t+\n",
      "chr1\t631540\t631541\tm5C|*|HeLa|22344696\t-\t+\n",
      "chr1\t632285\t632286\tm5C|*|HeLa|22344696\t-\t+\n",
      "chr1\t632286\t632287\tm5C|*|HeLa|22344696\t-\t+\n",
      "chr1\t633058\t633059\tm5C|*|HeLa|22344696\t-\t+\n",
      "chr1\t633062\t633063\tm5C|*|HeLa|22344696\t-\t+\n",
      "chr1\t634423\t634424\tm5C|*|HeLa|22344696\t-\t+\n",
      "chr1\t634424\t634425\tm5C|*|HeLa|22344696\t-\t+\n",
      "chr1\t634653\t634654\tm5C|*|HeLa|22344696\t-\t+\n"
     ]
    }
   ],
   "source": [
    "reformat_table(\n",
    "    input_file=\"./test_data/Small_m5C_Squires_hg38.bed\",\n",
    "    output_file=\"./test_data/Small_m5C_Squires_hg38_reformat.bed\",\n",
    "    init_template=[0,\"\\t\",1,\"\\t\",2,\"\\t\",3,\"|\",4,\"\\t\",5,\"\\t\",6],\n",
    "    final_template=[0,\"\\t\",1,\"\\t\",2,\"\\tm5C|*|HeLa|22344696\\t-\\t\",6],\n",
    "    replace_internal_space='_',\n",
    "    replace_null_val=\"*\",\n",
    "    keep_original_header=False,\n",
    "    header=\"# New header\\n\"\n",
    "    )\n",
    "\n",
    "head (\"./test_data/Small_m5C_Squires_hg38_reformat.bed\")"
   ]
  },
  {
   "cell_type": "code",
   "execution_count": 29,
   "metadata": {
    "collapsed": false
   },
   "outputs": [
    {
     "name": "stdout",
     "output_type": "stream",
     "text": [
      "# Transcriptome-wide map of editing sites [hg38 coordinates]\n",
      "# Reference: Peng et al., Nat. Biotechnol. 30, 253 (2012) [PMID 22327324, DOI 10.1038/nbt.2122]\n",
      "#\n",
      "# Data cleaned and converted to BED6, coordinate conversion to hg38 using liftOver.\n",
      "# Maintainer: Maurits Evers (maurits.evers@anu.edu.au)\n",
      "#\n",
      "chr1\t1102535\t1102536\tPeng|chr1|1027779|-|T|Y|A->G|66.67%|37|C|6|T|3|9|intron|C1orf159\t0\t-\n",
      "chr1\t1221501\t1221502\tPeng|chr1|1146745|-|T|Y|A->G|36.59%|99|T|26|C|15|42|intron|SDF4\t0\t-\n",
      "chr1\t1222079\t1222080\tPeng|chr1|1147323|-|T|Y|A->G|22.73%|94|T|51|C|15|66|intron|SDF4\t0\t-\n",
      "chr1\t1251840\t1251841\tPeng|chr1|1177084|-|T|Y|A->G|56.25%|99|C|9|T|7|16|intergenic|-\t0\t-\n"
     ]
    }
   ],
   "source": [
    "head(\"./test_data/Small_editing_Peng_hg38.bed\")"
   ]
  },
  {
   "cell_type": "code",
   "execution_count": 31,
   "metadata": {
    "collapsed": false
   },
   "outputs": [
    {
     "name": "stdout",
     "output_type": "stream",
     "text": [
      "194 Sites processed\n",
      "# Transcriptome-wide map of editing sites [hg38 coordinates]\n",
      "# Reference: Peng et al., Nat. Biotechnol. 30, 253 (2012) [PMID 22327324, DOI 10.1038/nbt.2122]\n",
      "#\n",
      "# Data cleaned and converted to BED6, coordinate conversion to hg38 using liftOver.\n",
      "# Maintainer: Maurits Evers (maurits.evers@anu.edu.au)\n",
      "#\n",
      "1\t1102535\t1102536\tA>G|22344696|HeLa|C1orf159\t66.67\t-\n",
      "1\t1221501\t1221502\tA>G|22344696|HeLa|SDF4\t36.59\t-\n",
      "1\t1222079\t1222080\tA>G|22344696|HeLa|SDF4\t22.73\t-\n",
      "1\t1251840\t1251841\tA>G|22344696|HeLa|-\t56.25\t-\n",
      "1\t1252243\t1252244\tA>G|22344696|HeLa|-\t19.44\t-\n",
      "1\t1317060\t1317061\tA>G|22344696|HeLa|CPSF3L\t72.73\t-\n",
      "1\t1317062\t1317063\tA>G|22344696|HeLa|CPSF3L\t45.45\t-\n",
      "1\t1317976\t1317977\tA>G|22344696|HeLa|CPSF3L\t32.26\t-\n",
      "1\t1318563\t1318564\tA>G|22344696|HeLa|CPSF3L\t46.43\t-\n",
      "1\t1483151\t1483152\tA>G|22344696|HeLa|ATAD3B\t60.00\t+\n",
      "1\t1484392\t1484393\tA>G|22344696|HeLa|ATAD3B\t60.00\t+\n",
      "1\t1663537\t1663538\tA>G|22344696|HeLa|CDK11B;SLC35E2\t24.67\t-\n",
      "1\t1663538\t1663539\tA>G|22344696|HeLa|CDK11B;SLC35E2\t4.82\t-\n",
      "1\t1663567\t1663568\tA>G|22344696|HeLa|CDK11B;SLC35E2\t8.24\t-\n"
     ]
    }
   ],
   "source": [
    "subst_dict = {\n",
    "    0:{\"chr1\":\"1\",\n",
    "       \"chr2\":\"2\",\n",
    "       \"chr3\":\"3\",\n",
    "       \"chr4\":\"4\",\n",
    "        },\n",
    "    3:{\"Peng\":\"22344696\",\n",
    "        }\n",
    "    }\n",
    "\n",
    "reformat_table(\n",
    "    input_file=\"./test_data/Small_editing_Peng_hg38.bed\",\n",
    "    output_file=\"./test_data/Small_editing_Peng_hg38_reformat.bed\",\n",
    "    init_template=[0,\"\\t\",1,\"\\t\",2,\"\\t\",3,\"|\",4,\"|\",5,\"|\",6,\"|\",7,\"|\",8,\"|\",9,\"->\",10,\"|\",11,\"%|\",12,\"|\",13,\"|\",14,\"|\",15,\"|\",16,\"|\",17,\"|\",18,\"|\",19,\"\\t\",20,\"\\t\",21],\n",
    "    final_template=[0,\"\\t\",1,\"\\t\",2,\"\\t\",9,\">\",10,\"|\",3,\"|HeLa|\",19,\"\\t\",11,\"\\t\",21],\n",
    "    replace_internal_space='_',\n",
    "    replace_null_val=\"*\",\n",
    "    subst_dict = subst_dict\n",
    "    )\n",
    "\n",
    "\n",
    "head (\"./test_data/Small_editing_Peng_hg38_reformat.bed\", 20)"
   ]
  }
 ],
 "metadata": {
  "kernelspec": {
   "display_name": "Python 3",
   "language": "python",
   "name": "python3"
  },
  "language_info": {
   "codemirror_mode": {
    "name": "ipython",
    "version": 3
   },
   "file_extension": ".py",
   "mimetype": "text/x-python",
   "name": "python",
   "nbconvert_exporter": "python",
   "pygments_lexer": "ipython3",
   "version": "3.5.1+"
  }
 },
 "nbformat": 4,
 "nbformat_minor": 0
}
