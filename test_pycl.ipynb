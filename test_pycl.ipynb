{
 "cells": [
  {
   "cell_type": "markdown",
   "metadata": {},
   "source": [
    "# TEST pycl package\n",
    "** This notebook contains tests for all function contained in pycl package **"
   ]
  },
  {
   "cell_type": "code",
   "execution_count": 1,
   "metadata": {
    "collapsed": false
   },
   "outputs": [
    {
     "data": {
      "text/html": [
       "<style>.container { width:100% !important; }</style>"
      ],
      "text/plain": [
       "<IPython.core.display.HTML object>"
      ]
     },
     "metadata": {},
     "output_type": "display_data"
    }
   ],
   "source": [
    "# Larger display \n",
    "from IPython.core.display import display, HTML\n",
    "display(HTML(\"<style>.container { width:100% !important; }</style>\"))\n",
    "\n",
    "# Import of required packages\n",
    "from os import remove\n",
    "\n",
    "# import all function from pycl\n",
    "from pycl import *\n",
    "import pycl"
   ]
  },
  {
   "cell_type": "markdown",
   "metadata": {},
   "source": [
    "---\n",
    "# PREDICATES"
   ]
  },
  {
   "cell_type": "markdown",
   "metadata": {},
   "source": [
    "## is_readable_file"
   ]
  },
  {
   "cell_type": "code",
   "execution_count": 2,
   "metadata": {
    "collapsed": false
   },
   "outputs": [
    {
     "name": "stdout",
     "output_type": "stream",
     "text": [
      "Help on function is_readable_file in module pycl:\n",
      "\n",
      "is_readable_file(fp)\n",
      "    Verify the readability of a file or list of file\n",
      "\n"
     ]
    }
   ],
   "source": [
    "help(is_readable_file)"
   ]
  },
  {
   "cell_type": "code",
   "execution_count": 3,
   "metadata": {
    "collapsed": false
   },
   "outputs": [
    {
     "name": "stdout",
     "output_type": "stream",
     "text": [
      "./test_data/KJHYTGYUJ is not a valid file\n"
     ]
    }
   ],
   "source": [
    "try:\n",
    "    is_readable_file(\"./test_data/KJHYTGYUJ\")\n",
    "    print (\"OK\")\n",
    "except OSError as E:\n",
    "    print(E)"
   ]
  },
  {
   "cell_type": "code",
   "execution_count": 4,
   "metadata": {
    "collapsed": false
   },
   "outputs": [
    {
     "name": "stdout",
     "output_type": "stream",
     "text": [
      "OK\n"
     ]
    }
   ],
   "source": [
    "try:\n",
    "    is_readable_file(\"./test_data/RADAR_Secondary.txt\")\n",
    "    print (\"OK\")\n",
    "except OSError as E:\n",
    "    print(E)"
   ]
  },
  {
   "cell_type": "markdown",
   "metadata": {},
   "source": [
    "## is_gziped"
   ]
  },
  {
   "cell_type": "code",
   "execution_count": 5,
   "metadata": {
    "collapsed": false
   },
   "outputs": [
    {
     "name": "stdout",
     "output_type": "stream",
     "text": [
      "Help on function is_gziped in module pycl:\n",
      "\n",
      "is_gziped(fp)\n",
      "    Return True if the file is Gziped else False\n",
      "\n"
     ]
    }
   ],
   "source": [
    "help(is_gziped)"
   ]
  },
  {
   "cell_type": "code",
   "execution_count": 6,
   "metadata": {
    "collapsed": false
   },
   "outputs": [
    {
     "data": {
      "text/plain": [
       "False"
      ]
     },
     "execution_count": 6,
     "metadata": {},
     "output_type": "execute_result"
    }
   ],
   "source": [
    "is_gziped(\"./test_data/RADAR_Secondary.txt\")"
   ]
  },
  {
   "cell_type": "code",
   "execution_count": 7,
   "metadata": {
    "collapsed": false
   },
   "outputs": [
    {
     "data": {
      "text/plain": [
       "True"
      ]
     },
     "execution_count": 7,
     "metadata": {},
     "output_type": "execute_result"
    }
   ],
   "source": [
    "is_gziped(\"./test_data/RADAR_Secondary.txt.gz\")"
   ]
  },
  {
   "cell_type": "markdown",
   "metadata": {},
   "source": [
    "---\n",
    "# PATH MANIPULATION"
   ]
  },
  {
   "cell_type": "markdown",
   "metadata": {},
   "source": [
    "## file_basename"
   ]
  },
  {
   "cell_type": "code",
   "execution_count": 8,
   "metadata": {
    "collapsed": false
   },
   "outputs": [
    {
     "name": "stdout",
     "output_type": "stream",
     "text": [
      "Help on function file_basename in module pycl:\n",
      "\n",
      "file_basename(path)\n",
      "    Return the basename of a file without folder location and extension\n",
      "\n"
     ]
    }
   ],
   "source": [
    "help(file_basename)"
   ]
  },
  {
   "cell_type": "code",
   "execution_count": 9,
   "metadata": {
    "collapsed": false
   },
   "outputs": [
    {
     "data": {
      "text/plain": [
       "'RADAR_Secondary'"
      ]
     },
     "execution_count": 9,
     "metadata": {},
     "output_type": "execute_result"
    }
   ],
   "source": [
    "file_basename(\"./test_data/RADAR_Secondary.txt.gz\")"
   ]
  },
  {
   "cell_type": "markdown",
   "metadata": {},
   "source": [
    "## file_extension\n"
   ]
  },
  {
   "cell_type": "code",
   "execution_count": 10,
   "metadata": {
    "collapsed": false
   },
   "outputs": [
    {
     "name": "stdout",
     "output_type": "stream",
     "text": [
      "Help on function file_extension in module pycl:\n",
      "\n",
      "file_extension(path)\n",
      "    Return The extension of a file in lower-case\n",
      "\n"
     ]
    }
   ],
   "source": [
    "help(file_extension)"
   ]
  },
  {
   "cell_type": "code",
   "execution_count": 11,
   "metadata": {
    "collapsed": false
   },
   "outputs": [
    {
     "data": {
      "text/plain": [
       "'gz'"
      ]
     },
     "execution_count": 11,
     "metadata": {},
     "output_type": "execute_result"
    }
   ],
   "source": [
    "file_extension(\"./test_data/RADAR_Secondary.txt.gz\")"
   ]
  },
  {
   "cell_type": "markdown",
   "metadata": {},
   "source": [
    "## file_name"
   ]
  },
  {
   "cell_type": "code",
   "execution_count": 12,
   "metadata": {
    "collapsed": false
   },
   "outputs": [
    {
     "name": "stdout",
     "output_type": "stream",
     "text": [
      "Help on function file_name in module pycl:\n",
      "\n",
      "file_name(path)\n",
      "    Return The complete name of a file with the extension but without folder location\n",
      "\n"
     ]
    }
   ],
   "source": [
    "help(file_name)"
   ]
  },
  {
   "cell_type": "code",
   "execution_count": 13,
   "metadata": {
    "collapsed": false
   },
   "outputs": [
    {
     "data": {
      "text/plain": [
       "'RADAR_Secondary.txt.gz'"
      ]
     },
     "execution_count": 13,
     "metadata": {},
     "output_type": "execute_result"
    }
   ],
   "source": [
    "file_name(\"./test_data/test/RADAR_Secondary.txt.gz\")"
   ]
  },
  {
   "cell_type": "markdown",
   "metadata": {},
   "source": [
    "## dir_name"
   ]
  },
  {
   "cell_type": "code",
   "execution_count": 14,
   "metadata": {
    "collapsed": false
   },
   "outputs": [
    {
     "name": "stdout",
     "output_type": "stream",
     "text": [
      "Help on function dir_name in module pycl:\n",
      "\n",
      "dir_name(path)\n",
      "    Return the complete path where is located the file without the file name\n",
      "\n"
     ]
    }
   ],
   "source": [
    "help(dir_name)"
   ]
  },
  {
   "cell_type": "code",
   "execution_count": 15,
   "metadata": {
    "collapsed": false
   },
   "outputs": [
    {
     "data": {
      "text/plain": [
       "'test'"
      ]
     },
     "execution_count": 15,
     "metadata": {},
     "output_type": "execute_result"
    }
   ],
   "source": [
    "dir_name(\"./test_data/test/RADAR_Secondary.txt.gz\")"
   ]
  },
  {
   "cell_type": "markdown",
   "metadata": {},
   "source": [
    "---\n",
    "# STRING FORMATTING"
   ]
  },
  {
   "cell_type": "markdown",
   "metadata": {},
   "source": [
    "## supersplit"
   ]
  },
  {
   "cell_type": "code",
   "execution_count": 16,
   "metadata": {
    "collapsed": false
   },
   "outputs": [
    {
     "name": "stdout",
     "output_type": "stream",
     "text": [
      "Help on function supersplit in module pycl:\n",
      "\n",
      "supersplit(string, separator='')\n",
      "    like split but can take a list of separators instead of a simple separator\n",
      "\n"
     ]
    }
   ],
   "source": [
    "help(supersplit)"
   ]
  },
  {
   "cell_type": "code",
   "execution_count": 17,
   "metadata": {
    "collapsed": false
   },
   "outputs": [
    {
     "name": "stdout",
     "output_type": "stream",
     "text": [
      "['chr7', '74138', '774138', 'A>I', 'LOC100129917', 'LUNG:LYMPHOBLASTOID_CELL_LINE', '15342557:15258596:22327324', '0']\n",
      "['chr7', '74138', '774138', 'A>I|LOC100129917|LUNG:LYMPHOBLASTOID_CELL_LINE|15342557:15258596:22327324', '0']\n",
      "['chr7\\t74138\\t774138\\tA>I', 'LOC100129917', 'LUNG:LYMPHOBLASTOID_CELL_LINE', '15342557:15258596:22327324\\t0']\n"
     ]
    }
   ],
   "source": [
    "a = \"chr7\\t74138\\t774138\\tA>I|LOC100129917|LUNG:LYMPHOBLASTOID_CELL_LINE|15342557:15258596:22327324\\t0\"\n",
    "\n",
    "print(supersplit(a, [\"\\t\",\"|\"]))\n",
    "\n",
    "print(supersplit(a))\n",
    "\n",
    "print(supersplit(a, \"|\"))"
   ]
  },
  {
   "cell_type": "markdown",
   "metadata": {},
   "source": [
    "## rm_blank"
   ]
  },
  {
   "cell_type": "code",
   "execution_count": 18,
   "metadata": {
    "collapsed": false
   },
   "outputs": [
    {
     "name": "stdout",
     "output_type": "stream",
     "text": [
      "Help on function rm_blank in module pycl:\n",
      "\n",
      "rm_blank(name, replace='')\n",
      "    Replace blank spaces in a name by a given character (default = remove)\n",
      "    Blanks at extremities are always removed and nor replaced\n",
      "\n"
     ]
    }
   ],
   "source": [
    "help(rm_blank)"
   ]
  },
  {
   "cell_type": "code",
   "execution_count": 19,
   "metadata": {
    "collapsed": false
   },
   "outputs": [
    {
     "name": "stdout",
     "output_type": "stream",
     "text": [
      "chr17|LUNG:LYMPHOBLASTOID_CELL_LINE|15342557:15258596:223273240\n",
      "chr*17|LU*NG:LYMPHOBLAST*OID_CELL_LINE|15342557:152585*96:22327324*0\n"
     ]
    }
   ],
   "source": [
    "a = \"chr\\t\\t17|LU NG:LYMPHOBLAST    OID_CELL_LINE|15342557:152585     96:22327324\\t0\"\n",
    "\n",
    "print(rm_blank(a))\n",
    "\n",
    "print(rm_blank(a, replace=\"*\"))"
   ]
  },
  {
   "cell_type": "markdown",
   "metadata": {},
   "source": [
    "---\n",
    "# FILE MANIPULATION"
   ]
  },
  {
   "cell_type": "markdown",
   "metadata": {},
   "source": [
    "## copyFile"
   ]
  },
  {
   "cell_type": "code",
   "execution_count": 20,
   "metadata": {
    "collapsed": false
   },
   "outputs": [
    {
     "name": "stdout",
     "output_type": "stream",
     "text": [
      "Help on function copyFile in module pycl:\n",
      "\n",
      "copyFile(src, dest)\n",
      "    Copy a single file to a destination file or folder (with error handling/reporting)\n",
      "    @param src Source file path\n",
      "    @param dest Path of the folder where to copy the source file\n",
      "\n"
     ]
    }
   ],
   "source": [
    "help(copyFile)"
   ]
  },
  {
   "cell_type": "code",
   "execution_count": 21,
   "metadata": {
    "collapsed": false,
    "scrolled": true
   },
   "outputs": [
    {
     "name": "stdout",
     "output_type": "stream",
     "text": [
      "Error: './test_data/RADAR_Secondary.txt' and './test_data/RADAR_Secondary.txt' are the same file\n"
     ]
    }
   ],
   "source": [
    "copyFile(src=\"./test_data/RADAR_Secondary.txt\", dest=\"./test_data/\")"
   ]
  },
  {
   "cell_type": "code",
   "execution_count": 22,
   "metadata": {
    "collapsed": true
   },
   "outputs": [],
   "source": [
    "copyFile(src=\"./test_data/RADAR_Secondary.txt\", dest=\"./test_data/test_dir/\")"
   ]
  },
  {
   "cell_type": "markdown",
   "metadata": {},
   "source": [
    "## gzip_file"
   ]
  },
  {
   "cell_type": "code",
   "execution_count": 23,
   "metadata": {
    "collapsed": false
   },
   "outputs": [
    {
     "name": "stdout",
     "output_type": "stream",
     "text": [
      "Help on function gzip_file in module pycl:\n",
      "\n",
      "gzip_file(in_path, out_path=None)\n",
      "    @param in_path Path of the input uncompressed file\n",
      "    @param out_path Path of the output compressed file (facultative)\n",
      "    @exception  OSError Can be raise by open\n",
      "\n"
     ]
    }
   ],
   "source": [
    "help(gzip_file)"
   ]
  },
  {
   "cell_type": "code",
   "execution_count": 24,
   "metadata": {
    "collapsed": false
   },
   "outputs": [
    {
     "name": "stdout",
     "output_type": "stream",
     "text": [
      "Compressing ./test_data/RADAR_Secondary.txt\n"
     ]
    },
    {
     "data": {
      "text/plain": [
       "'/home/aleg/Programming/Python3/pycl/test_data/RADAR_Secondary.txt.gz'"
      ]
     },
     "execution_count": 24,
     "metadata": {},
     "output_type": "execute_result"
    }
   ],
   "source": [
    "gzip_file(\"./test_data/RADAR_Secondary.txt\")"
   ]
  },
  {
   "cell_type": "markdown",
   "metadata": {},
   "source": [
    "## gunzip_file"
   ]
  },
  {
   "cell_type": "code",
   "execution_count": 25,
   "metadata": {
    "collapsed": false
   },
   "outputs": [
    {
     "name": "stdout",
     "output_type": "stream",
     "text": [
      "Help on function gunzip_file in module pycl:\n",
      "\n",
      "gunzip_file(in_path, out_path=None)\n",
      "    @param in_path Path of the input compressed file\n",
      "    @param out_path Path of the output uncompressed file (facultative)\n",
      "    @exception  OSError Can be raise by open\n",
      "\n"
     ]
    }
   ],
   "source": [
    "help(gunzip_file)"
   ]
  },
  {
   "cell_type": "code",
   "execution_count": 26,
   "metadata": {
    "collapsed": false
   },
   "outputs": [
    {
     "name": "stdout",
     "output_type": "stream",
     "text": [
      "Uncompressing ./test_data/RADAR_Secondary.txt.gz\n"
     ]
    },
    {
     "data": {
      "text/plain": [
       "'/home/aleg/Programming/Python3/pycl/test_data/RADAR_Secondary.txt'"
      ]
     },
     "execution_count": 26,
     "metadata": {},
     "output_type": "execute_result"
    }
   ],
   "source": [
    "gunzip_file(\"./test_data/RADAR_Secondary.txt.gz\")"
   ]
  },
  {
   "cell_type": "markdown",
   "metadata": {},
   "source": [
    "---\n",
    "# FILE INFORMATION"
   ]
  },
  {
   "cell_type": "markdown",
   "metadata": {},
   "source": [
    "## head"
   ]
  },
  {
   "cell_type": "code",
   "execution_count": 27,
   "metadata": {
    "collapsed": false
   },
   "outputs": [
    {
     "name": "stdout",
     "output_type": "stream",
     "text": [
      "Help on function head in module pycl:\n",
      "\n",
      "head(file, n=10, ignore_hashtag_line=False)\n",
      "    Emulate linux head cmd. Also works for gzip files\n",
      "\n"
     ]
    }
   ],
   "source": [
    "help(head)"
   ]
  },
  {
   "cell_type": "code",
   "execution_count": 28,
   "metadata": {
    "collapsed": false
   },
   "outputs": [
    {
     "name": "stdout",
     "output_type": "stream",
     "text": [
      "#chromosome\tposition\tgene\tstrand\tannot1\tannot2\talu?\tnon_alu_repetitive?\tconservation_chimp\tconservation_rhesus\tconservation_mouse\n",
      "chr1\t206256301\tC1orf186\t-\tintronic\tintronic\tno\tno\tN\tN\tN\n",
      "chr6\t116991832\tintergenic\t-\tintergenic\tintergenic\tno\tno\tN\tN\tN\n",
      "\n"
     ]
    }
   ],
   "source": [
    "head(\"./test_data/RADAR_Main.txt\", n= 3)"
   ]
  },
  {
   "cell_type": "code",
   "execution_count": 29,
   "metadata": {
    "collapsed": false
   },
   "outputs": [
    {
     "name": "stdout",
     "output_type": "stream",
     "text": [
      "chr1\t206256301\tC1orf186\t-\tintronic\tintronic\tno\tno\tN\tN\tN\n",
      "chr6\t116991832\tintergenic\t-\tintergenic\tintergenic\tno\tno\tN\tN\tN\n",
      "chr7\t30504355\tNOD1\t-\tintronic\tintronic\tno\tno\tN\tN\tN\n",
      "\n"
     ]
    }
   ],
   "source": [
    "head(\"./test_data/RADAR_Main.txt\", n=3, ignore_hashtag_line=True)"
   ]
  },
  {
   "cell_type": "code",
   "execution_count": 30,
   "metadata": {
    "collapsed": false
   },
   "outputs": [
    {
     "name": "stdout",
     "output_type": "stream",
     "text": [
      "chr1:1037916\tPeng et al 2012\tLymphoblastoid cell line\t9\t66.67\n",
      "chr1:1156882\tPeng et al 2012\tLymphoblastoid cell line\t42\t36.59\n",
      "chr1:1157460\tPeng et al 2012\tLymphoblastoid cell line\t66\t22.73\n",
      "\n"
     ]
    }
   ],
   "source": [
    "head(\"./test_data/RADAR_Secondary.txt.gz\", n=3, ignore_hashtag_line=True)"
   ]
  },
  {
   "cell_type": "markdown",
   "metadata": {},
   "source": [
    "## linerange"
   ]
  },
  {
   "cell_type": "code",
   "execution_count": 31,
   "metadata": {
    "collapsed": false
   },
   "outputs": [
    {
     "name": "stdout",
     "output_type": "stream",
     "text": [
      "Help on function linerange in module pycl:\n",
      "\n",
      "linerange(file, range_list=[])\n",
      "    Print a range of lines in a file according to a list of start end lists\n",
      "\n"
     ]
    }
   ],
   "source": [
    "help(linerange)"
   ]
  },
  {
   "cell_type": "code",
   "execution_count": 32,
   "metadata": {
    "collapsed": false
   },
   "outputs": [
    {
     "name": "stdout",
     "output_type": "stream",
     "text": [
      "0\t#location\treference\ttissue\tcoverage\tediting_level(%)\n",
      "1\tchr1:1037916\tPeng et al 2012\tLymphoblastoid cell line\t9\t66.67\n",
      "2\tchr1:1156882\tPeng et al 2012\tLymphoblastoid cell line\t42\t36.59\n",
      "\n",
      "97\tchr1:10560773\tPeng et al 2012\tLymphoblastoid cell line\t20\t40.00\n",
      "98\tchr1:10602697\tPeng et al 2012\tLymphoblastoid cell line\t5\t60.00\n",
      "99\tchr1:11138237\tPeng et al 2012\tLymphoblastoid cell line\t14\t42.86\n",
      "\n"
     ]
    }
   ],
   "source": [
    "file = \"./test_data/RADAR_Secondary.txt\"\n",
    "linerange (file)"
   ]
  },
  {
   "cell_type": "code",
   "execution_count": 33,
   "metadata": {
    "collapsed": false,
    "scrolled": true
   },
   "outputs": [
    {
     "name": "stdout",
     "output_type": "stream",
     "text": [
      "0\t#location\treference\ttissue\tcoverage\tediting_level(%)\n",
      "1\tchr1:1037916\tPeng et al 2012\tLymphoblastoid cell line\t9\t66.67\n",
      "2\tchr1:1156882\tPeng et al 2012\tLymphoblastoid cell line\t42\t36.59\n",
      "3\tchr1:1157460\tPeng et al 2012\tLymphoblastoid cell line\t66\t22.73\n",
      "4\tchr1:1252441\tPeng et al 2012\tLymphoblastoid cell line\t11\t72.73\n",
      "5\tchr1:1252443\tPeng et al 2012\tLymphoblastoid cell line\t11\t45.45\n",
      "\n",
      "10\tchr1:1594977\tPeng et al 2012\tLymphoblastoid cell line\t227\t24.67\n",
      "11\tchr1:1594978\tPeng et al 2012\tLymphoblastoid cell line\t228\t4.82\n",
      "\n",
      "75\tchr1:6710585\tPeng et al 2012\tLymphoblastoid cell line\t30\t65.52\n",
      "76\tchr1:6710595\tPeng et al 2012\tLymphoblastoid cell line\t28\t50.00\n",
      "77\tchr1:6941764\tPeng et al 2012\tLymphoblastoid cell line\t7\t57.14\n",
      "78\tchr1:7908257\tPeng et al 2012\tLymphoblastoid cell line\t10\t40.00\n",
      "79\tchr1:7980494\tPeng et al 2012\tLymphoblastoid cell line\t38\t24.32\n",
      "80\tchr1:7980525\tPeng et al 2012\tLymphoblastoid cell line\t24\t37.50\n",
      "\n",
      "98\tchr1:10602697\tPeng et al 2012\tLymphoblastoid cell line\t5\t60.00\n",
      "99\tchr1:11138237\tPeng et al 2012\tLymphoblastoid cell line\t14\t42.86\n",
      "End coordinate out of line range: 105\n",
      "\n"
     ]
    }
   ],
   "source": [
    "file = \"./test_data/RADAR_Secondary.txt\"\n",
    "linerange (file, [[0,5],[10,11],[75,80],[98,105]])"
   ]
  },
  {
   "cell_type": "markdown",
   "metadata": {},
   "source": [
    "## colsum"
   ]
  },
  {
   "cell_type": "code",
   "execution_count": 34,
   "metadata": {
    "collapsed": false
   },
   "outputs": [
    {
     "name": "stdout",
     "output_type": "stream",
     "text": [
      "Help on function colsum in module pycl:\n",
      "\n",
      "colsum(file, colrange=None, separator='', header=False, ignore_hashtag_line=False, max_items=10, ret_type='md')\n",
      "    Create a summary of selected columns of a file\n",
      "    Possible return types: md = markdown formatted table, dict = raw parsing dict, report = Indented_text_report\n",
      "\n"
     ]
    }
   ],
   "source": [
    "help(colsum)"
   ]
  },
  {
   "cell_type": "code",
   "execution_count": 35,
   "metadata": {
    "collapsed": false,
    "scrolled": true
   },
   "outputs": [
    {
     "name": "stdout",
     "output_type": "stream",
     "text": [
      "|#chromosome|chr1|chr17|chr9|chr15|chr6|chr14|chr18|chr2|chrY|chr4|chr7|\n",
      "|:---|:---|:---|:---|:---|:---|:---|:---|:---|:---|:---|:---|\n",
      "|Count|4|3|2|2|2|1|1|1|1|1|1|\n",
      "\n",
      "|gene|RABEP1|NUP133|JUB|GREB1L|SPHKAP|NLGN4Y|CELSR2|RBPJ|TLE4|SOCS7|ADPGK|UBE2O|TSC1|GRIK2|MEF2A|...|\n",
      "|:---|:---|:---|:---|:---|:---|:---|:---|:---|:---|:---|:---|:---|:---|:---|:---|:---|\n",
      "|Count|1|1|1|1|1|1|1|1|1|1|1|1|1|1|1|...|\n",
      "\n",
      "|alu?|no|\n",
      "|:---|:---|\n",
      "|Count|19|\n",
      "\n",
      "\n"
     ]
    }
   ],
   "source": [
    "print(colsum(\"./test_data/RADAR_Main.txt\", header=True, colrange=[0,2,6], max_items=15))"
   ]
  },
  {
   "cell_type": "code",
   "execution_count": 36,
   "metadata": {
    "collapsed": false,
    "scrolled": true
   },
   "outputs": [
    {
     "data": {
      "text/plain": [
       "OrderedDict([(0,\n",
       "              OrderedDict([('chr1', 4),\n",
       "                           ('chr6', 2),\n",
       "                           ('chr7', 1),\n",
       "                           ('chr15', 2),\n",
       "                           ('chr9', 2),\n",
       "                           ('chr17', 3),\n",
       "                           ('chr4', 1),\n",
       "                           ('chrY', 1),\n",
       "                           ('chr2', 1),\n",
       "                           ('chr18', 1),\n",
       "                           ('chr14', 1)])),\n",
       "             (3, OrderedDict([('-', 10), ('+', 9)]))])"
      ]
     },
     "execution_count": 36,
     "metadata": {},
     "output_type": "execute_result"
    }
   ],
   "source": [
    "colsum(\"./test_data/RADAR_Main.txt\", header=True, ret_type=\"dict\", colrange=[0,3])"
   ]
  },
  {
   "cell_type": "code",
   "execution_count": 37,
   "metadata": {
    "collapsed": false,
    "scrolled": true
   },
   "outputs": [
    {
     "name": "stdout",
     "output_type": "stream",
     "text": [
      "0\n",
      "\tchr1\t997\n",
      "1\n",
      "\t225974746\t1\n",
      "\t225974735\t1\n",
      "\t225974581\t1\n",
      "\t224599486\t1\n",
      "\t224584888\t1\n",
      "\t...\t...\n",
      "2\n",
      "\t225974746\t1\n",
      "\t225974735\t1\n",
      "\t225974581\t1\n",
      "\t224599486\t1\n",
      "\t224584888\t1\n",
      "\t...\t...\n",
      "3\n",
      "\tA>I\t997\n",
      "4\n",
      "\tFDPS\t34\n",
      "\tMDM4\t31\n",
      "\tCTSS\t28\n",
      "\tDNAJC11\t25\n",
      "\tS100PBP\t24\n",
      "\t...\t...\n",
      "5\n",
      "\tYH\t997\n",
      "6\n",
      "\t22327324\t997\n",
      "7\n",
      "\t33.33\t31\n",
      "\t66.67\t31\n",
      "\t50.00\t23\n",
      "\t57.14\t22\n",
      "\t60.00\t22\n",
      "\t...\t...\n",
      "8\n",
      "\t-\t527\n",
      "\t+\t470\n",
      "\n"
     ]
    }
   ],
   "source": [
    "print(colsum(\n",
    "        \"./test_data/RADAR_clean.txt\",\n",
    "        header=True,\n",
    "        ignore_hashtag_line=True,\n",
    "        ret_type=\"report\",\n",
    "        separator=[\"\\t\",\"|\"],\n",
    "        max_items=5))"
   ]
  },
  {
   "cell_type": "markdown",
   "metadata": {},
   "source": [
    "## fastcount"
   ]
  },
  {
   "cell_type": "code",
   "execution_count": 38,
   "metadata": {
    "collapsed": false
   },
   "outputs": [
    {
     "name": "stdout",
     "output_type": "stream",
     "text": [
      "Help on function fastcount in module pycl:\n",
      "\n",
      "fastcount(file)\n",
      "    Efficient way to count the number of lines in a file\n",
      "\n"
     ]
    }
   ],
   "source": [
    "help(fastcount)"
   ]
  },
  {
   "cell_type": "code",
   "execution_count": 39,
   "metadata": {
    "collapsed": false
   },
   "outputs": [
    {
     "data": {
      "text/plain": [
       "200"
      ]
     },
     "execution_count": 39,
     "metadata": {},
     "output_type": "execute_result"
    }
   ],
   "source": [
    "fastcount(\"./test_data/Small_m5C_Squires_hg38.bed\")"
   ]
  },
  {
   "cell_type": "markdown",
   "metadata": {},
   "source": [
    "## simplecount"
   ]
  },
  {
   "cell_type": "code",
   "execution_count": 40,
   "metadata": {
    "collapsed": false
   },
   "outputs": [
    {
     "name": "stdout",
     "output_type": "stream",
     "text": [
      "Help on function simplecount in module pycl:\n",
      "\n",
      "simplecount(filename, ignore_hashtag_line=False)\n",
      "    Simple way to count the number of lines in a file with more options\n",
      "\n"
     ]
    }
   ],
   "source": [
    "help(simplecount)"
   ]
  },
  {
   "cell_type": "code",
   "execution_count": 41,
   "metadata": {
    "collapsed": false
   },
   "outputs": [
    {
     "data": {
      "text/plain": [
       "194"
      ]
     },
     "execution_count": 41,
     "metadata": {},
     "output_type": "execute_result"
    }
   ],
   "source": [
    "simplecount(\"./test_data/Small_m5C_Squires_hg38.bed\", ignore_hashtag_line=True)"
   ]
  },
  {
   "cell_type": "markdown",
   "metadata": {},
   "source": [
    "---\n",
    "# DIRECTORY MANIPULATION"
   ]
  },
  {
   "cell_type": "markdown",
   "metadata": {},
   "source": [
    "## mkdir"
   ]
  },
  {
   "cell_type": "code",
   "execution_count": 42,
   "metadata": {
    "collapsed": false
   },
   "outputs": [
    {
     "name": "stdout",
     "output_type": "stream",
     "text": [
      "Help on function mkdir in module pycl:\n",
      "\n",
      "mkdir(fp, level=1)\n",
      "    Reproduce the ability of UNIX \"mkdir -p\" command\n",
      "    (ie if the path already exits no exception will be raised).\n",
      "    Can create nested directories by recursivity\n",
      "    @param  fp path name where the folder should be created\n",
      "    @level  level   level in the path where to start to create the directories.\n",
      "                    Used by the program for the recursive creation of directories\n",
      "    @exception  OSError or PermissionError can be raise by os.mkdir\n",
      "\n"
     ]
    }
   ],
   "source": [
    "help(mkdir)"
   ]
  },
  {
   "cell_type": "code",
   "execution_count": 43,
   "metadata": {
    "collapsed": false
   },
   "outputs": [],
   "source": [
    "mkdir(\"./test_data/test_dir\")"
   ]
  },
  {
   "cell_type": "code",
   "execution_count": 44,
   "metadata": {
    "collapsed": false
   },
   "outputs": [
    {
     "name": "stdout",
     "output_type": "stream",
     "text": [
      "Creating /home/aleg/Programming/Python3/pycl/test\n",
      "Creating /home/aleg/Programming/Python3/pycl/test/test\n",
      "Creating /home/aleg/Programming/Python3/pycl/test/test/test\n"
     ]
    }
   ],
   "source": [
    "mkdir (\"./test/test/test\")\n",
    "!rm -rf ./test"
   ]
  },
  {
   "cell_type": "markdown",
   "metadata": {},
   "source": [
    "---\n",
    "# SHELL MANIPULATION"
   ]
  },
  {
   "cell_type": "markdown",
   "metadata": {},
   "source": [
    "## make_cmd_str"
   ]
  },
  {
   "cell_type": "code",
   "execution_count": 45,
   "metadata": {
    "collapsed": false
   },
   "outputs": [
    {
     "name": "stdout",
     "output_type": "stream",
     "text": [
      "Help on function make_cmd_str in module pycl:\n",
      "\n",
      "make_cmd_str(prog_name, opt_dict={}, opt_list=[])\n",
      "    Create a Unix like command line string from a\n",
      "    @param prog_name Name (if added to the system path) or path of the program\n",
      "    @param opt_dict Dictionary of option arguments such as \"-t 5\". The option flag have to\n",
      "    be the key (without \"-\") and the the option value in the dictionary value. If no value is\n",
      "    requested after the option flag \"None\" had to be assigned to the value field.\n",
      "    @param opt_list List of simple command line arguments\n",
      "    @exemple make_cmd_str(\"bwa\", {\"b\":None, t\":6, \"i\":\"../idx/seq.fa\"}, [\"../read1\", \"../read2\"])\n",
      "\n"
     ]
    }
   ],
   "source": [
    "help(make_cmd_str)"
   ]
  },
  {
   "cell_type": "code",
   "execution_count": 46,
   "metadata": {
    "collapsed": false
   },
   "outputs": [
    {
     "data": {
      "text/plain": [
       "'bwa -b -t 6 -i ../idx/seq.fa ../read1 ../read2 '"
      ]
     },
     "execution_count": 46,
     "metadata": {},
     "output_type": "execute_result"
    }
   ],
   "source": [
    "make_cmd_str(\"bwa\", {\"-b\":None, \"-t\":6, \"-i\":\"../idx/seq.fa\"}, [\"../read1\", \"../read2\"])"
   ]
  },
  {
   "cell_type": "markdown",
   "metadata": {},
   "source": [
    "## bash_basic"
   ]
  },
  {
   "cell_type": "code",
   "execution_count": 47,
   "metadata": {
    "collapsed": false
   },
   "outputs": [
    {
     "name": "stdout",
     "output_type": "stream",
     "text": [
      "Help on function bash_basic in module pycl:\n",
      "\n",
      "bash_basic(cmd)\n",
      "    Sent basic bash command\n",
      "\n"
     ]
    }
   ],
   "source": [
    "help(bash_basic)"
   ]
  },
  {
   "cell_type": "code",
   "execution_count": 48,
   "metadata": {
    "collapsed": false
   },
   "outputs": [
    {
     "name": "stdout",
     "output_type": "stream",
     "text": [
      "total 144\n",
      "-rw-rw-r-- 1 aleg aleg 35141 Jun  6 10:20 LICENSE\n",
      "drwxrwxr-x 2 aleg aleg  4096 Aug 12 16:36 __pycache__\n",
      "-rwxrwxrwx 1 aleg aleg 32346 Aug 12 16:35 pycl.py\n",
      "-rwxrwxrwx 1 aleg aleg   438 Aug  9 12:03 README.md\n",
      "drwxrwxr-x 3 aleg aleg  4096 Aug 11 17:15 test_data\n",
      "-rw-rw-r-- 1 aleg aleg 62443 Aug 12 16:28 test_pycl.ipynb\n",
      "\n",
      "\n",
      "None\n",
      "TTTT\n",
      "\n",
      "\n",
      "None\n",
      "\n",
      "\n",
      "None\n"
     ]
    }
   ],
   "source": [
    "print(bash_basic(\"ls -l\"))\n",
    "print(bash_basic(\"echo TTTT\"))\n",
    "print(bash_basic(\"grep ./test_data/RADAR_Secondary.txt\"))"
   ]
  },
  {
   "cell_type": "markdown",
   "metadata": {},
   "source": [
    "## bash"
   ]
  },
  {
   "cell_type": "code",
   "execution_count": 49,
   "metadata": {
    "collapsed": false
   },
   "outputs": [
    {
     "name": "stdout",
     "output_type": "stream",
     "text": [
      "Help on function bash in module pycl:\n",
      "\n",
      "bash(cmd, stdin=None, ret_stderr=False, ret_stdout=True, str_output=True)\n",
      "    Run a command line in the default shell and return the standard output\n",
      "    @param  cmd A command line string formatted as a string\n",
      "    @param  stdinput    Facultative parameters to redirect an object to the standard input\n",
      "    @param  ret_stderr  If True the standard error output will be returned\n",
      "    @param  ret_stdout  If True the standard output will be returned\n",
      "    @param  str_output  Transform the std output in a string instead of the bytes-like object\n",
      "    @note If ret_stderr and ret_stdout are True a tuple will be returned and if both are False\n",
      "    None will be returned\n",
      "    @return If no standard error return the standard output as a string\n",
      "    @exception  OSError Raise if a message is return on the standard error output\n",
      "    @exception  (ValueError,OSError) May be raise by Popen\n",
      "\n"
     ]
    }
   ],
   "source": [
    "help(bash)"
   ]
  },
  {
   "cell_type": "code",
   "execution_count": 50,
   "metadata": {
    "collapsed": false
   },
   "outputs": [
    {
     "name": "stdout",
     "output_type": "stream",
     "text": [
      "LICENSE\n",
      "__pycache__\n",
      "pycl.py\n",
      "README.md\n",
      "test_data\n",
      "test_pycl.ipynb\n",
      "\n"
     ]
    }
   ],
   "source": [
    "print(bash(\"ls\"))"
   ]
  },
  {
   "cell_type": "code",
   "execution_count": 51,
   "metadata": {
    "collapsed": false
   },
   "outputs": [
    {
     "data": {
      "text/plain": [
       "'LICENSE\\n__pycache__\\n'"
      ]
     },
     "execution_count": 51,
     "metadata": {},
     "output_type": "execute_result"
    }
   ],
   "source": [
    "bash(\"head -n 2\", stdin=bash(\"ls\", str_output=False))"
   ]
  },
  {
   "cell_type": "code",
   "execution_count": 52,
   "metadata": {
    "collapsed": false
   },
   "outputs": [
    {
     "data": {
      "text/plain": [
       "('', '/bin/sh: 1: hed: not found\\n')"
      ]
     },
     "execution_count": 52,
     "metadata": {},
     "output_type": "execute_result"
    }
   ],
   "source": [
    "bash(\"hed -n 2\", ret_stderr=True)"
   ]
  },
  {
   "cell_type": "markdown",
   "metadata": {},
   "source": [
    "---\n",
    "# DICTIONNARY FORMATTING"
   ]
  },
  {
   "cell_type": "markdown",
   "metadata": {},
   "source": [
    "## dict_to_md"
   ]
  },
  {
   "cell_type": "code",
   "execution_count": 53,
   "metadata": {
    "collapsed": false
   },
   "outputs": [
    {
     "name": "stdout",
     "output_type": "stream",
     "text": [
      "Help on function dict_to_md in module pycl:\n",
      "\n",
      "dict_to_md(d, key_label='', value_label='', transpose=False, sort_by_key=False, sort_by_val=True, max_items=None)\n",
      "    Def to transform a dict into a markdown formated table\n",
      "\n"
     ]
    }
   ],
   "source": [
    "help(dict_to_md)"
   ]
  },
  {
   "cell_type": "code",
   "execution_count": 54,
   "metadata": {
    "collapsed": false,
    "scrolled": true
   },
   "outputs": [
    {
     "name": "stdout",
     "output_type": "stream",
     "text": [
      "|Letter|Number|\n",
      "|:---|:---|\n",
      "|e|76|\n",
      "|d|56|\n",
      "|b|14|\n",
      "|a|12|\n",
      "|c|8|\n",
      "\n",
      "|Letter|e|d|...|\n",
      "|:---|:---|:---|:---|\n",
      "|Number|76|56|...|\n",
      "\n"
     ]
    }
   ],
   "source": [
    "d = {\"a\":12,\"b\":14,\"c\":8,\"d\":56,\"e\":76}\n",
    "print (dict_to_md(d, \"Letter\", \"Number\", sort_by_val=True))\n",
    "print (dict_to_md(d, \"Letter\", \"Number\", transpose=True, max_items=2))"
   ]
  },
  {
   "cell_type": "markdown",
   "metadata": {},
   "source": [
    "## dict_to_report"
   ]
  },
  {
   "cell_type": "code",
   "execution_count": 55,
   "metadata": {
    "collapsed": false
   },
   "outputs": [
    {
     "name": "stdout",
     "output_type": "stream",
     "text": [
      "Help on function dict_to_report in module pycl:\n",
      "\n",
      "dict_to_report(d, tab='\\t', ntab=0, sep=':', sort_dict=True, max_items=None)\n",
      "    Recursive function to return a text report from nested dict or OrderedDict objects\n",
      "\n"
     ]
    }
   ],
   "source": [
    "help(dict_to_report)"
   ]
  },
  {
   "cell_type": "code",
   "execution_count": 56,
   "metadata": {
    "collapsed": false
   },
   "outputs": [
    {
     "name": "stdout",
     "output_type": "stream",
     "text": [
      "a:12\n",
      "b:14\n",
      "c\n",
      " | c1:12\n",
      " | c2\n",
      " |  | c2.1:33221\n",
      " |  | c2.2:765\n",
      " | c3:32\n",
      " | c4:443\n",
      "d:56\n",
      "e:76\n",
      "\n",
      "a:12\n",
      "b:14\n",
      "c\n",
      "--c1:12\n",
      "--c2\n",
      "----c2.5:876543\n",
      "----c2.6:89765\n",
      "----c2.4:76433\n",
      "----c2.1:33221\n",
      "----...:...\n",
      "--c3:32\n",
      "--c4:443\n",
      "d:56\n",
      "e:76\n",
      "\n"
     ]
    }
   ],
   "source": [
    "d = {\"a\":12,\"b\":14,\"c\":{\"c1\":12,\"c2\":{\"c2.1\":33221,\"c2.2\":765},\"c3\":32,\"c4\":443},\"d\":56,\"e\":76}\n",
    "print(dict_to_report(d, tab=\" | \"))\n",
    "\n",
    "d = {\"a\":12,\"b\":14,\"c\":{\"c1\":12,\"c2\":{\"c2.1\":33221,\"c2.2\":765, \"c2.3\":7533,\"c2.4\":76433,\"c2.5\":876543,\"c2.6\":89765,\"c2.7\":8654},\"c3\":32,\"c4\":443},\"d\":56,\"e\":76}\n",
    "print(dict_to_report(d, tab=\"--\", max_items=4, sort_dict=True))"
   ]
  },
  {
   "cell_type": "markdown",
   "metadata": {},
   "source": [
    "## dict_to_html"
   ]
  },
  {
   "cell_type": "code",
   "execution_count": 57,
   "metadata": {
    "collapsed": false,
    "scrolled": true
   },
   "outputs": [
    {
     "name": "stdout",
     "output_type": "stream",
     "text": [
      "Help on class dict_to_html in module pycl:\n",
      "\n",
      "class dict_to_html(collections.OrderedDict)\n",
      " |  Overridden dict class which takes a 2 level dict and renders an HTML Table in IPython Notebook\n",
      " |  Using the magic repr_html_\n",
      " |  {'a':{'val1':2,'val2':3},'b':{'val1':4,'val2':5},'c':{'val1':7,'val2':8}}\n",
      " |  \n",
      " |  Method resolution order:\n",
      " |      dict_to_html\n",
      " |      collections.OrderedDict\n",
      " |      builtins.dict\n",
      " |      builtins.object\n",
      " |  \n",
      " |  Methods defined here:\n",
      " |  \n",
      " |  __init__(self, d)\n",
      " |      Initialize self.  See help(type(self)) for accurate signature.\n",
      " |  \n",
      " |  ----------------------------------------------------------------------\n",
      " |  Methods inherited from collections.OrderedDict:\n",
      " |  \n",
      " |  __delitem__(self, key, /)\n",
      " |      Delete self[key].\n",
      " |  \n",
      " |  __eq__(self, value, /)\n",
      " |      Return self==value.\n",
      " |  \n",
      " |  __ge__(self, value, /)\n",
      " |      Return self>=value.\n",
      " |  \n",
      " |  __gt__(self, value, /)\n",
      " |      Return self>value.\n",
      " |  \n",
      " |  __iter__(self, /)\n",
      " |      Implement iter(self).\n",
      " |  \n",
      " |  __le__(self, value, /)\n",
      " |      Return self<=value.\n",
      " |  \n",
      " |  __lt__(self, value, /)\n",
      " |      Return self<value.\n",
      " |  \n",
      " |  __ne__(self, value, /)\n",
      " |      Return self!=value.\n",
      " |  \n",
      " |  __new__(*args, **kwargs) from builtins.type\n",
      " |      Create and return a new object.  See help(type) for accurate signature.\n",
      " |  \n",
      " |  __reduce__(...)\n",
      " |      Return state information for pickling\n",
      " |  \n",
      " |  __repr__(self, /)\n",
      " |      Return repr(self).\n",
      " |  \n",
      " |  __reversed__(...)\n",
      " |      od.__reversed__() <==> reversed(od)\n",
      " |  \n",
      " |  __setitem__(self, key, value, /)\n",
      " |      Set self[key] to value.\n",
      " |  \n",
      " |  __sizeof__(...)\n",
      " |      D.__sizeof__() -> size of D in memory, in bytes\n",
      " |  \n",
      " |  clear(...)\n",
      " |      od.clear() -> None.  Remove all items from od.\n",
      " |  \n",
      " |  copy(...)\n",
      " |      od.copy() -> a shallow copy of od\n",
      " |  \n",
      " |  fromkeys(...) from builtins.type\n",
      " |      OD.fromkeys(S[, v]) -> New ordered dictionary with keys from S.\n",
      " |      If not specified, the value defaults to None.\n",
      " |  \n",
      " |  items(...)\n",
      " |      D.items() -> a set-like object providing a view on D's items\n",
      " |  \n",
      " |  keys(...)\n",
      " |      D.keys() -> a set-like object providing a view on D's keys\n",
      " |  \n",
      " |  move_to_end(...)\n",
      " |      Move an existing element to the end (or beginning if last==False).\n",
      " |      \n",
      " |      Raises KeyError if the element does not exist.\n",
      " |      When last=True, acts like a fast version of self[key]=self.pop(key).\n",
      " |  \n",
      " |  pop(...)\n",
      " |      od.pop(k[,d]) -> v, remove specified key and return the corresponding\n",
      " |      value.  If key is not found, d is returned if given, otherwise KeyError\n",
      " |      is raised.\n",
      " |  \n",
      " |  popitem(...)\n",
      " |      od.popitem() -> (k, v), return and remove a (key, value) pair.\n",
      " |      Pairs are returned in LIFO order if last is true or FIFO order if false.\n",
      " |  \n",
      " |  setdefault(...)\n",
      " |      od.setdefault(k[,d]) -> od.get(k,d), also set od[k]=d if k not in od\n",
      " |  \n",
      " |  update(...)\n",
      " |      D.update([E, ]**F) -> None.  Update D from dict/iterable E and F.\n",
      " |      If E is present and has a .keys() method, then does:  for k in E: D[k] = E[k]\n",
      " |      If E is present and lacks a .keys() method, then does:  for k, v in E: D[k] = v\n",
      " |      In either case, this is followed by: for k in F:  D[k] = F[k]\n",
      " |  \n",
      " |  values(...)\n",
      " |      D.values() -> an object providing a view on D's values\n",
      " |  \n",
      " |  ----------------------------------------------------------------------\n",
      " |  Data descriptors inherited from collections.OrderedDict:\n",
      " |  \n",
      " |  __dict__\n",
      " |  \n",
      " |  ----------------------------------------------------------------------\n",
      " |  Data and other attributes inherited from collections.OrderedDict:\n",
      " |  \n",
      " |  __hash__ = None\n",
      " |  \n",
      " |  ----------------------------------------------------------------------\n",
      " |  Methods inherited from builtins.dict:\n",
      " |  \n",
      " |  __contains__(self, key, /)\n",
      " |      True if D has a key k, else False.\n",
      " |  \n",
      " |  __getattribute__(self, name, /)\n",
      " |      Return getattr(self, name).\n",
      " |  \n",
      " |  __getitem__(...)\n",
      " |      x.__getitem__(y) <==> x[y]\n",
      " |  \n",
      " |  __len__(self, /)\n",
      " |      Return len(self).\n",
      " |  \n",
      " |  get(...)\n",
      " |      D.get(k[,d]) -> D[k] if k in D, else d.  d defaults to None.\n",
      "\n"
     ]
    }
   ],
   "source": [
    "help(dict_to_html)"
   ]
  },
  {
   "cell_type": "code",
   "execution_count": 58,
   "metadata": {
    "collapsed": false
   },
   "outputs": [
    {
     "data": {
      "text/html": [
       "<table width=100%><tr><td> </td><td><b>val1</b></td><td><b>val2</b></td></tr><tr><td><b>a</b></td><td>2</td><td>3</td></tr><tr><td><b>b</b></td><td>4</td><td>5</td></tr><tr><td><b>c</b></td><td>7</td><td>8</td></tr></table>"
      ],
      "text/plain": [
       "dict_to_html([('a', {'val1': 2, 'val2': 3}),\n",
       "              ('b', {'val1': 4, 'val2': 5}),\n",
       "              ('c', {'val1': 7, 'val2': 8})])"
      ]
     },
     "execution_count": 58,
     "metadata": {},
     "output_type": "execute_result"
    }
   ],
   "source": [
    "dict_to_html({'a':{'val1':2,'val2':3},'b':{'val1':4,'val2':5},'c':{'val1':7,'val2':8}})"
   ]
  },
  {
   "cell_type": "markdown",
   "metadata": {},
   "source": [
    "---\n",
    "# TABLE FORMATTING"
   ]
  },
  {
   "cell_type": "markdown",
   "metadata": {},
   "source": [
    "## reformat_table"
   ]
  },
  {
   "cell_type": "code",
   "execution_count": 2,
   "metadata": {
    "collapsed": false
   },
   "outputs": [
    {
     "name": "stdout",
     "output_type": "stream",
     "text": [
      "Help on function reformat_table in module pycl:\n",
      "\n",
      "reformat_table(input_file, output_file, init_template=[], final_template=[], header='', keep_original_header=True, header_from_final_template=False, replace_internal_space='_', replace_null_val='*', subst_dict={}, filter_dict=[], predicate=None, standard_template=None)\n",
      "    Reformat a table given an initial and a final line templates indicated as a list where numbers\n",
      "    indicate the data column and strings the formatting characters\n",
      "    \n",
      "    @param  input_file   A file with a structured text formatting (uncompressed)\n",
      "    @param  output_file   A file path to output the reformatted table\n",
      "    @param  init_template   A list of indexes and separators describing the structure of the input file\n",
      "            Example initial line = \"chr1    631539    631540    Squires|id1    0    +\"\n",
      "            Initial template = [0,\"     \",1,\"   \",2,\"   \",3,\"|\",4,\"     \",5,\"   \",6]\n",
      "            Alternatively, instead of the numbers, string indexes can be used, but they need to be enclosed in curly brackets to\n",
      "            differentiate them from the separators. This greatly simplify the writing of the final template.\n",
      "            Example initial line = \"chr1    631539    631540    Squires|id1    0    +\"\n",
      "            Initial template = [\"{chrom}\",\"     \",\"{start}\",\"   \",\"{end}\",\"|\",\"{name}\",\"        \",\"{score}\",\"   \",\"{strand}\"]\n",
      "    @param  final_template  A list of indexes and separators describing the required structure of the output file. Name indexes need to \n",
      "            match indexes of the init_template and have to follow the same synthax\n",
      "            Example final line = \"chr1    631539    631540    m5C|-|HeLa|22344696    -    -\"\n",
      "            Final template = [0,\"       \",1,\"   \",2,\"   m5C|-|HeLa|22344696     -       \",6]\n",
      "    @param  header   A string to write as a file header at the beginning of the file\n",
      "    @param  keep_original_header   If True the original header of the input file will be copied at the beginning of the output file [DEFAULT:True]\n",
      "    @param  header_from_final_template  Generate a header according to the name or number of the fields given in the final_template [DEFAULT:True]\n",
      "    @param  replace_internal_space  All internal blank space will be replaced by this character [DEFAULT:\"_\"]\n",
      "    @param  replace_null_val   Field with no value will be replaced by this character [DEFAULT:\"*\"]\n",
      "    @param  subst_dict   Nested dictionary of substitution per position to replace specific values by others [DEFAULT:None]\n",
      "            Example: { 0:{\"chr1\":\"1\",\"chr2\":\"2\"}, 3:{\"Squires\":\"5376774764\",\"Li\":\"27664684\"}}\n",
      "    @param  filter_dict  A dictionary of list per position  to filter out lines  with specific values [DEFAULT:None]\n",
      "            Example: { 0:[\"chr2\", \"chr4\"], 1:[\"46767\", \"87765\"], 5:[\"76559\", \"77543\"]}\n",
      "    @param  predicate   A lambda predicate function for more advance filtering operations [DEFAULT:None]\n",
      "            Example:  lambda val_dict: abs(int(val_dict[1])-int(val_dict[2])) <= 2000\n",
      "    @param  standard_template   Existing standard template to parse the file  instead of providing one manually. List of saved templates:\n",
      "        - \"gff3_ens_gene\" = Template for ensembl gff3 fields. Select only the genes lines and decompose to individual elements.\n",
      "        - \"gff3_ens_transcript\" = Template for ensembl gff3 fields. Select only the transcript lines and decompose to individual elements.\n",
      "\n"
     ]
    }
   ],
   "source": [
    "help(reformat_table)"
   ]
  },
  {
   "cell_type": "code",
   "execution_count": 3,
   "metadata": {
    "collapsed": false,
    "scrolled": true
   },
   "outputs": [
    {
     "name": "stdout",
     "output_type": "stream",
     "text": [
      "Initial template values\n",
      "0\t1\t2\t3|4\t5\t6\n",
      "Final template values\n",
      "0\t1\t2\tm5C|*|HeLa|22344696\t-\t6\n",
      "194 Lines processed\t194 Lines pass\t0 Lines filtered out\t0 Lines fail\n",
      "0\t# Transcriptome-wide map of m5C [hg38 coordinates]\n",
      "1\t# Reference: Squires et al., Nucleic Acids Res. 40, 5023 (2012) [PMID 22344696, DOI 10.1093/nar/gks144]\n",
      "2\t#\n",
      "\n",
      "197\tchr1\t19311959\t19311960\tSquires|id185\t0\t-\n",
      "198\tchr1\t19608342\t19608343\tSquires|id186\t0\t+\n",
      "199\tchr1\t19608343\t19608344\tSquires|id187\t0\t+\n",
      "\n",
      "0\t# New header\n",
      "1\tchr1\t631539\t631540\tm5C|*|HeLa|22344696\t-\t+\n",
      "2\tchr1\t631540\t631541\tm5C|*|HeLa|22344696\t-\t+\n",
      "\n",
      "192\tchr1\t19311959\t19311960\tm5C|*|HeLa|22344696\t-\t-\n",
      "193\tchr1\t19608342\t19608343\tm5C|*|HeLa|22344696\t-\t+\n",
      "194\tchr1\t19608343\t19608344\tm5C|*|HeLa|22344696\t-\t+\n",
      "\n"
     ]
    }
   ],
   "source": [
    "# With numeric index\n",
    "reformat_table(\n",
    "    input_file=\"./test_data/Small_m5C_Squires_hg38.bed\",\n",
    "    output_file=\"./test_data/Small_m5C_Squires_hg38_reformat.bed\",\n",
    "    init_template=[0,\"\\t\",1,\"\\t\",2,\"\\t\",3,\"|\",4,\"\\t\",5,\"\\t\",6],\n",
    "    final_template=[0,\"\\t\",1,\"\\t\",2,\"\\tm5C|*|HeLa|22344696\\t-\\t\",6],\n",
    "    replace_internal_space='_',\n",
    "    replace_null_val=\"*\",\n",
    "    keep_original_header=False,\n",
    "    header=\"# New header\\n\"\n",
    "    )\n",
    "\n",
    "linerange (\"./test_data/Small_m5C_Squires_hg38.bed\")\n",
    "linerange (\"./test_data/Small_m5C_Squires_hg38_reformat.bed\")"
   ]
  },
  {
   "cell_type": "code",
   "execution_count": 4,
   "metadata": {
    "collapsed": false
   },
   "outputs": [
    {
     "name": "stdout",
     "output_type": "stream",
     "text": [
      "Initial template values\n",
      "chrom\tstart\tend|name\tscore\tstrand\n",
      "Final template values\n",
      "start\tend\tadditional_informations\tname\n",
      "194 Lines processed\t194 Lines pass\t0 Lines filtered out\t0 Lines fail\n",
      "0\t# Transcriptome-wide map of m5C [hg38 coordinates]\n",
      "1\t# Reference: Squires et al., Nucleic Acids Res. 40, 5023 (2012) [PMID 22344696, DOI 10.1093/nar/gks144]\n",
      "2\t#\n",
      "\n",
      "197\tchr1\t19311959\t19311960\tSquires|id185\t0\t-\n",
      "198\tchr1\t19608342\t19608343\tSquires|id186\t0\t+\n",
      "199\tchr1\t19608343\t19608344\tSquires|id187\t0\t+\n",
      "\n",
      "0\t# New header\n",
      "1\t631539\t631540\tSquires\tadditional_informations\tid1\n",
      "2\t631540\t631541\tSquires\tadditional_informations\tid2\n",
      "\n",
      "192\t19311959\t19311960\tSquires\tadditional_informations\tid185\n",
      "193\t19608342\t19608343\tSquires\tadditional_informations\tid186\n",
      "194\t19608343\t19608344\tSquires\tadditional_informations\tid187\n",
      "\n"
     ]
    }
   ],
   "source": [
    "# With str index\n",
    "reformat_table(\n",
    "    input_file=\"./test_data/Small_m5C_Squires_hg38.bed\",\n",
    "    output_file=\"./test_data/Small_m5C_Squires_hg38_reformat.bed\",\n",
    "    init_template=[\"{chrom}\",\"\\t\",\"{start}\",\"\\t\",\"{end}\",\"|\",\"{name}\",\"\\t\",\"{score}\",\"\\t\",\"{strand}\"],\n",
    "    final_template=[\"{start}\",\"\\t\",\"{end}\",\"\\tadditional_informations\\t\",\"{name}\"],\n",
    "    replace_internal_space='_',\n",
    "    replace_null_val=\"*\",\n",
    "    keep_original_header=False,\n",
    "    header=\"# New header\\n\"\n",
    "    )\n",
    "\n",
    "linerange (\"./test_data/Small_m5C_Squires_hg38.bed\")\n",
    "linerange (\"./test_data/Small_m5C_Squires_hg38_reformat.bed\")"
   ]
  },
  {
   "cell_type": "code",
   "execution_count": 5,
   "metadata": {
    "collapsed": false,
    "scrolled": true
   },
   "outputs": [
    {
     "name": "stdout",
     "output_type": "stream",
     "text": [
      "Initial template values\n",
      "0\t1\t2\t3|4|5|6|7|8|9->10|11%|12|13|14|15|16|17|18|19\t20\t21\n",
      "Final template values\n",
      "0\t1\t2\t9>10|3|HeLa|19\t11\t21\n",
      "194 Lines processed\t139 Lines pass\t55 Lines filtered out\t0 Lines fail\n",
      "0\t# Transcriptome-wide map of editing sites [hg38 coordinates]\n",
      "1\t# Reference: Peng et al., Nat. Biotechnol. 30, 253 (2012) [PMID 22327324, DOI 10.1038/nbt.2122]\n",
      "2\t#\n",
      "\n",
      "197\tchr1\t9173454\t9173455\tPeng|chr1|9156101|-|T|Y|A->G|35.14%|99|T|24|C|13|37|intergenic|-\t0\t-\n",
      "198\tchr1\t9173533\t9173534\tPeng|chr1|9156180|-|T|Y|A->G|24.10%|61|T|148|C|47|195|intergenic|-\t0\t-\n",
      "199\tchr1\t9173535\t9173536\tPeng|chr1|9156182|-|T|Y|A->G|66.15%|99|C|129|T|66|195|intergenic|-\t0\t-\n",
      "\n",
      "0\t# Transcriptome-wide map of editing sites [hg38 coordinates]\n",
      "1\t# Reference: Peng et al., Nat. Biotechnol. 30, 253 (2012) [PMID 22327324, DOI 10.1038/nbt.2122]\n",
      "2\t#\n",
      "\n",
      "142\t1\t9173454\t9173455\tA>G|22344696|HeLa|-\t35.14\t-\n",
      "143\t1\t9173533\t9173534\tA>G|22344696|HeLa|-\t24.10\t-\n",
      "144\t1\t9173535\t9173536\tA>G|22344696|HeLa|-\t66.15\t-\n",
      "\n"
     ]
    }
   ],
   "source": [
    "subst_dict = {0:{\"chr1\":\"1\", \"chr2\":\"2\"}, 3:{\"Peng\":\"22344696\"}}\n",
    "filter_dict = {18:[\"intron\"]}\n",
    "input_file=\"./test_data/Small_editing_Peng_hg38.bed\"\n",
    "output_file=\"./test_data/Small_editing_Peng_hg38_reformat.bed\"\n",
    "\n",
    "reformat_table(\n",
    "    input_file, output_file,\n",
    "    init_template=[0,\"\\t\",1,\"\\t\",2,\"\\t\",3,\"|\",4,\"|\",5,\"|\",6,\"|\",7,\"|\",8,\"|\",9,\"->\",10,\"|\",11,\"%|\",12,\"|\",13,\"|\",14,\"|\",15,\"|\",16,\"|\",17,\"|\",18,\"|\",19,\"\\t\",20,\"\\t\",21],\n",
    "    final_template=[0,\"\\t\",1,\"\\t\",2,\"\\t\",9,\">\",10,\"|\",3,\"|HeLa|\",19,\"\\t\",11,\"\\t\",21],\n",
    "    replace_internal_space='_',\n",
    "    replace_null_val=\"*\",\n",
    "    subst_dict = subst_dict,\n",
    "    filter_dict = filter_dict\n",
    "    )\n",
    "\n",
    "linerange (input_file)\n",
    "linerange (output_file)"
   ]
  },
  {
   "cell_type": "code",
   "execution_count": 6,
   "metadata": {
    "collapsed": false
   },
   "outputs": [
    {
     "name": "stdout",
     "output_type": "stream",
     "text": [
      "Initial template values\n",
      "0\t1\t2\t3|4|5|6|7|8|9->10|11%|12|13|14|15|16|17|18|19\t20\t21\n",
      "Final template values\n",
      "0\t1\t2\t9>10|3|HeLa|19\t11\t21\n",
      "194 Lines processed\t9 Lines pass\t185 Lines filtered out\t0 Lines fail\n",
      "0\t# Transcriptome-wide map of editing sites [hg38 coordinates]\n",
      "1\t# Reference: Peng et al., Nat. Biotechnol. 30, 253 (2012) [PMID 22327324, DOI 10.1038/nbt.2122]\n",
      "2\t#\n",
      "\n",
      "197\tchr1\t9173454\t9173455\tPeng|chr1|9156101|-|T|Y|A->G|35.14%|99|T|24|C|13|37|intergenic|-\t0\t-\n",
      "198\tchr1\t9173533\t9173534\tPeng|chr1|9156180|-|T|Y|A->G|24.10%|61|T|148|C|47|195|intergenic|-\t0\t-\n",
      "199\tchr1\t9173535\t9173536\tPeng|chr1|9156182|-|T|Y|A->G|66.15%|99|C|129|T|66|195|intergenic|-\t0\t-\n",
      "\n",
      "0\t# Transcriptome-wide map of editing sites [hg38 coordinates]\n",
      "1\t# Reference: Peng et al., Nat. Biotechnol. 30, 253 (2012) [PMID 22327324, DOI 10.1038/nbt.2122]\n",
      "2\t#\n",
      "\n",
      "12\tchr1\t7894812\t7894813\tA>G|Peng|HeLa|-\t71.43\t-\n",
      "13\tchr1\t7909848\t7909849\tA>G|Peng|HeLa|-\t81.82\t-\n",
      "14\tchr1\t9170342\t9170343\tA>G|Peng|HeLa|-\t70.75\t-\n",
      "\n"
     ]
    }
   ],
   "source": [
    "predicate = lambda val_dict: float(val_dict[11]) >= 70\n",
    "\n",
    "input_file=\"./test_data/Small_editing_Peng_hg38.bed\"\n",
    "output_file=\"./test_data/Small_editing_Peng_hg38_reformat.bed\"\n",
    "\n",
    "reformat_table(\n",
    "    input_file, output_file,\n",
    "    init_template=[0,\"\\t\",1,\"\\t\",2,\"\\t\",3,\"|\",4,\"|\",5,\"|\",6,\"|\",7,\"|\",8,\"|\",9,\"->\",10,\"|\",11,\"%|\",12,\"|\",13,\"|\",14,\"|\",15,\"|\",16,\"|\",17,\"|\",18,\"|\",19,\"\\t\",20,\"\\t\",21],\n",
    "    final_template=[0,\"\\t\",1,\"\\t\",2,\"\\t\",9,\">\",10,\"|\",3,\"|HeLa|\",19,\"\\t\",11,\"\\t\",21],\n",
    "    replace_internal_space='_',\n",
    "    replace_null_val=\"*\",\n",
    "    predicate= predicate\n",
    "    )\n",
    "\n",
    "linerange (input_file)\n",
    "linerange (output_file)"
   ]
  },
  {
   "cell_type": "code",
   "execution_count": 7,
   "metadata": {
    "collapsed": false
   },
   "outputs": [
    {
     "name": "stdout",
     "output_type": "stream",
     "text": [
      "Using gff3 ensembl transcript template. Non-transcript features will be filtered out\n",
      "Initial template values\n",
      "seqid\tsource\ttype\tstart\tend\tscore\tstrand\tphase\tID=ID;Parent=Parent;gene_id=gene_id;transcript_id=transcript_id;gene_type=gene_type;gene_status=gene_status;gene_name=gene_name;transcript_type=transcript_type;transcript_status=transcript_status;transcript_name=transcript_name;level=level;transcript_support_level=transcript_support_level;tag=tag;havana_gene=havana_gene;havana_transcript=havana_transcript\n",
      "Final template values\n",
      "seqid\ttype\tstart\tend\tstrand\tID\tgene_type\ttranscript_type\tgene_name\n",
      "128183 Lines processed\t28031 Lines pass\t100152 Lines filtered out\t0 Lines fail\n",
      "0\t##gff-version 3\n",
      "1\t#description: evidence-based annotation of the human genome (GRCh38), version 24 (Ensembl 83) - long non-coding RNAs\n",
      "2\t#provider: GENCODE\n",
      "\n",
      "128211\tchrY\tHAVANA\texon\t57203182\t57203357\t.\t-\t.\tID=exon:ENSTR0000399966.9:1;Parent=ENSTR0000399966.9;gene_id=ENSG00000185203.12;transcript_id=ENST00000399966.9;gene_type=antisense;gene_status=KNOWN;gene_name=WASIR1;transcript_type=antisense;transcript_status=KNOWN;transcript_name=WASIR1-001;exon_number=1;exon_id=ENSE00001772131.3;level=2;transcript_support_level=1;havana_gene=OTTHUMG00000022676.3;havana_transcript=OTTHUMT00000058824.3;tag=PAR,not_best_in_genome_evidence,basic\n",
      "128212\tchrY\tHAVANA\texon\t57201143\t57202020\t.\t-\t.\tID=exon:ENSTR0000399966.9:2;Parent=ENSTR0000399966.9;gene_id=ENSG00000185203.12;transcript_id=ENST00000399966.9;gene_type=antisense;gene_status=KNOWN;gene_name=WASIR1;transcript_type=antisense;transcript_status=KNOWN;transcript_name=WASIR1-001;exon_number=2;exon_id=ENSE00002145073.1;level=2;transcript_support_level=1;havana_gene=OTTHUMG00000022676.3;havana_transcript=OTTHUMT00000058824.3;tag=PAR,not_best_in_genome_evidence,basic\n",
      "128213\t##sequence-region chrM 1 16569\n",
      "\n",
      "0\tseqid\ttype\tstart\tend\tstrand\tID\tgene_type\ttranscript_type\tgene_name\n",
      "1\tchr1\ttranscript\t29554\t31097\t+\tENST00000473358.1\tlincRNA\tlincRNA\tRP11-34P13.3\n",
      "2\tchr1\ttranscript\t30267\t31109\t+\tENST00000469289.1\tlincRNA\tlincRNA\tRP11-34P13.3\n",
      "\n",
      "28029\tchrY\ttranscript\t25728490\t25733388\t+\tENST00000417334.1\tlincRNA\tlincRNA\tTTTY3\n",
      "28030\tchrY\ttranscript\t57190738\t57208756\t+\tENSTR0000483543.7\tprocessed_transcript\tretained_intron\tAJ271736.10\n",
      "28031\tchrY\ttranscript\t57201143\t57203357\t-\tENSTR0000399966.9\tantisense\tantisense\tWASIR1\n",
      "\n"
     ]
    }
   ],
   "source": [
    "input_file = \"./test_data/gencode_v24_lncRNAs.gff3\"\n",
    "output_file=\"./test_data/Small_editing_Peng_hg38_reformat.bed\"\n",
    "\n",
    "reformat_table(\n",
    "    input_file, output_file,\n",
    "    standard_template=\"gff3_ens_transcript\", \n",
    "    keep_original_header=False,\n",
    "    header_from_final_template= True,\n",
    "    final_template=[\"{seqid}\",\"\\t\",\"{type}\",\"\\t\",\"{start}\",\"\\t\",\"{end}\",\"\\t\",\"{strand}\",\"\\t\",\"{ID}\",\"\\t\",\"{gene_type}\",\"\\t\",\"{transcript_type}\",\"\\t\",\"{gene_name}\"]\n",
    "    )\n",
    "\n",
    "linerange (input_file)\n",
    "linerange (output_file)"
   ]
  },
  {
   "cell_type": "markdown",
   "metadata": {},
   "source": [
    "---\n",
    "# WEB TOOLS"
   ]
  },
  {
   "cell_type": "markdown",
   "metadata": {},
   "source": [
    "## url_exist"
   ]
  },
  {
   "cell_type": "code",
   "execution_count": null,
   "metadata": {
    "collapsed": false
   },
   "outputs": [],
   "source": [
    "help()"
   ]
  },
  {
   "cell_type": "code",
   "execution_count": null,
   "metadata": {
    "collapsed": false,
    "scrolled": true
   },
   "outputs": [],
   "source": [
    "url_exist(\"http://www.google.com\") # When this one will be False it will probably be the end of the world"
   ]
  },
  {
   "cell_type": "code",
   "execution_count": null,
   "metadata": {
    "collapsed": false
   },
   "outputs": [],
   "source": [
    "url_exist(\"http://www.JUYGKUYHGJHFJ.com\")"
   ]
  },
  {
   "cell_type": "markdown",
   "metadata": {},
   "source": [
    "# wget"
   ]
  },
  {
   "cell_type": "code",
   "execution_count": null,
   "metadata": {
    "collapsed": false,
    "scrolled": true
   },
   "outputs": [],
   "source": [
    "help(wget)"
   ]
  },
  {
   "cell_type": "code",
   "execution_count": null,
   "metadata": {
    "collapsed": false
   },
   "outputs": [],
   "source": [
    "outfile = wget(\"\")\n",
    "if outfile:\n",
    "    print(outfile)\n",
    "    remove(outfile)"
   ]
  },
  {
   "cell_type": "code",
   "execution_count": null,
   "metadata": {
    "collapsed": false
   },
   "outputs": [],
   "source": [
    "outfile = wget(\"https://github.com/a-slidaster/test_data/RADAR_Secondary.txt.gz\")\n",
    "if outfile:\n",
    "    print(outfile)\n",
    "    remove(outfile)"
   ]
  },
  {
   "cell_type": "code",
   "execution_count": null,
   "metadata": {
    "collapsed": false
   },
   "outputs": [],
   "source": [
    "outfile = wget(\"https://github.com/a-slide/pycl/blob/master/test_data/RADAR_Secondary.txt.gz\", progress_block=10000)\n",
    "if outfile:\n",
    "    print(outfile)\n",
    "    remove(outfile)"
   ]
  },
  {
   "cell_type": "code",
   "execution_count": null,
   "metadata": {
    "collapsed": false
   },
   "outputs": [],
   "source": [
    "outfile = wget(\"https://www.encodeproject.org/files/ENCFF000HJC/@@download/ENCFF000HJC.bigWig\", \"test.bigWig\", 50000000)\n",
    "if outfile:\n",
    "    print(outfile)\n",
    "    remove(outfile)"
   ]
  },
  {
   "cell_type": "code",
   "execution_count": null,
   "metadata": {
    "collapsed": false
   },
   "outputs": [],
   "source": []
  }
 ],
 "metadata": {
  "kernelspec": {
   "display_name": "Python 3",
   "language": "python",
   "name": "python3"
  },
  "language_info": {
   "codemirror_mode": {
    "name": "ipython",
    "version": 3
   },
   "file_extension": ".py",
   "mimetype": "text/x-python",
   "name": "python",
   "nbconvert_exporter": "python",
   "pygments_lexer": "ipython3",
   "version": "3.5.2"
  }
 },
 "nbformat": 4,
 "nbformat_minor": 0
}
