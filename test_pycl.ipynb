{
 "cells": [
  {
   "cell_type": "markdown",
   "metadata": {},
   "source": [
    "# TEST pycl package\n",
    "** This notebook contains tests for all function contained in pycl package **"
   ]
  },
  {
   "cell_type": "markdown",
   "metadata": {},
   "source": [
    "---\n",
    "# PREDICATES"
   ]
  },
  {
   "cell_type": "code",
   "execution_count": 5,
   "metadata": {
    "collapsed": false
   },
   "outputs": [],
   "source": [
    "from pycl import is_readable_file, is_gziped"
   ]
  },
  {
   "cell_type": "markdown",
   "metadata": {},
   "source": [
    "## Test is_readable_file\n",
    "    def is_readable_file (fp):\n",
    "    Verify the readability of a file or list of file"
   ]
  },
  {
   "cell_type": "code",
   "execution_count": 18,
   "metadata": {
    "collapsed": false
   },
   "outputs": [
    {
     "name": "stdout",
     "output_type": "stream",
     "text": [
      "./test_data/KJHYTGYUJ is not a valid file\n"
     ]
    }
   ],
   "source": [
    "try:\n",
    "    is_readable_file(\"./test_data/KJHYTGYUJ\")\n",
    "    print (\"OK\")\n",
    "except OSError as E:\n",
    "    print(E)"
   ]
  },
  {
   "cell_type": "code",
   "execution_count": 17,
   "metadata": {
    "collapsed": false
   },
   "outputs": [
    {
     "name": "stdout",
     "output_type": "stream",
     "text": [
      "OK\n"
     ]
    }
   ],
   "source": [
    "try:\n",
    "    is_readable_file(\"./test_data/RADAR_Secondary.txt\")\n",
    "    print (\"OK\")\n",
    "except OSError as E:\n",
    "    print(E)"
   ]
  },
  {
   "cell_type": "markdown",
   "metadata": {},
   "source": [
    "## Test is_gziped\n",
    "    def is_gziped (fp):\n",
    "    Return True if the file is Gziped else False"
   ]
  },
  {
   "cell_type": "code",
   "execution_count": 19,
   "metadata": {
    "collapsed": false
   },
   "outputs": [
    {
     "data": {
      "text/plain": [
       "False"
      ]
     },
     "execution_count": 19,
     "metadata": {},
     "output_type": "execute_result"
    }
   ],
   "source": [
    "is_gziped(\"./test_data/RADAR_Secondary.txt\")"
   ]
  },
  {
   "cell_type": "code",
   "execution_count": 21,
   "metadata": {
    "collapsed": false
   },
   "outputs": [
    {
     "data": {
      "text/plain": [
       "True"
      ]
     },
     "execution_count": 21,
     "metadata": {},
     "output_type": "execute_result"
    }
   ],
   "source": [
    "is_gziped(\"./test_data/RADAR_Secondary.txt.gz\")"
   ]
  },
  {
   "cell_type": "markdown",
   "metadata": {},
   "source": [
    "---\n",
    "# PATH MANIPULATION"
   ]
  },
  {
   "cell_type": "code",
   "execution_count": 8,
   "metadata": {
    "collapsed": true
   },
   "outputs": [],
   "source": [
    "from pycl import file_basename, file_extension, file_name, dir_name"
   ]
  },
  {
   "cell_type": "markdown",
   "metadata": {},
   "source": [
    "## Test file_basename\n",
    "    def file_basename (path):\n",
    "    Return the basename of a file without folder location and extension"
   ]
  },
  {
   "cell_type": "code",
   "execution_count": 22,
   "metadata": {
    "collapsed": false
   },
   "outputs": [
    {
     "data": {
      "text/plain": [
       "'RADAR_Secondary'"
      ]
     },
     "execution_count": 22,
     "metadata": {},
     "output_type": "execute_result"
    }
   ],
   "source": [
    "file_basename(\"./test_data/RADAR_Secondary.txt.gz\")"
   ]
  },
  {
   "cell_type": "markdown",
   "metadata": {},
   "source": [
    "## Test file_extension\n",
    "    def file_extension (path):\n",
    "    Return The extension of a file in lowercase"
   ]
  },
  {
   "cell_type": "code",
   "execution_count": 23,
   "metadata": {
    "collapsed": false
   },
   "outputs": [
    {
     "data": {
      "text/plain": [
       "'gz'"
      ]
     },
     "execution_count": 23,
     "metadata": {},
     "output_type": "execute_result"
    }
   ],
   "source": [
    "file_extension(\"./test_data/RADAR_Secondary.txt.gz\")"
   ]
  },
  {
   "cell_type": "markdown",
   "metadata": {},
   "source": [
    "## Test file_name\n",
    "    def file_name (path):\n",
    "    Return The complete name of a file with the extension but without folder location"
   ]
  },
  {
   "cell_type": "code",
   "execution_count": 9,
   "metadata": {
    "collapsed": false
   },
   "outputs": [
    {
     "data": {
      "text/plain": [
       "'RADAR_Secondary.txt.gz'"
      ]
     },
     "execution_count": 9,
     "metadata": {},
     "output_type": "execute_result"
    }
   ],
   "source": [
    "file_name(\"./test_data/test/RADAR_Secondary.txt.gz\")"
   ]
  },
  {
   "cell_type": "markdown",
   "metadata": {},
   "source": [
    "## Test dir_name\n",
    "    def dir_name (path):\n",
    "    Return the complete path where is located the file without the file name"
   ]
  },
  {
   "cell_type": "code",
   "execution_count": 10,
   "metadata": {
    "collapsed": false
   },
   "outputs": [
    {
     "data": {
      "text/plain": [
       "'test'"
      ]
     },
     "execution_count": 10,
     "metadata": {},
     "output_type": "execute_result"
    }
   ],
   "source": [
    "dir_name(\"./test_data/test/RADAR_Secondary.txt.gz\")"
   ]
  },
  {
   "cell_type": "markdown",
   "metadata": {},
   "source": [
    "---\n",
    "# STRING FORMATTING"
   ]
  },
  {
   "cell_type": "code",
   "execution_count": 26,
   "metadata": {
    "collapsed": false
   },
   "outputs": [],
   "source": [
    "from pycl import supersplit, rm_blank"
   ]
  },
  {
   "cell_type": "markdown",
   "metadata": {},
   "source": [
    "## Test supersplit\n",
    "    def supersplit (string, separator=\"\"):\n",
    "\tlike split but can take a list of separators instead of a simple separator"
   ]
  },
  {
   "cell_type": "code",
   "execution_count": 16,
   "metadata": {
    "collapsed": false
   },
   "outputs": [
    {
     "name": "stdout",
     "output_type": "stream",
     "text": [
      "['chr7', '74138', '774138', 'A>I', 'LOC100129917', 'LUNG:LYMPHOBLASTOID_CELL_LINE', '15342557:15258596:22327324', '0']\n",
      "['chr7', '74138', '774138', 'A>I|LOC100129917|LUNG:LYMPHOBLASTOID_CELL_LINE|15342557:15258596:22327324', '0']\n",
      "['chr7\\t74138\\t774138\\tA>I', 'LOC100129917', 'LUNG:LYMPHOBLASTOID_CELL_LINE', '15342557:15258596:22327324\\t0']\n"
     ]
    }
   ],
   "source": [
    "a = \"chr7\\t74138\\t774138\\tA>I|LOC100129917|LUNG:LYMPHOBLASTOID_CELL_LINE|15342557:15258596:22327324\\t0\"\n",
    "\n",
    "print(supersplit(a, [\"\\t\",\"|\"]))\n",
    "\n",
    "print(supersplit(a))\n",
    "\n",
    "print(supersplit(a, \"|\"))"
   ]
  },
  {
   "cell_type": "markdown",
   "metadata": {},
   "source": [
    "## Test rm_blank\n",
    "    def rm_blank (name, replace=\"\"):\n",
    "    Replace blank spaces in a name by a given character (default = remove)\n",
    "    Blanks at extremities are always removed and nor replaced"
   ]
  },
  {
   "cell_type": "code",
   "execution_count": 31,
   "metadata": {
    "collapsed": false
   },
   "outputs": [
    {
     "name": "stdout",
     "output_type": "stream",
     "text": [
      "chr17|LUNG:LYMPHOBLASTOID_CELL_LINE|15342557:15258596:223273240\n",
      "chr*17|LU*NG:LYMPHOBLAST*OID_CELL_LINE|15342557:152585*96:22327324*0\n"
     ]
    }
   ],
   "source": [
    "a = \"chr\\t\\t17|LU NG:LYMPHOBLAST    OID_CELL_LINE|15342557:152585     96:22327324\\t0\"\n",
    "\n",
    "print(rm_blank(a))\n",
    "\n",
    "print(rm_blank(a, replace=\"*\"))"
   ]
  },
  {
   "cell_type": "markdown",
   "metadata": {},
   "source": [
    "---\n",
    "# FILE MANIPULATION"
   ]
  },
  {
   "cell_type": "code",
   "execution_count": 1,
   "metadata": {
    "collapsed": true
   },
   "outputs": [],
   "source": [
    "from pycl import copyFile, gzip_file, gunzip_file"
   ]
  },
  {
   "cell_type": "markdown",
   "metadata": {},
   "source": [
    "## Test copyFile\n",
    "    def copyFile(src, dest):\n",
    "    Copy a single file to a destination file or folder (with error handling/reporting)\n",
    "    @param src Source file path\n",
    "    @param dest Path of the folder where to copy the source file"
   ]
  },
  {
   "cell_type": "code",
   "execution_count": 2,
   "metadata": {
    "collapsed": false,
    "scrolled": true
   },
   "outputs": [
    {
     "name": "stdout",
     "output_type": "stream",
     "text": [
      "Error: './test_data/RADAR_Secondary.txt' and './test_data/RADAR_Secondary.txt' are the same file\n"
     ]
    }
   ],
   "source": [
    "copyFile(src=\"./test_data/RADAR_Secondary.txt\", dest=\"./test_data/\")"
   ]
  },
  {
   "cell_type": "code",
   "execution_count": 3,
   "metadata": {
    "collapsed": true
   },
   "outputs": [],
   "source": [
    "copyFile(src=\"./test_data/RADAR_Secondary.txt\", dest=\"./test_data/test_dir/\")"
   ]
  },
  {
   "cell_type": "markdown",
   "metadata": {},
   "source": [
    "## Test gzip_file\n",
    "    def gzip_file (in_path, out_path=None):\n",
    "    @param in_path Path of the input uncompressed file\n",
    "    @param out_path Path of the output compressed file (facultative)\n",
    "    @exception  OSError Can be raise by open"
   ]
  },
  {
   "cell_type": "code",
   "execution_count": 4,
   "metadata": {
    "collapsed": false
   },
   "outputs": [
    {
     "name": "stdout",
     "output_type": "stream",
     "text": [
      "Compressing ./test_data/RADAR_Secondary.txt\n"
     ]
    },
    {
     "data": {
      "text/plain": [
       "'/home/aleg/Programming/Python3/pycl/test_data/RADAR_Secondary.txt.gz'"
      ]
     },
     "execution_count": 4,
     "metadata": {},
     "output_type": "execute_result"
    }
   ],
   "source": [
    "gzip_file(\"./test_data/RADAR_Secondary.txt\")"
   ]
  },
  {
   "cell_type": "markdown",
   "metadata": {},
   "source": [
    "## Test gunzip_file\n",
    "    def gunzip_file (in_path, out_path=None):\n",
    "    @param in_path Path of the input compressed file\n",
    "    @param out_path Path of the output uncompressed file (facultative)\n",
    "    @exception  OSError Can be raise by open"
   ]
  },
  {
   "cell_type": "code",
   "execution_count": 5,
   "metadata": {
    "collapsed": false
   },
   "outputs": [
    {
     "name": "stdout",
     "output_type": "stream",
     "text": [
      "Uncompressing ./test_data/RADAR_Secondary.txt.gz\n"
     ]
    },
    {
     "data": {
      "text/plain": [
       "'/home/aleg/Programming/Python3/pycl/test_data/RADAR_Secondary.txt'"
      ]
     },
     "execution_count": 5,
     "metadata": {},
     "output_type": "execute_result"
    }
   ],
   "source": [
    "gunzip_file(\"./test_data/RADAR_Secondary.txt.gz\")"
   ]
  },
  {
   "cell_type": "markdown",
   "metadata": {},
   "source": [
    "---\n",
    "# FILE INFORMATION"
   ]
  },
  {
   "cell_type": "code",
   "execution_count": 1,
   "metadata": {
    "collapsed": true
   },
   "outputs": [],
   "source": [
    "from pycl import head, linerange, colsum, fastcount, simplecount"
   ]
  },
  {
   "cell_type": "markdown",
   "metadata": {},
   "source": [
    "## Test head\n",
    "    def head (file, n=10, ignore_hashtag_line=False):\n",
    "    Emulate linux head cmd"
   ]
  },
  {
   "cell_type": "code",
   "execution_count": 2,
   "metadata": {
    "collapsed": false
   },
   "outputs": [
    {
     "name": "stdout",
     "output_type": "stream",
     "text": [
      "#chromosome\tposition\tgene\tstrand\tannot1\tannot2\talu?\tnon_alu_repetitive?\tconservation_chimp\tconservation_rhesus\tconservation_mouse\n",
      "chr1\t206256301\tC1orf186\t-\tintronic\tintronic\tno\tno\tN\tN\tN\n",
      "chr6\t116991832\tintergenic\t-\tintergenic\tintergenic\tno\tno\tN\tN\tN\n"
     ]
    }
   ],
   "source": [
    "head(\"./test_data/RADAR_Main.txt\", n= 3)"
   ]
  },
  {
   "cell_type": "code",
   "execution_count": 3,
   "metadata": {
    "collapsed": false
   },
   "outputs": [
    {
     "name": "stdout",
     "output_type": "stream",
     "text": [
      "chr1\t206256301\tC1orf186\t-\tintronic\tintronic\tno\tno\tN\tN\tN\n",
      "chr6\t116991832\tintergenic\t-\tintergenic\tintergenic\tno\tno\tN\tN\tN\n",
      "chr7\t30504355\tNOD1\t-\tintronic\tintronic\tno\tno\tN\tN\tN\n"
     ]
    }
   ],
   "source": [
    "head(\"./test_data/RADAR_Main.txt\", n=3, ignore_hashtag_line=True)"
   ]
  },
  {
   "cell_type": "code",
   "execution_count": 4,
   "metadata": {
    "collapsed": false
   },
   "outputs": [
    {
     "name": "stdout",
     "output_type": "stream",
     "text": [
      "chr1:1037916\tPeng et al 2012\tLymphoblastoid cell line\t9\t66.67\n",
      "chr1:1156882\tPeng et al 2012\tLymphoblastoid cell line\t42\t36.59\n",
      "chr1:1157460\tPeng et al 2012\tLymphoblastoid cell line\t66\t22.73\n"
     ]
    }
   ],
   "source": [
    "head(\"./test_data/RADAR_Secondary.txt.gz\", n=3, ignore_hashtag_line=True)"
   ]
  },
  {
   "cell_type": "markdown",
   "metadata": {},
   "source": [
    "## Test linerange\n",
    "    def linerange (file, range_list=[[0,10]]):\n",
    "    Print a range of lines in a file according to a list of start end lists"
   ]
  },
  {
   "cell_type": "code",
   "execution_count": 17,
   "metadata": {
    "collapsed": false,
    "scrolled": true
   },
   "outputs": [
    {
     "name": "stdout",
     "output_type": "stream",
     "text": [
      "0\t#location\treference\ttissue\tcoverage\tediting_level(%)\n",
      "1\tchr1:1037916\tPeng et al 2012\tLymphoblastoid cell line\t9\t66.67\n",
      "2\tchr1:1156882\tPeng et al 2012\tLymphoblastoid cell line\t42\t36.59\n",
      "3\tchr1:1157460\tPeng et al 2012\tLymphoblastoid cell line\t66\t22.73\n",
      "4\tchr1:1252441\tPeng et al 2012\tLymphoblastoid cell line\t11\t72.73\n",
      "5\tchr1:1252443\tPeng et al 2012\tLymphoblastoid cell line\t11\t45.45\n",
      "\n",
      "10\tchr1:1594977\tPeng et al 2012\tLymphoblastoid cell line\t227\t24.67\n",
      "11\tchr1:1594978\tPeng et al 2012\tLymphoblastoid cell line\t228\t4.82\n",
      "\n",
      "75\tchr1:6710585\tPeng et al 2012\tLymphoblastoid cell line\t30\t65.52\n",
      "76\tchr1:6710595\tPeng et al 2012\tLymphoblastoid cell line\t28\t50.00\n",
      "77\tchr1:6941764\tPeng et al 2012\tLymphoblastoid cell line\t7\t57.14\n",
      "78\tchr1:7908257\tPeng et al 2012\tLymphoblastoid cell line\t10\t40.00\n",
      "79\tchr1:7980494\tPeng et al 2012\tLymphoblastoid cell line\t38\t24.32\n",
      "80\tchr1:7980525\tPeng et al 2012\tLymphoblastoid cell line\t24\t37.50\n",
      "\n",
      "98\tchr1:10602697\tPeng et al 2012\tLymphoblastoid cell line\t5\t60.00\n",
      "99\tchr1:11138237\tPeng et al 2012\tLymphoblastoid cell line\t14\t42.86\n",
      "End coordinate out of line range: 105\n",
      "\n"
     ]
    }
   ],
   "source": [
    "file = \"./test_data/RADAR_Secondary.txt\"\n",
    "linerange (file, [[0,5],[10,11],[75,80],[98,105]])"
   ]
  },
  {
   "cell_type": "markdown",
   "metadata": {},
   "source": [
    "## Test colsum\n",
    "    def colsum (file, colrange=None, separator=\"\", header=False, ignore_hashtag_line=False, max_items=10, ret_type=\"md\"):\n",
    "\tCreate a summary of selected columns of a file\n",
    "    Possible return types: md = markdown formated table, dict = raw parsing dict, report = Indented_text_report"
   ]
  },
  {
   "cell_type": "code",
   "execution_count": 16,
   "metadata": {
    "collapsed": false,
    "scrolled": true
   },
   "outputs": [
    {
     "name": "stdout",
     "output_type": "stream",
     "text": [
      "|#chromosome|chr1|chr17|chr9|chr15|chr6|chr14|chr18|chr2|chrY|chr4|chr7|\n",
      "|:---|:---|:---|:---|:---|:---|:---|:---|:---|:---|:---|:---|\n",
      "|Count|4|3|2|2|2|1|1|1|1|1|1|\n",
      "\n",
      "|gene|RABEP1|NUP133|JUB|GREB1L|SPHKAP|NLGN4Y|CELSR2|RBPJ|TLE4|SOCS7|ADPGK|UBE2O|TSC1|GRIK2|MEF2A|...|\n",
      "|:---|:---|:---|:---|:---|:---|:---|:---|:---|:---|:---|:---|:---|:---|:---|:---|:---|\n",
      "|Count|1|1|1|1|1|1|1|1|1|1|1|1|1|1|1|...|\n",
      "\n",
      "|alu?|no|\n",
      "|:---|:---|\n",
      "|Count|19|\n",
      "\n",
      "\n"
     ]
    }
   ],
   "source": [
    "print(colsum(\"./test_data/RADAR_Main.txt\", header=True, colrange=[0,2,6], max_items=15))"
   ]
  },
  {
   "cell_type": "code",
   "execution_count": 14,
   "metadata": {
    "collapsed": false,
    "scrolled": true
   },
   "outputs": [
    {
     "data": {
      "text/plain": [
       "OrderedDict([(0,\n",
       "              OrderedDict([('chr1', 4),\n",
       "                           ('chr6', 2),\n",
       "                           ('chr7', 1),\n",
       "                           ('chr15', 2),\n",
       "                           ('chr9', 2),\n",
       "                           ('chr17', 3),\n",
       "                           ('chr4', 1),\n",
       "                           ('chrY', 1),\n",
       "                           ('chr2', 1),\n",
       "                           ('chr18', 1),\n",
       "                           ('chr14', 1)])),\n",
       "             (3, OrderedDict([('-', 10), ('+', 9)]))])"
      ]
     },
     "execution_count": 14,
     "metadata": {},
     "output_type": "execute_result"
    }
   ],
   "source": [
    "colsum(\"./test_data/RADAR_Main.txt\", header=True, ret_type=\"dict\", colrange=[0,3])"
   ]
  },
  {
   "cell_type": "code",
   "execution_count": 18,
   "metadata": {
    "collapsed": false,
    "scrolled": true
   },
   "outputs": [
    {
     "name": "stdout",
     "output_type": "stream",
     "text": [
      "0\n",
      "\tchr1\t997\n",
      "1\n",
      "\t225974746\t1\n",
      "\t225974735\t1\n",
      "\t225974581\t1\n",
      "\t224599486\t1\n",
      "\t224584888\t1\n",
      "\t...\t...\n",
      "2\n",
      "\t225974746\t1\n",
      "\t225974735\t1\n",
      "\t225974581\t1\n",
      "\t224599486\t1\n",
      "\t224584888\t1\n",
      "\t...\t...\n",
      "3\n",
      "\tA>I\t997\n",
      "4\n",
      "\tFDPS\t34\n",
      "\tMDM4\t31\n",
      "\tCTSS\t28\n",
      "\tDNAJC11\t25\n",
      "\tS100PBP\t24\n",
      "\t...\t...\n",
      "5\n",
      "\tYH\t997\n",
      "6\n",
      "\t22327324\t997\n",
      "7\n",
      "\t33.33\t31\n",
      "\t66.67\t31\n",
      "\t50.00\t23\n",
      "\t57.14\t22\n",
      "\t60.00\t22\n",
      "\t...\t...\n",
      "8\n",
      "\t-\t527\n",
      "\t+\t470\n",
      "\n"
     ]
    }
   ],
   "source": [
    "print(colsum(\n",
    "        \"./test_data/RADAR_clean.txt\",\n",
    "        header=True,\n",
    "        ignore_hashtag_line=True,\n",
    "        ret_type=\"report\",\n",
    "        separator=[\"\\t\",\"|\"],\n",
    "        max_items=5))"
   ]
  },
  {
   "cell_type": "markdown",
   "metadata": {},
   "source": [
    "## Test fastcount\n",
    "    def fastcount(file):\n",
    "\tEfficient way to count the number of lines in a file"
   ]
  },
  {
   "cell_type": "code",
   "execution_count": 19,
   "metadata": {
    "collapsed": false
   },
   "outputs": [
    {
     "data": {
      "text/plain": [
       "200"
      ]
     },
     "execution_count": 19,
     "metadata": {},
     "output_type": "execute_result"
    }
   ],
   "source": [
    "fastcount(\"./test_data/Small_m5C_Squires_hg38.bed\")"
   ]
  },
  {
   "cell_type": "markdown",
   "metadata": {},
   "source": [
    "## Test simplecount\n",
    "    def simplecount(filename, ignore_hashtag_line=False):\n",
    "    Simple way to count the number of lines in a file with more options"
   ]
  },
  {
   "cell_type": "code",
   "execution_count": 21,
   "metadata": {
    "collapsed": false
   },
   "outputs": [
    {
     "data": {
      "text/plain": [
       "194"
      ]
     },
     "execution_count": 21,
     "metadata": {},
     "output_type": "execute_result"
    }
   ],
   "source": [
    "simplecount(\"./test_data/Small_m5C_Squires_hg38.bed\", ignore_hashtag_line=True)"
   ]
  },
  {
   "cell_type": "markdown",
   "metadata": {},
   "source": [
    "---\n",
    "# DIRECTORY MANIPULATION"
   ]
  },
  {
   "cell_type": "code",
   "execution_count": 1,
   "metadata": {
    "collapsed": true
   },
   "outputs": [],
   "source": [
    "from pycl import mkdir"
   ]
  },
  {
   "cell_type": "markdown",
   "metadata": {},
   "source": [
    "## Test mkdir\n",
    "    def mkdir(fp, level=1):\n",
    "    Reproduce the ability of UNIX \"mkdir -p\" command\n",
    "    (ie if the path already exits no exception will be raised).\n",
    "    Can create nested directories by recursivity\n",
    "    @param  fp path name where the folder should be created\n",
    "    @level  level   level in the path where to start to create the directories.\n",
    "                    Used by the program for the recursive creation of directories\n",
    "    @exception  OSError or PermissionError can be raise by os.mkdir"
   ]
  },
  {
   "cell_type": "code",
   "execution_count": 2,
   "metadata": {
    "collapsed": false
   },
   "outputs": [],
   "source": [
    "mkdir(\"./test_data/test_dir\")"
   ]
  },
  {
   "cell_type": "code",
   "execution_count": 5,
   "metadata": {
    "collapsed": false
   },
   "outputs": [
    {
     "name": "stdout",
     "output_type": "stream",
     "text": [
      "Creating /home/aleg/Programming/Python3/pycl/test\n",
      "Creating /home/aleg/Programming/Python3/pycl/test/test\n",
      "Creating /home/aleg/Programming/Python3/pycl/test/test/test\n"
     ]
    }
   ],
   "source": [
    "mkdir (\"./test/test/test\")\n",
    "!rm -rf ./test"
   ]
  },
  {
   "cell_type": "markdown",
   "metadata": {},
   "source": [
    "---\n",
    "# SHELL MANIPULATION"
   ]
  },
  {
   "cell_type": "code",
   "execution_count": 2,
   "metadata": {
    "collapsed": false
   },
   "outputs": [],
   "source": [
    "from pycl import bash_basic, bash, make_cmd_str"
   ]
  },
  {
   "cell_type": "markdown",
   "metadata": {},
   "source": [
    "## Test make_cmd_str\n",
    "    def make_cmd_str(prog_name, opt_dict={}, opt_list=[]):\n",
    "    Create a Unix like command line string from a\n",
    "    @param prog_name Name (if added to the system path) or path of the programm\n",
    "    @param opt_dict Dictionnary of option arguments such as \"-t 5\". The option flag have to\n",
    "    be the key (without \"-\") and the the option value in the dictionnary value. If no value is\n",
    "    requested after the option flag \"None\" had to be asigned to the value field.\n",
    "    @param opt_list List of simple command line arguments"
   ]
  },
  {
   "cell_type": "code",
   "execution_count": 9,
   "metadata": {
    "collapsed": false
   },
   "outputs": [
    {
     "data": {
      "text/plain": [
       "'bwa -t 6 -i ../idx/seq.fa -b ../read1 ../read2 '"
      ]
     },
     "execution_count": 9,
     "metadata": {},
     "output_type": "execute_result"
    }
   ],
   "source": [
    "make_cmd_str(\"bwa\", {\"-b\":None, \"-t\":6, \"-i\":\"../idx/seq.fa\"}, [\"../read1\", \"../read2\"])"
   ]
  },
  {
   "cell_type": "markdown",
   "metadata": {},
   "source": [
    "## Test bash_basic\n",
    "    def bash_basic(cmd):\n",
    "\tSent basic bash command"
   ]
  },
  {
   "cell_type": "code",
   "execution_count": 3,
   "metadata": {
    "collapsed": false
   },
   "outputs": [
    {
     "name": "stdout",
     "output_type": "stream",
     "text": [
      "total 116\n",
      "-rw-rw-r-- 1 aleg aleg 35141 Jun  6 10:20 LICENSE\n",
      "drwxrwxr-x 2 aleg aleg  4096 Jun 21 12:13 __pycache__\n",
      "-rwxrwxrwx 1 aleg aleg 22063 Jun 21 12:13 pycl.py\n",
      "-rwxrwxrwx 1 aleg aleg   143 Jun  5 17:57 README.md\n",
      "drwxrwxr-x 3 aleg aleg  4096 Jun 10 15:37 test_data\n",
      "-rw-rw-r-- 1 aleg aleg 43512 Jun 21 12:11 test_pycl.ipynb\n",
      "\n",
      "\n",
      "None\n",
      "TTTT\n",
      "\n",
      "\n",
      "None\n",
      "\n",
      "\n",
      "None\n"
     ]
    }
   ],
   "source": [
    "print(bash_basic(\"ls -l\"))\n",
    "print(bash_basic(\"echo TTTT\"))\n",
    "print(bash_basic(\"grep ./test_data/RADAR_Secondary.txt\"))"
   ]
  },
  {
   "cell_type": "markdown",
   "metadata": {},
   "source": [
    "## Test bash\n",
    "    def bash(cmd, stdin=None, ret_stderr=False, ret_stdout=True, str_output=True):\n",
    "    Run a command line in the default shell and return the standard output\n",
    "    @param  cmd A command line string formated as a string\n",
    "    @param  stdinput    Facultative parameters to redirect an object to the standard input\n",
    "    @param  ret_stderr  If True the standard error output will be returned\n",
    "    @param  ret_stdout  If True the standard output will be returned\n",
    "    @param  str_output  Transform the std output in a string instead of the bytes-like object\n",
    "    @note If ret_stderr and ret_stdout are True a tuple will be returned and if both are False\n",
    "    None will be returned\n",
    "    @return If no standard error return the standard output as a string\n",
    "    @exception  OSError Raise if a message is return on the standard error output\n",
    "    @exception  (ValueError,OSError) May be raise by Popen"
   ]
  },
  {
   "cell_type": "code",
   "execution_count": 4,
   "metadata": {
    "collapsed": false
   },
   "outputs": [
    {
     "name": "stdout",
     "output_type": "stream",
     "text": [
      "LICENSE\n",
      "__pycache__\n",
      "pycl.py\n",
      "README.md\n",
      "test_data\n",
      "test_pycl.ipynb\n",
      "\n"
     ]
    }
   ],
   "source": [
    "print(bash(\"ls\"))"
   ]
  },
  {
   "cell_type": "code",
   "execution_count": 5,
   "metadata": {
    "collapsed": false
   },
   "outputs": [
    {
     "data": {
      "text/plain": [
       "'LICENSE\\n__pycache__\\n'"
      ]
     },
     "execution_count": 5,
     "metadata": {},
     "output_type": "execute_result"
    }
   ],
   "source": [
    "bash(\"head -n 2\", stdin=bash(\"ls\", str_output=False))"
   ]
  },
  {
   "cell_type": "code",
   "execution_count": 3,
   "metadata": {
    "collapsed": false
   },
   "outputs": [
    {
     "data": {
      "text/plain": [
       "('', '/bin/sh: 1: hed: not found\\n')"
      ]
     },
     "execution_count": 3,
     "metadata": {},
     "output_type": "execute_result"
    }
   ],
   "source": [
    "bash(\"hed -n 2\", ret_stderr=True)"
   ]
  },
  {
   "cell_type": "markdown",
   "metadata": {},
   "source": [
    "---\n",
    "# DICTIONNARY FORMATTING"
   ]
  },
  {
   "cell_type": "code",
   "execution_count": 27,
   "metadata": {
    "collapsed": true
   },
   "outputs": [],
   "source": [
    "from pycl import dict_to_md, dict_to_report"
   ]
  },
  {
   "cell_type": "markdown",
   "metadata": {},
   "source": [
    "## Test dict_to_md\n",
    "    def dict_to_md (\n",
    "    d,\n",
    "    key_label=\"\",\n",
    "    value_label=\"\",\n",
    "    transpose=False,\n",
    "    sort_by_key=False,\n",
    "    sort_by_val=True,\n",
    "    max_items=None):\n",
    " \tDef to transform a dict into a markdown formated table"
   ]
  },
  {
   "cell_type": "code",
   "execution_count": 28,
   "metadata": {
    "collapsed": false,
    "scrolled": true
   },
   "outputs": [
    {
     "name": "stdout",
     "output_type": "stream",
     "text": [
      "|Letter|Number|\n",
      "|:---|:---|\n",
      "|e|76|\n",
      "|d|56|\n",
      "|b|14|\n",
      "|a|12|\n",
      "|c|8|\n",
      "\n",
      "|Letter|e|d|...|\n",
      "|:---|:---|:---|:---|\n",
      "|Number|76|56|...|\n",
      "\n"
     ]
    }
   ],
   "source": [
    "d = {\"a\":12,\"b\":14,\"c\":8,\"d\":56,\"e\":76}\n",
    "print (dict_to_md(d, \"Letter\", \"Number\", sort_by_val=True))\n",
    "print (dict_to_md(d, \"Letter\", \"Number\", transpose=True, max_items=2))"
   ]
  },
  {
   "cell_type": "markdown",
   "metadata": {},
   "source": [
    "## Test dict_to_report\n",
    "    def dict_to_report (\n",
    "    d,\n",
    "    tab=\"\\t\",\n",
    "    ntab=0,\n",
    "    sep=\":\",\n",
    "    sort_dict=True,\n",
    "    max_items=None):\n",
    "    Recursive function to return a text report from nested dict or OrderedDict objects"
   ]
  },
  {
   "cell_type": "code",
   "execution_count": 32,
   "metadata": {
    "collapsed": false
   },
   "outputs": [
    {
     "name": "stdout",
     "output_type": "stream",
     "text": [
      "a:12\n",
      "b:14\n",
      "c\n",
      " | c1:12\n",
      " | c2\n",
      " |  | c2.1:33221\n",
      " |  | c2.2:765\n",
      " | c3:32\n",
      " | c4:443\n",
      "d:56\n",
      "e:76\n",
      "\n",
      "a:12\n",
      "b:14\n",
      "c\n",
      "--c1:12\n",
      "--c2\n",
      "----c2.5:876543\n",
      "----c2.6:89765\n",
      "----c2.4:76433\n",
      "----c2.1:33221\n",
      "----...:...\n",
      "--c3:32\n",
      "--c4:443\n",
      "d:56\n",
      "e:76\n",
      "\n"
     ]
    }
   ],
   "source": [
    "d = {\"a\":12,\"b\":14,\"c\":{\"c1\":12,\"c2\":{\"c2.1\":33221,\"c2.2\":765},\"c3\":32,\"c4\":443},\"d\":56,\"e\":76}\n",
    "print(dict_to_report(d, tab=\" | \"))\n",
    "\n",
    "d = {\"a\":12,\"b\":14,\"c\":{\"c1\":12,\"c2\":{\"c2.1\":33221,\"c2.2\":765, \"c2.3\":7533,\"c2.4\":76433,\"c2.5\":876543,\"c2.6\":89765,\"c2.7\":8654},\"c3\":32,\"c4\":443},\"d\":56,\"e\":76}\n",
    "print(dict_to_report(d, tab=\"--\", max_items=4, sort_dict=True))"
   ]
  },
  {
   "cell_type": "markdown",
   "metadata": {},
   "source": [
    "---\n",
    "# TABLE FORMATTING"
   ]
  },
  {
   "cell_type": "code",
   "execution_count": 2,
   "metadata": {
    "collapsed": false
   },
   "outputs": [],
   "source": [
    "from pycl import reformat_table, _decompose_line, _clean_values, _reformat_line"
   ]
  },
  {
   "cell_type": "markdown",
   "metadata": {},
   "source": [
    "## Test _decompose_line\n",
    "    def _decompose_line(line, template):\n",
    "    Helper function for reformat_table. Decompose a line and extract the values given a template list"
   ]
  },
  {
   "cell_type": "code",
   "execution_count": 3,
   "metadata": {
    "collapsed": false
   },
   "outputs": [
    {
     "name": "stdout",
     "output_type": "stream",
     "text": [
      "['chr1', '631539', '631540', '  Squires', 'id1', '0', '+\\n']\n",
      "['chr1', '6315es|id1', '', '+\\n', '', '', '']\n"
     ]
    }
   ],
   "source": [
    "print(_decompose_line(\n",
    "    line = \"chr1\t631539\t631540\t  Squires|id1\t0\t+\\n\",\n",
    "    template = [0,\"\\t\",1,\"\\t\",2,\"\\t\",3,\"|\",4,\"\\t\",5,\"\\t\",6]\n",
    "    ))\n",
    "\n",
    "print(_decompose_line(\n",
    "    line = \"chr1\t6315es|id1\t\t+\\n\",\n",
    "    template = [0,\"\\t\",1,\"\\t\",2,\"\\t\",3,\"|\",4,\"\\t\",5,\"\\t\",6]\n",
    "    ))"
   ]
  },
  {
   "cell_type": "markdown",
   "metadata": {},
   "source": [
    "## Test _clean_values\n",
    "    def _clean_values (\n",
    "    val_list,\n",
    "    replace_internal_space=None,\n",
    "    replace_null_val=\"*\",\n",
    "    subst_dict={},\n",
    "    filter_dict={},\n",
    "    predicate=None):\n",
    "    \n",
    "    Helper function for reformat_table. Clean the extracted values"
   ]
  },
  {
   "cell_type": "code",
   "execution_count": 4,
   "metadata": {
    "collapsed": false
   },
   "outputs": [
    {
     "data": {
      "text/plain": [
       "['chr1', '6315_es|id1', '*', '+', '*', '*', '*']"
      ]
     },
     "execution_count": 4,
     "metadata": {},
     "output_type": "execute_result"
    }
   ],
   "source": [
    "_clean_values(\n",
    "    val_list=['  chr1', '6315 es|id1', '', '+ \\n', '', '', ''],\n",
    "    replace_internal_space='_',\n",
    "    replace_null_val=\"*\")"
   ]
  },
  {
   "cell_type": "code",
   "execution_count": 5,
   "metadata": {
    "collapsed": false
   },
   "outputs": [
    {
     "data": {
      "text/plain": [
       "['1', '63_1539', '631540', '5376774764', 'id1', '0', '+']"
      ]
     },
     "execution_count": 5,
     "metadata": {},
     "output_type": "execute_result"
    }
   ],
   "source": [
    "# When the value is in the substitution dictionnary the the function return a line whith the \"values\" changed accordingly\n",
    "\n",
    "subst_dict = { 0:{\"chr1\":\"1\", \"chr4\":\"4\"}, 3:{\"Squires\":\"5376774764\"}}\n",
    "\n",
    "_clean_values(\n",
    "    val_list=_decompose_line(line = \"  chr1\t63 1539  \t631540\t  Squires|id1\t0\t+\\n\", template = [0,\"\\t\",1,\"\\t\",2,\"\\t\",3,\"|\",4,\"\\t\",5,\"\\t\",6]),\n",
    "    replace_internal_space = '_',\n",
    "    replace_null_val = \"*\",\n",
    "    subst_dict = subst_dict\n",
    "    )"
   ]
  },
  {
   "cell_type": "code",
   "execution_count": 6,
   "metadata": {
    "collapsed": true
   },
   "outputs": [],
   "source": [
    "# When the value is in the filter dictionnary the function return None\n",
    "\n",
    "filter_dict = { 0:[\"chr1\",\"chr2\"]}\n",
    "\n",
    "_clean_values(\n",
    "    val_list=['chr1', '6315 es|id1', '', '+ \\n', '', '', ''],\n",
    "    replace_internal_space='_',\n",
    "    replace_null_val=\"*\",\n",
    "    filter_dict=filter_dict\n",
    ")"
   ]
  },
  {
   "cell_type": "code",
   "execution_count": 13,
   "metadata": {
    "collapsed": false
   },
   "outputs": [
    {
     "name": "stdout",
     "output_type": "stream",
     "text": [
      "With valid line\n",
      "['chr1', '6315', '7675', 'Squires']\n",
      "With invalid line\n",
      "None\n"
     ]
    }
   ],
   "source": [
    "# Using a lambda function as a predicate allows complex filtering based on value from each fields\n",
    "\n",
    "predicate = lambda val_list: abs(int(val_list[1])-int(val_list[2])) <= 2000\n",
    "\n",
    "val_list=['chr1', '6315', '7675', \"Squires\"]\n",
    "print(\"With valid line\")\n",
    "print(_clean_values(val_list=val_list, predicate=predicate))\n",
    "\n",
    "val_list=['chr1', '6315', '8675', \"Squires\"]\n",
    "print(\"With invalid line\")\n",
    "print(_clean_values(val_list=val_list, predicate=predicate))"
   ]
  },
  {
   "cell_type": "markdown",
   "metadata": {},
   "source": [
    "## Test _reformat_line\n",
    "    def _reformat_line (val_list, template):\n",
    "\tHelper function for reformat_table. Reassemble a line from a list of values and a template list"
   ]
  },
  {
   "cell_type": "code",
   "execution_count": 39,
   "metadata": {
    "collapsed": false
   },
   "outputs": [
    {
     "name": "stdout",
     "output_type": "stream",
     "text": [
      "chr1\t631539\t631540\tm5C|-|HeLa|22344696\t-\t+\n",
      "\n"
     ]
    }
   ],
   "source": [
    "line = _reformat_line(\n",
    "    val_list=['chr1', '631539', '631540', 'Squires', 'id1', '0', '+'],\n",
    "    template=[0,\"\\t\",1,\"\\t\",2,\"\\tm5C|-|HeLa|22344696\\t-\\t\",6]\n",
    "    )\n",
    "\n",
    "print(line)"
   ]
  },
  {
   "cell_type": "code",
   "execution_count": 41,
   "metadata": {
    "collapsed": false
   },
   "outputs": [
    {
     "name": "stdout",
     "output_type": "stream",
     "text": [
      "chr1\t631539\t631540\tm5C|-|HeLa|22344696\t-\t+\n",
      "\n"
     ]
    }
   ],
   "source": [
    "line = _reformat_line(\n",
    "    val_list=_clean_values(\n",
    "        val_list=_decompose_line(\n",
    "            line = \"chr1\t631539\t631540\t  Squires|id1\t0\t+\\n\",\n",
    "            template = [0,\"\\t\",1,\"\\t\",2,\"\\t\",3,\"|\",4,\"\\t\",5,\"\\t\",6]\n",
    "            ),\n",
    "        replace_internal_space='_',\n",
    "        replace_null_val=\"*\"\n",
    "        ),\n",
    "    template=[0,\"\\t\",1,\"\\t\",2,\"\\tm5C|-|HeLa|22344696\\t-\\t\",6]\n",
    "    )\n",
    "\n",
    "print(line)"
   ]
  },
  {
   "cell_type": "markdown",
   "metadata": {},
   "source": [
    "## Test reformat_table\n",
    "    def reformat_table(\n",
    "    input_file,\n",
    "    output_file,\n",
    "    init_template,\n",
    "    final_template,\n",
    "    header = '',\n",
    "    keep_original_header = True,\n",
    "    replace_internal_space='_',\n",
    "    replace_null_val=\"*\",\n",
    "    subst_dict={},\n",
    "    filter_dict=[]):\n",
    "    \n",
    "\tReformat a table given an intial and a final line templates indicated as a list where numbers\n",
    "\tindicate the data column and strings the formating characters\n",
    "\tExample initial line = \"chr1    631539    631540    Squires|id1    0    +\"\n",
    "\tInitial template = [0,\"\\t\",1,\"\\t\",2,\"\\t\",3,\"|\",4,\"\\t\",5,\"\\t\",6]\n",
    "\tExample final line = \"chr1    631539    631540    m5C|-|HeLa|22344696    -    -\"\n",
    "\tFinal template = [0,\"\\t\",1,\"\\t\",2,\"\\tm5C|-|HeLa|22344696\\t-\\t\",6]\n",
    "\tA nested dictionnary of substitution per position can also be provided to replace\n",
    "\tspecific values by others :\n",
    "\tsubst_dict = { 0:{\"chr1\":\"1\",\"chr2\":\"2\"}, 3:{\"Squires\":\"5376774764\",\"Li\":\"27664684\"}}\n",
    "\tin addition a dictionnary of list per position can be provided to fiter out lines \n",
    "\twith specific values :\n",
    "\tfilter_dict =  { 0:[\"chr2\", \"chr4\"], 1:[\"46767\", \"87765\"], 5:[\"76559\", \"77543\"]}"
   ]
  },
  {
   "cell_type": "code",
   "execution_count": 42,
   "metadata": {
    "collapsed": false
   },
   "outputs": [
    {
     "name": "stdout",
     "output_type": "stream",
     "text": [
      "194 Lines processed\t194 Lines pass\t0 Lines filtered out\t0 Lines fail\n",
      "\n",
      "# New header\n",
      "chr1\t631539\t631540\tm5C|*|HeLa|22344696\t-\t+\n",
      "chr1\t631540\t631541\tm5C|*|HeLa|22344696\t-\t+\n",
      "chr1\t632285\t632286\tm5C|*|HeLa|22344696\t-\t+\n",
      "chr1\t632286\t632287\tm5C|*|HeLa|22344696\t-\t+\n",
      "chr1\t633058\t633059\tm5C|*|HeLa|22344696\t-\t+\n",
      "chr1\t633062\t633063\tm5C|*|HeLa|22344696\t-\t+\n",
      "chr1\t634423\t634424\tm5C|*|HeLa|22344696\t-\t+\n",
      "chr1\t634424\t634425\tm5C|*|HeLa|22344696\t-\t+\n",
      "chr1\t634653\t634654\tm5C|*|HeLa|22344696\t-\t+\n"
     ]
    }
   ],
   "source": [
    "reformat_table(\n",
    "    input_file=\"./test_data/Small_m5C_Squires_hg38.bed\",\n",
    "    output_file=\"./test_data/Small_m5C_Squires_hg38_reformat.bed\",\n",
    "    init_template=[0,\"\\t\",1,\"\\t\",2,\"\\t\",3,\"|\",4,\"\\t\",5,\"\\t\",6],\n",
    "    final_template=[0,\"\\t\",1,\"\\t\",2,\"\\tm5C|*|HeLa|22344696\\t-\\t\",6],\n",
    "    replace_internal_space='_',\n",
    "    replace_null_val=\"*\",\n",
    "    keep_original_header=False,\n",
    "    header=\"# New header\\n\"\n",
    "    )\n",
    "\n",
    "head (\"./test_data/Small_m5C_Squires_hg38_reformat.bed\")"
   ]
  },
  {
   "cell_type": "code",
   "execution_count": 31,
   "metadata": {
    "collapsed": false,
    "scrolled": true
   },
   "outputs": [
    {
     "name": "stdout",
     "output_type": "stream",
     "text": [
      "194 Lines processed\t139 Lines pass\t55 Lines filtered out\t0 Lines fail\n",
      "\n",
      "0\t# Transcriptome-wide map of editing sites [hg38 coordinates]\n",
      "1\t# Reference: Peng et al., Nat. Biotechnol. 30, 253 (2012) [PMID 22327324, DOI 10.1038/nbt.2122]\n",
      "2\t#\n",
      "3\t# Data cleaned and converted to BED6, coordinate conversion to hg38 using liftOver.\n",
      "4\t# Maintainer: Maurits Evers (maurits.evers@anu.edu.au)\n",
      "5\t#\n",
      "6\t1\t1251840\t1251841\tA>G|22344696|HeLa|-\t56.25\t-\n",
      "7\t1\t1252243\t1252244\tA>G|22344696|HeLa|-\t19.44\t-\n",
      "8\t1\t1663537\t1663538\tA>G|22344696|HeLa|CDK11B;SLC35E2\t24.67\t-\n",
      "9\t1\t1663538\t1663539\tA>G|22344696|HeLa|CDK11B;SLC35E2\t4.82\t-\n",
      "\n",
      "141\t1\t9173262\t9173263\tA>G|22344696|HeLa|-\t43.24\t-\n",
      "142\t1\t9173454\t9173455\tA>G|22344696|HeLa|-\t35.14\t-\n",
      "143\t1\t9173533\t9173534\tA>G|22344696|HeLa|-\t24.10\t-\n",
      "144\t1\t9173535\t9173536\tA>G|22344696|HeLa|-\t66.15\t-\n",
      "\n"
     ]
    }
   ],
   "source": [
    "subst_dict = {0:{\"chr1\":\"1\", \"chr2\":\"2\"}, 3:{\"Peng\":\"22344696\"}}\n",
    "filter_dict = {18:[\"intron\"]}\n",
    "\n",
    "reformat_table(\n",
    "    input_file=\"./test_data/Small_editing_Peng_hg38.bed\",\n",
    "    output_file=\"./test_data/Small_editing_Peng_hg38_reformat.bed\",\n",
    "    init_template=[0,\"\\t\",1,\"\\t\",2,\"\\t\",3,\"|\",4,\"|\",5,\"|\",6,\"|\",7,\"|\",8,\"|\",9,\"->\",10,\"|\",11,\"%|\",12,\"|\",13,\"|\",14,\"|\",15,\"|\",16,\"|\",17,\"|\",18,\"|\",19,\"\\t\",20,\"\\t\",21],\n",
    "    final_template=[0,\"\\t\",1,\"\\t\",2,\"\\t\",9,\">\",10,\"|\",3,\"|HeLa|\",19,\"\\t\",11,\"\\t\",21],\n",
    "    replace_internal_space='_',\n",
    "    replace_null_val=\"*\",\n",
    "    subst_dict = subst_dict,\n",
    "    filter_dict = filter_dict\n",
    "    )\n",
    "\n",
    "n_lines = fastcount(\"./test_data/Small_editing_Peng_hg38_reformat.bed\")\n",
    "linerange (\"./test_data/Small_editing_Peng_hg38_reformat.bed\", [[0,9], [n_lines-4, n_lines-1]])"
   ]
  },
  {
   "cell_type": "code",
   "execution_count": 32,
   "metadata": {
    "collapsed": false
   },
   "outputs": [
    {
     "name": "stdout",
     "output_type": "stream",
     "text": [
      "194 Lines processed\t9 Lines pass\t185 Lines filtered out\t0 Lines fail\n",
      "\n",
      "0\t# Transcriptome-wide map of editing sites [hg38 coordinates]\n",
      "1\t# Reference: Peng et al., Nat. Biotechnol. 30, 253 (2012) [PMID 22327324, DOI 10.1038/nbt.2122]\n",
      "2\t#\n",
      "3\t# Data cleaned and converted to BED6, coordinate conversion to hg38 using liftOver.\n",
      "4\t# Maintainer: Maurits Evers (maurits.evers@anu.edu.au)\n",
      "5\t#\n",
      "6\tchr1\t1317060\t1317061\tA>G|Peng|HeLa|CPSF3L\t72.73\t-\n",
      "7\tchr1\t1732994\t1732995\tA>G|Peng|HeLa|SLC35E2\t77.78\t-\n",
      "8\tchr1\t1733057\t1733058\tA>G|Peng|HeLa|SLC35E2\t70.00\t-\n",
      "9\tchr1\t1734418\t1734419\tA>G|Peng|HeLa|SLC35E2\t80.00\t-\n",
      "\n",
      "11\tchr1\t6649427\t6649428\tA>G|Peng|HeLa|DNAJC11\t70.59\t-\n",
      "12\tchr1\t7894812\t7894813\tA>G|Peng|HeLa|-\t71.43\t-\n",
      "13\tchr1\t7909848\t7909849\tA>G|Peng|HeLa|-\t81.82\t-\n",
      "14\tchr1\t9170342\t9170343\tA>G|Peng|HeLa|-\t70.75\t-\n",
      "\n"
     ]
    }
   ],
   "source": [
    "predicate = lambda val_list: float(val_list[11]) >= 70 \n",
    "\n",
    "reformat_table(\n",
    "    input_file=\"./test_data/Small_editing_Peng_hg38.bed\",\n",
    "    output_file=\"./test_data/Small_editing_Peng_hg38_reformat.bed\",\n",
    "    init_template=[0,\"\\t\",1,\"\\t\",2,\"\\t\",3,\"|\",4,\"|\",5,\"|\",6,\"|\",7,\"|\",8,\"|\",9,\"->\",10,\"|\",11,\"%|\",12,\"|\",13,\"|\",14,\"|\",15,\"|\",16,\"|\",17,\"|\",18,\"|\",19,\"\\t\",20,\"\\t\",21],\n",
    "    final_template=[0,\"\\t\",1,\"\\t\",2,\"\\t\",9,\">\",10,\"|\",3,\"|HeLa|\",19,\"\\t\",11,\"\\t\",21],\n",
    "    replace_internal_space='_',\n",
    "    replace_null_val=\"*\",\n",
    "    predicate= predicate\n",
    "    )\n",
    "\n",
    "n_lines = fastcount(\"./test_data/Small_editing_Peng_hg38_reformat.bed\")\n",
    "linerange (\"./test_data/Small_editing_Peng_hg38_reformat.bed\", [[0,9], [n_lines-, n_lines-1]])"
   ]
  },
  {
   "cell_type": "markdown",
   "metadata": {},
   "source": [
    "---\n",
    "# WEB TOOLS"
   ]
  },
  {
   "cell_type": "code",
   "execution_count": 1,
   "metadata": {
    "collapsed": false
   },
   "outputs": [],
   "source": [
    "from pycl import url_exist, wget\n",
    "from os import remove"
   ]
  },
  {
   "cell_type": "markdown",
   "metadata": {},
   "source": [
    "## Test _url_exist\n",
    "    def url_exist (url):\n",
    "    Predicate verifying if an url exist without downloading all the link"
   ]
  },
  {
   "cell_type": "code",
   "execution_count": 2,
   "metadata": {
    "collapsed": false,
    "scrolled": true
   },
   "outputs": [
    {
     "data": {
      "text/plain": [
       "True"
      ]
     },
     "execution_count": 2,
     "metadata": {},
     "output_type": "execute_result"
    }
   ],
   "source": [
    "url_exist(\"http://www.google.com\") # When this one will be False it will probably be the end of the world"
   ]
  },
  {
   "cell_type": "code",
   "execution_count": 3,
   "metadata": {
    "collapsed": false
   },
   "outputs": [
    {
     "data": {
      "text/plain": [
       "False"
      ]
     },
     "execution_count": 3,
     "metadata": {},
     "output_type": "execute_result"
    }
   ],
   "source": [
    "url_exist(\"http://www.JUYGKUYHGJHFJ.com\")"
   ]
  },
  {
   "cell_type": "markdown",
   "metadata": {},
   "source": [
    "# Test wget\n",
    "    def wget(url, out_name=\"\", progress_block=100000000):\n",
    "\n",
    "    Download a file from an URL to a local storage.\n",
    "    @param  url             A internet URL pointing to the file to download\n",
    "    @param  outname         Name of the outfile where (facultative)\n",
    "    @param  progress_block  size of the byte block for the progression of the download"
   ]
  },
  {
   "cell_type": "code",
   "execution_count": 4,
   "metadata": {
    "collapsed": false
   },
   "outputs": [
    {
     "name": "stdout",
     "output_type": "stream",
     "text": [
      "unknown url type: ''\n"
     ]
    }
   ],
   "source": [
    "outfile = wget(\"\")\n",
    "if outfile:\n",
    "    print(outfile)\n",
    "    remove(outfile)"
   ]
  },
  {
   "cell_type": "code",
   "execution_count": 5,
   "metadata": {
    "collapsed": false
   },
   "outputs": [
    {
     "name": "stdout",
     "output_type": "stream",
     "text": [
      "HTTP Error 404: Not Found\n"
     ]
    }
   ],
   "source": [
    "outfile = wget(\"https://github.com/a-slidaster/test_data/RADAR_Secondary.txt.gz\")\n",
    "if outfile:\n",
    "    print(outfile)\n",
    "    remove(outfile)"
   ]
  },
  {
   "cell_type": "code",
   "execution_count": 6,
   "metadata": {
    "collapsed": false
   },
   "outputs": [
    {
     "name": "stdout",
     "output_type": "stream",
     "text": [
      "Downloading: https://github.com/a-slide/pycl/blob/master/test_data/RADAR_Secondary.txt.gz\tSize unknown\n",
      "16.4 kB Downloaded\n",
      "24.6 kB Downloaded\n",
      "30.3 kB Downloaded\n",
      "30.3 kB Downloaded\n",
      "RADAR_Secondary.txt.gz\n"
     ]
    }
   ],
   "source": [
    "outfile = wget(\"https://github.com/a-slide/pycl/blob/master/test_data/RADAR_Secondary.txt.gz\", progress_block=10000)\n",
    "if outfile:\n",
    "    print(outfile)\n",
    "    remove(outfile)"
   ]
  },
  {
   "cell_type": "code",
   "execution_count": 6,
   "metadata": {
    "collapsed": false
   },
   "outputs": [
    {
     "name": "stdout",
     "output_type": "stream",
     "text": [
      "Downloading: https://www.encodeproject.org/files/ENCFF000HJC/@@download/ENCFF000HJC.bigWig\tBytes: 258930225\n",
      "50.0 MB Downloaded\t[19.31 %]\n",
      "100.0 MB Downloaded\t[38.62 %]\n",
      "150.0 MB Downloaded\t[57.93 %]\n",
      "200.0 MB Downloaded\t[77.24 %]\n",
      "250.0 MB Downloaded\t[96.55 %]\n",
      "258.9 MB Downloaded\t[100 %]\n",
      "test.bigWig\n"
     ]
    }
   ],
   "source": [
    "outfile = wget(\"https://www.encodeproject.org/files/ENCFF000HJC/@@download/ENCFF000HJC.bigWig\", \"test.bigWig\", 50000000)\n",
    "if outfile:\n",
    "    print(outfile)\n",
    "    remove(outfile)"
   ]
  },
  {
   "cell_type": "code",
   "execution_count": 10,
   "metadata": {
    "collapsed": false
   },
   "outputs": [
    {
     "data": {
      "text/plain": [
       "2"
      ]
     },
     "execution_count": 10,
     "metadata": {},
     "output_type": "execute_result"
    }
   ],
   "source": []
  }
 ],
 "metadata": {
  "kernelspec": {
   "display_name": "Python 3",
   "language": "python",
   "name": "python3"
  },
  "language_info": {
   "codemirror_mode": {
    "name": "ipython",
    "version": 3
   },
   "file_extension": ".py",
   "mimetype": "text/x-python",
   "name": "python",
   "nbconvert_exporter": "python",
   "pygments_lexer": "ipython3",
   "version": "3.5.1+"
  }
 },
 "nbformat": 4,
 "nbformat_minor": 0
}
