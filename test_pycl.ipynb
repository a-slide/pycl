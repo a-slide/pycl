{
 "cells": [
  {
   "cell_type": "markdown",
   "metadata": {},
   "source": [
    "# Test bash"
   ]
  },
  {
   "cell_type": "code",
   "execution_count": 1,
   "metadata": {
    "collapsed": false
   },
   "outputs": [],
   "source": [
    "from pycl import bash\n",
    "\n",
    "# Sent basic bash command\n",
    "# def bash(cmd):"
   ]
  },
  {
   "cell_type": "code",
   "execution_count": 2,
   "metadata": {
    "collapsed": false,
    "scrolled": true
   },
   "outputs": [
    {
     "name": "stdout",
     "output_type": "stream",
     "text": [
      "total 92\n",
      "-rw-rw-r-- 1 aleg aleg 35141 Jun  6 10:20 LICENSE\n",
      "drwxrwxr-x 2 aleg aleg  4096 Jun  8 12:12 __pycache__\n",
      "-rwxrwxrwx 1 aleg aleg 11108 Jun  8 12:12 pycl.py\n",
      "-rwxrwxrwx 1 aleg aleg   143 Jun  5 17:57 README.md\n",
      "drwxrwxr-x 2 aleg aleg  4096 Jun  6 15:28 test_data\n",
      "-rw-rw-r-- 1 aleg aleg 31256 Jun  8 12:12 test_pycl.ipynb\n",
      "\n",
      "\n"
     ]
    }
   ],
   "source": [
    "bash(\"ls -l\")"
   ]
  },
  {
   "cell_type": "code",
   "execution_count": 3,
   "metadata": {
    "collapsed": false
   },
   "outputs": [
    {
     "name": "stdout",
     "output_type": "stream",
     "text": [
      "test\n",
      "\n",
      "\n"
     ]
    }
   ],
   "source": [
    "bash(\"echo test\")"
   ]
  },
  {
   "cell_type": "markdown",
   "metadata": {},
   "source": [
    "# Test Head"
   ]
  },
  {
   "cell_type": "code",
   "execution_count": 25,
   "metadata": {
    "collapsed": false
   },
   "outputs": [],
   "source": [
    "from pycl import head\n",
    "\n",
    "# Emulate linux head cmd \n",
    "# def head (file, n=10, ignore_hashtag_line=False):"
   ]
  },
  {
   "cell_type": "code",
   "execution_count": 5,
   "metadata": {
    "collapsed": false
   },
   "outputs": [
    {
     "name": "stdout",
     "output_type": "stream",
     "text": [
      "#location\treference\ttissue\tcoverage\tediting_level(%)\n",
      "chr1:1037916\tPeng et al 2012\tLymphoblastoid cell line\t9\t66.67\n",
      "chr1:1156882\tPeng et al 2012\tLymphoblastoid cell line\t42\t36.59\n",
      "chr1:1157460\tPeng et al 2012\tLymphoblastoid cell line\t66\t22.73\n",
      "chr1:1252441\tPeng et al 2012\tLymphoblastoid cell line\t11\t72.73\n",
      "chr1:1252443\tPeng et al 2012\tLymphoblastoid cell line\t11\t45.45\n",
      "chr1:1253357\tPeng et al 2012\tLymphoblastoid cell line\t31\t32.26\n"
     ]
    }
   ],
   "source": [
    "file = \"./test_data/RADAR_Secondary.txt\"\n",
    "head (file, n=7)"
   ]
  },
  {
   "cell_type": "code",
   "execution_count": 6,
   "metadata": {
    "collapsed": false
   },
   "outputs": [
    {
     "name": "stdout",
     "output_type": "stream",
     "text": [
      "chr1\t206256301\tC1orf186\t-\tintronic\tintronic\tno\tno\tN\tN\tN\n",
      "chr6\t116991832\tintergenic\t-\tintergenic\tintergenic\tno\tno\tN\tN\tN\n",
      "chr7\t30504355\tNOD1\t-\tintronic\tintronic\tno\tno\tN\tN\tN\n"
     ]
    }
   ],
   "source": [
    "file = \"./test_data/RADAR_Main.txt\"\n",
    "head (file, n=3, ignore_hashtag_line=True)"
   ]
  },
  {
   "cell_type": "markdown",
   "metadata": {},
   "source": [
    "# Test linerange"
   ]
  },
  {
   "cell_type": "code",
   "execution_count": 7,
   "metadata": {
    "collapsed": false,
    "scrolled": true
   },
   "outputs": [],
   "source": [
    "from pycl import linerange\n",
    "\n",
    "# Print a range of lines in a file according to a list of start end lists \n",
    "#def linerange (file, range_list=[[0,10]]):"
   ]
  },
  {
   "cell_type": "code",
   "execution_count": 8,
   "metadata": {
    "collapsed": false,
    "scrolled": true
   },
   "outputs": [
    {
     "name": "stdout",
     "output_type": "stream",
     "text": [
      "0\t#location\treference\ttissue\tcoverage\tediting_level(%)\n",
      "1\tchr1:1037916\tPeng et al 2012\tLymphoblastoid cell line\t9\t66.67\n",
      "2\tchr1:1156882\tPeng et al 2012\tLymphoblastoid cell line\t42\t36.59\n",
      "3\tchr1:1157460\tPeng et al 2012\tLymphoblastoid cell line\t66\t22.73\n",
      "4\tchr1:1252441\tPeng et al 2012\tLymphoblastoid cell line\t11\t72.73\n",
      "5\tchr1:1252443\tPeng et al 2012\tLymphoblastoid cell line\t11\t45.45\n",
      "\n",
      "10\tchr1:1594977\tPeng et al 2012\tLymphoblastoid cell line\t227\t24.67\n",
      "11\tchr1:1594978\tPeng et al 2012\tLymphoblastoid cell line\t228\t4.82\n",
      "\n",
      "75\tchr1:6710585\tPeng et al 2012\tLymphoblastoid cell line\t30\t65.52\n",
      "76\tchr1:6710595\tPeng et al 2012\tLymphoblastoid cell line\t28\t50.00\n",
      "77\tchr1:6941764\tPeng et al 2012\tLymphoblastoid cell line\t7\t57.14\n",
      "78\tchr1:7908257\tPeng et al 2012\tLymphoblastoid cell line\t10\t40.00\n",
      "79\tchr1:7980494\tPeng et al 2012\tLymphoblastoid cell line\t38\t24.32\n",
      "80\tchr1:7980525\tPeng et al 2012\tLymphoblastoid cell line\t24\t37.50\n",
      "\n",
      "98\tchr1:10602697\tPeng et al 2012\tLymphoblastoid cell line\t5\t60.00\n",
      "99\tchr1:11138237\tPeng et al 2012\tLymphoblastoid cell line\t14\t42.86\n",
      "End coordinate out of line range: 105\n",
      "\n"
     ]
    }
   ],
   "source": [
    "file = \"./test_data/RADAR_Secondary.txt\"\n",
    "linerange (file, [[0,5],[10,11],[75,80],[98,105]])"
   ]
  },
  {
   "cell_type": "markdown",
   "metadata": {},
   "source": [
    "# Test fastcount"
   ]
  },
  {
   "cell_type": "code",
   "execution_count": 1,
   "metadata": {
    "collapsed": false
   },
   "outputs": [],
   "source": [
    "from pycl import fastcount\n",
    "\n",
    "# Efficient way to count the number of lines in a file\n",
    "# def fastcount(file):"
   ]
  },
  {
   "cell_type": "code",
   "execution_count": 2,
   "metadata": {
    "collapsed": false
   },
   "outputs": [
    {
     "data": {
      "text/plain": [
       "200"
      ]
     },
     "execution_count": 2,
     "metadata": {},
     "output_type": "execute_result"
    }
   ],
   "source": [
    "fastcount(\"./test_data/Small_editing_Peng_hg38.bed\")"
   ]
  },
  {
   "cell_type": "markdown",
   "metadata": {},
   "source": [
    "# Test simplecount"
   ]
  },
  {
   "cell_type": "code",
   "execution_count": 3,
   "metadata": {
    "collapsed": true
   },
   "outputs": [],
   "source": [
    "from pycl import simplecount\n",
    "# Simple way to count the number of lines in a file with more options\n",
    "# def simplecount(filename, ignore_hashtag_line=False):"
   ]
  },
  {
   "cell_type": "code",
   "execution_count": 4,
   "metadata": {
    "collapsed": false
   },
   "outputs": [
    {
     "data": {
      "text/plain": [
       "200"
      ]
     },
     "execution_count": 4,
     "metadata": {},
     "output_type": "execute_result"
    }
   ],
   "source": [
    "simplecount(\"./test_data/Small_editing_Peng_hg38.bed\")"
   ]
  },
  {
   "cell_type": "code",
   "execution_count": 5,
   "metadata": {
    "collapsed": false
   },
   "outputs": [
    {
     "data": {
      "text/plain": [
       "194"
      ]
     },
     "execution_count": 5,
     "metadata": {},
     "output_type": "execute_result"
    }
   ],
   "source": [
    "simplecount(\"./test_data/Small_editing_Peng_hg38.bed\", ignore_hashtag_line=True)"
   ]
  },
  {
   "cell_type": "markdown",
   "metadata": {},
   "source": [
    "# Test dict_to_md"
   ]
  },
  {
   "cell_type": "code",
   "execution_count": 1,
   "metadata": {
    "collapsed": true
   },
   "outputs": [],
   "source": [
    "from pycl import dict_to_md\n",
    "\n",
    "# Def to transform a dict into a markdown formated table\n",
    "# def dict_to_md (d, key_label=\"\", value_label=\"\",\n",
    "# transpose=False, sort_by_key=False, sort_by_val=True, max_items=None):"
   ]
  },
  {
   "cell_type": "code",
   "execution_count": 2,
   "metadata": {
    "collapsed": false
   },
   "outputs": [
    {
     "name": "stdout",
     "output_type": "stream",
     "text": [
      "|Letter|Number|\n",
      "|:---|:---|\n",
      "|e|76|\n",
      "|d|56|\n",
      "|b|14|\n",
      "|a|12|\n",
      "|c|8|\n",
      "\n"
     ]
    }
   ],
   "source": [
    "d = {\"a\":12,\"b\":14,\"c\":8,\"d\":56,\"e\":76}\n",
    "print (dict_to_md(d, \"Letter\", \"Number\", sort_by_val=True))"
   ]
  },
  {
   "cell_type": "code",
   "execution_count": 4,
   "metadata": {
    "collapsed": false,
    "scrolled": false
   },
   "outputs": [
    {
     "name": "stdout",
     "output_type": "stream",
     "text": [
      "|Letter|e|d|...|\n",
      "|:---|:---|:---|:---|\n",
      "|Number|76|56|...|\n",
      "\n"
     ]
    }
   ],
   "source": [
    "d = {\"a\":12,\"b\":14,\"c\":8,\"d\":56,\"e\":76}\n",
    "print (dict_to_md(d, \"Letter\", \"Number\", transpose=True, max_items=2))"
   ]
  },
  {
   "cell_type": "markdown",
   "metadata": {},
   "source": [
    "# Test dict_to_report"
   ]
  },
  {
   "cell_type": "code",
   "execution_count": 2,
   "metadata": {
    "collapsed": false
   },
   "outputs": [],
   "source": [
    "from pycl import dict_to_report\n",
    "# Recursive function to return a text report from nested dict or OrderedDict objects\n",
    "# def dict_to_report (\n",
    "#    d,\n",
    "#    tab=\"\\t\",\n",
    "#    ntab=0,\n",
    "#    sep=\":\",\n",
    "#    sort_dict=True,\n",
    "#    max_items=None):"
   ]
  },
  {
   "cell_type": "code",
   "execution_count": 4,
   "metadata": {
    "collapsed": false
   },
   "outputs": [
    {
     "name": "stdout",
     "output_type": "stream",
     "text": [
      "a:12\n",
      "b:14\n",
      "c\n",
      "--c1:12\n",
      "--c2\n",
      "----c2.2:765\n",
      "----c2.1:33221\n",
      "--c3:32\n",
      "--c4:443\n",
      "d:56\n",
      "e:76\n",
      "\n"
     ]
    }
   ],
   "source": [
    "d = {\"a\":12,\"b\":14,\"c\":{\"c1\":12,\"c2\":{\"c2.1\":33221,\"c2.2\":765},\"c3\":32,\"c4\":443},\"d\":56,\"e\":76}\n",
    "print(dict_to_report(d, tab=\"--\"))"
   ]
  },
  {
   "cell_type": "code",
   "execution_count": 4,
   "metadata": {
    "collapsed": false
   },
   "outputs": [
    {
     "name": "stdout",
     "output_type": "stream",
     "text": [
      "a:12\n",
      "b:14\n",
      "c\n",
      "--c1:12\n",
      "--c2\n",
      "----c2.5:876543\n",
      "----c2.6:89765\n",
      "----...:...\n",
      "--c3:32\n",
      "--c4:443\n",
      "d:56\n",
      "e:76\n",
      "\n"
     ]
    }
   ],
   "source": [
    "d = {\"a\":12,\"b\":14,\"c\":{\"c1\":12,\"c2\":{\"c2.1\":33221,\"c2.2\":765, \"c2.3\":7533,\"c2.4\":76433,\"c2.5\":876543,\"c2.6\":89765,\"c2.7\":8654},\"c3\":32,\"c4\":443},\"d\":56,\"e\":76}\n",
    "print(dict_to_report(d, tab=\"--\", max_items=2, sort_dict=True))"
   ]
  },
  {
   "cell_type": "markdown",
   "metadata": {},
   "source": [
    "# Test supesplit"
   ]
  },
  {
   "cell_type": "code",
   "execution_count": 15,
   "metadata": {
    "collapsed": true
   },
   "outputs": [],
   "source": [
    "from pycl import supersplit\n",
    "\n",
    "# like split but can take a list of separators instead of a simple separator \n",
    "# def supersplit (string, separator=\"\"):"
   ]
  },
  {
   "cell_type": "code",
   "execution_count": 16,
   "metadata": {
    "collapsed": false
   },
   "outputs": [
    {
     "name": "stdout",
     "output_type": "stream",
     "text": [
      "['chr7', '74138', '774138', 'A>I', 'LOC100129917', 'LUNG:LYMPHOBLASTOID_CELL_LINE', '15342557:15258596:22327324', '0']\n",
      "['chr7', '74138', '774138', 'A>I|LOC100129917|LUNG:LYMPHOBLASTOID_CELL_LINE|15342557:15258596:22327324', '0']\n",
      "['chr7\\t74138\\t774138\\tA>I', 'LOC100129917', 'LUNG:LYMPHOBLASTOID_CELL_LINE', '15342557:15258596:22327324\\t0']\n"
     ]
    }
   ],
   "source": [
    "a = \"chr7\\t74138\\t774138\\tA>I|LOC100129917|LUNG:LYMPHOBLASTOID_CELL_LINE|15342557:15258596:22327324\\t0\"\n",
    "\n",
    "print(supersplit(a, [\"\\t\",\"|\"]))\n",
    "\n",
    "print(supersplit(a))\n",
    "\n",
    "print(supersplit(a, \"|\"))"
   ]
  },
  {
   "cell_type": "markdown",
   "metadata": {},
   "source": [
    "# Test colsum"
   ]
  },
  {
   "cell_type": "code",
   "execution_count": 1,
   "metadata": {
    "collapsed": false
   },
   "outputs": [],
   "source": [
    "from pycl import colsum\n",
    "\n",
    "# Create a summary of selected columns of a file\n",
    "#def colsum (file, colrange=None, separator=\"\", header=False, ignore_hashtag_line=False, max_items=10, ret_type=\"md\"):\n",
    "    # Possible return types: md = markdown formated table, dict = raw parsing dict"
   ]
  },
  {
   "cell_type": "code",
   "execution_count": 2,
   "metadata": {
    "collapsed": false,
    "scrolled": true
   },
   "outputs": [
    {
     "name": "stdout",
     "output_type": "stream",
     "text": [
      "Header found\n",
      "Found 11 colums\n",
      "First line found\n",
      "|#chromosome|chr1|chr17|chr9|chr15|chr6|chr14|chr18|chr2|chrY|chr4|...|\n",
      "|:---|:---|:---|:---|:---|:---|:---|:---|:---|:---|:---|:---|\n",
      "|Count|4|3|2|2|2|1|1|1|1|1|...|\n",
      "\n",
      "|position|5246885|229588105|23442109|18905895|228845758|16694083|109795329|26367531|82255420|36553542|...|\n",
      "|:---|:---|:---|:---|:---|:---|:---|:---|:---|:---|:---|:---|\n",
      "|Count|1|1|1|1|1|1|1|1|1|1|...|\n",
      "\n",
      "|gene|RABEP1|NUP133|JUB|GREB1L|SPHKAP|NLGN4Y|CELSR2|RBPJ|TLE4|SOCS7|...|\n",
      "|:---|:---|:---|:---|:---|:---|:---|:---|:---|:---|:---|:---|\n",
      "|Count|1|1|1|1|1|1|1|1|1|1|...|\n",
      "\n",
      "|strand|-|+|\n",
      "|:---|:---|:---|\n",
      "|Count|10|9|\n",
      "\n",
      "|annot1|intronic|3UTR|Syn|intergenic|\n",
      "|:---|:---|:---|:---|:---|\n",
      "|Count|14|2|2|1|\n",
      "\n",
      "|annot2|intronic|3UTR|Leu->Leu|Gln->Gln|intergenic|\n",
      "|:---|:---|:---|:---|:---|:---|\n",
      "|Count|14|2|1|1|1|\n",
      "\n",
      "|alu?|no|\n",
      "|:---|:---|\n",
      "|Count|19|\n",
      "\n",
      "|non_alu_repetitive?|no|\n",
      "|:---|:---|\n",
      "|Count|19|\n",
      "\n",
      "|conservation_chimp|N|\n",
      "|:---|:---|\n",
      "|Count|19|\n",
      "\n",
      "|conservation_rhesus|N|\n",
      "|:---|:---|\n",
      "|Count|19|\n",
      "\n",
      "|conservation_mouse|N|\n",
      "|:---|:---|\n",
      "|Count|19|\n",
      "\n",
      "\n"
     ]
    }
   ],
   "source": [
    "print(colsum(\"./test_data/RADAR_Main.txt\", header=True))"
   ]
  },
  {
   "cell_type": "code",
   "execution_count": 3,
   "metadata": {
    "collapsed": false,
    "scrolled": true
   },
   "outputs": [
    {
     "name": "stdout",
     "output_type": "stream",
     "text": [
      "Header found\n",
      "Found 11 colums\n",
      "First line found\n"
     ]
    },
    {
     "data": {
      "text/plain": [
       "OrderedDict([(0,\n",
       "              OrderedDict([('chr1', 4),\n",
       "                           ('chr6', 2),\n",
       "                           ('chr7', 1),\n",
       "                           ('chr15', 2),\n",
       "                           ('chr9', 2),\n",
       "                           ('chr17', 3),\n",
       "                           ('chr4', 1),\n",
       "                           ('chrY', 1),\n",
       "                           ('chr2', 1),\n",
       "                           ('chr18', 1),\n",
       "                           ('chr14', 1)])),\n",
       "             (1,\n",
       "              OrderedDict([('206256301', 1),\n",
       "                           ('116991832', 1),\n",
       "                           ('30504355', 1),\n",
       "                           ('85127959', 1),\n",
       "                           ('100203261', 1),\n",
       "                           ('102372915', 1),\n",
       "                           ('135788925', 1),\n",
       "                           ('74414054', 1),\n",
       "                           ('73069310', 1),\n",
       "                           ('36553542', 1),\n",
       "                           ('82255420', 1),\n",
       "                           ('26367531', 1),\n",
       "                           ('109795329', 1),\n",
       "                           ('16694083', 1),\n",
       "                           ('228845758', 1),\n",
       "                           ('18905895', 1),\n",
       "                           ('23442109', 1),\n",
       "                           ('229588105', 1),\n",
       "                           ('5246885', 1)])),\n",
       "             (2,\n",
       "              OrderedDict([('C1orf186', 1),\n",
       "                           ('intergenic', 1),\n",
       "                           ('NOD1', 1),\n",
       "                           ('SSX2IP', 1),\n",
       "                           ('MEF2A', 1),\n",
       "                           ('GRIK2', 1),\n",
       "                           ('TSC1', 1),\n",
       "                           ('UBE2O', 1),\n",
       "                           ('ADPGK', 1),\n",
       "                           ('SOCS7', 1),\n",
       "                           ('TLE4', 1),\n",
       "                           ('RBPJ', 1),\n",
       "                           ('CELSR2', 1),\n",
       "                           ('NLGN4Y', 1),\n",
       "                           ('SPHKAP', 1),\n",
       "                           ('GREB1L', 1),\n",
       "                           ('JUB', 1),\n",
       "                           ('NUP133', 1),\n",
       "                           ('RABEP1', 1)])),\n",
       "             (3, OrderedDict([('-', 10), ('+', 9)])),\n",
       "             (4,\n",
       "              OrderedDict([('intronic', 14),\n",
       "                           ('intergenic', 1),\n",
       "                           ('Syn', 2),\n",
       "                           ('3UTR', 2)])),\n",
       "             (5,\n",
       "              OrderedDict([('intronic', 14),\n",
       "                           ('intergenic', 1),\n",
       "                           ('Gln->Gln', 1),\n",
       "                           ('Leu->Leu', 1),\n",
       "                           ('3UTR', 2)])),\n",
       "             (6, OrderedDict([('no', 19)])),\n",
       "             (7, OrderedDict([('no', 19)])),\n",
       "             (8, OrderedDict([('N', 19)])),\n",
       "             (9, OrderedDict([('N', 19)])),\n",
       "             (10, OrderedDict([('N', 19)]))])"
      ]
     },
     "execution_count": 3,
     "metadata": {},
     "output_type": "execute_result"
    }
   ],
   "source": [
    "colsum(\"./test_data/RADAR_Main.txt\", header=True, ret_type=\"dict\")"
   ]
  },
  {
   "cell_type": "code",
   "execution_count": 4,
   "metadata": {
    "collapsed": false,
    "scrolled": true
   },
   "outputs": [
    {
     "name": "stdout",
     "output_type": "stream",
     "text": [
      "Header found\n",
      "Found 9 colums\n",
      "First line found\n",
      "0\n",
      "\tchr1\t997\n",
      "1\n",
      "\t225974746\t1\n",
      "\t225974735\t1\n",
      "\t225974581\t1\n",
      "\t224599486\t1\n",
      "\t224584888\t1\n",
      "\t224579366\t1\n",
      "\t224443385\t1\n",
      "\t224443384\t1\n",
      "\t224373930\t1\n",
      "\t222888136\t1\n",
      "\t...\t...\n",
      "2\n",
      "\t225974746\t1\n",
      "\t225974735\t1\n",
      "\t225974581\t1\n",
      "\t224599486\t1\n",
      "\t224584888\t1\n",
      "\t224579366\t1\n",
      "\t224443385\t1\n",
      "\t224443384\t1\n",
      "\t224373930\t1\n",
      "\t222888136\t1\n",
      "\t...\t...\n",
      "3\n",
      "\tA>I\t997\n",
      "4\n",
      "\tFDPS\t34\n",
      "\tMDM4\t31\n",
      "\tCTSS\t28\n",
      "\tDNAJC11\t25\n",
      "\tS100PBP\t24\n",
      "\tASH1L\t20\n",
      "\tMCOLN2\t20\n",
      "\tDAP3\t19\n",
      "\tPSMA5\t19\n",
      "\tINPP5B\t19\n",
      "\t...\t...\n",
      "5\n",
      "\tYH\t997\n",
      "6\n",
      "\t22327324\t997\n",
      "7\n",
      "\t33.33\t31\n",
      "\t66.67\t31\n",
      "\t50.00\t23\n",
      "\t57.14\t22\n",
      "\t60.00\t22\n",
      "\t40.00\t20\n",
      "\t44.44\t17\n",
      "\t45.45\t17\n",
      "\t42.86\t16\n",
      "\t62.50\t13\n",
      "\t...\t...\n",
      "8\n",
      "\t-\t527\n",
      "\t+\t470\n",
      "\n"
     ]
    }
   ],
   "source": [
    "print(colsum(\"./test_data/RADAR_clean.txt\",header=True, ignore_hashtag_line=True, ret_type=\"report\", separator=[\"\\t\",\"|\"]))"
   ]
  },
  {
   "cell_type": "code",
   "execution_count": 5,
   "metadata": {
    "collapsed": false,
    "scrolled": true
   },
   "outputs": [
    {
     "name": "stdout",
     "output_type": "stream",
     "text": [
      "Header found\n",
      "Found 9 colums\n",
      "First line found\n",
      "|chrom|chr1|\n",
      "|:---|:---|\n",
      "|Count|997|\n",
      "|chromstart|225974746|225974735|225974581|224599486|224584888|224579366|224443385|224443384|224373930|222888136|...|\n",
      "|:---|:---|:---|:---|:---|:---|:---|:---|:---|:---|:---|:---|\n",
      "|Count|1|1|1|1|1|1|1|1|1|1|...|\n",
      "|chromend|225974746|225974735|225974581|224599486|224584888|224579366|224443385|224443384|224373930|222888136|...|\n",
      "|:---|:---|:---|:---|:---|:---|:---|:---|:---|:---|:---|:---|\n",
      "|Count|1|1|1|1|1|1|1|1|1|1|...|\n",
      "|OriginalBase:EditedBase|A>I|\n",
      "|:---|:---|\n",
      "|Count|997|\n",
      "|loci|FDPS|MDM4|CTSS|DNAJC11|S100PBP|ASH1L|MCOLN2|DAP3|PSMA5|INPP5B|...|\n",
      "|:---|:---|:---|:---|:---|:---|:---|:---|:---|:---|:---|:---|\n",
      "|Count|34|31|28|25|24|20|20|19|19|19|...|\n",
      "|Source1|YH|\n",
      "|:---|:---|\n",
      "|Count|997|\n",
      "|PMID|22327324|\n",
      "|:---|:---|\n",
      "|Count|997|\n",
      "|editing_level|33.33|66.67|50.00|57.14|60.00|40.00|44.44|45.45|42.86|62.50|...|\n",
      "|:---|:---|:---|:---|:---|:---|:---|:---|:---|:---|:---|:---|\n",
      "|Count|31|31|23|22|22|20|17|17|16|13|...|\n",
      "|orient\n",
      "|-|+|\n",
      "|:---|:---|:---|\n",
      "|Count|527|470|\n",
      "\n"
     ]
    }
   ],
   "source": [
    "print(colsum(\"./test_data/RADAR_clean.txt\",header=True, ignore_hashtag_line=True, ret_type=\"md\", separator=[\"\\t\",\"|\"]))"
   ]
  },
  {
   "cell_type": "markdown",
   "metadata": {
    "collapsed": true
   },
   "source": [
    "# Test _decompose_line"
   ]
  },
  {
   "cell_type": "code",
   "execution_count": 22,
   "metadata": {
    "collapsed": false
   },
   "outputs": [],
   "source": [
    "from pycl import _decompose_line\n",
    "\n",
    "# Helper function for reformat_table. Decompose a line and extract the values given a template list\n",
    "# def _decompose_line(line, template):"
   ]
  },
  {
   "cell_type": "code",
   "execution_count": 23,
   "metadata": {
    "collapsed": false
   },
   "outputs": [
    {
     "data": {
      "text/plain": [
       "['chr1', '631539', '631540', '  Squires', 'id1', '0', '+\\n']"
      ]
     },
     "execution_count": 23,
     "metadata": {},
     "output_type": "execute_result"
    }
   ],
   "source": [
    "_decompose_line(\n",
    "    line = \"chr1\t631539\t631540\t  Squires|id1\t0\t+\\n\",\n",
    "    template = [0,\"\\t\",1,\"\\t\",2,\"\\t\",3,\"|\",4,\"\\t\",5,\"\\t\",6]\n",
    "    )"
   ]
  },
  {
   "cell_type": "code",
   "execution_count": 24,
   "metadata": {
    "collapsed": false,
    "scrolled": true
   },
   "outputs": [
    {
     "data": {
      "text/plain": [
       "['chr1', '6315es|id1', '', '+\\n', '', '', '']"
      ]
     },
     "execution_count": 24,
     "metadata": {},
     "output_type": "execute_result"
    }
   ],
   "source": [
    "_decompose_line(\n",
    "    line = \"chr1\t6315es|id1\t\t+\\n\",\n",
    "    template = [0,\"\\t\",1,\"\\t\",2,\"\\t\",3,\"|\",4,\"\\t\",5,\"\\t\",6]\n",
    "    )"
   ]
  },
  {
   "cell_type": "markdown",
   "metadata": {},
   "source": [
    "# Test _clean_values"
   ]
  },
  {
   "cell_type": "code",
   "execution_count": 25,
   "metadata": {
    "collapsed": false
   },
   "outputs": [],
   "source": [
    "from pycl import _clean_values\n",
    "\n",
    "# Helper function for reformat_table. Clean the extracted values\n",
    "# def _clean_values (val_list, replace_internal_space=None, replace_null_val=\"*\", subst_dict={}, filter_dict={}):"
   ]
  },
  {
   "cell_type": "code",
   "execution_count": 26,
   "metadata": {
    "collapsed": false
   },
   "outputs": [
    {
     "data": {
      "text/plain": [
       "['chr1', '6315_es|id1', '*', '+', '*', '*', '*']"
      ]
     },
     "execution_count": 26,
     "metadata": {},
     "output_type": "execute_result"
    }
   ],
   "source": [
    "_clean_values(\n",
    "    val_list=['  chr1', '6315 es|id1', '', '+ \\n', '', '', ''],\n",
    "    replace_internal_space='_',\n",
    "    replace_null_val=\"*\")"
   ]
  },
  {
   "cell_type": "code",
   "execution_count": 27,
   "metadata": {
    "collapsed": false
   },
   "outputs": [
    {
     "data": {
      "text/plain": [
       "['1', '63_1539', '631540', '5376774764', 'id1', '0', '+']"
      ]
     },
     "execution_count": 27,
     "metadata": {},
     "output_type": "execute_result"
    }
   ],
   "source": [
    "# When the value is in the substitution dictionnary the the function return a line whith the \"values\" changed accordingly\n",
    "\n",
    "subst_dict = { 0:{\"chr1\":\"1\", \"chr4\":\"4\"}, 3:{\"Squires\":\"5376774764\"}}\n",
    "\n",
    "_clean_values(\n",
    "    val_list=_decompose_line(line = \"  chr1\t63 1539  \t631540\t  Squires|id1\t0\t+\\n\", template = [0,\"\\t\",1,\"\\t\",2,\"\\t\",3,\"|\",4,\"\\t\",5,\"\\t\",6]),\n",
    "    replace_internal_space = '_',\n",
    "    replace_null_val = \"*\",\n",
    "    subst_dict = subst_dict\n",
    "    )"
   ]
  },
  {
   "cell_type": "code",
   "execution_count": 28,
   "metadata": {
    "collapsed": false
   },
   "outputs": [],
   "source": [
    "# When the value is in the filter dictionnary the function return None\n",
    "\n",
    "filter_dict = { 0:[\"chr1\",\"chr2\"]}\n",
    "\n",
    "_clean_values(\n",
    "    val_list=['chr1', '6315 es|id1', '', '+ \\n', '', '', ''],\n",
    "    replace_internal_space='_',\n",
    "    replace_null_val=\"*\",\n",
    "    filter_dict=filter_dict\n",
    ")"
   ]
  },
  {
   "cell_type": "markdown",
   "metadata": {},
   "source": [
    "# Test _reformat_line"
   ]
  },
  {
   "cell_type": "code",
   "execution_count": 29,
   "metadata": {
    "collapsed": true
   },
   "outputs": [],
   "source": [
    "from pycl import _reformat_line\n",
    "# Helper function for reformat_table. Reassemble a line from a list of values and a template list\n",
    "# _reformat_line (val_list, template)"
   ]
  },
  {
   "cell_type": "code",
   "execution_count": 30,
   "metadata": {
    "collapsed": false,
    "scrolled": true
   },
   "outputs": [
    {
     "name": "stdout",
     "output_type": "stream",
     "text": [
      "chr1\t631539\t631540\tm5C|-|HeLa|22344696\t-\t+\n",
      "\n"
     ]
    }
   ],
   "source": [
    "line = _reformat_line(\n",
    "    val_list=['chr1', '631539', '631540', 'Squires', 'id1', '0', '+'],\n",
    "    template=[0,\"\\t\",1,\"\\t\",2,\"\\tm5C|-|HeLa|22344696\\t-\\t\",6]\n",
    "    )\n",
    "\n",
    "print(line)"
   ]
  },
  {
   "cell_type": "code",
   "execution_count": 31,
   "metadata": {
    "collapsed": false
   },
   "outputs": [
    {
     "name": "stdout",
     "output_type": "stream",
     "text": [
      "chr1\t631539\t631540\tm5C|-|HeLa|22344696\t-\t+\n",
      "\n"
     ]
    }
   ],
   "source": [
    "line = _reformat_line(\n",
    "    val_list=_clean_values(\n",
    "        val_list=_decompose_line(\n",
    "            line = \"chr1\t631539\t631540\t  Squires|id1\t0\t+\\n\",\n",
    "            template = [0,\"\\t\",1,\"\\t\",2,\"\\t\",3,\"|\",4,\"\\t\",5,\"\\t\",6]\n",
    "            ),\n",
    "        replace_internal_space='_',\n",
    "        replace_null_val=\"*\"\n",
    "        ),\n",
    "    template=[0,\"\\t\",1,\"\\t\",2,\"\\tm5C|-|HeLa|22344696\\t-\\t\",6]\n",
    "    )\n",
    "\n",
    "print(line)"
   ]
  },
  {
   "cell_type": "markdown",
   "metadata": {},
   "source": [
    "# Test reformat_table"
   ]
  },
  {
   "cell_type": "code",
   "execution_count": 32,
   "metadata": {
    "collapsed": true
   },
   "outputs": [],
   "source": [
    "from pycl import reformat_table\n",
    "\n",
    "# Reformat a table given an intial and a final line templates indicated as a list where numbers\n",
    "# indicate the data column and strings the formating characters\n",
    "# Example initial line = \"chr1    631539    631540    Squires|id1    0    +\"\n",
    "# Initial template = [0,\"\\t\",1,\"\\t\",2,\"\\t\",3,\"|\",4,\"\\t\",5,\"\\t\",6]\n",
    "# Example final line = \"chr1    631539    631540    m5C|-|HeLa|22344696    -    -\"\n",
    "# Final template = [0,\"\\t\",1,\"\\t\",2,\"\\tm5C|-|HeLa|22344696\\t-\\t\",6]\n",
    "# A nested dictionnary of substitution per position can also be provided to replace\n",
    "# specific values by others :\n",
    "# subst_dict = { 0:{\"chr1\":\"1\",\"chr2\":\"2\"}, 3:{\"Squires\":\"5376774764\",\"Li\":\"27664684\"}}\n",
    "# in addition a dictionnary of list per position can be provided to fiter out lines \n",
    "# with specific values :\n",
    "# filter_dict =  { 0:[\"chr2\", \"chr4\"], 1:[\"46767\", \"87765\"], 5:[\"76559\", \"77543\"]}\n",
    "#\n",
    "#def reformat_table(\n",
    "#    input_file,\n",
    "#    output_file,\n",
    "#    init_template,\n",
    "#    final_template,\n",
    "#    header = '',\n",
    "#    keep_original_header = True,\n",
    "#    replace_internal_space='_',\n",
    "#    replace_null_val=\"*\",\n",
    "#    subst_dict={},\n",
    "#    filter_dict=[]):"
   ]
  },
  {
   "cell_type": "code",
   "execution_count": 33,
   "metadata": {
    "collapsed": false
   },
   "outputs": [
    {
     "name": "stdout",
     "output_type": "stream",
     "text": [
      "# Transcriptome-wide map of m5C [hg38 coordinates]\n",
      "# Reference: Squires et al., Nucleic Acids Res. 40, 5023 (2012) [PMID 22344696, DOI 10.1093/nar/gks144]\n",
      "#\n",
      "# Data cleaned and converted to BED6, coordinate conversion to hg38 using liftOver.\n",
      "# Maintainer: Maurits Evers (maurits.evers@anu.edu.au)\n",
      "#\n",
      "chr1\t631539\t631540\tSquires|id1\t0\t+\n",
      "chr1\t631540\t631541\tSquires|id2\t0\t+\n",
      "chr1\t632285\t632286\tSquires|id3\t0\t+\n",
      "chr1\t632286\t632287\tSquires|id4\t0\t+\n"
     ]
    }
   ],
   "source": [
    "head(\"./test_data/Small_m5C_Squires_hg38.bed\")"
   ]
  },
  {
   "cell_type": "code",
   "execution_count": 34,
   "metadata": {
    "collapsed": false
   },
   "outputs": [
    {
     "name": "stdout",
     "output_type": "stream",
     "text": [
      "194 Lines processed\t194 Lines pass\t0 Lines filtered out\t0 Lines fail\n",
      "\n",
      "# New header\n",
      "chr1\t631539\t631540\tm5C|*|HeLa|22344696\t-\t+\n",
      "chr1\t631540\t631541\tm5C|*|HeLa|22344696\t-\t+\n",
      "chr1\t632285\t632286\tm5C|*|HeLa|22344696\t-\t+\n",
      "chr1\t632286\t632287\tm5C|*|HeLa|22344696\t-\t+\n",
      "chr1\t633058\t633059\tm5C|*|HeLa|22344696\t-\t+\n",
      "chr1\t633062\t633063\tm5C|*|HeLa|22344696\t-\t+\n",
      "chr1\t634423\t634424\tm5C|*|HeLa|22344696\t-\t+\n",
      "chr1\t634424\t634425\tm5C|*|HeLa|22344696\t-\t+\n",
      "chr1\t634653\t634654\tm5C|*|HeLa|22344696\t-\t+\n"
     ]
    }
   ],
   "source": [
    "reformat_table(\n",
    "    input_file=\"./test_data/Small_m5C_Squires_hg38.bed\",\n",
    "    output_file=\"./test_data/Small_m5C_Squires_hg38_reformat.bed\",\n",
    "    init_template=[0,\"\\t\",1,\"\\t\",2,\"\\t\",3,\"|\",4,\"\\t\",5,\"\\t\",6],\n",
    "    final_template=[0,\"\\t\",1,\"\\t\",2,\"\\tm5C|*|HeLa|22344696\\t-\\t\",6],\n",
    "    replace_internal_space='_',\n",
    "    replace_null_val=\"*\",\n",
    "    keep_original_header=False,\n",
    "    header=\"# New header\\n\"\n",
    "    )\n",
    "\n",
    "head (\"./test_data/Small_m5C_Squires_hg38_reformat.bed\")"
   ]
  },
  {
   "cell_type": "code",
   "execution_count": 36,
   "metadata": {
    "collapsed": false
   },
   "outputs": [
    {
     "name": "stdout",
     "output_type": "stream",
     "text": [
      "0\t# Transcriptome-wide map of editing sites [hg38 coordinates]\n",
      "1\t# Reference: Peng et al., Nat. Biotechnol. 30, 253 (2012) [PMID 22327324, DOI 10.1038/nbt.2122]\n",
      "2\t#\n",
      "3\t# Data cleaned and converted to BED6, coordinate conversion to hg38 using liftOver.\n",
      "4\t# Maintainer: Maurits Evers (maurits.evers@anu.edu.au)\n",
      "5\t#\n",
      "6\tchr1\t1102535\t1102536\tPeng|chr1|1027779|-|T|Y|A->G|66.67%|37|C|6|T|3|9|intron|C1orf159\t0\t-\n",
      "7\tchr1\t1221501\t1221502\tPeng|chr1|1146745|-|T|Y|A->G|36.59%|99|T|26|C|15|42|intron|SDF4\t0\t-\n",
      "8\tchr1\t1222079\t1222080\tPeng|chr1|1147323|-|T|Y|A->G|22.73%|94|T|51|C|15|66|intron|SDF4\t0\t-\n",
      "9\tchr1\t1251840\t1251841\tPeng|chr1|1177084|-|T|Y|A->G|56.25%|99|C|9|T|7|16|intergenic|-\t0\t-\n",
      "\n",
      "197\tchr1\t9173454\t9173455\tPeng|chr1|9156101|-|T|Y|A->G|35.14%|99|T|24|C|13|37|intergenic|-\t0\t-\n",
      "198\tchr1\t9173533\t9173534\tPeng|chr1|9156180|-|T|Y|A->G|24.10%|61|T|148|C|47|195|intergenic|-\t0\t-\n",
      "199\tchr1\t9173535\t9173536\tPeng|chr1|9156182|-|T|Y|A->G|66.15%|99|C|129|T|66|195|intergenic|-\t0\t-\n",
      "\n"
     ]
    }
   ],
   "source": [
    "linerange (\"./test_data/Small_editing_Peng_hg38.bed\", [[0,9],[197, 199]])"
   ]
  },
  {
   "cell_type": "code",
   "execution_count": 40,
   "metadata": {
    "collapsed": false
   },
   "outputs": [
    {
     "name": "stdout",
     "output_type": "stream",
     "text": [
      "194 Lines processed\t139 Lines pass\t55 Lines filtered out\t0 Lines fail\n",
      "\n",
      "0\t# Transcriptome-wide map of editing sites [hg38 coordinates]\n",
      "1\t# Reference: Peng et al., Nat. Biotechnol. 30, 253 (2012) [PMID 22327324, DOI 10.1038/nbt.2122]\n",
      "2\t#\n",
      "3\t# Data cleaned and converted to BED6, coordinate conversion to hg38 using liftOver.\n",
      "4\t# Maintainer: Maurits Evers (maurits.evers@anu.edu.au)\n",
      "5\t#\n",
      "6\t1\t1251840\t1251841\tA>G|22344696|HeLa|-\t56.25\t-\n",
      "7\t1\t1252243\t1252244\tA>G|22344696|HeLa|-\t19.44\t-\n",
      "8\t1\t1663537\t1663538\tA>G|22344696|HeLa|CDK11B;SLC35E2\t24.67\t-\n",
      "9\t1\t1663538\t1663539\tA>G|22344696|HeLa|CDK11B;SLC35E2\t4.82\t-\n",
      "\n",
      "Start coordinate out of line range: 197\n",
      "End coordinate out of line range: 199\n",
      "\n"
     ]
    }
   ],
   "source": [
    "subst_dict = {0:{\"chr1\":\"1\", \"chr2\":\"2\"}, 3:{\"Peng\":\"22344696\"}}\n",
    "filter_dict = {18:[\"intron\"]}\n",
    "\n",
    "reformat_table(\n",
    "    input_file=\"./test_data/Small_editing_Peng_hg38.bed\",\n",
    "    output_file=\"./test_data/Small_editing_Peng_hg38_reformat.bed\",\n",
    "    init_template=[0,\"\\t\",1,\"\\t\",2,\"\\t\",3,\"|\",4,\"|\",5,\"|\",6,\"|\",7,\"|\",8,\"|\",9,\"->\",10,\"|\",11,\"%|\",12,\"|\",13,\"|\",14,\"|\",15,\"|\",16,\"|\",17,\"|\",18,\"|\",19,\"\\t\",20,\"\\t\",21],\n",
    "    final_template=[0,\"\\t\",1,\"\\t\",2,\"\\t\",9,\">\",10,\"|\",3,\"|HeLa|\",19,\"\\t\",11,\"\\t\",21],\n",
    "    replace_internal_space='_',\n",
    "    replace_null_val=\"*\",\n",
    "    subst_dict = subst_dict,\n",
    "    filter_dict = filter_dict\n",
    "    )\n",
    "\n",
    "linerange (\"./test_data/Small_editing_Peng_hg38_reformat.bed\", [[0,9],[197, 199]])"
   ]
  }
 ],
 "metadata": {
  "kernelspec": {
   "display_name": "Python 3",
   "language": "python",
   "name": "python3"
  },
  "language_info": {
   "codemirror_mode": {
    "name": "ipython",
    "version": 3
   },
   "file_extension": ".py",
   "mimetype": "text/x-python",
   "name": "python",
   "nbconvert_exporter": "python",
   "pygments_lexer": "ipython3",
   "version": "3.5.1+"
  }
 },
 "nbformat": 4,
 "nbformat_minor": 0
}
