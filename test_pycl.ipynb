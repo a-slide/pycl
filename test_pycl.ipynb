{
 "cells": [
  {
   "cell_type": "markdown",
   "metadata": {},
   "source": [
    "# Test bash"
   ]
  },
  {
   "cell_type": "code",
   "execution_count": 1,
   "metadata": {
    "collapsed": false
   },
   "outputs": [],
   "source": [
    "from pycl import bash\n",
    "# bash(cmd)"
   ]
  },
  {
   "cell_type": "code",
   "execution_count": 2,
   "metadata": {
    "collapsed": false,
    "scrolled": true
   },
   "outputs": [
    {
     "name": "stdout",
     "output_type": "stream",
     "text": [
      "total 96\n",
      "-rwxrwxrwx 1 aleg aleg 18026 Jan 30  2015 LICENSE\n",
      "drwxrwxr-x 2 aleg aleg  4096 Jun  5 18:56 __pycache__\n",
      "-rwxrwxrwx 1 aleg aleg  3723 Jun  5 18:56 pycl.py\n",
      "-rwxrwxrwx 1 aleg aleg   143 Jun  5 17:57 README.md\n",
      "drwxrwxr-x 2 aleg aleg  4096 Jun  5 18:38 test_data\n",
      "-rw-rw-r-- 1 aleg aleg 58168 Jun  5 18:55 test_pycl.ipynb\n",
      "\n",
      "\n"
     ]
    }
   ],
   "source": [
    "bash(\"ls -l\")"
   ]
  },
  {
   "cell_type": "code",
   "execution_count": 3,
   "metadata": {
    "collapsed": false
   },
   "outputs": [
    {
     "name": "stdout",
     "output_type": "stream",
     "text": [
      "test\n",
      "\n",
      "\n"
     ]
    }
   ],
   "source": [
    "bash(\"echo test\")"
   ]
  },
  {
   "cell_type": "markdown",
   "metadata": {},
   "source": [
    "# Test Head"
   ]
  },
  {
   "cell_type": "code",
   "execution_count": 4,
   "metadata": {
    "collapsed": true
   },
   "outputs": [],
   "source": [
    "from pycl import head\n",
    "# head (file, n=10)"
   ]
  },
  {
   "cell_type": "code",
   "execution_count": 5,
   "metadata": {
    "collapsed": false,
    "scrolled": true
   },
   "outputs": [
    {
     "name": "stdout",
     "output_type": "stream",
     "text": [
      "#chromosome\tposition\tgene\tstrand\tannot1\tannot2\talu?\tnon_alu_repetitive?\tconservation_chimp\tconservation_rhesus\tconservation_mouse\n",
      "chr1\t206256301\tC1orf186\t-\tintronic\tintronic\tno\tno\tN\tN\tN\n",
      "chr6\t116991832\tintergenic\t-\tintergenic\tintergenic\tno\tno\tN\tN\tN\n",
      "chr7\t30504355\tNOD1\t-\tintronic\tintronic\tno\tno\tN\tN\tN\n",
      "chr1\t85127959\tSSX2IP\t-\tSyn\tGln->Gln\tno\tno\tN\tN\tN\n"
     ]
    }
   ],
   "source": [
    "file = \"./test_data/RADAR_Main.txt\"\n",
    "head (file, n=5)"
   ]
  },
  {
   "cell_type": "code",
   "execution_count": 6,
   "metadata": {
    "collapsed": false
   },
   "outputs": [
    {
     "name": "stdout",
     "output_type": "stream",
     "text": [
      "#location\treference\ttissue\tcoverage\tediting_level(%)\n",
      "chr1:1037916\tPeng et al 2012\tLymphoblastoid cell line\t9\t66.67\n",
      "chr1:1156882\tPeng et al 2012\tLymphoblastoid cell line\t42\t36.59\n",
      "chr1:1157460\tPeng et al 2012\tLymphoblastoid cell line\t66\t22.73\n",
      "chr1:1252441\tPeng et al 2012\tLymphoblastoid cell line\t11\t72.73\n",
      "chr1:1252443\tPeng et al 2012\tLymphoblastoid cell line\t11\t45.45\n",
      "chr1:1253357\tPeng et al 2012\tLymphoblastoid cell line\t31\t32.26\n",
      "chr1:1253944\tPeng et al 2012\tLymphoblastoid cell line\t28\t46.43\n",
      "chr1:1418532\tPeng et al 2012\tLymphoblastoid cell line\t5\t60.00\n",
      "chr1:1419773\tPeng et al 2012\tLymphoblastoid cell line\t10\t60.00\n"
     ]
    }
   ],
   "source": [
    "file = \"./test_data/RADAR_Secondary.txt\"\n",
    "head (file)"
   ]
  },
  {
   "cell_type": "code",
   "execution_count": 7,
   "metadata": {
    "collapsed": false
   },
   "outputs": [
    {
     "name": "stdout",
     "output_type": "stream",
     "text": [
      "#chromosome\tposition\tgene\tstrand\tannot1\tannot2\talu?\tnon_alu_repetitive?\tconservation_chimp\tconservation_rhesus\tconservation_mouse\n",
      "chr1\t206256301\tC1orf186\t-\tintronic\tintronic\tno\tno\tN\tN\tN\n",
      "chr6\t116991832\tintergenic\t-\tintergenic\tintergenic\tno\tno\tN\tN\tN\n",
      "chr7\t30504355\tNOD1\t-\tintronic\tintronic\tno\tno\tN\tN\tN\n",
      "chr1\t85127959\tSSX2IP\t-\tSyn\tGln->Gln\tno\tno\tN\tN\tN\n",
      "chr15\t100203261\tMEF2A\t+\tintronic\tintronic\tno\tno\tN\tN\tN\n",
      "chr6\t102372915\tGRIK2\t+\tintronic\tintronic\tno\tno\tN\tN\tN\n",
      "chr9\t135788925\tTSC1\t-\tintronic\tintronic\tno\tno\tN\tN\tN\n",
      "chr17\t74414054\tUBE2O\t-\tintronic\tintronic\tno\tno\tN\tN\tN\n",
      "chr15\t73069310\tADPGK\t-\tintronic\tintronic\tno\tno\tN\tN\tN\n",
      "chr17\t36553542\tSOCS7\t+\tintronic\tintronic\tno\tno\tN\tN\tN\n",
      "chr9\t82255420\tTLE4\t+\tintronic\tintronic\tno\tno\tN\tN\tN\n",
      "chr4\t26367531\tRBPJ\t+\tintronic\tintronic\tno\tno\tN\tN\tN\n",
      "chr1\t109795329\tCELSR2\t+\tSyn\tLeu->Leu\tno\tno\tN\tN\tN\n",
      "chrY\t16694083\tNLGN4Y\t+\tintronic\tintronic\tno\tno\tN\tN\tN\n",
      "chr2\t228845758\tSPHKAP\t-\t3UTR\t3UTR\tno\tno\tN\tN\tN\n",
      "chr18\t18905895\tGREB1L\t+\tintronic\tintronic\tno\tno\tN\tN\tN\n",
      "chr14\t23442109\tJUB\t-\t3UTR\t3UTR\tno\tno\tN\tN\tN\n",
      "chr1\t229588105\tNUP133\t-\tintronic\tintronic\tno\tno\tN\tN\tN\n",
      "chr17\t5246885\tRABEP1\t+\tintronic\tintronic\tno\tno\tN\tN\tN\n",
      "Only 20 lines in the file\n"
     ]
    }
   ],
   "source": [
    "file = \"./test_data/RADAR_Main.txt\"\n",
    "head (file, n=25)"
   ]
  },
  {
   "cell_type": "code",
   "execution_count": null,
   "metadata": {
    "collapsed": true
   },
   "outputs": [],
   "source": [
    "colsum(\"./test_data/RADAR_clean.txt\")"
   ]
  },
  {
   "cell_type": "markdown",
   "metadata": {},
   "source": [
    "# Test dict_to_md"
   ]
  },
  {
   "cell_type": "code",
   "execution_count": 8,
   "metadata": {
    "collapsed": true
   },
   "outputs": [],
   "source": [
    "from pycl import dict_to_md\n",
    "# dict_to_md (d, key_label=\"\", value_label=\"\", transpose=False, sort_by_key=False, sort_by_val=False)"
   ]
  },
  {
   "cell_type": "code",
   "execution_count": 9,
   "metadata": {
    "collapsed": false
   },
   "outputs": [
    {
     "name": "stdout",
     "output_type": "stream",
     "text": [
      "|Letter|Number|\n",
      "|:---|:---|\n",
      "|c|8|\n",
      "|a|12|\n",
      "|b|14|\n",
      "|d|56|\n",
      "|e|76|\n",
      "\n"
     ]
    }
   ],
   "source": [
    "d = {\"a\":12,\"b\":14,\"c\":8,\"d\":56,\"e\":76}\n",
    "print (dict_to_md(d, \"Letter\", \"Number\", sort_by_val=True))"
   ]
  },
  {
   "cell_type": "code",
   "execution_count": 10,
   "metadata": {
    "collapsed": false,
    "scrolled": true
   },
   "outputs": [
    {
     "name": "stdout",
     "output_type": "stream",
     "text": [
      "|Letter|e|d|c|b|a|\n",
      "|:---|:---|:---|:---|:---|:---|\n",
      "|Number|76|56|8|14|12|\n",
      "\n"
     ]
    }
   ],
   "source": [
    "d = {\"a\":12,\"b\":14,\"c\":8,\"d\":56,\"e\":76}\n",
    "print (dict_to_md(d, \"Letter\", \"Number\", transpose=True))"
   ]
  },
  {
   "cell_type": "markdown",
   "metadata": {},
   "source": [
    "# Test supesplit"
   ]
  },
  {
   "cell_type": "code",
   "execution_count": 11,
   "metadata": {
    "collapsed": true
   },
   "outputs": [],
   "source": [
    "from pycl import supersplit\n",
    "# supersplit (string, separator=\"\")"
   ]
  },
  {
   "cell_type": "code",
   "execution_count": 12,
   "metadata": {
    "collapsed": false
   },
   "outputs": [
    {
     "name": "stdout",
     "output_type": "stream",
     "text": [
      "['chr7', '74138', '774138', 'A>I', 'LOC100129917', 'LUNG:LYMPHOBLASTOID_CELL_LINE', '15342557:15258596:22327324', '0']\n",
      "['chr7', '74138', '774138', 'A>I|LOC100129917|LUNG:LYMPHOBLASTOID_CELL_LINE|15342557:15258596:22327324', '0']\n",
      "['chr7\\t74138\\t774138\\tA>I', 'LOC100129917', 'LUNG:LYMPHOBLASTOID_CELL_LINE', '15342557:15258596:22327324\\t0']\n"
     ]
    }
   ],
   "source": [
    "a = \"chr7\\t74138\\t774138\\tA>I|LOC100129917|LUNG:LYMPHOBLASTOID_CELL_LINE|15342557:15258596:22327324\\t0\"\n",
    "\n",
    "print(supersplit(a, [\"\\t\",\"|\"]))\n",
    "\n",
    "print(supersplit(a))\n",
    "\n",
    "print(supersplit(a, \"|\"))"
   ]
  },
  {
   "cell_type": "markdown",
   "metadata": {},
   "source": [
    "# Test colsum"
   ]
  },
  {
   "cell_type": "code",
   "execution_count": 13,
   "metadata": {
    "collapsed": true
   },
   "outputs": [],
   "source": [
    "from pycl import colsum\n",
    "# colsum (file, colrange=[], separator=\"\", header=False, ignore_hashtag_line=False)"
   ]
  },
  {
   "cell_type": "code",
   "execution_count": 14,
   "metadata": {
    "collapsed": false,
    "scrolled": true
   },
   "outputs": [
    {
     "name": "stdout",
     "output_type": "stream",
     "text": [
      "Header found\n",
      "Found 11 colums\n",
      "First line found\n",
      "|#chromosome|chr7|chr4|chrY|chr2|chr18|chr14|chr6|chr15|chr9|chr17|chr1|\n",
      "|:---|:---|:---|:---|:---|:---|:---|:---|:---|:---|:---|:---|\n",
      "|Count|1|1|1|1|1|1|2|2|2|3|4|\n",
      "\n",
      "|position|206256301|116991832|30504355|85127959|100203261|102372915|135788925|74414054|73069310|36553542|82255420|26367531|109795329|16694083|228845758|18905895|23442109|229588105|5246885|\n",
      "|:---|:---|:---|:---|:---|:---|:---|:---|:---|:---|:---|:---|:---|:---|:---|:---|:---|:---|:---|:---|\n",
      "|Count|1|1|1|1|1|1|1|1|1|1|1|1|1|1|1|1|1|1|1|\n",
      "\n",
      "|gene|C1orf186|intergenic|NOD1|SSX2IP|MEF2A|GRIK2|TSC1|UBE2O|ADPGK|SOCS7|TLE4|RBPJ|CELSR2|NLGN4Y|SPHKAP|GREB1L|JUB|NUP133|RABEP1|\n",
      "|:---|:---|:---|:---|:---|:---|:---|:---|:---|:---|:---|:---|:---|:---|:---|:---|:---|:---|:---|:---|\n",
      "|Count|1|1|1|1|1|1|1|1|1|1|1|1|1|1|1|1|1|1|1|\n",
      "\n",
      "|strand|+|-|\n",
      "|:---|:---|:---|\n",
      "|Count|9|10|\n",
      "\n",
      "|annot1|intergenic|Syn|3UTR|intronic|\n",
      "|:---|:---|:---|:---|:---|\n",
      "|Count|1|2|2|14|\n",
      "\n",
      "|annot2|intergenic|Gln->Gln|Leu->Leu|3UTR|intronic|\n",
      "|:---|:---|:---|:---|:---|:---|\n",
      "|Count|1|1|1|2|14|\n",
      "\n",
      "|alu?|no|\n",
      "|:---|:---|\n",
      "|Count|19|\n",
      "\n",
      "|non_alu_repetitive?|no|\n",
      "|:---|:---|\n",
      "|Count|19|\n",
      "\n",
      "|conservation_chimp|N|\n",
      "|:---|:---|\n",
      "|Count|19|\n",
      "\n",
      "|conservation_rhesus|N|\n",
      "|:---|:---|\n",
      "|Count|19|\n",
      "\n",
      "|conservation_mouse|N|\n",
      "|:---|:---|\n",
      "|Count|19|\n",
      "\n"
     ]
    }
   ],
   "source": [
    "colsum(\"./test_data/RADAR_Main.txt\", header=True)"
   ]
  },
  {
   "cell_type": "code",
   "execution_count": 18,
   "metadata": {
    "collapsed": false
   },
   "outputs": [
    {
     "name": "stdout",
     "output_type": "stream",
     "text": [
      "#RADAR Human hg19 database v2 cleaned and converted to BED6 format\n",
      "#Adrien Leger / 2016-06-03 15:36:11.680374\n",
      "chrom\tchromstart\tchromend\tOriginalBase:EditedBase|loci|Source1|PMID\tediting_level\torient\n",
      "chr1\t1037916\t1037916\tA>I|C1orf159|YH|22327324\t66.67\t-\n",
      "chr1\t1156882\t1156882\tA>I|SDF4|YH|22327324\t36.59\t-\n"
     ]
    }
   ],
   "source": [
    "head(\"./test_data/RADAR_clean.txt\", n=5)"
   ]
  },
  {
   "cell_type": "code",
   "execution_count": 20,
   "metadata": {
    "collapsed": false
   },
   "outputs": [
    {
     "name": "stdout",
     "output_type": "stream",
     "text": [
      "Header found\n",
      "First line found\n",
      "|chrom|chr1|\n",
      "|:---|:---|\n",
      "|Count|997|\n",
      "\n",
      "|OriginalBase:EditedBase|A>I|\n",
      "|:---|:---|\n",
      "|Count|997|\n",
      "\n",
      "|Source1|YH|\n",
      "|:---|:---|\n",
      "|Count|997|\n",
      "\n",
      "|PMID|22327324|\n",
      "|:---|:---|\n",
      "|Count|997|\n",
      "\n",
      "|orient\n",
      "|+|-|\n",
      "|:---|:---|:---|\n",
      "|Count|470|527|\n",
      "\n"
     ]
    }
   ],
   "source": [
    "colsum(\"./test_data/RADAR_clean.txt\", header=True, ignore_hashtag_line=True, colrange=[0,3,5,6,8], separator=[\"\\t\",\"|\"])"
   ]
  },
  {
   "cell_type": "code",
   "execution_count": null,
   "metadata": {
    "collapsed": true
   },
   "outputs": [],
   "source": []
  },
  {
   "cell_type": "code",
   "execution_count": null,
   "metadata": {
    "collapsed": true
   },
   "outputs": [],
   "source": []
  }
 ],
 "metadata": {
  "kernelspec": {
   "display_name": "Python 3",
   "language": "python",
   "name": "python3"
  },
  "language_info": {
   "codemirror_mode": {
    "name": "ipython",
    "version": 3
   },
   "file_extension": ".py",
   "mimetype": "text/x-python",
   "name": "python",
   "nbconvert_exporter": "python",
   "pygments_lexer": "ipython3",
   "version": "3.5.1+"
  }
 },
 "nbformat": 4,
 "nbformat_minor": 0
}
