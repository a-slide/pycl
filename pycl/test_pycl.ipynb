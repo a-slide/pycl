{
 "cells": [
  {
   "cell_type": "markdown",
   "metadata": {},
   "source": [
    "# TEST pycl package\n",
    "** This notebook contains tests for all functions contained in pycl package **"
   ]
  },
  {
   "cell_type": "code",
   "execution_count": 80,
   "metadata": {
    "ExecuteTime": {
     "end_time": "2017-11-27T17:38:14.322779Z",
     "start_time": "2017-11-27T17:38:14.307947Z"
    }
   },
   "outputs": [
    {
     "data": {
      "text/plain": [
       "'/home/aleg/Programming/Python3/pycl/pycl'"
      ]
     },
     "execution_count": 80,
     "metadata": {},
     "output_type": "execute_result"
    }
   ],
   "source": [
    "import os\n",
    "os.getcwd()"
   ]
  },
  {
   "cell_type": "code",
   "execution_count": 76,
   "metadata": {
    "ExecuteTime": {
     "end_time": "2017-11-27T17:31:45.492190Z",
     "start_time": "2017-11-27T17:31:45.479684Z"
    }
   },
   "outputs": [
    {
     "ename": "SyntaxError",
     "evalue": "unexpected EOF while parsing (<ipython-input-76-bafa793cbb69>, line 1)",
     "output_type": "error",
     "traceback": [
      "\u001b[0;36m  File \u001b[0;32m\"<ipython-input-76-bafa793cbb69>\"\u001b[0;36m, line \u001b[0;32m1\u001b[0m\n\u001b[0;31m    notebook.services.sessions.sessionmanager.Instance(\u001b[0m\n\u001b[0m                                                       ^\u001b[0m\n\u001b[0;31mSyntaxError\u001b[0m\u001b[0;31m:\u001b[0m unexpected EOF while parsing\n"
     ]
    }
   ],
   "source": [
    "os.cwd()"
   ]
  },
  {
   "cell_type": "code",
   "execution_count": 1,
   "metadata": {
    "ExecuteTime": {
     "end_time": "2017-11-27T17:06:26.531534Z",
     "start_time": "2017-11-27T17:06:26.503374Z"
    },
    "init_cell": true
   },
   "outputs": [
    {
     "data": {
      "text/html": [
       "<style>.container { width:100% !important; }</style>"
      ],
      "text/plain": [
       "<IPython.core.display.HTML object>"
      ]
     },
     "metadata": {},
     "output_type": "display_data"
    }
   ],
   "source": [
    "# Jupyter specific imports\n",
    "from .core.display import display, HTML, Markdown\n",
    "display(HTML(\"<style>.container { width:100% !important; }</style>\"))\n",
    "\n",
    "# Import of required packages\n",
    "from os import remove\n",
    "\n",
    "# import all the functions from pycl\n",
    "from pycl import *\n",
    "import pycl"
   ]
  },
  {
   "cell_type": "markdown",
   "metadata": {},
   "source": [
    "# JUPYTER NOTEBOOK SPECIFIC TOOLS"
   ]
  },
  {
   "cell_type": "markdown",
   "metadata": {
    "heading_collapsed": true
   },
   "source": [
    "## jhelp"
   ]
  },
  {
   "cell_type": "code",
   "execution_count": 2,
   "metadata": {
    "ExecuteTime": {
     "end_time": "2017-11-27T17:06:26.539288Z",
     "start_time": "2017-11-27T17:06:26.535645Z"
    },
    "hidden": true,
    "init_cell": true,
    "scrolled": true
   },
   "outputs": [
    {
     "name": "stdout",
     "output_type": "stream",
     "text": [
      "Help on function jhelp in module pycl:\n",
      "\n",
      "jhelp(function, full=False, **kwargs)\n",
      "    Print a nice looking help string based on the name of a declared function. By default print the function definition and description\n",
      "    * function\n",
      "        Name of a declared function or class method\n",
      "    * full\n",
      "        If True, the help string will included a description of all arguments\n",
      "\n"
     ]
    }
   ],
   "source": [
    "help(jhelp)"
   ]
  },
  {
   "cell_type": "code",
   "execution_count": 3,
   "metadata": {
    "ExecuteTime": {
     "end_time": "2017-11-27T17:06:26.565844Z",
     "start_time": "2017-11-27T17:06:26.543309Z"
    },
    "hidden": true,
    "init_cell": true
   },
   "outputs": [
    {
     "data": {
      "text/html": [
       "<b>jhelp</b> (function, full=False, **kwargs)"
      ],
      "text/plain": [
       "<IPython.core.display.HTML object>"
      ]
     },
     "metadata": {},
     "output_type": "display_data"
    },
    {
     "data": {
      "text/markdown": [],
      "text/plain": [
       "<IPython.core.display.Markdown object>"
      ]
     },
     "metadata": {},
     "output_type": "display_data"
    },
    {
     "data": {
      "text/markdown": [
       "Print a nice looking help string based on the name of a declared function. By default print the function definition and description"
      ],
      "text/plain": [
       "<IPython.core.display.Markdown object>"
      ]
     },
     "metadata": {},
     "output_type": "display_data"
    },
    {
     "data": {
      "text/markdown": [
       "* function"
      ],
      "text/plain": [
       "<IPython.core.display.Markdown object>"
      ]
     },
     "metadata": {},
     "output_type": "display_data"
    },
    {
     "data": {
      "text/markdown": [
       "Name of a declared function or class method"
      ],
      "text/plain": [
       "<IPython.core.display.Markdown object>"
      ]
     },
     "metadata": {},
     "output_type": "display_data"
    },
    {
     "data": {
      "text/markdown": [
       "* full"
      ],
      "text/plain": [
       "<IPython.core.display.Markdown object>"
      ]
     },
     "metadata": {},
     "output_type": "display_data"
    },
    {
     "data": {
      "text/markdown": [
       "If True, the help string will included a description of all arguments"
      ],
      "text/plain": [
       "<IPython.core.display.Markdown object>"
      ]
     },
     "metadata": {},
     "output_type": "display_data"
    },
    {
     "data": {
      "text/markdown": [],
      "text/plain": [
       "<IPython.core.display.Markdown object>"
      ]
     },
     "metadata": {},
     "output_type": "display_data"
    }
   ],
   "source": [
    "jhelp(jhelp, full=True)"
   ]
  },
  {
   "cell_type": "markdown",
   "metadata": {
    "heading_collapsed": true
   },
   "source": [
    "## jprint"
   ]
  },
  {
   "cell_type": "code",
   "execution_count": 4,
   "metadata": {
    "ExecuteTime": {
     "end_time": "2017-11-27T17:06:26.590954Z",
     "start_time": "2017-11-27T17:06:26.568153Z"
    },
    "hidden": true,
    "init_cell": true,
    "scrolled": true
   },
   "outputs": [
    {
     "data": {
      "text/html": [
       "<b>jprint</b> (*args, **kwargs)"
      ],
      "text/plain": [
       "<IPython.core.display.HTML object>"
      ]
     },
     "metadata": {},
     "output_type": "display_data"
    },
    {
     "data": {
      "text/markdown": [],
      "text/plain": [
       "<IPython.core.display.Markdown object>"
      ]
     },
     "metadata": {},
     "output_type": "display_data"
    },
    {
     "data": {
      "text/markdown": [
       "FOR JUPYTER NOTEBOOK ONLY"
      ],
      "text/plain": [
       "<IPython.core.display.Markdown object>"
      ]
     },
     "metadata": {},
     "output_type": "display_data"
    },
    {
     "data": {
      "text/markdown": [
       "Format a string in HTML and print the output. Equivalent of print, but highly customizable. Many options can be passed to the function."
      ],
      "text/plain": [
       "<IPython.core.display.Markdown object>"
      ]
     },
     "metadata": {},
     "output_type": "display_data"
    },
    {
     "data": {
      "text/markdown": [
       "* *args"
      ],
      "text/plain": [
       "<IPython.core.display.Markdown object>"
      ]
     },
     "metadata": {},
     "output_type": "display_data"
    },
    {
     "data": {
      "text/markdown": [
       "One or several objects that can be cast in str"
      ],
      "text/plain": [
       "<IPython.core.display.Markdown object>"
      ]
     },
     "metadata": {},
     "output_type": "display_data"
    },
    {
     "data": {
      "text/markdown": [
       "* **kwargs"
      ],
      "text/plain": [
       "<IPython.core.display.Markdown object>"
      ]
     },
     "metadata": {},
     "output_type": "display_data"
    },
    {
     "data": {
      "text/markdown": [
       "Formatting options to tweak the html rendering"
      ],
      "text/plain": [
       "<IPython.core.display.Markdown object>"
      ]
     },
     "metadata": {},
     "output_type": "display_data"
    },
    {
     "data": {
      "text/markdown": [
       "Boolean options : bold, italic, highlight, underlined, striked, subscripted, superscripted"
      ],
      "text/plain": [
       "<IPython.core.display.Markdown object>"
      ]
     },
     "metadata": {},
     "output_type": "display_data"
    },
    {
     "data": {
      "text/markdown": [
       "String oprions: font, color, size, align, background_color, line_height"
      ],
      "text/plain": [
       "<IPython.core.display.Markdown object>"
      ]
     },
     "metadata": {},
     "output_type": "display_data"
    },
    {
     "data": {
      "text/markdown": [],
      "text/plain": [
       "<IPython.core.display.Markdown object>"
      ]
     },
     "metadata": {},
     "output_type": "display_data"
    }
   ],
   "source": [
    "jhelp(jprint, full=True)"
   ]
  },
  {
   "cell_type": "code",
   "execution_count": 48,
   "metadata": {
    "ExecuteTime": {
     "end_time": "2017-11-13T11:38:53.398620",
     "start_time": "2017-11-13T11:38:53.388085Z"
    },
    "hidden": true,
    "init_cell": false
   },
   "outputs": [
    {
     "name": "stdout",
     "output_type": "stream",
     "text": [
      "Lorem ipsum condimentum elementum sapien nam eleifend quisque sapien curae\n"
     ]
    },
    {
     "data": {
      "text/html": [
       "<p style=\"font-family:sans;color:purple;font-size:200%;line-height:20px;\"><b>Lorem ipsum condimentum elementum sapien nam eleifend quisque sapien curae<br></b></p>"
      ],
      "text/plain": [
       "<IPython.core.display.HTML object>"
      ]
     },
     "metadata": {},
     "output_type": "display_data"
    }
   ],
   "source": [
    "txt=\"Lorem ipsum condimentum elementum sapien nam eleifend quisque sapien curae\"\n",
    "jprint(txt,font=\"sans\", color=\"purple\", size=200, bold=True)"
   ]
  },
  {
   "cell_type": "code",
   "execution_count": 47,
   "metadata": {
    "ExecuteTime": {
     "end_time": "2017-11-13T11:38:42.869552",
     "start_time": "2017-11-13T11:38:42.858752Z"
    },
    "hidden": true
   },
   "outputs": [
    {
     "name": "stdout",
     "output_type": "stream",
     "text": [
      "Lorem ipsum\n",
      "\tcondimentum elementum\n",
      "\t\tsapien nam eleifend quisque\n",
      "\t\t\tsapien curae\n"
     ]
    },
    {
     "data": {
      "text/html": [
       "<p style=\"font-family:sans;color:powderblue;font-size:200%;line-height:50px;\"><b>Lorem ipsum<br>\tcondimentum elementum<br>\t\tsapien nam eleifend quisque<br>\t\t\tsapien curae<br></b></p>"
      ],
      "text/plain": [
       "<IPython.core.display.HTML object>"
      ]
     },
     "metadata": {},
     "output_type": "display_data"
    }
   ],
   "source": [
    "txt=\"Lorem ipsum\\n\\tcondimentum elementum\\n\\t\\tsapien nam eleifend quisque\\n\\t\\t\\tsapien curae\"\n",
    "jprint(txt,font=\"sans\", color=\"powderblue\", size=200, bold=True, line_height=50)"
   ]
  },
  {
   "cell_type": "code",
   "execution_count": 49,
   "metadata": {
    "ExecuteTime": {
     "end_time": "2017-11-13T11:38:58.090044",
     "start_time": "2017-11-13T11:38:58.081509Z"
    },
    "hidden": true
   },
   "outputs": [
    {
     "name": "stdout",
     "output_type": "stream",
     "text": [
      "Lorem ipsum condimentum elementum 1 True\n"
     ]
    },
    {
     "data": {
      "text/html": [
       "<p style=\"font-family:calibri;color:grey;font-size:250%;text-align:center;line-height:20px;\"><ins>Lorem ipsum condimentum elementum 1 True<br></ins></p>"
      ],
      "text/plain": [
       "<IPython.core.display.HTML object>"
      ]
     },
     "metadata": {},
     "output_type": "display_data"
    }
   ],
   "source": [
    "jprint(\"Lorem\",\"ipsum\",\"condimentum\",\"elementum\", 1, True, bold=False, italic=False, highlight=False, underlined=True, striked=False, subscripted=False, superscripted=False, font=\"calibri\", color=\"grey\", size=250, align=\"center\")"
   ]
  },
  {
   "cell_type": "markdown",
   "metadata": {
    "heading_collapsed": true
   },
   "source": [
    "## toogle_code"
   ]
  },
  {
   "cell_type": "code",
   "execution_count": 5,
   "metadata": {
    "ExecuteTime": {
     "end_time": "2017-11-27T17:06:26.612617Z",
     "start_time": "2017-11-27T17:06:26.596570Z"
    },
    "hidden": true,
    "init_cell": true
   },
   "outputs": [
    {
     "data": {
      "text/html": [
       "<b>toogle_code</b> (**kwargs)"
      ],
      "text/plain": [
       "<IPython.core.display.HTML object>"
      ]
     },
     "metadata": {},
     "output_type": "display_data"
    },
    {
     "data": {
      "text/markdown": [],
      "text/plain": [
       "<IPython.core.display.Markdown object>"
      ]
     },
     "metadata": {},
     "output_type": "display_data"
    },
    {
     "data": {
      "text/markdown": [
       "FOR JUPYTER NOTEBOOK ONLY"
      ],
      "text/plain": [
       "<IPython.core.display.Markdown object>"
      ]
     },
     "metadata": {},
     "output_type": "display_data"
    },
    {
     "data": {
      "text/markdown": [
       "Hide code with a clickable link in a j"
      ],
      "text/plain": [
       "<IPython.core.display.Markdown object>"
      ]
     },
     "metadata": {},
     "output_type": "display_data"
    },
    {
     "data": {
      "text/markdown": [
       "upyter notebook"
      ],
      "text/plain": [
       "<IPython.core.display.Markdown object>"
      ]
     },
     "metadata": {},
     "output_type": "display_data"
    },
    {
     "data": {
      "text/markdown": [],
      "text/plain": [
       "<IPython.core.display.Markdown object>"
      ]
     },
     "metadata": {},
     "output_type": "display_data"
    }
   ],
   "source": [
    "jhelp(toogle_code, full=True)"
   ]
  },
  {
   "cell_type": "code",
   "execution_count": 3,
   "metadata": {
    "collapsed": true,
    "hidden": true
   },
   "outputs": [],
   "source": [
    "#toogle_code()"
   ]
  },
  {
   "cell_type": "markdown",
   "metadata": {},
   "source": [
    "## larger_display"
   ]
  },
  {
   "cell_type": "code",
   "execution_count": 6,
   "metadata": {
    "ExecuteTime": {
     "end_time": "2017-11-27T17:06:26.632772Z",
     "start_time": "2017-11-27T17:06:26.616206Z"
    },
    "init_cell": true
   },
   "outputs": [
    {
     "data": {
      "text/html": [
       "<b>larger_display</b> (percent=100, **kwargs)"
      ],
      "text/plain": [
       "<IPython.core.display.HTML object>"
      ]
     },
     "metadata": {},
     "output_type": "display_data"
    },
    {
     "data": {
      "text/markdown": [],
      "text/plain": [
       "<IPython.core.display.Markdown object>"
      ]
     },
     "metadata": {},
     "output_type": "display_data"
    },
    {
     "data": {
      "text/markdown": [
       "FOR JUPYTER NOTEBOOK ONLY"
      ],
      "text/plain": [
       "<IPython.core.display.Markdown object>"
      ]
     },
     "metadata": {},
     "output_type": "display_data"
    },
    {
     "data": {
      "text/markdown": [
       "Resize the area of the screen containing the notebook according to a given percentage of the available width"
      ],
      "text/plain": [
       "<IPython.core.display.Markdown object>"
      ]
     },
     "metadata": {},
     "output_type": "display_data"
    },
    {
     "data": {
      "text/markdown": [
       "*  percent percentage of the width of the screen to use [DEFAULT:100]"
      ],
      "text/plain": [
       "<IPython.core.display.Markdown object>"
      ]
     },
     "metadata": {},
     "output_type": "display_data"
    },
    {
     "data": {
      "text/markdown": [],
      "text/plain": [
       "<IPython.core.display.Markdown object>"
      ]
     },
     "metadata": {},
     "output_type": "display_data"
    }
   ],
   "source": [
    "jhelp(larger_display, full=True)"
   ]
  },
  {
   "cell_type": "code",
   "execution_count": 7,
   "metadata": {
    "ExecuteTime": {
     "end_time": "2017-11-27T17:06:26.639332Z",
     "start_time": "2017-11-27T17:06:26.634952Z"
    },
    "init_cell": true
   },
   "outputs": [
    {
     "data": {
      "text/html": [
       "<style>.container { width:80% !important; }</style>"
      ],
      "text/plain": [
       "<IPython.core.display.HTML object>"
      ]
     },
     "metadata": {},
     "output_type": "display_data"
    }
   ],
   "source": [
    "larger_display(80)"
   ]
  },
  {
   "cell_type": "code",
   "execution_count": null,
   "metadata": {},
   "outputs": [],
   "source": [
    "def nb_to html ():\n",
    "    bash_basic ( \"jupyter nbconvert --to html_ch {}\".nb "
   ]
  },
  {
   "cell_type": "code",
   "execution_count": null,
   "metadata": {},
   "outputs": [],
   "source": []
  },
  {
   "cell_type": "code",
   "execution_count": null,
   "metadata": {},
   "outputs": [],
   "source": []
  },
  {
   "cell_type": "code",
   "execution_count": null,
   "metadata": {},
   "outputs": [],
   "source": []
  },
  {
   "cell_type": "code",
   "execution_count": null,
   "metadata": {},
   "outputs": [],
   "source": []
  },
  {
   "cell_type": "markdown",
   "metadata": {
    "heading_collapsed": true
   },
   "source": [
    "# PREDICATES"
   ]
  },
  {
   "cell_type": "markdown",
   "metadata": {
    "heading_collapsed": true,
    "hidden": true
   },
   "source": [
    "## is_readable_file"
   ]
  },
  {
   "cell_type": "code",
   "execution_count": 8,
   "metadata": {
    "ExecuteTime": {
     "end_time": "2017-11-27T17:06:26.655469Z",
     "start_time": "2017-11-27T17:06:26.645469Z"
    },
    "hidden": true,
    "init_cell": true,
    "scrolled": false
   },
   "outputs": [
    {
     "data": {
      "text/html": [
       "<b>is_readable_file</b> (fp, raise_exception=True, **kwargs)"
      ],
      "text/plain": [
       "<IPython.core.display.HTML object>"
      ]
     },
     "metadata": {},
     "output_type": "display_data"
    },
    {
     "data": {
      "text/markdown": [],
      "text/plain": [
       "<IPython.core.display.Markdown object>"
      ]
     },
     "metadata": {},
     "output_type": "display_data"
    },
    {
     "data": {
      "text/markdown": [
       "Verify the readability of a file or list of file"
      ],
      "text/plain": [
       "<IPython.core.display.Markdown object>"
      ]
     },
     "metadata": {},
     "output_type": "display_data"
    },
    {
     "data": {
      "text/markdown": [],
      "text/plain": [
       "<IPython.core.display.Markdown object>"
      ]
     },
     "metadata": {},
     "output_type": "display_data"
    }
   ],
   "source": [
    "jhelp(is_readable_file, full=True)"
   ]
  },
  {
   "cell_type": "code",
   "execution_count": 49,
   "metadata": {
    "ExecuteTime": {
     "end_time": "2017-07-27T13:33:44.404563Z",
     "start_time": "2017-07-27T13:33:44.398406Z"
    },
    "hidden": true
   },
   "outputs": [
    {
     "name": "stdout",
     "output_type": "stream",
     "text": [
      "./data/KJHYTGYUJ is not a valid file\n"
     ]
    }
   ],
   "source": [
    "try:\n",
    "    is_readable_file(\"./data/KJHYTGYUJ\")\n",
    "    print (\"OK\")\n",
    "except OSError as E:\n",
    "    print(E)"
   ]
  },
  {
   "cell_type": "code",
   "execution_count": 50,
   "metadata": {
    "ExecuteTime": {
     "end_time": "2017-07-27T13:33:45.177978Z",
     "start_time": "2017-07-27T13:33:45.170687Z"
    },
    "hidden": true
   },
   "outputs": [
    {
     "name": "stdout",
     "output_type": "stream",
     "text": [
      "OK\n"
     ]
    }
   ],
   "source": [
    "try:\n",
    "    is_readable_file(\"./data/RADAR_Secondary.txt\")\n",
    "    print (\"OK\")\n",
    "except OSError as E:\n",
    "    print(E)"
   ]
  },
  {
   "cell_type": "markdown",
   "metadata": {
    "heading_collapsed": true,
    "hidden": true
   },
   "source": [
    "## is_gziped"
   ]
  },
  {
   "cell_type": "code",
   "execution_count": 9,
   "metadata": {
    "ExecuteTime": {
     "end_time": "2017-11-27T17:06:26.674290Z",
     "start_time": "2017-11-27T17:06:26.662607Z"
    },
    "hidden": true,
    "init_cell": true
   },
   "outputs": [
    {
     "data": {
      "text/html": [
       "<b>is_gziped</b> (fp, **kwargs)"
      ],
      "text/plain": [
       "<IPython.core.display.HTML object>"
      ]
     },
     "metadata": {},
     "output_type": "display_data"
    },
    {
     "data": {
      "text/markdown": [],
      "text/plain": [
       "<IPython.core.display.Markdown object>"
      ]
     },
     "metadata": {},
     "output_type": "display_data"
    },
    {
     "data": {
      "text/markdown": [
       "Return True if the file is Gziped else False"
      ],
      "text/plain": [
       "<IPython.core.display.Markdown object>"
      ]
     },
     "metadata": {},
     "output_type": "display_data"
    },
    {
     "data": {
      "text/markdown": [],
      "text/plain": [
       "<IPython.core.display.Markdown object>"
      ]
     },
     "metadata": {},
     "output_type": "display_data"
    }
   ],
   "source": [
    "jhelp(is_gziped, full=True)"
   ]
  },
  {
   "cell_type": "code",
   "execution_count": 52,
   "metadata": {
    "ExecuteTime": {
     "end_time": "2017-07-27T13:33:57.846905Z",
     "start_time": "2017-07-27T13:33:57.839159Z"
    },
    "hidden": true
   },
   "outputs": [
    {
     "data": {
      "text/plain": [
       "False"
      ]
     },
     "execution_count": 52,
     "metadata": {},
     "output_type": "execute_result"
    }
   ],
   "source": [
    "is_gziped(\"./data/RADAR_Secondary.txt\")"
   ]
  },
  {
   "cell_type": "code",
   "execution_count": 53,
   "metadata": {
    "ExecuteTime": {
     "end_time": "2017-07-27T13:33:58.380508Z",
     "start_time": "2017-07-27T13:33:58.373192Z"
    },
    "hidden": true
   },
   "outputs": [
    {
     "data": {
      "text/plain": [
       "True"
      ]
     },
     "execution_count": 53,
     "metadata": {},
     "output_type": "execute_result"
    }
   ],
   "source": [
    "is_gziped(\"./data/RADAR_Secondary.txt.gz\")"
   ]
  },
  {
   "cell_type": "markdown",
   "metadata": {
    "heading_collapsed": true,
    "hidden": true
   },
   "source": [
    "## has_extension"
   ]
  },
  {
   "cell_type": "code",
   "execution_count": 10,
   "metadata": {
    "ExecuteTime": {
     "end_time": "2017-11-27T17:06:26.703425Z",
     "start_time": "2017-11-27T17:06:26.677462Z"
    },
    "hidden": true,
    "init_cell": true
   },
   "outputs": [
    {
     "data": {
      "text/html": [
       "<b>has_extension</b> (fp, ext, pos=-1, raise_exception=False, **kwargs)"
      ],
      "text/plain": [
       "<IPython.core.display.HTML object>"
      ]
     },
     "metadata": {},
     "output_type": "display_data"
    },
    {
     "data": {
      "text/markdown": [],
      "text/plain": [
       "<IPython.core.display.Markdown object>"
      ]
     },
     "metadata": {},
     "output_type": "display_data"
    },
    {
     "data": {
      "text/markdown": [
       "Test presence of extension in a file path"
      ],
      "text/plain": [
       "<IPython.core.display.Markdown object>"
      ]
     },
     "metadata": {},
     "output_type": "display_data"
    },
    {
     "data": {
      "text/markdown": [
       "* ext"
      ],
      "text/plain": [
       "<IPython.core.display.Markdown object>"
      ]
     },
     "metadata": {},
     "output_type": "display_data"
    },
    {
     "data": {
      "text/markdown": [
       "Single extension name or list of extension names  without dot. Example [\"gz, \"fa\"]"
      ],
      "text/plain": [
       "<IPython.core.display.Markdown object>"
      ]
     },
     "metadata": {},
     "output_type": "display_data"
    },
    {
     "data": {
      "text/markdown": [
       "* pos"
      ],
      "text/plain": [
       "<IPython.core.display.Markdown object>"
      ]
     },
     "metadata": {},
     "output_type": "display_data"
    },
    {
     "data": {
      "text/markdown": [
       "Postition of the extension in the file path. -1 for the last, -2 for the penultimate and so on [DEFAULT -1 = Last position]"
      ],
      "text/plain": [
       "<IPython.core.display.Markdown object>"
      ]
     },
     "metadata": {},
     "output_type": "display_data"
    },
    {
     "data": {
      "text/markdown": [],
      "text/plain": [
       "<IPython.core.display.Markdown object>"
      ]
     },
     "metadata": {},
     "output_type": "display_data"
    }
   ],
   "source": [
    "jhelp(has_extension, full=True)"
   ]
  },
  {
   "cell_type": "code",
   "execution_count": 33,
   "metadata": {
    "ExecuteTime": {
     "end_time": "2017-08-03T10:38:19.050365",
     "start_time": "2017-08-03T10:38:19.045392Z"
    },
    "hidden": true
   },
   "outputs": [
    {
     "data": {
      "text/plain": [
       "True"
      ]
     },
     "execution_count": 33,
     "metadata": {},
     "output_type": "execute_result"
    }
   ],
   "source": [
    "has_extension(\"./data/test/RADAR_Secondary.txt.gz\", \"gz\")"
   ]
  },
  {
   "cell_type": "code",
   "execution_count": 34,
   "metadata": {
    "ExecuteTime": {
     "end_time": "2017-08-03T10:38:19.771526",
     "start_time": "2017-08-03T10:38:19.764075Z"
    },
    "hidden": true
   },
   "outputs": [
    {
     "data": {
      "text/plain": [
       "False"
      ]
     },
     "execution_count": 34,
     "metadata": {},
     "output_type": "execute_result"
    }
   ],
   "source": [
    "has_extension(\"./data/test/RADAR_Secondary.txt.gz\", \"fa\")"
   ]
  },
  {
   "cell_type": "code",
   "execution_count": 35,
   "metadata": {
    "ExecuteTime": {
     "end_time": "2017-08-03T10:38:20.227640",
     "start_time": "2017-08-03T10:38:20.223749Z"
    },
    "hidden": true
   },
   "outputs": [
    {
     "data": {
      "text/plain": [
       "True"
      ]
     },
     "execution_count": 35,
     "metadata": {},
     "output_type": "execute_result"
    }
   ],
   "source": [
    "has_extension(\"./data/test/RADAR_Secondary.txt.gz\", \"txt\", -2)"
   ]
  },
  {
   "cell_type": "markdown",
   "metadata": {
    "hidden": true
   },
   "source": [
    "---"
   ]
  },
  {
   "cell_type": "markdown",
   "metadata": {
    "heading_collapsed": true
   },
   "source": [
    "# PATH MANIPULATION"
   ]
  },
  {
   "cell_type": "markdown",
   "metadata": {
    "hidden": true
   },
   "source": [
    "## file_basename"
   ]
  },
  {
   "cell_type": "code",
   "execution_count": 11,
   "metadata": {
    "ExecuteTime": {
     "end_time": "2017-11-27T17:06:26.718205Z",
     "start_time": "2017-11-27T17:06:26.705685Z"
    },
    "hidden": true,
    "init_cell": true
   },
   "outputs": [
    {
     "data": {
      "text/html": [
       "<b>file_basename</b> (fp, **kwargs)"
      ],
      "text/plain": [
       "<IPython.core.display.HTML object>"
      ]
     },
     "metadata": {},
     "output_type": "display_data"
    },
    {
     "data": {
      "text/markdown": [],
      "text/plain": [
       "<IPython.core.display.Markdown object>"
      ]
     },
     "metadata": {},
     "output_type": "display_data"
    },
    {
     "data": {
      "text/markdown": [
       "Return the basename of a file without folder location and extension"
      ],
      "text/plain": [
       "<IPython.core.display.Markdown object>"
      ]
     },
     "metadata": {},
     "output_type": "display_data"
    },
    {
     "data": {
      "text/markdown": [],
      "text/plain": [
       "<IPython.core.display.Markdown object>"
      ]
     },
     "metadata": {},
     "output_type": "display_data"
    }
   ],
   "source": [
    "jhelp(file_basename, full=True)"
   ]
  },
  {
   "cell_type": "code",
   "execution_count": 14,
   "metadata": {
    "ExecuteTime": {
     "end_time": "2017-08-03T10:30:43.187339",
     "start_time": "2017-08-03T10:30:43.178657Z"
    },
    "hidden": true
   },
   "outputs": [
    {
     "data": {
      "text/plain": [
       "'RADAR_Secondary'"
      ]
     },
     "execution_count": 14,
     "metadata": {},
     "output_type": "execute_result"
    }
   ],
   "source": [
    "file_basename(\"./data/RADAR_Secondary.txt.gz\")"
   ]
  },
  {
   "cell_type": "markdown",
   "metadata": {
    "heading_collapsed": true,
    "hidden": true
   },
   "source": [
    "## extensions"
   ]
  },
  {
   "cell_type": "code",
   "execution_count": 12,
   "metadata": {
    "ExecuteTime": {
     "end_time": "2017-11-27T17:06:26.733971Z",
     "start_time": "2017-11-27T17:06:26.720500Z"
    },
    "hidden": true,
    "init_cell": true
   },
   "outputs": [
    {
     "data": {
      "text/html": [
       "<b>extensions</b> (fp, comp_ext_list=['gz', 'tgz', 'zip', 'xz', 'bz2'], **kwargs)"
      ],
      "text/plain": [
       "<IPython.core.display.HTML object>"
      ]
     },
     "metadata": {},
     "output_type": "display_data"
    },
    {
     "data": {
      "text/markdown": [],
      "text/plain": [
       "<IPython.core.display.Markdown object>"
      ]
     },
     "metadata": {},
     "output_type": "display_data"
    },
    {
     "data": {
      "text/markdown": [
       "Return The extension of a file in lower-case. If archived file (\"gz\", \"tgz\", \"zip\", \"xz\", \"bz2\")"
      ],
      "text/plain": [
       "<IPython.core.display.Markdown object>"
      ]
     },
     "metadata": {},
     "output_type": "display_data"
    },
    {
     "data": {
      "text/markdown": [
       "the method will output the base extension + the archive extension as a string"
      ],
      "text/plain": [
       "<IPython.core.display.Markdown object>"
      ]
     },
     "metadata": {},
     "output_type": "display_data"
    },
    {
     "data": {
      "text/markdown": [],
      "text/plain": [
       "<IPython.core.display.Markdown object>"
      ]
     },
     "metadata": {},
     "output_type": "display_data"
    }
   ],
   "source": [
    "jhelp(extensions, full=True)"
   ]
  },
  {
   "cell_type": "code",
   "execution_count": 22,
   "metadata": {
    "ExecuteTime": {
     "end_time": "2017-08-03T10:33:06.990442",
     "start_time": "2017-08-03T10:33:06.984210Z"
    },
    "hidden": true
   },
   "outputs": [
    {
     "name": "stdout",
     "output_type": "stream",
     "text": [
      ".txt.gz\n",
      ".txt\n",
      "\n"
     ]
    }
   ],
   "source": [
    "print(extensions(\"./data/RADAR_Secondary.txt.gz\"))\n",
    "print(extensions(\"./data/RADAR_Secondary.txt\"))\n",
    "print(extensions(\"./data/RADAR_Secondary\"))"
   ]
  },
  {
   "cell_type": "markdown",
   "metadata": {
    "ExecuteTime": {
     "end_time": "2017-08-03T10:32:08.847380",
     "start_time": "2017-08-03T10:32:08.843688Z"
    },
    "heading_collapsed": true,
    "hidden": true
   },
   "source": [
    "## extensions_list"
   ]
  },
  {
   "cell_type": "code",
   "execution_count": 23,
   "metadata": {
    "ExecuteTime": {
     "end_time": "2017-08-03T10:33:49.472831",
     "start_time": "2017-08-03T10:33:49.463071Z"
    },
    "hidden": true
   },
   "outputs": [
    {
     "data": {
      "text/html": [
       "<b>extensions_list</b> (fp, comp_ext_list=['gz', 'tgz', 'zip', 'xz', 'bz2'], **kwargs)"
      ],
      "text/plain": [
       "<IPython.core.display.HTML object>"
      ]
     },
     "metadata": {},
     "output_type": "display_data"
    },
    {
     "data": {
      "text/markdown": [],
      "text/plain": [
       "<IPython.core.display.Markdown object>"
      ]
     },
     "metadata": {},
     "output_type": "display_data"
    },
    {
     "data": {
      "text/markdown": [
       "Return The extension of a file in lower-case. If archived file (\"gz\", \"tgz\", \"zip\", \"xz\", \"bz2\")"
      ],
      "text/plain": [
       "<IPython.core.display.Markdown object>"
      ]
     },
     "metadata": {},
     "output_type": "display_data"
    },
    {
     "data": {
      "text/markdown": [
       "the method will output the base extension + the archive extension as a list"
      ],
      "text/plain": [
       "<IPython.core.display.Markdown object>"
      ]
     },
     "metadata": {},
     "output_type": "display_data"
    },
    {
     "data": {
      "text/markdown": [],
      "text/plain": [
       "<IPython.core.display.Markdown object>"
      ]
     },
     "metadata": {},
     "output_type": "display_data"
    }
   ],
   "source": [
    "jhelp(extensions_list, full=True)"
   ]
  },
  {
   "cell_type": "code",
   "execution_count": 24,
   "metadata": {
    "ExecuteTime": {
     "end_time": "2017-08-03T10:34:25.374836",
     "start_time": "2017-08-03T10:34:25.368642Z"
    },
    "hidden": true,
    "scrolled": true
   },
   "outputs": [
    {
     "name": "stdout",
     "output_type": "stream",
     "text": [
      "['txt', 'gz']\n",
      "['txt']\n",
      "[]\n"
     ]
    }
   ],
   "source": [
    "print(extensions_list(\"./data/RADAR_Secondary.txt.gz\"))\n",
    "print(extensions_list(\"./data/RADAR_Secondary.txt\"))\n",
    "print(extensions_list(\"./data/RADAR_Secondary\"))"
   ]
  },
  {
   "cell_type": "markdown",
   "metadata": {
    "heading_collapsed": true,
    "hidden": true
   },
   "source": [
    "## file_name"
   ]
  },
  {
   "cell_type": "code",
   "execution_count": 13,
   "metadata": {
    "ExecuteTime": {
     "end_time": "2017-11-27T17:06:26.745776Z",
     "start_time": "2017-11-27T17:06:26.736048Z"
    },
    "hidden": true,
    "init_cell": true
   },
   "outputs": [
    {
     "data": {
      "text/html": [
       "<b>file_name</b> (fp, **kwargs)"
      ],
      "text/plain": [
       "<IPython.core.display.HTML object>"
      ]
     },
     "metadata": {},
     "output_type": "display_data"
    },
    {
     "data": {
      "text/markdown": [],
      "text/plain": [
       "<IPython.core.display.Markdown object>"
      ]
     },
     "metadata": {},
     "output_type": "display_data"
    },
    {
     "data": {
      "text/markdown": [
       "Return The complete name of a file with the extension but without folder location"
      ],
      "text/plain": [
       "<IPython.core.display.Markdown object>"
      ]
     },
     "metadata": {},
     "output_type": "display_data"
    },
    {
     "data": {
      "text/markdown": [],
      "text/plain": [
       "<IPython.core.display.Markdown object>"
      ]
     },
     "metadata": {},
     "output_type": "display_data"
    }
   ],
   "source": [
    "jhelp(file_name, full=True)"
   ]
  },
  {
   "cell_type": "code",
   "execution_count": 25,
   "metadata": {
    "ExecuteTime": {
     "end_time": "2017-08-03T10:34:40.111407",
     "start_time": "2017-08-03T10:34:40.105071Z"
    },
    "hidden": true
   },
   "outputs": [
    {
     "data": {
      "text/plain": [
       "'RADAR_Secondary.txt.gz'"
      ]
     },
     "execution_count": 25,
     "metadata": {},
     "output_type": "execute_result"
    }
   ],
   "source": [
    "file_name(\"./data/test/RADAR_Secondary.txt.gz\")"
   ]
  },
  {
   "cell_type": "markdown",
   "metadata": {
    "heading_collapsed": true,
    "hidden": true
   },
   "source": [
    "## dir_name"
   ]
  },
  {
   "cell_type": "code",
   "execution_count": 14,
   "metadata": {
    "ExecuteTime": {
     "end_time": "2017-11-27T17:06:26.756290Z",
     "start_time": "2017-11-27T17:06:26.748762Z"
    },
    "hidden": true,
    "init_cell": true
   },
   "outputs": [
    {
     "data": {
      "text/html": [
       "<b>dir_name</b> (fp, **kwargs)"
      ],
      "text/plain": [
       "<IPython.core.display.HTML object>"
      ]
     },
     "metadata": {},
     "output_type": "display_data"
    },
    {
     "data": {
      "text/markdown": [],
      "text/plain": [
       "<IPython.core.display.Markdown object>"
      ]
     },
     "metadata": {},
     "output_type": "display_data"
    },
    {
     "data": {
      "text/markdown": [
       "Return the name of the directory where the file is located"
      ],
      "text/plain": [
       "<IPython.core.display.Markdown object>"
      ]
     },
     "metadata": {},
     "output_type": "display_data"
    },
    {
     "data": {
      "text/markdown": [],
      "text/plain": [
       "<IPython.core.display.Markdown object>"
      ]
     },
     "metadata": {},
     "output_type": "display_data"
    }
   ],
   "source": [
    "jhelp(dir_name, full=True)"
   ]
  },
  {
   "cell_type": "code",
   "execution_count": 28,
   "metadata": {
    "ExecuteTime": {
     "end_time": "2017-08-03T10:35:41.014171",
     "start_time": "2017-08-03T10:35:41.007911Z"
    },
    "hidden": true,
    "scrolled": false
   },
   "outputs": [
    {
     "name": "stdout",
     "output_type": "stream",
     "text": [
      "test\n",
      ".\n",
      "bin\n"
     ]
    }
   ],
   "source": [
    "print(dir_name(\"./data/test/RADAR_Secondary.txt.gz\"))\n",
    "print(dir_name(\"./__init__.py\"))\n",
    "print(dir_name(\"/bin/bash\"))"
   ]
  },
  {
   "cell_type": "markdown",
   "metadata": {
    "heading_collapsed": true,
    "hidden": true
   },
   "source": [
    "## dir_path"
   ]
  },
  {
   "cell_type": "code",
   "execution_count": 30,
   "metadata": {
    "ExecuteTime": {
     "end_time": "2017-08-03T10:36:45.479600",
     "start_time": "2017-08-03T10:36:45.466336Z"
    },
    "hidden": true
   },
   "outputs": [
    {
     "data": {
      "text/html": [
       "<b>dir_path</b> (fp)"
      ],
      "text/plain": [
       "<IPython.core.display.HTML object>"
      ]
     },
     "metadata": {},
     "output_type": "display_data"
    },
    {
     "data": {
      "text/markdown": [],
      "text/plain": [
       "<IPython.core.display.Markdown object>"
      ]
     },
     "metadata": {},
     "output_type": "display_data"
    },
    {
     "data": {
      "text/markdown": [
       "Return the directory path of a file"
      ],
      "text/plain": [
       "<IPython.core.display.Markdown object>"
      ]
     },
     "metadata": {},
     "output_type": "display_data"
    },
    {
     "data": {
      "text/markdown": [],
      "text/plain": [
       "<IPython.core.display.Markdown object>"
      ]
     },
     "metadata": {},
     "output_type": "display_data"
    }
   ],
   "source": [
    "jhelp(dir_path, full=True)"
   ]
  },
  {
   "cell_type": "code",
   "execution_count": 31,
   "metadata": {
    "ExecuteTime": {
     "end_time": "2017-08-03T10:37:12.350242",
     "start_time": "2017-08-03T10:37:12.344541Z"
    },
    "hidden": true
   },
   "outputs": [
    {
     "name": "stdout",
     "output_type": "stream",
     "text": [
      "./data/test\n",
      ".\n",
      "/bin\n"
     ]
    }
   ],
   "source": [
    "print(dir_path(\"./data/test/RADAR_Secondary.txt.gz\"))\n",
    "print(dir_path(\"./__init__.py\"))\n",
    "print(dir_path(\"/bin/bash\"))"
   ]
  },
  {
   "cell_type": "markdown",
   "metadata": {
    "hidden": true
   },
   "source": [
    "---"
   ]
  },
  {
   "cell_type": "markdown",
   "metadata": {
    "heading_collapsed": true
   },
   "source": [
    "# STRING FORMATTING"
   ]
  },
  {
   "cell_type": "markdown",
   "metadata": {
    "hidden": true
   },
   "source": [
    "## supersplit"
   ]
  },
  {
   "cell_type": "code",
   "execution_count": 15,
   "metadata": {
    "ExecuteTime": {
     "end_time": "2017-11-27T17:06:26.769051Z",
     "start_time": "2017-11-27T17:06:26.759616Z"
    },
    "hidden": true,
    "init_cell": true
   },
   "outputs": [
    {
     "data": {
      "text/html": [
       "<b>supersplit</b> (string, separator='', **kwargs)"
      ],
      "text/plain": [
       "<IPython.core.display.HTML object>"
      ]
     },
     "metadata": {},
     "output_type": "display_data"
    },
    {
     "data": {
      "text/markdown": [],
      "text/plain": [
       "<IPython.core.display.Markdown object>"
      ]
     },
     "metadata": {},
     "output_type": "display_data"
    },
    {
     "data": {
      "text/markdown": [
       "like split but can take a list of separators instead of a simple separator"
      ],
      "text/plain": [
       "<IPython.core.display.Markdown object>"
      ]
     },
     "metadata": {},
     "output_type": "display_data"
    },
    {
     "data": {
      "text/markdown": [],
      "text/plain": [
       "<IPython.core.display.Markdown object>"
      ]
     },
     "metadata": {},
     "output_type": "display_data"
    }
   ],
   "source": [
    "jhelp(supersplit, full=True)"
   ]
  },
  {
   "cell_type": "code",
   "execution_count": 69,
   "metadata": {
    "ExecuteTime": {
     "end_time": "2017-07-27T13:34:57.966214Z",
     "start_time": "2017-07-27T13:34:57.958153Z"
    },
    "hidden": true
   },
   "outputs": [
    {
     "name": "stdout",
     "output_type": "stream",
     "text": [
      "['chr7', '74138', '774138', 'A>I', 'LOC100129917', 'LUNG:LYMPHOBLASTOID_CELL_LINE', '15342557:15258596:22327324', '0']\n",
      "['chr7', '74138', '774138', 'A>I|LOC100129917|LUNG:LYMPHOBLASTOID_CELL_LINE|15342557:15258596:22327324', '0']\n",
      "['chr7\\t74138\\t774138\\tA>I', 'LOC100129917', 'LUNG:LYMPHOBLASTOID_CELL_LINE', '15342557:15258596:22327324\\t0']\n"
     ]
    }
   ],
   "source": [
    "a = \"chr7\\t74138\\t774138\\tA>I|LOC100129917|LUNG:LYMPHOBLASTOID_CELL_LINE|15342557:15258596:22327324\\t0\"\n",
    "\n",
    "print(supersplit(a, [\"\\t\",\"|\"]))\n",
    "\n",
    "print(supersplit(a))\n",
    "\n",
    "print(supersplit(a, \"|\"))"
   ]
  },
  {
   "cell_type": "markdown",
   "metadata": {
    "hidden": true
   },
   "source": [
    "## rm_blank"
   ]
  },
  {
   "cell_type": "code",
   "execution_count": 16,
   "metadata": {
    "ExecuteTime": {
     "end_time": "2017-11-27T17:06:26.778810Z",
     "start_time": "2017-11-27T17:06:26.770971Z"
    },
    "hidden": true,
    "init_cell": true
   },
   "outputs": [
    {
     "data": {
      "text/html": [
       "<b>rm_blank</b> (name, replace='', **kwargs)"
      ],
      "text/plain": [
       "<IPython.core.display.HTML object>"
      ]
     },
     "metadata": {},
     "output_type": "display_data"
    },
    {
     "data": {
      "text/markdown": [
       "Replace blank spaces in a name by a given character (default = remove)"
      ],
      "text/plain": [
       "<IPython.core.display.Markdown object>"
      ]
     },
     "metadata": {},
     "output_type": "display_data"
    },
    {
     "data": {
      "text/markdown": [
       "Blanks at extremities are always removed and nor replaced"
      ],
      "text/plain": [
       "<IPython.core.display.Markdown object>"
      ]
     },
     "metadata": {},
     "output_type": "display_data"
    }
   ],
   "source": [
    "jhelp(rm_blank, full=True)"
   ]
  },
  {
   "cell_type": "code",
   "execution_count": 71,
   "metadata": {
    "ExecuteTime": {
     "end_time": "2017-07-27T13:35:08.907716Z",
     "start_time": "2017-07-27T13:35:08.896274Z"
    },
    "hidden": true,
    "scrolled": true
   },
   "outputs": [
    {
     "name": "stdout",
     "output_type": "stream",
     "text": [
      "chr17|LUNG:LYMPHOBLASTOID_CELL_LINE|15342557:15258596:223273240\n",
      "chr*17|LU*NG:LYMPHOBLAST*OID_CELL_LINE|15342557:152585*96:22327324*0\n"
     ]
    }
   ],
   "source": [
    "a = \"chr\\t\\t17|LU NG:LYMPHOBLAST    OID_CELL_LINE|15342557:152585     96:22327324\\t0\"\n",
    "\n",
    "print(rm_blank(a))\n",
    "\n",
    "print(rm_blank(a, replace=\"*\"))"
   ]
  },
  {
   "cell_type": "markdown",
   "metadata": {
    "hidden": true
   },
   "source": [
    "---"
   ]
  },
  {
   "cell_type": "markdown",
   "metadata": {
    "heading_collapsed": true
   },
   "source": [
    "# FILE MANIPULATION"
   ]
  },
  {
   "cell_type": "markdown",
   "metadata": {
    "heading_collapsed": true,
    "hidden": true
   },
   "source": [
    "## copyFile"
   ]
  },
  {
   "cell_type": "code",
   "execution_count": 17,
   "metadata": {
    "ExecuteTime": {
     "end_time": "2017-11-27T17:06:26.795361Z",
     "start_time": "2017-11-27T17:06:26.781709Z"
    },
    "hidden": true,
    "init_cell": true
   },
   "outputs": [
    {
     "data": {
      "text/html": [
       "<b>copyFile</b> (src, dest, **kwargs)"
      ],
      "text/plain": [
       "<IPython.core.display.HTML object>"
      ]
     },
     "metadata": {},
     "output_type": "display_data"
    },
    {
     "data": {
      "text/markdown": [],
      "text/plain": [
       "<IPython.core.display.Markdown object>"
      ]
     },
     "metadata": {},
     "output_type": "display_data"
    },
    {
     "data": {
      "text/markdown": [
       "Copy a single file to a destination file or folder (with error handling/reporting)"
      ],
      "text/plain": [
       "<IPython.core.display.Markdown object>"
      ]
     },
     "metadata": {},
     "output_type": "display_data"
    },
    {
     "data": {
      "text/markdown": [
       "* src"
      ],
      "text/plain": [
       "<IPython.core.display.Markdown object>"
      ]
     },
     "metadata": {},
     "output_type": "display_data"
    },
    {
     "data": {
      "text/markdown": [
       "Source file path"
      ],
      "text/plain": [
       "<IPython.core.display.Markdown object>"
      ]
     },
     "metadata": {},
     "output_type": "display_data"
    },
    {
     "data": {
      "text/markdown": [
       "* dest"
      ],
      "text/plain": [
       "<IPython.core.display.Markdown object>"
      ]
     },
     "metadata": {},
     "output_type": "display_data"
    },
    {
     "data": {
      "text/markdown": [
       "Path of the folder where to copy the source file"
      ],
      "text/plain": [
       "<IPython.core.display.Markdown object>"
      ]
     },
     "metadata": {},
     "output_type": "display_data"
    },
    {
     "data": {
      "text/markdown": [],
      "text/plain": [
       "<IPython.core.display.Markdown object>"
      ]
     },
     "metadata": {},
     "output_type": "display_data"
    }
   ],
   "source": [
    "jhelp(copyFile, full=True)"
   ]
  },
  {
   "cell_type": "code",
   "execution_count": 73,
   "metadata": {
    "ExecuteTime": {
     "end_time": "2017-07-27T13:35:23.508419Z",
     "start_time": "2017-07-27T13:35:23.499389Z"
    },
    "hidden": true
   },
   "outputs": [
    {
     "name": "stdout",
     "output_type": "stream",
     "text": [
      "Error: './data/RADAR_Secondary.txt' and './data/RADAR_Secondary.txt' are the same file\n"
     ]
    }
   ],
   "source": [
    "copyFile(src=\"./data/RADAR_Secondary.txt\", dest=\"./data/\")"
   ]
  },
  {
   "cell_type": "code",
   "execution_count": 75,
   "metadata": {
    "ExecuteTime": {
     "end_time": "2017-07-27T13:36:15.078160Z",
     "start_time": "2017-07-27T13:36:15.073768Z"
    },
    "collapsed": true,
    "hidden": true,
    "scrolled": true
   },
   "outputs": [],
   "source": [
    "copyFile(src=\"./data/RADAR_Secondary.txt\", dest=\"./data/RADAR_Secondary_copy.txt\")"
   ]
  },
  {
   "cell_type": "markdown",
   "metadata": {
    "heading_collapsed": true,
    "hidden": true
   },
   "source": [
    "## gzip_file"
   ]
  },
  {
   "cell_type": "code",
   "execution_count": 18,
   "metadata": {
    "ExecuteTime": {
     "end_time": "2017-11-27T17:06:26.813108Z",
     "start_time": "2017-11-27T17:06:26.798344Z"
    },
    "hidden": true,
    "init_cell": true
   },
   "outputs": [
    {
     "data": {
      "text/html": [
       "<b>gzip_file</b> (fpin, fpout=None, **kwargs)"
      ],
      "text/plain": [
       "<IPython.core.display.HTML object>"
      ]
     },
     "metadata": {},
     "output_type": "display_data"
    },
    {
     "data": {
      "text/markdown": [],
      "text/plain": [
       "<IPython.core.display.Markdown object>"
      ]
     },
     "metadata": {},
     "output_type": "display_data"
    },
    {
     "data": {
      "text/markdown": [
       "gzip a file"
      ],
      "text/plain": [
       "<IPython.core.display.Markdown object>"
      ]
     },
     "metadata": {},
     "output_type": "display_data"
    },
    {
     "data": {
      "text/markdown": [
       "* fpin"
      ],
      "text/plain": [
       "<IPython.core.display.Markdown object>"
      ]
     },
     "metadata": {},
     "output_type": "display_data"
    },
    {
     "data": {
      "text/markdown": [
       "Path of the input uncompressed file"
      ],
      "text/plain": [
       "<IPython.core.display.Markdown object>"
      ]
     },
     "metadata": {},
     "output_type": "display_data"
    },
    {
     "data": {
      "text/markdown": [
       "* fpout"
      ],
      "text/plain": [
       "<IPython.core.display.Markdown object>"
      ]
     },
     "metadata": {},
     "output_type": "display_data"
    },
    {
     "data": {
      "text/markdown": [
       "Path of the output compressed file (facultative)"
      ],
      "text/plain": [
       "<IPython.core.display.Markdown object>"
      ]
     },
     "metadata": {},
     "output_type": "display_data"
    },
    {
     "data": {
      "text/markdown": [],
      "text/plain": [
       "<IPython.core.display.Markdown object>"
      ]
     },
     "metadata": {},
     "output_type": "display_data"
    }
   ],
   "source": [
    "jhelp(gzip_file, full=True)"
   ]
  },
  {
   "cell_type": "code",
   "execution_count": 77,
   "metadata": {
    "ExecuteTime": {
     "end_time": "2017-07-27T13:36:24.751614Z",
     "start_time": "2017-07-27T13:36:24.742847Z"
    },
    "hidden": true
   },
   "outputs": [
    {
     "name": "stdout",
     "output_type": "stream",
     "text": [
      "Compressing ./data/RADAR_Secondary.txt\n"
     ]
    },
    {
     "data": {
      "text/plain": [
       "'/home/aleg/Programming/Python3/pycl/pycl/data/RADAR_Secondary.txt.gz'"
      ]
     },
     "execution_count": 77,
     "metadata": {},
     "output_type": "execute_result"
    }
   ],
   "source": [
    "gzip_file(\"./data/RADAR_Secondary.txt\")"
   ]
  },
  {
   "cell_type": "markdown",
   "metadata": {
    "heading_collapsed": true,
    "hidden": true
   },
   "source": [
    "## gunzip_file"
   ]
  },
  {
   "cell_type": "code",
   "execution_count": 19,
   "metadata": {
    "ExecuteTime": {
     "end_time": "2017-11-27T17:06:26.828774Z",
     "start_time": "2017-11-27T17:06:26.815899Z"
    },
    "hidden": true,
    "init_cell": true
   },
   "outputs": [
    {
     "data": {
      "text/html": [
       "<b>gunzip_file</b> (fpin, fpout=None, **kwargs)"
      ],
      "text/plain": [
       "<IPython.core.display.HTML object>"
      ]
     },
     "metadata": {},
     "output_type": "display_data"
    },
    {
     "data": {
      "text/markdown": [],
      "text/plain": [
       "<IPython.core.display.Markdown object>"
      ]
     },
     "metadata": {},
     "output_type": "display_data"
    },
    {
     "data": {
      "text/markdown": [
       "ungzip a file"
      ],
      "text/plain": [
       "<IPython.core.display.Markdown object>"
      ]
     },
     "metadata": {},
     "output_type": "display_data"
    },
    {
     "data": {
      "text/markdown": [
       "* fpin"
      ],
      "text/plain": [
       "<IPython.core.display.Markdown object>"
      ]
     },
     "metadata": {},
     "output_type": "display_data"
    },
    {
     "data": {
      "text/markdown": [
       "Path of the input compressed file"
      ],
      "text/plain": [
       "<IPython.core.display.Markdown object>"
      ]
     },
     "metadata": {},
     "output_type": "display_data"
    },
    {
     "data": {
      "text/markdown": [
       "* fpout"
      ],
      "text/plain": [
       "<IPython.core.display.Markdown object>"
      ]
     },
     "metadata": {},
     "output_type": "display_data"
    },
    {
     "data": {
      "text/markdown": [
       "Path of the output uncompressed file (facultative)"
      ],
      "text/plain": [
       "<IPython.core.display.Markdown object>"
      ]
     },
     "metadata": {},
     "output_type": "display_data"
    },
    {
     "data": {
      "text/markdown": [],
      "text/plain": [
       "<IPython.core.display.Markdown object>"
      ]
     },
     "metadata": {},
     "output_type": "display_data"
    }
   ],
   "source": [
    "jhelp(gunzip_file, full=True)"
   ]
  },
  {
   "cell_type": "code",
   "execution_count": 79,
   "metadata": {
    "ExecuteTime": {
     "end_time": "2017-07-27T13:36:39.707348Z",
     "start_time": "2017-07-27T13:36:39.700767Z"
    },
    "hidden": true
   },
   "outputs": [
    {
     "name": "stdout",
     "output_type": "stream",
     "text": [
      "Uncompressing ./data/RADAR_Secondary.txt.gz\n"
     ]
    },
    {
     "data": {
      "text/plain": [
       "'/home/aleg/Programming/Python3/pycl/pycl/data/RADAR_Secondary.txt'"
      ]
     },
     "execution_count": 79,
     "metadata": {},
     "output_type": "execute_result"
    }
   ],
   "source": [
    "gunzip_file(\"./data/RADAR_Secondary.txt.gz\")"
   ]
  },
  {
   "cell_type": "markdown",
   "metadata": {
    "hidden": true
   },
   "source": [
    "---"
   ]
  },
  {
   "cell_type": "markdown",
   "metadata": {},
   "source": [
    "# FILE INFORMATION"
   ]
  },
  {
   "cell_type": "markdown",
   "metadata": {
    "heading_collapsed": true
   },
   "source": [
    "## linerange"
   ]
  },
  {
   "cell_type": "code",
   "execution_count": 20,
   "metadata": {
    "ExecuteTime": {
     "end_time": "2017-11-27T17:06:26.852274Z",
     "start_time": "2017-11-27T17:06:26.831526Z"
    },
    "hidden": true,
    "init_cell": true
   },
   "outputs": [
    {
     "data": {
      "text/html": [
       "<b>linerange</b> (fp, range_list=[], line_numbering=True, max_char_line=150, **kwargs)"
      ],
      "text/plain": [
       "<IPython.core.display.HTML object>"
      ]
     },
     "metadata": {},
     "output_type": "display_data"
    },
    {
     "data": {
      "text/markdown": [],
      "text/plain": [
       "<IPython.core.display.Markdown object>"
      ]
     },
     "metadata": {},
     "output_type": "display_data"
    },
    {
     "data": {
      "text/markdown": [
       "Print a range of lines in a file according to a list of start end lists. Handle gziped files"
      ],
      "text/plain": [
       "<IPython.core.display.Markdown object>"
      ]
     },
     "metadata": {},
     "output_type": "display_data"
    },
    {
     "data": {
      "text/markdown": [
       "* fp"
      ],
      "text/plain": [
       "<IPython.core.display.Markdown object>"
      ]
     },
     "metadata": {},
     "output_type": "display_data"
    },
    {
     "data": {
      "text/markdown": [
       "Path to the file to be parsed"
      ],
      "text/plain": [
       "<IPython.core.display.Markdown object>"
      ]
     },
     "metadata": {},
     "output_type": "display_data"
    },
    {
     "data": {
      "text/markdown": [
       "* range_list"
      ],
      "text/plain": [
       "<IPython.core.display.Markdown object>"
      ]
     },
     "metadata": {},
     "output_type": "display_data"
    },
    {
     "data": {
      "text/markdown": [
       "list of start, end coordinates lists or tuples"
      ],
      "text/plain": [
       "<IPython.core.display.Markdown object>"
      ]
     },
     "metadata": {},
     "output_type": "display_data"
    },
    {
     "data": {
      "text/markdown": [
       "* line_numbering"
      ],
      "text/plain": [
       "<IPython.core.display.Markdown object>"
      ]
     },
     "metadata": {},
     "output_type": "display_data"
    },
    {
     "data": {
      "text/markdown": [
       "If True the number of the line will be indicated in front of the line"
      ],
      "text/plain": [
       "<IPython.core.display.Markdown object>"
      ]
     },
     "metadata": {},
     "output_type": "display_data"
    },
    {
     "data": {
      "text/markdown": [
       "* max_char_line"
      ],
      "text/plain": [
       "<IPython.core.display.Markdown object>"
      ]
     },
     "metadata": {},
     "output_type": "display_data"
    },
    {
     "data": {
      "text/markdown": [
       "Maximal number of character to print per line"
      ],
      "text/plain": [
       "<IPython.core.display.Markdown object>"
      ]
     },
     "metadata": {},
     "output_type": "display_data"
    },
    {
     "data": {
      "text/markdown": [],
      "text/plain": [
       "<IPython.core.display.Markdown object>"
      ]
     },
     "metadata": {},
     "output_type": "display_data"
    }
   ],
   "source": [
    "jhelp(linerange, full=True)"
   ]
  },
  {
   "cell_type": "code",
   "execution_count": 40,
   "metadata": {
    "ExecuteTime": {
     "end_time": "2017-08-21T15:13:22.920500",
     "start_time": "2017-08-21T15:13:22.907055Z"
    },
    "hidden": true
   },
   "outputs": [
    {
     "data": {
      "text/html": [
       "<p style=\"line-height:10px;\">0&emsp;#location&emsp;reference&emsp;tissue&emsp;coverage&emsp;editing_level(%)</p>"
      ],
      "text/plain": [
       "<IPython.core.display.HTML object>"
      ]
     },
     "metadata": {},
     "output_type": "display_data"
    },
    {
     "data": {
      "text/html": [
       "<p style=\"line-height:10px;\">1&emsp;chr1:1037916&emsp;Peng et al 2012&emsp;Lymphoblastoid cell line&emsp;9&emsp;66.67</p>"
      ],
      "text/plain": [
       "<IPython.core.display.HTML object>"
      ]
     },
     "metadata": {},
     "output_type": "display_data"
    },
    {
     "data": {
      "text/html": [
       "<p style=\"line-height:10px;\">2&emsp;chr1:1156882&emsp;Peng et al 2012&emsp;Lymphoblastoid cell line&emsp;42&emsp;36.59</p>"
      ],
      "text/plain": [
       "<IPython.core.display.HTML object>"
      ]
     },
     "metadata": {},
     "output_type": "display_data"
    },
    {
     "data": {
      "text/html": [
       "<p style=\"line-height:10px;\">...</p>"
      ],
      "text/plain": [
       "<IPython.core.display.HTML object>"
      ]
     },
     "metadata": {},
     "output_type": "display_data"
    },
    {
     "data": {
      "text/html": [
       "<p style=\"line-height:10px;\">97&emsp;chr1:10560773&emsp;Peng et al 2012&emsp;Lymphoblastoid cell line&emsp;20&emsp;40.00</p>"
      ],
      "text/plain": [
       "<IPython.core.display.HTML object>"
      ]
     },
     "metadata": {},
     "output_type": "display_data"
    },
    {
     "data": {
      "text/html": [
       "<p style=\"line-height:10px;\">98&emsp;chr1:10602697&emsp;Peng et al 2012&emsp;Lymphoblastoid cell line&emsp;5&emsp;60.00</p>"
      ],
      "text/plain": [
       "<IPython.core.display.HTML object>"
      ]
     },
     "metadata": {},
     "output_type": "display_data"
    },
    {
     "data": {
      "text/html": [
       "<p style=\"line-height:10px;\">99&emsp;chr1:11138237&emsp;Peng et al 2012&emsp;Lymphoblastoid cell line&emsp;14&emsp;42.86</p>"
      ],
      "text/plain": [
       "<IPython.core.display.HTML object>"
      ]
     },
     "metadata": {},
     "output_type": "display_data"
    }
   ],
   "source": [
    "file = \"./data/RADAR_Secondary.txt\"\n",
    "linerange (file)"
   ]
  },
  {
   "cell_type": "code",
   "execution_count": 41,
   "metadata": {
    "ExecuteTime": {
     "end_time": "2017-08-21T15:13:25.704222",
     "start_time": "2017-08-21T15:13:25.668809Z"
    },
    "hidden": true
   },
   "outputs": [
    {
     "data": {
      "text/html": [
       "<p style=\"line-height:10px;\">...</p>"
      ],
      "text/plain": [
       "<IPython.core.display.HTML object>"
      ]
     },
     "metadata": {},
     "output_type": "display_data"
    },
    {
     "data": {
      "text/html": [
       "<p style=\"line-height:10px;\">2&emsp;#provider: GENCODE</p>"
      ],
      "text/plain": [
       "<IPython.core.display.HTML object>"
      ]
     },
     "metadata": {},
     "output_type": "display_data"
    },
    {
     "data": {
      "text/html": [
       "<p style=\"line-height:10px;\">3&emsp;#contact: gencode-help@sanger.ac.uk</p>"
      ],
      "text/plain": [
       "<IPython.core.display.HTML object>"
      ]
     },
     "metadata": {},
     "output_type": "display_data"
    },
    {
     "data": {
      "text/html": [
       "<p style=\"line-height:10px;\">4&emsp;#format: gff3</p>"
      ],
      "text/plain": [
       "<IPython.core.display.HTML object>"
      ]
     },
     "metadata": {},
     "output_type": "display_data"
    },
    {
     "data": {
      "text/html": [
       "<p style=\"line-height:10px;\">5&emsp;#date: 2015-12-03</p>"
      ],
      "text/plain": [
       "<IPython.core.display.HTML object>"
      ]
     },
     "metadata": {},
     "output_type": "display_data"
    },
    {
     "data": {
      "text/html": [
       "<p style=\"line-height:10px;\">...</p>"
      ],
      "text/plain": [
       "<IPython.core.display.HTML object>"
      ]
     },
     "metadata": {},
     "output_type": "display_data"
    },
    {
     "data": {
      "text/html": [
       "<p style=\"line-height:10px;\">10&emsp;chr1&emsp;HAVANA&emsp;exon&emsp;30564&emsp;30667&emsp;.&emsp;+&emsp;.&emsp;ID=exon:ENST00000473358.1:2;Parent=ENST00000473358.1;gene_id=E...</p>"
      ],
      "text/plain": [
       "<IPython.core.display.HTML object>"
      ]
     },
     "metadata": {},
     "output_type": "display_data"
    },
    {
     "data": {
      "text/html": [
       "<p style=\"line-height:10px;\">11&emsp;chr1&emsp;HAVANA&emsp;exon&emsp;30976&emsp;31097&emsp;.&emsp;+&emsp;.&emsp;ID=exon:ENST00000473358.1:3;Parent=ENST00000473358.1;gene_id=E...</p>"
      ],
      "text/plain": [
       "<IPython.core.display.HTML object>"
      ]
     },
     "metadata": {},
     "output_type": "display_data"
    },
    {
     "data": {
      "text/html": [
       "<p style=\"line-height:10px;\">12&emsp;chr1&emsp;HAVANA&emsp;transcript&emsp;30267&emsp;31109&emsp;.&emsp;+&emsp;.&emsp;ID=ENST00000469289.1;Parent=ENSG00000243485.3;gene_id=EN...</p>"
      ],
      "text/plain": [
       "<IPython.core.display.HTML object>"
      ]
     },
     "metadata": {},
     "output_type": "display_data"
    },
    {
     "data": {
      "text/html": [
       "<p style=\"line-height:10px;\">...</p>"
      ],
      "text/plain": [
       "<IPython.core.display.HTML object>"
      ]
     },
     "metadata": {},
     "output_type": "display_data"
    },
    {
     "data": {
      "text/html": [
       "<p style=\"line-height:10px;\">98&emsp;chr1&emsp;HAVANA&emsp;exon&emsp;287517&emsp;287921&emsp;.&emsp;-&emsp;.&emsp;ID=exon:ENST00000335577.4:2;Parent=ENST00000335577.4;gene_id...</p>"
      ],
      "text/plain": [
       "<IPython.core.display.HTML object>"
      ]
     },
     "metadata": {},
     "output_type": "display_data"
    },
    {
     "data": {
      "text/html": [
       "<p style=\"line-height:10px;\">99&emsp;chr1&emsp;HAVANA&emsp;gene&emsp;357383&emsp;359681&emsp;.&emsp;-&emsp;.&emsp;ID=ENSG00000236743.1;gene_id=ENSG00000236743.1;gene_type=lin...</p>"
      ],
      "text/plain": [
       "<IPython.core.display.HTML object>"
      ]
     },
     "metadata": {},
     "output_type": "display_data"
    },
    {
     "data": {
      "text/html": [
       "<p style=\"line-height:10px;\">100&emsp;chr1&emsp;HAVANA&emsp;transcript&emsp;357383&emsp;359681&emsp;.&emsp;-&emsp;.&emsp;ID=ENST00000441866.1;Parent=ENSG00000236743.1;gene_id...</p>"
      ],
      "text/plain": [
       "<IPython.core.display.HTML object>"
      ]
     },
     "metadata": {},
     "output_type": "display_data"
    },
    {
     "data": {
      "text/html": [
       "<p style=\"line-height:10px;\">...</p>"
      ],
      "text/plain": [
       "<IPython.core.display.HTML object>"
      ]
     },
     "metadata": {},
     "output_type": "display_data"
    }
   ],
   "source": [
    "file = \"./data/gencode_sample.gff3\"\n",
    "linerange (file, [[2,5],[10,12],[98,100]], max_char_line=100)"
   ]
  },
  {
   "cell_type": "code",
   "execution_count": 51,
   "metadata": {
    "ExecuteTime": {
     "end_time": "2017-08-21T14:52:04.286121",
     "start_time": "2017-08-21T14:52:04.264131Z"
    },
    "hidden": true
   },
   "outputs": [
    {
     "data": {
      "text/html": [
       "<p style=\"line-height:10px;\">#location&emsp;reference&emsp;tissue&emsp;coverage&emsp;editing_level(%)</p>"
      ],
      "text/plain": [
       "<IPython.core.display.HTML object>"
      ]
     },
     "metadata": {},
     "output_type": "display_data"
    },
    {
     "data": {
      "text/html": [
       "<p style=\"line-height:10px;\">chr1:1037916&emsp;Peng et al 2012&emsp;Lymphoblastoid cell line&emsp;9&emsp;66.67</p>"
      ],
      "text/plain": [
       "<IPython.core.display.HTML object>"
      ]
     },
     "metadata": {},
     "output_type": "display_data"
    },
    {
     "data": {
      "text/html": [
       "<p style=\"line-height:10px;\">chr1:1156882&emsp;Peng et al 2012&emsp;Lymphoblastoid cell line&emsp;42&emsp;36.59</p>"
      ],
      "text/plain": [
       "<IPython.core.display.HTML object>"
      ]
     },
     "metadata": {},
     "output_type": "display_data"
    },
    {
     "data": {
      "text/html": [
       "<p style=\"line-height:10px;\">...</p>"
      ],
      "text/plain": [
       "<IPython.core.display.HTML object>"
      ]
     },
     "metadata": {},
     "output_type": "display_data"
    },
    {
     "data": {
      "text/html": [
       "<p style=\"line-height:10px;\">chr1:10560773&emsp;Peng et al 2012&emsp;Lymphoblastoid cell line&emsp;20&emsp;40.00</p>"
      ],
      "text/plain": [
       "<IPython.core.display.HTML object>"
      ]
     },
     "metadata": {},
     "output_type": "display_data"
    },
    {
     "data": {
      "text/html": [
       "<p style=\"line-height:10px;\">chr1:10602697&emsp;Peng et al 2012&emsp;Lymphoblastoid cell line&emsp;5&emsp;60.00</p>"
      ],
      "text/plain": [
       "<IPython.core.display.HTML object>"
      ]
     },
     "metadata": {},
     "output_type": "display_data"
    },
    {
     "data": {
      "text/html": [
       "<p style=\"line-height:10px;\">chr1:11138237&emsp;Peng et al 2012&emsp;Lymphoblastoid cell line&emsp;14&emsp;42.86</p>"
      ],
      "text/plain": [
       "<IPython.core.display.HTML object>"
      ]
     },
     "metadata": {},
     "output_type": "display_data"
    }
   ],
   "source": [
    "file = \"./data/RADAR_Secondary.txt.gz\"\n",
    "linerange (file, line_numbering=False)"
   ]
  },
  {
   "cell_type": "markdown",
   "metadata": {
    "heading_collapsed": true
   },
   "source": [
    "## cat"
   ]
  },
  {
   "cell_type": "code",
   "execution_count": 21,
   "metadata": {
    "ExecuteTime": {
     "end_time": "2017-11-27T17:06:26.874086Z",
     "start_time": "2017-11-27T17:06:26.854313Z"
    },
    "hidden": true,
    "init_cell": true
   },
   "outputs": [
    {
     "data": {
      "text/html": [
       "<b>cat</b> (fp, max_lines=100, line_numbering=False, max_char_line=150, **kwargs)"
      ],
      "text/plain": [
       "<IPython.core.display.HTML object>"
      ]
     },
     "metadata": {},
     "output_type": "display_data"
    },
    {
     "data": {
      "text/markdown": [],
      "text/plain": [
       "<IPython.core.display.Markdown object>"
      ]
     },
     "metadata": {},
     "output_type": "display_data"
    },
    {
     "data": {
      "text/markdown": [
       "Emulate linux cat cmd but with line cap protection. Handle gziped files"
      ],
      "text/plain": [
       "<IPython.core.display.Markdown object>"
      ]
     },
     "metadata": {},
     "output_type": "display_data"
    },
    {
     "data": {
      "text/markdown": [
       "* fp"
      ],
      "text/plain": [
       "<IPython.core.display.Markdown object>"
      ]
     },
     "metadata": {},
     "output_type": "display_data"
    },
    {
     "data": {
      "text/markdown": [
       "Path to the file to be parsed"
      ],
      "text/plain": [
       "<IPython.core.display.Markdown object>"
      ]
     },
     "metadata": {},
     "output_type": "display_data"
    },
    {
     "data": {
      "text/markdown": [
       "* max_lines"
      ],
      "text/plain": [
       "<IPython.core.display.Markdown object>"
      ]
     },
     "metadata": {},
     "output_type": "display_data"
    },
    {
     "data": {
      "text/markdown": [
       "Maximal number of lines to print"
      ],
      "text/plain": [
       "<IPython.core.display.Markdown object>"
      ]
     },
     "metadata": {},
     "output_type": "display_data"
    },
    {
     "data": {
      "text/markdown": [
       "* line_numbering"
      ],
      "text/plain": [
       "<IPython.core.display.Markdown object>"
      ]
     },
     "metadata": {},
     "output_type": "display_data"
    },
    {
     "data": {
      "text/markdown": [
       "If True the number of the line will be indicated in front of the line"
      ],
      "text/plain": [
       "<IPython.core.display.Markdown object>"
      ]
     },
     "metadata": {},
     "output_type": "display_data"
    },
    {
     "data": {
      "text/markdown": [
       "* max_char_line"
      ],
      "text/plain": [
       "<IPython.core.display.Markdown object>"
      ]
     },
     "metadata": {},
     "output_type": "display_data"
    },
    {
     "data": {
      "text/markdown": [
       "Maximal number of character to print per line"
      ],
      "text/plain": [
       "<IPython.core.display.Markdown object>"
      ]
     },
     "metadata": {},
     "output_type": "display_data"
    },
    {
     "data": {
      "text/markdown": [],
      "text/plain": [
       "<IPython.core.display.Markdown object>"
      ]
     },
     "metadata": {},
     "output_type": "display_data"
    }
   ],
   "source": [
    "jhelp(cat, full=True)"
   ]
  },
  {
   "cell_type": "code",
   "execution_count": 43,
   "metadata": {
    "ExecuteTime": {
     "end_time": "2017-08-21T15:13:32.218977",
     "start_time": "2017-08-21T15:13:32.194780Z"
    },
    "hidden": true
   },
   "outputs": [
    {
     "data": {
      "text/html": [
       "<p style=\"line-height:10px;\">#location&emsp;reference&emsp;tissue&emsp;coverage&emsp;editing_level(%)</p>"
      ],
      "text/plain": [
       "<IPython.core.display.HTML object>"
      ]
     },
     "metadata": {},
     "output_type": "display_data"
    },
    {
     "data": {
      "text/html": [
       "<p style=\"line-height:10px;\">chr1:1037916&emsp;Peng et al 2012&emsp;Lymphoblastoid cell line&emsp;9&emsp;66.67</p>"
      ],
      "text/plain": [
       "<IPython.core.display.HTML object>"
      ]
     },
     "metadata": {},
     "output_type": "display_data"
    },
    {
     "data": {
      "text/html": [
       "<p style=\"line-height:10px;\">chr1:1156882&emsp;Peng et al 2012&emsp;Lymphoblastoid cell line&emsp;42&emsp;36.59</p>"
      ],
      "text/plain": [
       "<IPython.core.display.HTML object>"
      ]
     },
     "metadata": {},
     "output_type": "display_data"
    },
    {
     "data": {
      "text/html": [
       "<p style=\"line-height:10px;\">chr1:1157460&emsp;Peng et al 2012&emsp;Lymphoblastoid cell line&emsp;66&emsp;22.73</p>"
      ],
      "text/plain": [
       "<IPython.core.display.HTML object>"
      ]
     },
     "metadata": {},
     "output_type": "display_data"
    },
    {
     "data": {
      "text/html": [
       "<p style=\"line-height:10px;\">chr1:1252441&emsp;Peng et al 2012&emsp;Lymphoblastoid cell line&emsp;11&emsp;72.73</p>"
      ],
      "text/plain": [
       "<IPython.core.display.HTML object>"
      ]
     },
     "metadata": {},
     "output_type": "display_data"
    },
    {
     "data": {
      "text/html": [
       "<p style=\"line-height:10px;\">...</p>"
      ],
      "text/plain": [
       "<IPython.core.display.HTML object>"
      ]
     },
     "metadata": {},
     "output_type": "display_data"
    },
    {
     "data": {
      "text/html": [
       "<p style=\"line-height:10px;\">chr1:10521237&emsp;Peng et al 2012&emsp;Lymphoblastoid cell line&emsp;34&emsp;17.65</p>"
      ],
      "text/plain": [
       "<IPython.core.display.HTML object>"
      ]
     },
     "metadata": {},
     "output_type": "display_data"
    },
    {
     "data": {
      "text/html": [
       "<p style=\"line-height:10px;\">chr1:10521238&emsp;Peng et al 2012&emsp;Lymphoblastoid cell line&emsp;35&emsp;37.14</p>"
      ],
      "text/plain": [
       "<IPython.core.display.HTML object>"
      ]
     },
     "metadata": {},
     "output_type": "display_data"
    },
    {
     "data": {
      "text/html": [
       "<p style=\"line-height:10px;\">chr1:10560773&emsp;Peng et al 2012&emsp;Lymphoblastoid cell line&emsp;20&emsp;40.00</p>"
      ],
      "text/plain": [
       "<IPython.core.display.HTML object>"
      ]
     },
     "metadata": {},
     "output_type": "display_data"
    },
    {
     "data": {
      "text/html": [
       "<p style=\"line-height:10px;\">chr1:10602697&emsp;Peng et al 2012&emsp;Lymphoblastoid cell line&emsp;5&emsp;60.00</p>"
      ],
      "text/plain": [
       "<IPython.core.display.HTML object>"
      ]
     },
     "metadata": {},
     "output_type": "display_data"
    },
    {
     "data": {
      "text/html": [
       "<p style=\"line-height:10px;\">chr1:11138237&emsp;Peng et al 2012&emsp;Lymphoblastoid cell line&emsp;14&emsp;42.86</p>"
      ],
      "text/plain": [
       "<IPython.core.display.HTML object>"
      ]
     },
     "metadata": {},
     "output_type": "display_data"
    }
   ],
   "source": [
    "file = \"./data/RADAR_Secondary.txt.gz\"\n",
    "cat (file, max_lines=10)"
   ]
  },
  {
   "cell_type": "code",
   "execution_count": 44,
   "metadata": {
    "ExecuteTime": {
     "end_time": "2017-08-21T15:13:33.243065",
     "start_time": "2017-08-21T15:13:33.178484Z"
    },
    "hidden": true
   },
   "outputs": [
    {
     "data": {
      "text/html": [
       "<p style=\"line-height:10px;\">0&emsp;##gff-version 3</p>"
      ],
      "text/plain": [
       "<IPython.core.display.HTML object>"
      ]
     },
     "metadata": {},
     "output_type": "display_data"
    },
    {
     "data": {
      "text/html": [
       "<p style=\"line-height:10px;\">1&emsp;#description: evidence-based annotation of the human genome (GRCh38), version 24 (Ensembl 83) - lo...</p>"
      ],
      "text/plain": [
       "<IPython.core.display.HTML object>"
      ]
     },
     "metadata": {},
     "output_type": "display_data"
    },
    {
     "data": {
      "text/html": [
       "<p style=\"line-height:10px;\">2&emsp;#provider: GENCODE</p>"
      ],
      "text/plain": [
       "<IPython.core.display.HTML object>"
      ]
     },
     "metadata": {},
     "output_type": "display_data"
    },
    {
     "data": {
      "text/html": [
       "<p style=\"line-height:10px;\">3&emsp;#contact: gencode-help@sanger.ac.uk</p>"
      ],
      "text/plain": [
       "<IPython.core.display.HTML object>"
      ]
     },
     "metadata": {},
     "output_type": "display_data"
    },
    {
     "data": {
      "text/html": [
       "<p style=\"line-height:10px;\">4&emsp;#format: gff3</p>"
      ],
      "text/plain": [
       "<IPython.core.display.HTML object>"
      ]
     },
     "metadata": {},
     "output_type": "display_data"
    },
    {
     "data": {
      "text/html": [
       "<p style=\"line-height:10px;\">5&emsp;#date: 2015-12-03</p>"
      ],
      "text/plain": [
       "<IPython.core.display.HTML object>"
      ]
     },
     "metadata": {},
     "output_type": "display_data"
    },
    {
     "data": {
      "text/html": [
       "<p style=\"line-height:10px;\">6&emsp;##sequence-region chr1 1 248956422</p>"
      ],
      "text/plain": [
       "<IPython.core.display.HTML object>"
      ]
     },
     "metadata": {},
     "output_type": "display_data"
    },
    {
     "data": {
      "text/html": [
       "<p style=\"line-height:10px;\">7&emsp;chr1&emsp;HAVANA&emsp;gene&emsp;29554&emsp;31109&emsp;.&emsp;+&emsp;.&emsp;ID=ENSG00000243485.3;gene_id=ENSG00000243485.3;gene_type=lincRN...</p>"
      ],
      "text/plain": [
       "<IPython.core.display.HTML object>"
      ]
     },
     "metadata": {},
     "output_type": "display_data"
    },
    {
     "data": {
      "text/html": [
       "<p style=\"line-height:10px;\">8&emsp;chr1&emsp;HAVANA&emsp;transcript&emsp;29554&emsp;31097&emsp;.&emsp;+&emsp;.&emsp;ID=ENST00000473358.1;Parent=ENSG00000243485.3;gene_id=ENS...</p>"
      ],
      "text/plain": [
       "<IPython.core.display.HTML object>"
      ]
     },
     "metadata": {},
     "output_type": "display_data"
    },
    {
     "data": {
      "text/html": [
       "<p style=\"line-height:10px;\">9&emsp;chr1&emsp;HAVANA&emsp;exon&emsp;29554&emsp;30039&emsp;.&emsp;+&emsp;.&emsp;ID=exon:ENST00000473358.1:1;Parent=ENST00000473358.1;gene_id=EN...</p>"
      ],
      "text/plain": [
       "<IPython.core.display.HTML object>"
      ]
     },
     "metadata": {},
     "output_type": "display_data"
    },
    {
     "data": {
      "text/html": [
       "<p style=\"line-height:10px;\">...</p>"
      ],
      "text/plain": [
       "<IPython.core.display.HTML object>"
      ]
     },
     "metadata": {},
     "output_type": "display_data"
    },
    {
     "data": {
      "text/html": [
       "<p style=\"line-height:10px;\">9990&emsp;chr1&emsp;HAVANA&emsp;exon&emsp;221983000&emsp;221983143&emsp;.&emsp;+&emsp;.&emsp;ID=exon:ENST00000421147.5:3;Parent=ENST00000421147.5...</p>"
      ],
      "text/plain": [
       "<IPython.core.display.HTML object>"
      ]
     },
     "metadata": {},
     "output_type": "display_data"
    },
    {
     "data": {
      "text/html": [
       "<p style=\"line-height:10px;\">9991&emsp;chr1&emsp;HAVANA&emsp;transcript&emsp;221966410&emsp;221984964&emsp;.&emsp;+&emsp;.&emsp;ID=ENST00000441160.1;Parent=ENSG00000228437.5;...</p>"
      ],
      "text/plain": [
       "<IPython.core.display.HTML object>"
      ]
     },
     "metadata": {},
     "output_type": "display_data"
    },
    {
     "data": {
      "text/html": [
       "<p style=\"line-height:10px;\">9992&emsp;chr1&emsp;HAVANA&emsp;exon&emsp;221966410&emsp;221966502&emsp;.&emsp;+&emsp;.&emsp;ID=exon:ENST00000441160.1:1;Parent=ENST00000441160.1...</p>"
      ],
      "text/plain": [
       "<IPython.core.display.HTML object>"
      ]
     },
     "metadata": {},
     "output_type": "display_data"
    },
    {
     "data": {
      "text/html": [
       "<p style=\"line-height:10px;\">9993&emsp;chr1&emsp;HAVANA&emsp;exon&emsp;221983000&emsp;221983143&emsp;.&emsp;+&emsp;.&emsp;ID=exon:ENST00000441160.1:2;Parent=ENST00000441160.1...</p>"
      ],
      "text/plain": [
       "<IPython.core.display.HTML object>"
      ]
     },
     "metadata": {},
     "output_type": "display_data"
    },
    {
     "data": {
      "text/html": [
       "<p style=\"line-height:10px;\">9994&emsp;chr1&emsp;HAVANA&emsp;exon&emsp;221984054&emsp;221984964&emsp;.&emsp;+&emsp;.&emsp;ID=exon:ENST00000441160.1:3;Parent=ENST00000441160.1...</p>"
      ],
      "text/plain": [
       "<IPython.core.display.HTML object>"
      ]
     },
     "metadata": {},
     "output_type": "display_data"
    },
    {
     "data": {
      "text/html": [
       "<p style=\"line-height:10px;\">9995&emsp;chr1&emsp;HAVANA&emsp;gene&emsp;222041705&emsp;222064763&emsp;.&emsp;-&emsp;.&emsp;ID=ENSG00000232679.1;gene_id=ENSG00000232679.1;gene_...</p>"
      ],
      "text/plain": [
       "<IPython.core.display.HTML object>"
      ]
     },
     "metadata": {},
     "output_type": "display_data"
    },
    {
     "data": {
      "text/html": [
       "<p style=\"line-height:10px;\">9996&emsp;chr1&emsp;HAVANA&emsp;transcript&emsp;222041705&emsp;222064763&emsp;.&emsp;-&emsp;.&emsp;ID=ENST00000438158.1;Parent=ENSG00000232679.1;...</p>"
      ],
      "text/plain": [
       "<IPython.core.display.HTML object>"
      ]
     },
     "metadata": {},
     "output_type": "display_data"
    },
    {
     "data": {
      "text/html": [
       "<p style=\"line-height:10px;\">9997&emsp;chr1&emsp;HAVANA&emsp;exon&emsp;222064685&emsp;222064763&emsp;.&emsp;-&emsp;.&emsp;ID=exon:ENST00000438158.1:1;Parent=ENST00000438158.1...</p>"
      ],
      "text/plain": [
       "<IPython.core.display.HTML object>"
      ]
     },
     "metadata": {},
     "output_type": "display_data"
    },
    {
     "data": {
      "text/html": [
       "<p style=\"line-height:10px;\">9998&emsp;chr1&emsp;HAVANA&emsp;exon&emsp;222058414&emsp;222058678&emsp;.&emsp;-&emsp;.&emsp;ID=exon:ENST00000438158.1:2;Parent=ENST00000438158.1...</p>"
      ],
      "text/plain": [
       "<IPython.core.display.HTML object>"
      ]
     },
     "metadata": {},
     "output_type": "display_data"
    },
    {
     "data": {
      "text/html": [
       "<p style=\"line-height:10px;\">9999&emsp;chr1&emsp;HAVANA&emsp;exon&emsp;222041705&emsp;222041922&emsp;.&emsp;-&emsp;.&emsp;ID=exon:ENST00000438158.1:3;Parent=ENST00000438158.1...</p>"
      ],
      "text/plain": [
       "<IPython.core.display.HTML object>"
      ]
     },
     "metadata": {},
     "output_type": "display_data"
    }
   ],
   "source": [
    "file=\"./data/gencode_sample.gff3\"\n",
    "cat (file, max_lines=20, line_numbering=True, max_char_line=100)"
   ]
  },
  {
   "cell_type": "markdown",
   "metadata": {
    "heading_collapsed": true
   },
   "source": [
    "## tail"
   ]
  },
  {
   "cell_type": "code",
   "execution_count": 22,
   "metadata": {
    "ExecuteTime": {
     "end_time": "2017-11-27T17:06:26.897190Z",
     "start_time": "2017-11-27T17:06:26.876489Z"
    },
    "hidden": true,
    "init_cell": true
   },
   "outputs": [
    {
     "data": {
      "text/html": [
       "<b>tail</b> (fp, n=10, line_numbering=False, max_char_line=150, **kwargs)"
      ],
      "text/plain": [
       "<IPython.core.display.HTML object>"
      ]
     },
     "metadata": {},
     "output_type": "display_data"
    },
    {
     "data": {
      "text/markdown": [],
      "text/plain": [
       "<IPython.core.display.Markdown object>"
      ]
     },
     "metadata": {},
     "output_type": "display_data"
    },
    {
     "data": {
      "text/markdown": [
       "Emulate linux tail cmd. Handle gziped files"
      ],
      "text/plain": [
       "<IPython.core.display.Markdown object>"
      ]
     },
     "metadata": {},
     "output_type": "display_data"
    },
    {
     "data": {
      "text/markdown": [
       "* fp"
      ],
      "text/plain": [
       "<IPython.core.display.Markdown object>"
      ]
     },
     "metadata": {},
     "output_type": "display_data"
    },
    {
     "data": {
      "text/markdown": [
       "Path to the file to be parsed"
      ],
      "text/plain": [
       "<IPython.core.display.Markdown object>"
      ]
     },
     "metadata": {},
     "output_type": "display_data"
    },
    {
     "data": {
      "text/markdown": [
       "* n"
      ],
      "text/plain": [
       "<IPython.core.display.Markdown object>"
      ]
     },
     "metadata": {},
     "output_type": "display_data"
    },
    {
     "data": {
      "text/markdown": [
       "Number of lines to print starting from the end of the file"
      ],
      "text/plain": [
       "<IPython.core.display.Markdown object>"
      ]
     },
     "metadata": {},
     "output_type": "display_data"
    },
    {
     "data": {
      "text/markdown": [
       "* line_numbering"
      ],
      "text/plain": [
       "<IPython.core.display.Markdown object>"
      ]
     },
     "metadata": {},
     "output_type": "display_data"
    },
    {
     "data": {
      "text/markdown": [
       "If True the number of the line will be indicated in front of the line"
      ],
      "text/plain": [
       "<IPython.core.display.Markdown object>"
      ]
     },
     "metadata": {},
     "output_type": "display_data"
    },
    {
     "data": {
      "text/markdown": [
       "* max_char_line"
      ],
      "text/plain": [
       "<IPython.core.display.Markdown object>"
      ]
     },
     "metadata": {},
     "output_type": "display_data"
    },
    {
     "data": {
      "text/markdown": [
       "Maximal number of character to print per line"
      ],
      "text/plain": [
       "<IPython.core.display.Markdown object>"
      ]
     },
     "metadata": {},
     "output_type": "display_data"
    },
    {
     "data": {
      "text/markdown": [],
      "text/plain": [
       "<IPython.core.display.Markdown object>"
      ]
     },
     "metadata": {},
     "output_type": "display_data"
    }
   ],
   "source": [
    "jhelp(tail, full=True)"
   ]
  },
  {
   "cell_type": "code",
   "execution_count": 46,
   "metadata": {
    "ExecuteTime": {
     "end_time": "2017-08-21T15:13:41.366723",
     "start_time": "2017-08-21T15:13:41.351109Z"
    },
    "hidden": true
   },
   "outputs": [
    {
     "data": {
      "text/html": [
       "<p style=\"line-height:10px;\">...</p>"
      ],
      "text/plain": [
       "<IPython.core.display.HTML object>"
      ]
     },
     "metadata": {},
     "output_type": "display_data"
    },
    {
     "data": {
      "text/html": [
       "<p style=\"line-height:10px;\">chr1&emsp;224599486&emsp;224599486&emsp;A>I|WDR26|YH|22327324&emsp;54.55&emsp;-</p>"
      ],
      "text/plain": [
       "<IPython.core.display.HTML object>"
      ]
     },
     "metadata": {},
     "output_type": "display_data"
    },
    {
     "data": {
      "text/html": [
       "<p style=\"line-height:10px;\">chr1&emsp;225974581&emsp;225974581&emsp;A>I|SRP9|YH|22327324&emsp;28.89&emsp;+</p>"
      ],
      "text/plain": [
       "<IPython.core.display.HTML object>"
      ]
     },
     "metadata": {},
     "output_type": "display_data"
    },
    {
     "data": {
      "text/html": [
       "<p style=\"line-height:10px;\">chr1&emsp;225974735&emsp;225974735&emsp;A>I|SRP9|YH|22327324&emsp;23.88&emsp;+</p>"
      ],
      "text/plain": [
       "<IPython.core.display.HTML object>"
      ]
     },
     "metadata": {},
     "output_type": "display_data"
    },
    {
     "data": {
      "text/html": [
       "<p style=\"line-height:10px;\">chr1&emsp;225974746&emsp;225974746&emsp;A>I|SRP9|YH|22327324&emsp;71.19&emsp;+</p>"
      ],
      "text/plain": [
       "<IPython.core.display.HTML object>"
      ]
     },
     "metadata": {},
     "output_type": "display_data"
    }
   ],
   "source": [
    "file = \"./data/RADAR_clean.txt\"\n",
    "tail (file, n = 4)"
   ]
  },
  {
   "cell_type": "code",
   "execution_count": 45,
   "metadata": {
    "ExecuteTime": {
     "end_time": "2017-08-21T14:51:38.804333",
     "start_time": "2017-08-21T14:51:38.786868Z"
    },
    "hidden": true,
    "scrolled": true
   },
   "outputs": [
    {
     "data": {
      "text/html": [
       "<p style=\"line-height:10px;\">...</p>"
      ],
      "text/plain": [
       "<IPython.core.display.HTML object>"
      ]
     },
     "metadata": {},
     "output_type": "display_data"
    },
    {
     "data": {
      "text/html": [
       "<p style=\"line-height:10px;\">96&emsp;chr1:10521238&emsp;Peng et al 2012&emsp;Lymphoblastoid cell line&emsp;35&emsp;37.14</p>"
      ],
      "text/plain": [
       "<IPython.core.display.HTML object>"
      ]
     },
     "metadata": {},
     "output_type": "display_data"
    },
    {
     "data": {
      "text/html": [
       "<p style=\"line-height:10px;\">97&emsp;chr1:10560773&emsp;Peng et al 2012&emsp;Lymphoblastoid cell line&emsp;20&emsp;40.00</p>"
      ],
      "text/plain": [
       "<IPython.core.display.HTML object>"
      ]
     },
     "metadata": {},
     "output_type": "display_data"
    },
    {
     "data": {
      "text/html": [
       "<p style=\"line-height:10px;\">98&emsp;chr1:10602697&emsp;Peng et al 2012&emsp;Lymphoblastoid cell line&emsp;5&emsp;60.00</p>"
      ],
      "text/plain": [
       "<IPython.core.display.HTML object>"
      ]
     },
     "metadata": {},
     "output_type": "display_data"
    },
    {
     "data": {
      "text/html": [
       "<p style=\"line-height:10px;\">99&emsp;chr1:11138237&emsp;Peng et al 2012&emsp;Lymphoblastoid cell line&emsp;14&emsp;42.86</p>"
      ],
      "text/plain": [
       "<IPython.core.display.HTML object>"
      ]
     },
     "metadata": {},
     "output_type": "display_data"
    }
   ],
   "source": [
    "file = \"./data/RADAR_Secondary.txt.gz\"\n",
    "tail (file, n = 4, line_numbering=True)"
   ]
  },
  {
   "cell_type": "code",
   "execution_count": 46,
   "metadata": {
    "ExecuteTime": {
     "end_time": "2017-08-21T14:51:40.886810",
     "start_time": "2017-08-21T14:51:40.845623Z"
    },
    "hidden": true
   },
   "outputs": [
    {
     "data": {
      "text/html": [
       "<p style=\"line-height:10px;\">...</p>"
      ],
      "text/plain": [
       "<IPython.core.display.HTML object>"
      ]
     },
     "metadata": {},
     "output_type": "display_data"
    },
    {
     "data": {
      "text/html": [
       "<p style=\"line-height:10px;\">chr1&emsp;HAVANA&emsp;gene&emsp;222041705&emsp;222064763&emsp;.&emsp;-&emsp;.&emsp;ID=ENSG00000232679.1;gene_id=ENSG00000232679.1;gene_type=...</p>"
      ],
      "text/plain": [
       "<IPython.core.display.HTML object>"
      ]
     },
     "metadata": {},
     "output_type": "display_data"
    },
    {
     "data": {
      "text/html": [
       "<p style=\"line-height:10px;\">chr1&emsp;HAVANA&emsp;transcript&emsp;222041705&emsp;222064763&emsp;.&emsp;-&emsp;.&emsp;ID=ENST00000438158.1;Parent=ENSG00000232679.1;gene_...</p>"
      ],
      "text/plain": [
       "<IPython.core.display.HTML object>"
      ]
     },
     "metadata": {},
     "output_type": "display_data"
    },
    {
     "data": {
      "text/html": [
       "<p style=\"line-height:10px;\">chr1&emsp;HAVANA&emsp;exon&emsp;222064685&emsp;222064763&emsp;.&emsp;-&emsp;.&emsp;ID=exon:ENST00000438158.1:1;Parent=ENST00000438158.1;gene...</p>"
      ],
      "text/plain": [
       "<IPython.core.display.HTML object>"
      ]
     },
     "metadata": {},
     "output_type": "display_data"
    },
    {
     "data": {
      "text/html": [
       "<p style=\"line-height:10px;\">chr1&emsp;HAVANA&emsp;exon&emsp;222058414&emsp;222058678&emsp;.&emsp;-&emsp;.&emsp;ID=exon:ENST00000438158.1:2;Parent=ENST00000438158.1;gene...</p>"
      ],
      "text/plain": [
       "<IPython.core.display.HTML object>"
      ]
     },
     "metadata": {},
     "output_type": "display_data"
    },
    {
     "data": {
      "text/html": [
       "<p style=\"line-height:10px;\">chr1&emsp;HAVANA&emsp;exon&emsp;222041705&emsp;222041922&emsp;.&emsp;-&emsp;.&emsp;ID=exon:ENST00000438158.1:3;Parent=ENST00000438158.1;gene...</p>"
      ],
      "text/plain": [
       "<IPython.core.display.HTML object>"
      ]
     },
     "metadata": {},
     "output_type": "display_data"
    }
   ],
   "source": [
    "file=\"./data/gencode_sample.gff3\"\n",
    "tail (file, n = 5, max_char_line=100)"
   ]
  },
  {
   "cell_type": "markdown",
   "metadata": {
    "heading_collapsed": true
   },
   "source": [
    "## head"
   ]
  },
  {
   "cell_type": "code",
   "execution_count": 23,
   "metadata": {
    "ExecuteTime": {
     "end_time": "2017-11-27T17:06:26.925612Z",
     "start_time": "2017-11-27T17:06:26.900211Z"
    },
    "hidden": true,
    "init_cell": true,
    "scrolled": true
   },
   "outputs": [
    {
     "data": {
      "text/html": [
       "<b>head</b> (fp, n=10, line_numbering=False, ignore_comment_line=False, comment_char='#', max_char_line=150, **kwargs)"
      ],
      "text/plain": [
       "<IPython.core.display.HTML object>"
      ]
     },
     "metadata": {},
     "output_type": "display_data"
    },
    {
     "data": {
      "text/markdown": [],
      "text/plain": [
       "<IPython.core.display.Markdown object>"
      ]
     },
     "metadata": {},
     "output_type": "display_data"
    },
    {
     "data": {
      "text/markdown": [
       "Emulate linux head cmd. Handle gziped files"
      ],
      "text/plain": [
       "<IPython.core.display.Markdown object>"
      ]
     },
     "metadata": {},
     "output_type": "display_data"
    },
    {
     "data": {
      "text/markdown": [
       "* fp"
      ],
      "text/plain": [
       "<IPython.core.display.Markdown object>"
      ]
     },
     "metadata": {},
     "output_type": "display_data"
    },
    {
     "data": {
      "text/markdown": [
       "Path to the file to be parsed"
      ],
      "text/plain": [
       "<IPython.core.display.Markdown object>"
      ]
     },
     "metadata": {},
     "output_type": "display_data"
    },
    {
     "data": {
      "text/markdown": [
       "* n"
      ],
      "text/plain": [
       "<IPython.core.display.Markdown object>"
      ]
     },
     "metadata": {},
     "output_type": "display_data"
    },
    {
     "data": {
      "text/markdown": [
       "Number of lines to print starting from the begining of the file (Default 10)"
      ],
      "text/plain": [
       "<IPython.core.display.Markdown object>"
      ]
     },
     "metadata": {},
     "output_type": "display_data"
    },
    {
     "data": {
      "text/markdown": [
       "* line_numbering"
      ],
      "text/plain": [
       "<IPython.core.display.Markdown object>"
      ]
     },
     "metadata": {},
     "output_type": "display_data"
    },
    {
     "data": {
      "text/markdown": [
       "If True the number of the line will be indicated in front of the line (Default False)"
      ],
      "text/plain": [
       "<IPython.core.display.Markdown object>"
      ]
     },
     "metadata": {},
     "output_type": "display_data"
    },
    {
     "data": {
      "text/markdown": [
       "* ignore_comment_line"
      ],
      "text/plain": [
       "<IPython.core.display.Markdown object>"
      ]
     },
     "metadata": {},
     "output_type": "display_data"
    },
    {
     "data": {
      "text/markdown": [
       "Skip initial lines starting with a specific character (Default False)"
      ],
      "text/plain": [
       "<IPython.core.display.Markdown object>"
      ]
     },
     "metadata": {},
     "output_type": "display_data"
    },
    {
     "data": {
      "text/markdown": [
       "* comment_char"
      ],
      "text/plain": [
       "<IPython.core.display.Markdown object>"
      ]
     },
     "metadata": {},
     "output_type": "display_data"
    },
    {
     "data": {
      "text/markdown": [
       "Character or string for ignore_comment_line argument (Default \"#\")"
      ],
      "text/plain": [
       "<IPython.core.display.Markdown object>"
      ]
     },
     "metadata": {},
     "output_type": "display_data"
    },
    {
     "data": {
      "text/markdown": [
       "* max_char_line"
      ],
      "text/plain": [
       "<IPython.core.display.Markdown object>"
      ]
     },
     "metadata": {},
     "output_type": "display_data"
    },
    {
     "data": {
      "text/markdown": [
       "Maximal number of character to print per line (Default 150)"
      ],
      "text/plain": [
       "<IPython.core.display.Markdown object>"
      ]
     },
     "metadata": {},
     "output_type": "display_data"
    },
    {
     "data": {
      "text/markdown": [],
      "text/plain": [
       "<IPython.core.display.Markdown object>"
      ]
     },
     "metadata": {},
     "output_type": "display_data"
    }
   ],
   "source": [
    "jhelp(head, full=True)"
   ]
  },
  {
   "cell_type": "code",
   "execution_count": 39,
   "metadata": {
    "ExecuteTime": {
     "end_time": "2017-08-21T14:51:19.813602",
     "start_time": "2017-08-21T14:51:19.797429Z"
    },
    "hidden": true
   },
   "outputs": [
    {
     "data": {
      "text/html": [
       "<p style=\"line-height:10px;\">#chromosome&emsp;position&emsp;gene&emsp;strand&emsp;annot1&emsp;annot2&emsp;alu?&emsp;non_alu_repetitive?&emsp;conservation_chimp&emsp;conservation_rhesus&emsp;conservation_mouse</p>"
      ],
      "text/plain": [
       "<IPython.core.display.HTML object>"
      ]
     },
     "metadata": {},
     "output_type": "display_data"
    },
    {
     "data": {
      "text/html": [
       "<p style=\"line-height:10px;\">chr1&emsp;206256301&emsp;C1orf186&emsp;-&emsp;intronic&emsp;intronic&emsp;no&emsp;no&emsp;N&emsp;N&emsp;N</p>"
      ],
      "text/plain": [
       "<IPython.core.display.HTML object>"
      ]
     },
     "metadata": {},
     "output_type": "display_data"
    },
    {
     "data": {
      "text/html": [
       "<p style=\"line-height:10px;\">chr6&emsp;116991832&emsp;intergenic&emsp;-&emsp;intergenic&emsp;intergenic&emsp;no&emsp;no&emsp;N&emsp;N&emsp;N</p>"
      ],
      "text/plain": [
       "<IPython.core.display.HTML object>"
      ]
     },
     "metadata": {},
     "output_type": "display_data"
    }
   ],
   "source": [
    "head(\"./data/RADAR_Main.txt\", n= 3)"
   ]
  },
  {
   "cell_type": "code",
   "execution_count": 40,
   "metadata": {
    "ExecuteTime": {
     "end_time": "2017-08-21T14:51:21.982717",
     "start_time": "2017-08-21T14:51:21.974156Z"
    },
    "hidden": true
   },
   "outputs": [
    {
     "data": {
      "text/html": [
       "<p style=\"line-height:10px;\">chr1&emsp;206256301&emsp;C1orf186&emsp;-&emsp;intronic&emsp;intronic&emsp;no&emsp;no&emsp;N&emsp;N&emsp;N</p>"
      ],
      "text/plain": [
       "<IPython.core.display.HTML object>"
      ]
     },
     "metadata": {},
     "output_type": "display_data"
    },
    {
     "data": {
      "text/html": [
       "<p style=\"line-height:10px;\">chr6&emsp;116991832&emsp;intergenic&emsp;-&emsp;intergenic&emsp;intergenic&emsp;no&emsp;no&emsp;N&emsp;N&emsp;N</p>"
      ],
      "text/plain": [
       "<IPython.core.display.HTML object>"
      ]
     },
     "metadata": {},
     "output_type": "display_data"
    },
    {
     "data": {
      "text/html": [
       "<p style=\"line-height:10px;\">chr7&emsp;30504355&emsp;NOD1&emsp;-&emsp;intronic&emsp;intronic&emsp;no&emsp;no&emsp;N&emsp;N&emsp;N</p>"
      ],
      "text/plain": [
       "<IPython.core.display.HTML object>"
      ]
     },
     "metadata": {},
     "output_type": "display_data"
    }
   ],
   "source": [
    "head(\"./data/RADAR_Main.txt\", ignore_comment_line=True,n= 3)"
   ]
  },
  {
   "cell_type": "code",
   "execution_count": 41,
   "metadata": {
    "ExecuteTime": {
     "end_time": "2017-08-21T14:51:24.418714",
     "start_time": "2017-08-21T14:51:24.408287Z"
    },
    "hidden": true,
    "scrolled": true
   },
   "outputs": [
    {
     "data": {
      "text/html": [
       "<p style=\"line-height:10px;\">#chromosome&emsp;position&emsp;gene&emsp;strand&emsp;annot1&emsp;annot2&emsp;alu...</p>"
      ],
      "text/plain": [
       "<IPython.core.display.HTML object>"
      ]
     },
     "metadata": {},
     "output_type": "display_data"
    },
    {
     "data": {
      "text/html": [
       "<p style=\"line-height:10px;\">chr1&emsp;206256301&emsp;C1orf186&emsp;-&emsp;intronic&emsp;intronic&emsp;no&emsp;no&emsp;...</p>"
      ],
      "text/plain": [
       "<IPython.core.display.HTML object>"
      ]
     },
     "metadata": {},
     "output_type": "display_data"
    },
    {
     "data": {
      "text/html": [
       "<p style=\"line-height:10px;\">chr6&emsp;116991832&emsp;intergenic&emsp;-&emsp;intergenic&emsp;intergenic&emsp;...</p>"
      ],
      "text/plain": [
       "<IPython.core.display.HTML object>"
      ]
     },
     "metadata": {},
     "output_type": "display_data"
    },
    {
     "data": {
      "text/html": [
       "<p style=\"line-height:10px;\">chr7&emsp;30504355&emsp;NOD1&emsp;-&emsp;intronic&emsp;intronic&emsp;no&emsp;no&emsp;N&emsp;N&emsp;N</p>"
      ],
      "text/plain": [
       "<IPython.core.display.HTML object>"
      ]
     },
     "metadata": {},
     "output_type": "display_data"
    },
    {
     "data": {
      "text/html": [
       "<p style=\"line-height:10px;\">chr1&emsp;85127959&emsp;SSX2IP&emsp;-&emsp;Syn&emsp;Gln->Gln&emsp;no&emsp;no&emsp;N&emsp;N&emsp;N</p>"
      ],
      "text/plain": [
       "<IPython.core.display.HTML object>"
      ]
     },
     "metadata": {},
     "output_type": "display_data"
    }
   ],
   "source": [
    "head(\"./data/RADAR_Main.txt\", n=5, max_char_line=50)"
   ]
  },
  {
   "cell_type": "code",
   "execution_count": 42,
   "metadata": {
    "ExecuteTime": {
     "end_time": "2017-08-21T14:51:26.810402",
     "start_time": "2017-08-21T14:51:26.797567Z"
    },
    "hidden": true,
    "scrolled": true
   },
   "outputs": [
    {
     "data": {
      "text/html": [
       "<p style=\"line-height:10px;\">0&emsp;chr1:1037916&emsp;Peng et al 2012&emsp;Lymphoblastoid cell line&emsp;9&emsp;66.67</p>"
      ],
      "text/plain": [
       "<IPython.core.display.HTML object>"
      ]
     },
     "metadata": {},
     "output_type": "display_data"
    },
    {
     "data": {
      "text/html": [
       "<p style=\"line-height:10px;\">1&emsp;chr1:1156882&emsp;Peng et al 2012&emsp;Lymphoblastoid cell line&emsp;42&emsp;36.59</p>"
      ],
      "text/plain": [
       "<IPython.core.display.HTML object>"
      ]
     },
     "metadata": {},
     "output_type": "display_data"
    },
    {
     "data": {
      "text/html": [
       "<p style=\"line-height:10px;\">2&emsp;chr1:1157460&emsp;Peng et al 2012&emsp;Lymphoblastoid cell line&emsp;66&emsp;22.73</p>"
      ],
      "text/plain": [
       "<IPython.core.display.HTML object>"
      ]
     },
     "metadata": {},
     "output_type": "display_data"
    },
    {
     "data": {
      "text/html": [
       "<p style=\"line-height:10px;\">3&emsp;chr1:1252441&emsp;Peng et al 2012&emsp;Lymphoblastoid cell line&emsp;11&emsp;72.73</p>"
      ],
      "text/plain": [
       "<IPython.core.display.HTML object>"
      ]
     },
     "metadata": {},
     "output_type": "display_data"
    },
    {
     "data": {
      "text/html": [
       "<p style=\"line-height:10px;\">4&emsp;chr1:1252443&emsp;Peng et al 2012&emsp;Lymphoblastoid cell line&emsp;11&emsp;45.45</p>"
      ],
      "text/plain": [
       "<IPython.core.display.HTML object>"
      ]
     },
     "metadata": {},
     "output_type": "display_data"
    },
    {
     "data": {
      "text/html": [
       "<p style=\"line-height:10px;\">5&emsp;chr1:1253357&emsp;Peng et al 2012&emsp;Lymphoblastoid cell line&emsp;31&emsp;32.26</p>"
      ],
      "text/plain": [
       "<IPython.core.display.HTML object>"
      ]
     },
     "metadata": {},
     "output_type": "display_data"
    }
   ],
   "source": [
    "head(\"./data/RADAR_Secondary.txt.gz\", n=6, ignore_comment_line=True, line_numbering=True)"
   ]
  },
  {
   "cell_type": "code",
   "execution_count": 47,
   "metadata": {
    "ExecuteTime": {
     "end_time": "2017-08-21T15:13:53.118524",
     "start_time": "2017-08-21T15:13:53.104016Z"
    },
    "hidden": true
   },
   "outputs": [
    {
     "data": {
      "text/html": [
       "<p style=\"line-height:10px;\">chr1|35235|35295|-|5.1&emsp;272&emsp;chr12&emsp;37283&emsp;0&emsp;61M&emsp;*&emsp;0&emsp;0&emsp;*&emsp;*&emsp;NM:i:1&emsp;MD:Z:52C8&emsp;AS:i:56</p>"
      ],
      "text/plain": [
       "<IPython.core.display.HTML object>"
      ]
     },
     "metadata": {},
     "output_type": "display_data"
    },
    {
     "data": {
      "text/html": [
       "<p style=\"line-height:10px;\">chr1|90965|91025|-|7.57&emsp;256&emsp;chr16&emsp;90215899&emsp;0&emsp;61M&emsp;*&emsp;0&emsp;0&emsp;*&emsp;*&emsp;NM:i:0&emsp;MD:Z:61&emsp;AS:i:61</p>"
      ],
      "text/plain": [
       "<IPython.core.display.HTML object>"
      ]
     },
     "metadata": {},
     "output_type": "display_data"
    },
    {
     "data": {
      "text/html": [
       "<p style=\"line-height:10px;\">chr1|91055|91115|-|7.60&emsp;256&emsp;chr2&emsp;168290980&emsp;0&emsp;61M&emsp;*&emsp;0&emsp;0&emsp;*&emsp;*&emsp;NM:i:2&emsp;MD:Z:9C21A29&emsp;AS:i:51</p>"
      ],
      "text/plain": [
       "<IPython.core.display.HTML object>"
      ]
     },
     "metadata": {},
     "output_type": "display_data"
    },
    {
     "data": {
      "text/html": [
       "<p style=\"line-height:10px;\">chr1|92081|92141|-|8.1&emsp;272&emsp;chr1&emsp;268657&emsp;0&emsp;61M&emsp;*&emsp;0&emsp;0&emsp;*&emsp;*&emsp;NM:i:0&emsp;MD:Z:61&emsp;AS:i:61</p>"
      ],
      "text/plain": [
       "<IPython.core.display.HTML object>"
      ]
     },
     "metadata": {},
     "output_type": "display_data"
    },
    {
     "data": {
      "text/html": [
       "<p style=\"line-height:10px;\">chr1|92111|92171|-|8.2&emsp;256&emsp;chr5&emsp;181462264&emsp;0&emsp;61M&emsp;*&emsp;0&emsp;0&emsp;*&emsp;*&emsp;NM:i:1&emsp;MD:Z:58G2&emsp;AS:i:58</p>"
      ],
      "text/plain": [
       "<IPython.core.display.HTML object>"
      ]
     },
     "metadata": {},
     "output_type": "display_data"
    },
    {
     "data": {
      "text/html": [
       "<p style=\"line-height:10px;\">chr1|110943|111003|-|9.1&emsp;0&emsp;chrY&emsp;24307299&emsp;0&emsp;61M&emsp;*&emsp;0&emsp;0&emsp;AATGAAAGATATGTGTTTTTCATATTACCAGGTAGATGATAAGGAGATTTTAATTTTCTTT&emsp;IIIIIIIIIIIIIIIIIIIIIIIIIIIIIIIIIII...</p>"
      ],
      "text/plain": [
       "<IPython.core.display.HTML object>"
      ]
     },
     "metadata": {},
     "output_type": "display_data"
    }
   ],
   "source": [
    "head(\"./data/sample.sam\", n=6, ignore_comment_line=True, comment_char=\"@\")"
   ]
  },
  {
   "cell_type": "markdown",
   "metadata": {
    "heading_collapsed": true
   },
   "source": [
    "## linesample"
   ]
  },
  {
   "cell_type": "code",
   "execution_count": 39,
   "metadata": {
    "ExecuteTime": {
     "end_time": "2017-08-21T15:15:40.117954",
     "start_time": "2017-08-21T15:15:40.098498Z"
    },
    "hidden": true,
    "scrolled": true
   },
   "outputs": [
    {
     "data": {
      "text/html": [
       "<b>linesample</b> (fp, n_lines=100, line_numbering=True, max_char_line=150, **kwargs)"
      ],
      "text/plain": [
       "<IPython.core.display.HTML object>"
      ]
     },
     "metadata": {},
     "output_type": "display_data"
    },
    {
     "data": {
      "text/markdown": [],
      "text/plain": [
       "<IPython.core.display.Markdown object>"
      ]
     },
     "metadata": {},
     "output_type": "display_data"
    },
    {
     "data": {
      "text/markdown": [
       "Randomly sample lines in a file and print them. Handle gziped files"
      ],
      "text/plain": [
       "<IPython.core.display.Markdown object>"
      ]
     },
     "metadata": {},
     "output_type": "display_data"
    },
    {
     "data": {
      "text/markdown": [
       "* fp"
      ],
      "text/plain": [
       "<IPython.core.display.Markdown object>"
      ]
     },
     "metadata": {},
     "output_type": "display_data"
    },
    {
     "data": {
      "text/markdown": [
       "Path to the file to be parsed"
      ],
      "text/plain": [
       "<IPython.core.display.Markdown object>"
      ]
     },
     "metadata": {},
     "output_type": "display_data"
    },
    {
     "data": {
      "text/markdown": [
       "* n_lines"
      ],
      "text/plain": [
       "<IPython.core.display.Markdown object>"
      ]
     },
     "metadata": {},
     "output_type": "display_data"
    },
    {
     "data": {
      "text/markdown": [
       "Number of lines to sample in the file"
      ],
      "text/plain": [
       "<IPython.core.display.Markdown object>"
      ]
     },
     "metadata": {},
     "output_type": "display_data"
    },
    {
     "data": {
      "text/markdown": [
       "* line_numbering"
      ],
      "text/plain": [
       "<IPython.core.display.Markdown object>"
      ]
     },
     "metadata": {},
     "output_type": "display_data"
    },
    {
     "data": {
      "text/markdown": [
       "If True the number of the line will be indicated in front of the line"
      ],
      "text/plain": [
       "<IPython.core.display.Markdown object>"
      ]
     },
     "metadata": {},
     "output_type": "display_data"
    },
    {
     "data": {
      "text/markdown": [
       "* max_char_line"
      ],
      "text/plain": [
       "<IPython.core.display.Markdown object>"
      ]
     },
     "metadata": {},
     "output_type": "display_data"
    },
    {
     "data": {
      "text/markdown": [
       "Maximal number of character to print per line"
      ],
      "text/plain": [
       "<IPython.core.display.Markdown object>"
      ]
     },
     "metadata": {},
     "output_type": "display_data"
    },
    {
     "data": {
      "text/markdown": [],
      "text/plain": [
       "<IPython.core.display.Markdown object>"
      ]
     },
     "metadata": {},
     "output_type": "display_data"
    }
   ],
   "source": [
    "jhelp(linesample, full=True)"
   ]
  },
  {
   "cell_type": "code",
   "execution_count": 59,
   "metadata": {
    "ExecuteTime": {
     "end_time": "2017-08-21T15:18:29.766743",
     "start_time": "2017-08-21T15:18:29.750269Z"
    },
    "hidden": true,
    "scrolled": true
   },
   "outputs": [
    {
     "data": {
      "text/html": [
       "<p style=\"line-height:10px;\">39&emsp;chr1&emsp;3730158&emsp;3730158&emsp;A>I|KIAA0562|YH|22327324&emsp;66.67&emsp;-</p>"
      ],
      "text/plain": [
       "<IPython.core.display.HTML object>"
      ]
     },
     "metadata": {},
     "output_type": "display_data"
    },
    {
     "data": {
      "text/html": [
       "<p style=\"line-height:10px;\">133&emsp;chr1&emsp;21083251&emsp;21083251&emsp;A>I|HP1BP3|YH|22327324&emsp;60.71&emsp;-</p>"
      ],
      "text/plain": [
       "<IPython.core.display.HTML object>"
      ]
     },
     "metadata": {},
     "output_type": "display_data"
    },
    {
     "data": {
      "text/html": [
       "<p style=\"line-height:10px;\">144&emsp;chr1&emsp;21241019&emsp;21241019&emsp;A>I|EIF4G3|YH|22327324&emsp;66.67&emsp;-</p>"
      ],
      "text/plain": [
       "<IPython.core.display.HTML object>"
      ]
     },
     "metadata": {},
     "output_type": "display_data"
    },
    {
     "data": {
      "text/html": [
       "<p style=\"line-height:10px;\">247&emsp;chr1&emsp;29499764&emsp;29499764&emsp;A>I|SRSF4|YH|22327324&emsp;17.91&emsp;-</p>"
      ],
      "text/plain": [
       "<IPython.core.display.HTML object>"
      ]
     },
     "metadata": {},
     "output_type": "display_data"
    },
    {
     "data": {
      "text/html": [
       "<p style=\"line-height:10px;\">250&emsp;chr1&emsp;29500257&emsp;29500257&emsp;A>I|SRSF4|YH|22327324&emsp;62.50&emsp;-</p>"
      ],
      "text/plain": [
       "<IPython.core.display.HTML object>"
      ]
     },
     "metadata": {},
     "output_type": "display_data"
    },
    {
     "data": {
      "text/html": [
       "<p style=\"line-height:10px;\">386&emsp;chr1&emsp;44451814&emsp;44451814&emsp;A>I|B4GALT2|YH|22327324&emsp;20.83&emsp;+</p>"
      ],
      "text/plain": [
       "<IPython.core.display.HTML object>"
      ]
     },
     "metadata": {},
     "output_type": "display_data"
    },
    {
     "data": {
      "text/html": [
       "<p style=\"line-height:10px;\">394&emsp;chr1&emsp;45862628&emsp;45862628&emsp;A>I|TESK2|YH|22327324&emsp;66.67&emsp;-</p>"
      ],
      "text/plain": [
       "<IPython.core.display.HTML object>"
      ]
     },
     "metadata": {},
     "output_type": "display_data"
    },
    {
     "data": {
      "text/html": [
       "<p style=\"line-height:10px;\">584&emsp;chr1&emsp;109945582&emsp;109945582&emsp;A>I|PSMA5|YH|22327324&emsp;29.17&emsp;-</p>"
      ],
      "text/plain": [
       "<IPython.core.display.HTML object>"
      ]
     },
     "metadata": {},
     "output_type": "display_data"
    },
    {
     "data": {
      "text/html": [
       "<p style=\"line-height:10px;\">610&emsp;chr1&emsp;114296188&emsp;114296188&emsp;A>I|PHTF1|YH|22327324&emsp;20.59&emsp;-</p>"
      ],
      "text/plain": [
       "<IPython.core.display.HTML object>"
      ]
     },
     "metadata": {},
     "output_type": "display_data"
    },
    {
     "data": {
      "text/html": [
       "<p style=\"line-height:10px;\">760&emsp;chr1&emsp;155441885&emsp;155441885&emsp;A>I|ASH1L|YH|22327324&emsp;66.67&emsp;-</p>"
      ],
      "text/plain": [
       "<IPython.core.display.HTML object>"
      ]
     },
     "metadata": {},
     "output_type": "display_data"
    }
   ],
   "source": [
    "linesample(\"./data/RADAR_clean.txt\", n_lines=10, line_numbering=True)"
   ]
  },
  {
   "cell_type": "code",
   "execution_count": 60,
   "metadata": {
    "ExecuteTime": {
     "end_time": "2017-08-21T15:18:54.445284",
     "start_time": "2017-08-21T15:18:54.419990Z"
    },
    "hidden": true
   },
   "outputs": [
    {
     "data": {
      "text/html": [
       "<p style=\"line-height:10px;\">1&emsp;chr1:1037916&emsp;Peng et al 2012&emsp;Lymphoblastoid cell line&emsp;9&emsp;66.67</p>"
      ],
      "text/plain": [
       "<IPython.core.display.HTML object>"
      ]
     },
     "metadata": {},
     "output_type": "display_data"
    },
    {
     "data": {
      "text/html": [
       "<p style=\"line-height:10px;\">6&emsp;chr1:1253357&emsp;Peng et al 2012&emsp;Lymphoblastoid cell line&emsp;31&emsp;32.26</p>"
      ],
      "text/plain": [
       "<IPython.core.display.HTML object>"
      ]
     },
     "metadata": {},
     "output_type": "display_data"
    },
    {
     "data": {
      "text/html": [
       "<p style=\"line-height:10px;\">13&emsp;chr1:1595021&emsp;Peng et al 2012&emsp;Lymphoblastoid cell line&emsp;141&emsp;9.93</p>"
      ],
      "text/plain": [
       "<IPython.core.display.HTML object>"
      ]
     },
     "metadata": {},
     "output_type": "display_data"
    },
    {
     "data": {
      "text/html": [
       "<p style=\"line-height:10px;\">21&emsp;chr1:1595540&emsp;Peng et al 2012&emsp;Lymphoblastoid cell line&emsp;155&emsp;34.84</p>"
      ],
      "text/plain": [
       "<IPython.core.display.HTML object>"
      ]
     },
     "metadata": {},
     "output_type": "display_data"
    },
    {
     "data": {
      "text/html": [
       "<p style=\"line-height:10px;\">27&emsp;chr1:1774787&emsp;Peng et al 2012&emsp;Lymphoblastoid cell line&emsp;10&emsp;40.00</p>"
      ],
      "text/plain": [
       "<IPython.core.display.HTML object>"
      ]
     },
     "metadata": {},
     "output_type": "display_data"
    },
    {
     "data": {
      "text/html": [
       "<p style=\"line-height:10px;\">28&emsp;chr1:1774791&emsp;Peng et al 2012&emsp;Lymphoblastoid cell line&emsp;11&emsp;45.45</p>"
      ],
      "text/plain": [
       "<IPython.core.display.HTML object>"
      ]
     },
     "metadata": {},
     "output_type": "display_data"
    },
    {
     "data": {
      "text/html": [
       "<p style=\"line-height:10px;\">38&emsp;chr1:3730158&emsp;Peng et al 2012&emsp;Lymphoblastoid cell line&emsp;21&emsp;66.67</p>"
      ],
      "text/plain": [
       "<IPython.core.display.HTML object>"
      ]
     },
     "metadata": {},
     "output_type": "display_data"
    },
    {
     "data": {
      "text/html": [
       "<p style=\"line-height:10px;\">48&emsp;chr1:6583593&emsp;Peng et al 2012&emsp;Lymphoblastoid cell line&emsp;41&emsp;26.83</p>"
      ],
      "text/plain": [
       "<IPython.core.display.HTML object>"
      ]
     },
     "metadata": {},
     "output_type": "display_data"
    },
    {
     "data": {
      "text/html": [
       "<p style=\"line-height:10px;\">72&emsp;chr1:6710204&emsp;Peng et al 2012&emsp;Lymphoblastoid cell line&emsp;6&emsp;66.67</p>"
      ],
      "text/plain": [
       "<IPython.core.display.HTML object>"
      ]
     },
     "metadata": {},
     "output_type": "display_data"
    },
    {
     "data": {
      "text/html": [
       "<p style=\"line-height:10px;\">97&emsp;chr1:10560773&emsp;Peng et al 2012&emsp;Lymphoblastoid cell line&emsp;20&emsp;40.00</p>"
      ],
      "text/plain": [
       "<IPython.core.display.HTML object>"
      ]
     },
     "metadata": {},
     "output_type": "display_data"
    }
   ],
   "source": [
    "linesample(\"./data/RADAR_Secondary.txt.gz\", n_lines=10, line_numbering=True)"
   ]
  },
  {
   "cell_type": "markdown",
   "metadata": {
    "heading_collapsed": true
   },
   "source": [
    "## count_uniq"
   ]
  },
  {
   "cell_type": "code",
   "execution_count": 95,
   "metadata": {
    "ExecuteTime": {
     "end_time": "2017-07-27T13:37:38.330946Z",
     "start_time": "2017-07-27T13:37:38.305045Z"
    },
    "hidden": true
   },
   "outputs": [
    {
     "data": {
      "text/html": [
       "<b>count_uniq</b> (fp, colnum, select_values=None, drop_values=None, skip_comment='#', sep='\\t')"
      ],
      "text/plain": [
       "<IPython.core.display.HTML object>"
      ]
     },
     "metadata": {},
     "output_type": "display_data"
    },
    {
     "data": {
      "text/markdown": [],
      "text/plain": [
       "<IPython.core.display.Markdown object>"
      ]
     },
     "metadata": {},
     "output_type": "display_data"
    },
    {
     "data": {
      "text/markdown": [
       "Count unique occurences in a specific column of a tabulated file"
      ],
      "text/plain": [
       "<IPython.core.display.Markdown object>"
      ]
     },
     "metadata": {},
     "output_type": "display_data"
    },
    {
     "data": {
      "text/markdown": [
       "* fp"
      ],
      "text/plain": [
       "<IPython.core.display.Markdown object>"
      ]
     },
     "metadata": {},
     "output_type": "display_data"
    },
    {
     "data": {
      "text/markdown": [
       "Path to the file to be parsed (gzipped or not)"
      ],
      "text/plain": [
       "<IPython.core.display.Markdown object>"
      ]
     },
     "metadata": {},
     "output_type": "display_data"
    },
    {
     "data": {
      "text/markdown": [
       "* colnum"
      ],
      "text/plain": [
       "<IPython.core.display.Markdown object>"
      ]
     },
     "metadata": {},
     "output_type": "display_data"
    },
    {
     "data": {
      "text/markdown": [
       "Index number of the column to summarize"
      ],
      "text/plain": [
       "<IPython.core.display.Markdown object>"
      ]
     },
     "metadata": {},
     "output_type": "display_data"
    },
    {
     "data": {
      "text/markdown": [
       "* select_values"
      ],
      "text/plain": [
       "<IPython.core.display.Markdown object>"
      ]
     },
     "metadata": {},
     "output_type": "display_data"
    },
    {
     "data": {
      "text/markdown": [
       "Select specific lines in the file based on a dictionary containing column index(es) and valu(es) or list"
      ],
      "text/plain": [
       "<IPython.core.display.Markdown object>"
      ]
     },
     "metadata": {},
     "output_type": "display_data"
    },
    {
     "data": {
      "text/markdown": [
       "of values to select. Exemple {2:[\"exon\", \"transcript\"], 4:\"lincRNA\"}. DEFAULT=None"
      ],
      "text/plain": [
       "<IPython.core.display.Markdown object>"
      ]
     },
     "metadata": {},
     "output_type": "display_data"
    },
    {
     "data": {
      "text/markdown": [
       "* drop_values"
      ],
      "text/plain": [
       "<IPython.core.display.Markdown object>"
      ]
     },
     "metadata": {},
     "output_type": "display_data"
    },
    {
     "data": {
      "text/markdown": [
       "Same think that select_value but will drop the lines instead. DEFAULT=None"
      ],
      "text/plain": [
       "<IPython.core.display.Markdown object>"
      ]
     },
     "metadata": {},
     "output_type": "display_data"
    },
    {
     "data": {
      "text/markdown": [
       "* skip_comment"
      ],
      "text/plain": [
       "<IPython.core.display.Markdown object>"
      ]
     },
     "metadata": {},
     "output_type": "display_data"
    },
    {
     "data": {
      "text/markdown": [
       "Drop any comment lines starting with this character. DEFAULT=\"#\""
      ],
      "text/plain": [
       "<IPython.core.display.Markdown object>"
      ]
     },
     "metadata": {},
     "output_type": "display_data"
    },
    {
     "data": {
      "text/markdown": [
       "* sep"
      ],
      "text/plain": [
       "<IPython.core.display.Markdown object>"
      ]
     },
     "metadata": {},
     "output_type": "display_data"
    },
    {
     "data": {
      "text/markdown": [
       "Character or list of characters to use in order to split the lines. Exemple [\"\t\",\";\"]. DEFAULT=\"\t\""
      ],
      "text/plain": [
       "<IPython.core.display.Markdown object>"
      ]
     },
     "metadata": {},
     "output_type": "display_data"
    },
    {
     "data": {
      "text/markdown": [],
      "text/plain": [
       "<IPython.core.display.Markdown object>"
      ]
     },
     "metadata": {},
     "output_type": "display_data"
    }
   ],
   "source": [
    "jhelp(count_uniq, full=True)"
   ]
  },
  {
   "cell_type": "code",
   "execution_count": 96,
   "metadata": {
    "ExecuteTime": {
     "end_time": "2017-07-27T13:37:41.911828Z",
     "start_time": "2017-07-27T13:37:41.615805Z"
    },
    "hidden": true
   },
   "outputs": [
    {
     "data": {
      "text/plain": [
       "17\n",
       "intergenic    110\n",
       "intron         55\n",
       "3-UTR          17\n",
       "unknown        12\n",
       "dtype: int64"
      ]
     },
     "execution_count": 96,
     "metadata": {},
     "output_type": "execute_result"
    }
   ],
   "source": [
    "count_uniq(\"./data/Small_editing_Peng_hg38.bed\", colnum=17, sep=['\\t',\"|\"])"
   ]
  },
  {
   "cell_type": "code",
   "execution_count": 97,
   "metadata": {
    "ExecuteTime": {
     "end_time": "2017-07-27T13:37:42.902196Z",
     "start_time": "2017-07-27T13:37:42.528985Z"
    },
    "hidden": true
   },
   "outputs": [
    {
     "data": {
      "text/plain": [
       "17\n",
       "lincRNA                     2031\n",
       "antisense                   1600\n",
       "processed_transcript         686\n",
       "sense_intronic               105\n",
       "TEC                           36\n",
       "sense_overlapping             11\n",
       "3prime_overlapping_ncrna       2\n",
       "dtype: int64"
      ]
     },
     "execution_count": 97,
     "metadata": {},
     "output_type": "execute_result"
    }
   ],
   "source": [
    "count_uniq(\"./data/gencode_sample.gff3\", colnum=17, sep=[\"\\t\",\"=\", \";\"], select_values={2:[\"transcript\", \"exon\"], 6:\"+\"})"
   ]
  },
  {
   "cell_type": "markdown",
   "metadata": {
    "heading_collapsed": true
   },
   "source": [
    "## colsum"
   ]
  },
  {
   "cell_type": "code",
   "execution_count": 24,
   "metadata": {
    "ExecuteTime": {
     "end_time": "2017-11-27T17:06:26.958189Z",
     "start_time": "2017-11-27T17:06:26.927562Z"
    },
    "hidden": true,
    "init_cell": true
   },
   "outputs": [
    {
     "data": {
      "text/html": [
       "<b>colsum</b> (fp, colrange=None, separator='', header=False, ignore_hashtag_line=False, max_items=10, ret_type='md', **kwargs)"
      ],
      "text/plain": [
       "<IPython.core.display.HTML object>"
      ]
     },
     "metadata": {},
     "output_type": "display_data"
    },
    {
     "data": {
      "text/markdown": [],
      "text/plain": [
       "<IPython.core.display.Markdown object>"
      ]
     },
     "metadata": {},
     "output_type": "display_data"
    },
    {
     "data": {
      "text/markdown": [
       "Create a summary of selected columns of a file"
      ],
      "text/plain": [
       "<IPython.core.display.Markdown object>"
      ]
     },
     "metadata": {},
     "output_type": "display_data"
    },
    {
     "data": {
      "text/markdown": [
       "* fp"
      ],
      "text/plain": [
       "<IPython.core.display.Markdown object>"
      ]
     },
     "metadata": {},
     "output_type": "display_data"
    },
    {
     "data": {
      "text/markdown": [
       "Path to the file to be parsed"
      ],
      "text/plain": [
       "<IPython.core.display.Markdown object>"
      ]
     },
     "metadata": {},
     "output_type": "display_data"
    },
    {
     "data": {
      "text/markdown": [
       "* colrange"
      ],
      "text/plain": [
       "<IPython.core.display.Markdown object>"
      ]
     },
     "metadata": {},
     "output_type": "display_data"
    },
    {
     "data": {
      "text/markdown": [
       "A list of column index to parse"
      ],
      "text/plain": [
       "<IPython.core.display.Markdown object>"
      ]
     },
     "metadata": {},
     "output_type": "display_data"
    },
    {
     "data": {
      "text/markdown": [
       "* separator"
      ],
      "text/plain": [
       "<IPython.core.display.Markdown object>"
      ]
     },
     "metadata": {},
     "output_type": "display_data"
    },
    {
     "data": {
      "text/markdown": [
       "A character or a list of characters to split the lines"
      ],
      "text/plain": [
       "<IPython.core.display.Markdown object>"
      ]
     },
     "metadata": {},
     "output_type": "display_data"
    },
    {
     "data": {
      "text/markdown": [
       "* ignore_hashtag_line"
      ],
      "text/plain": [
       "<IPython.core.display.Markdown object>"
      ]
     },
     "metadata": {},
     "output_type": "display_data"
    },
    {
     "data": {
      "text/markdown": [
       "skip line starting with a # symbol"
      ],
      "text/plain": [
       "<IPython.core.display.Markdown object>"
      ]
     },
     "metadata": {},
     "output_type": "display_data"
    },
    {
     "data": {
      "text/markdown": [
       "* max_items"
      ],
      "text/plain": [
       "<IPython.core.display.Markdown object>"
      ]
     },
     "metadata": {},
     "output_type": "display_data"
    },
    {
     "data": {
      "text/markdown": [
       "maximum item per line"
      ],
      "text/plain": [
       "<IPython.core.display.Markdown object>"
      ]
     },
     "metadata": {},
     "output_type": "display_data"
    },
    {
     "data": {
      "text/markdown": [
       "* ret_type"
      ],
      "text/plain": [
       "<IPython.core.display.Markdown object>"
      ]
     },
     "metadata": {},
     "output_type": "display_data"
    },
    {
     "data": {
      "text/markdown": [
       "Possible return types:"
      ],
      "text/plain": [
       "<IPython.core.display.Markdown object>"
      ]
     },
     "metadata": {},
     "output_type": "display_data"
    },
    {
     "data": {
      "text/markdown": [
       "md = markdown formatted table,"
      ],
      "text/plain": [
       "<IPython.core.display.Markdown object>"
      ]
     },
     "metadata": {},
     "output_type": "display_data"
    },
    {
     "data": {
      "text/markdown": [
       "dict = raw parsing dict,"
      ],
      "text/plain": [
       "<IPython.core.display.Markdown object>"
      ]
     },
     "metadata": {},
     "output_type": "display_data"
    },
    {
     "data": {
      "text/markdown": [
       "report = Indented_text_report"
      ],
      "text/plain": [
       "<IPython.core.display.Markdown object>"
      ]
     },
     "metadata": {},
     "output_type": "display_data"
    },
    {
     "data": {
      "text/markdown": [],
      "text/plain": [
       "<IPython.core.display.Markdown object>"
      ]
     },
     "metadata": {},
     "output_type": "display_data"
    }
   ],
   "source": [
    "jhelp(colsum, full=True)"
   ]
  },
  {
   "cell_type": "code",
   "execution_count": 111,
   "metadata": {
    "ExecuteTime": {
     "end_time": "2017-07-27T13:38:21.695523Z",
     "start_time": "2017-07-27T13:38:21.687257Z"
    },
    "hidden": true
   },
   "outputs": [
    {
     "data": {
      "text/markdown": [
       "|#chromosome|chr1|chr17|chr9|chr15|chr6|chr14|chr18|chr2|chrY|chr4|chr7|\n",
       "|:---|:---|:---|:---|:---|:---|:---|:---|:---|:---|:---|:---|\n",
       "|Count|4|3|2|2|2|1|1|1|1|1|1|\n",
       "\n",
       "|gene|RABEP1|NUP133|JUB|GREB1L|SPHKAP|NLGN4Y|CELSR2|RBPJ|TLE4|SOCS7|ADPGK|UBE2O|TSC1|GRIK2|MEF2A|...|\n",
       "|:---|:---|:---|:---|:---|:---|:---|:---|:---|:---|:---|:---|:---|:---|:---|:---|:---|\n",
       "|Count|1|1|1|1|1|1|1|1|1|1|1|1|1|1|1|...|\n",
       "\n",
       "|alu?|no|\n",
       "|:---|:---|\n",
       "|Count|19|\n",
       "\n"
      ],
      "text/plain": [
       "<IPython.core.display.Markdown object>"
      ]
     },
     "metadata": {},
     "output_type": "display_data"
    }
   ],
   "source": [
    "display(Markdown(colsum(\"./data/RADAR_Main.txt\", header=True, colrange=[0,2,6], max_items=15)))"
   ]
  },
  {
   "cell_type": "code",
   "execution_count": 112,
   "metadata": {
    "ExecuteTime": {
     "end_time": "2017-07-27T13:38:51.614556Z",
     "start_time": "2017-07-27T13:38:51.603921Z"
    },
    "hidden": true
   },
   "outputs": [
    {
     "data": {
      "text/plain": [
       "OrderedDict([(0,\n",
       "              OrderedDict([('chr1', 4),\n",
       "                           ('chr6', 2),\n",
       "                           ('chr7', 1),\n",
       "                           ('chr15', 2),\n",
       "                           ('chr9', 2),\n",
       "                           ('chr17', 3),\n",
       "                           ('chr4', 1),\n",
       "                           ('chrY', 1),\n",
       "                           ('chr2', 1),\n",
       "                           ('chr18', 1),\n",
       "                           ('chr14', 1)])),\n",
       "             (3, OrderedDict([('-', 10), ('+', 9)]))])"
      ]
     },
     "execution_count": 112,
     "metadata": {},
     "output_type": "execute_result"
    }
   ],
   "source": [
    "colsum(\"./data/RADAR_Main.txt\", header=True, ret_type=\"dict\", colrange=[0,3])"
   ]
  },
  {
   "cell_type": "code",
   "execution_count": 114,
   "metadata": {
    "ExecuteTime": {
     "end_time": "2017-07-27T13:39:07.242686Z",
     "start_time": "2017-07-27T13:39:07.225613Z"
    },
    "hidden": true
   },
   "outputs": [
    {
     "name": "stdout",
     "output_type": "stream",
     "text": [
      "0\n",
      "\tchr1\t997\n",
      "1\n",
      "\t225974746\t1\n",
      "\t225974735\t1\n",
      "\t225974581\t1\n",
      "\t224599486\t1\n",
      "\t224584888\t1\n",
      "\t...\t...\n",
      "2\n",
      "\t225974746\t1\n",
      "\t225974735\t1\n",
      "\t225974581\t1\n",
      "\t224599486\t1\n",
      "\t224584888\t1\n",
      "\t...\t...\n",
      "3\n",
      "\tA>I\t997\n",
      "4\n",
      "\tFDPS\t34\n",
      "\tMDM4\t31\n",
      "\tCTSS\t28\n",
      "\tDNAJC11\t25\n",
      "\tS100PBP\t24\n",
      "\t...\t...\n",
      "5\n",
      "\tYH\t997\n",
      "6\n",
      "\t22327324\t997\n",
      "7\n",
      "\t33.33\t31\n",
      "\t66.67\t31\n",
      "\t50.00\t23\n",
      "\t57.14\t22\n",
      "\t60.00\t22\n",
      "\t...\t...\n",
      "8\n",
      "\t-\t527\n",
      "\t+\t470\n",
      "\n"
     ]
    }
   ],
   "source": [
    "print(colsum(\n",
    "        \"./data/RADAR_clean.txt\",\n",
    "        header=True,\n",
    "        ignore_hashtag_line=True,\n",
    "        ret_type=\"report\",\n",
    "        separator=[\"\\t\",\"|\"],\n",
    "        max_items=5))"
   ]
  },
  {
   "cell_type": "markdown",
   "metadata": {
    "heading_collapsed": true
   },
   "source": [
    "## fastcount"
   ]
  },
  {
   "cell_type": "code",
   "execution_count": 25,
   "metadata": {
    "ExecuteTime": {
     "end_time": "2017-11-27T17:06:26.970062Z",
     "start_time": "2017-11-27T17:06:26.960538Z"
    },
    "hidden": true,
    "init_cell": true
   },
   "outputs": [
    {
     "data": {
      "text/html": [
       "<b>fastcount</b> (fp, **kwargs)"
      ],
      "text/plain": [
       "<IPython.core.display.HTML object>"
      ]
     },
     "metadata": {},
     "output_type": "display_data"
    },
    {
     "data": {
      "text/markdown": [],
      "text/plain": [
       "<IPython.core.display.Markdown object>"
      ]
     },
     "metadata": {},
     "output_type": "display_data"
    },
    {
     "data": {
      "text/markdown": [
       "Efficient way to count the number of lines in a file. Handle gziped files"
      ],
      "text/plain": [
       "<IPython.core.display.Markdown object>"
      ]
     },
     "metadata": {},
     "output_type": "display_data"
    },
    {
     "data": {
      "text/markdown": [],
      "text/plain": [
       "<IPython.core.display.Markdown object>"
      ]
     },
     "metadata": {},
     "output_type": "display_data"
    }
   ],
   "source": [
    "jhelp(fastcount, full=True)"
   ]
  },
  {
   "cell_type": "code",
   "execution_count": 116,
   "metadata": {
    "ExecuteTime": {
     "end_time": "2017-07-27T13:39:15.450609Z",
     "start_time": "2017-07-27T13:39:15.440939Z"
    },
    "hidden": true
   },
   "outputs": [
    {
     "data": {
      "text/plain": [
       "100"
      ]
     },
     "execution_count": 116,
     "metadata": {},
     "output_type": "execute_result"
    }
   ],
   "source": [
    "fastcount(\"./data/RADAR_Secondary.txt\")"
   ]
  },
  {
   "cell_type": "code",
   "execution_count": 117,
   "metadata": {
    "ExecuteTime": {
     "end_time": "2017-07-27T13:39:15.924564Z",
     "start_time": "2017-07-27T13:39:15.919623Z"
    },
    "hidden": true
   },
   "outputs": [
    {
     "data": {
      "text/plain": [
       "100"
      ]
     },
     "execution_count": 117,
     "metadata": {},
     "output_type": "execute_result"
    }
   ],
   "source": [
    "fastcount(\"./data/RADAR_Secondary.txt.gz\")"
   ]
  },
  {
   "cell_type": "markdown",
   "metadata": {
    "heading_collapsed": true
   },
   "source": [
    "## simplecount"
   ]
  },
  {
   "cell_type": "code",
   "execution_count": 26,
   "metadata": {
    "ExecuteTime": {
     "end_time": "2017-11-27T17:06:26.982461Z",
     "start_time": "2017-11-27T17:06:26.972067Z"
    },
    "hidden": true,
    "init_cell": true
   },
   "outputs": [
    {
     "data": {
      "text/html": [
       "<b>simplecount</b> (fp, ignore_hashtag_line=False, **kwargs)"
      ],
      "text/plain": [
       "<IPython.core.display.HTML object>"
      ]
     },
     "metadata": {},
     "output_type": "display_data"
    },
    {
     "data": {
      "text/markdown": [],
      "text/plain": [
       "<IPython.core.display.Markdown object>"
      ]
     },
     "metadata": {},
     "output_type": "display_data"
    },
    {
     "data": {
      "text/markdown": [
       "Simple way to count the number of lines in a file with more options"
      ],
      "text/plain": [
       "<IPython.core.display.Markdown object>"
      ]
     },
     "metadata": {},
     "output_type": "display_data"
    },
    {
     "data": {
      "text/markdown": [],
      "text/plain": [
       "<IPython.core.display.Markdown object>"
      ]
     },
     "metadata": {},
     "output_type": "display_data"
    }
   ],
   "source": [
    "jhelp(simplecount, full=True)"
   ]
  },
  {
   "cell_type": "code",
   "execution_count": 119,
   "metadata": {
    "ExecuteTime": {
     "end_time": "2017-07-27T13:39:20.048718Z",
     "start_time": "2017-07-27T13:39:20.041782Z"
    },
    "hidden": true
   },
   "outputs": [
    {
     "data": {
      "text/plain": [
       "194"
      ]
     },
     "execution_count": 119,
     "metadata": {},
     "output_type": "execute_result"
    }
   ],
   "source": [
    "simplecount(\"./data/Small_m5C_Squires_hg38.bed\", ignore_hashtag_line=True)"
   ]
  },
  {
   "cell_type": "code",
   "execution_count": 120,
   "metadata": {
    "ExecuteTime": {
     "end_time": "2017-07-27T13:39:20.523970Z",
     "start_time": "2017-07-27T13:39:20.519140Z"
    },
    "hidden": true
   },
   "outputs": [
    {
     "data": {
      "text/plain": [
       "100"
      ]
     },
     "execution_count": 120,
     "metadata": {},
     "output_type": "execute_result"
    }
   ],
   "source": [
    "simplecount(\"./data/RADAR_Secondary.txt.gz\")"
   ]
  },
  {
   "cell_type": "markdown",
   "metadata": {
    "hidden": true
   },
   "source": [
    "---"
   ]
  },
  {
   "cell_type": "markdown",
   "metadata": {
    "heading_collapsed": true
   },
   "source": [
    "# DIRECTORY MANIPULATION"
   ]
  },
  {
   "cell_type": "markdown",
   "metadata": {
    "heading_collapsed": true,
    "hidden": true
   },
   "source": [
    "## mkdir"
   ]
  },
  {
   "cell_type": "code",
   "execution_count": 27,
   "metadata": {
    "ExecuteTime": {
     "end_time": "2017-11-27T17:06:27.001954Z",
     "start_time": "2017-11-27T17:06:26.984545Z"
    },
    "hidden": true,
    "init_cell": true
   },
   "outputs": [
    {
     "data": {
      "text/html": [
       "<b>mkdir</b> (fp, level=1, **kwargs)"
      ],
      "text/plain": [
       "<IPython.core.display.HTML object>"
      ]
     },
     "metadata": {},
     "output_type": "display_data"
    },
    {
     "data": {
      "text/markdown": [],
      "text/plain": [
       "<IPython.core.display.Markdown object>"
      ]
     },
     "metadata": {},
     "output_type": "display_data"
    },
    {
     "data": {
      "text/markdown": [
       "Reproduce the ability of UNIX \"mkdir -p\" command"
      ],
      "text/plain": [
       "<IPython.core.display.Markdown object>"
      ]
     },
     "metadata": {},
     "output_type": "display_data"
    },
    {
     "data": {
      "text/markdown": [
       "(ie if the path already exits no exception will be raised)."
      ],
      "text/plain": [
       "<IPython.core.display.Markdown object>"
      ]
     },
     "metadata": {},
     "output_type": "display_data"
    },
    {
     "data": {
      "text/markdown": [
       "Can create nested directories by recursivity"
      ],
      "text/plain": [
       "<IPython.core.display.Markdown object>"
      ]
     },
     "metadata": {},
     "output_type": "display_data"
    },
    {
     "data": {
      "text/markdown": [
       "* fp"
      ],
      "text/plain": [
       "<IPython.core.display.Markdown object>"
      ]
     },
     "metadata": {},
     "output_type": "display_data"
    },
    {
     "data": {
      "text/markdown": [
       "path name where the folder should be created"
      ],
      "text/plain": [
       "<IPython.core.display.Markdown object>"
      ]
     },
     "metadata": {},
     "output_type": "display_data"
    },
    {
     "data": {
      "text/markdown": [
       "* level"
      ],
      "text/plain": [
       "<IPython.core.display.Markdown object>"
      ]
     },
     "metadata": {},
     "output_type": "display_data"
    },
    {
     "data": {
      "text/markdown": [
       "level in the path where to start to create the directories. Used by the program for the recursive creation of directories"
      ],
      "text/plain": [
       "<IPython.core.display.Markdown object>"
      ]
     },
     "metadata": {},
     "output_type": "display_data"
    },
    {
     "data": {
      "text/markdown": [],
      "text/plain": [
       "<IPython.core.display.Markdown object>"
      ]
     },
     "metadata": {},
     "output_type": "display_data"
    }
   ],
   "source": [
    "jhelp(mkdir, full=True)"
   ]
  },
  {
   "cell_type": "code",
   "execution_count": 122,
   "metadata": {
    "ExecuteTime": {
     "end_time": "2017-07-27T13:39:26.644979Z",
     "start_time": "2017-07-27T13:39:26.636875Z"
    },
    "hidden": true
   },
   "outputs": [
    {
     "name": "stdout",
     "output_type": "stream",
     "text": [
      "Creating /home/aleg/Programming/Python3/pycl/pycl/data/test_dir\n"
     ]
    }
   ],
   "source": [
    "mkdir(\"./data/test_dir\")"
   ]
  },
  {
   "cell_type": "code",
   "execution_count": 123,
   "metadata": {
    "ExecuteTime": {
     "end_time": "2017-07-27T13:39:28.701492Z",
     "start_time": "2017-07-27T13:39:28.578124Z"
    },
    "hidden": true
   },
   "outputs": [
    {
     "name": "stdout",
     "output_type": "stream",
     "text": [
      "Creating /home/aleg/Programming/Python3/pycl/pycl/test\n",
      "Creating /home/aleg/Programming/Python3/pycl/pycl/test/test\n",
      "Creating /home/aleg/Programming/Python3/pycl/pycl/test/test/test\n"
     ]
    }
   ],
   "source": [
    "mkdir (\"./test/test/test\")\n",
    "!rm -rf ./test"
   ]
  },
  {
   "cell_type": "markdown",
   "metadata": {
    "hidden": true
   },
   "source": [
    "---"
   ]
  },
  {
   "cell_type": "markdown",
   "metadata": {
    "heading_collapsed": true
   },
   "source": [
    "# SHELL MANIPULATION"
   ]
  },
  {
   "cell_type": "markdown",
   "metadata": {
    "heading_collapsed": true,
    "hidden": true
   },
   "source": [
    "## make_cmd_str"
   ]
  },
  {
   "cell_type": "code",
   "execution_count": 28,
   "metadata": {
    "ExecuteTime": {
     "end_time": "2017-11-27T17:06:27.024249Z",
     "start_time": "2017-11-27T17:06:27.004071Z"
    },
    "hidden": true,
    "init_cell": true
   },
   "outputs": [
    {
     "data": {
      "text/html": [
       "<b>make_cmd_str</b> (prog_name, opt_dict={}, opt_list=[], **kwargs)"
      ],
      "text/plain": [
       "<IPython.core.display.HTML object>"
      ]
     },
     "metadata": {},
     "output_type": "display_data"
    },
    {
     "data": {
      "text/markdown": [],
      "text/plain": [
       "<IPython.core.display.Markdown object>"
      ]
     },
     "metadata": {},
     "output_type": "display_data"
    },
    {
     "data": {
      "text/markdown": [
       "Create a Unix like command line string from the prog name, a dict named arguments and a list of unmammed arguments"
      ],
      "text/plain": [
       "<IPython.core.display.Markdown object>"
      ]
     },
     "metadata": {},
     "output_type": "display_data"
    },
    {
     "data": {
      "text/markdown": [
       "exemple make_cmd_str(\"bwa\", {\"b\":None, t\":6, \"i\":\"../idx/seq.fa\"}, [\"../read1\", \"../read2\"])"
      ],
      "text/plain": [
       "<IPython.core.display.Markdown object>"
      ]
     },
     "metadata": {},
     "output_type": "display_data"
    },
    {
     "data": {
      "text/markdown": [
       "* prog_name"
      ],
      "text/plain": [
       "<IPython.core.display.Markdown object>"
      ]
     },
     "metadata": {},
     "output_type": "display_data"
    },
    {
     "data": {
      "text/markdown": [
       "Name (if added to the system path) or path of the program"
      ],
      "text/plain": [
       "<IPython.core.display.Markdown object>"
      ]
     },
     "metadata": {},
     "output_type": "display_data"
    },
    {
     "data": {
      "text/markdown": [
       "* opt_dict"
      ],
      "text/plain": [
       "<IPython.core.display.Markdown object>"
      ]
     },
     "metadata": {},
     "output_type": "display_data"
    },
    {
     "data": {
      "text/markdown": [
       "Dictionary of option arguments such as \"-t 5\". The option flag have to be the key (without \"-\") and the the option value in the"
      ],
      "text/plain": [
       "<IPython.core.display.Markdown object>"
      ]
     },
     "metadata": {},
     "output_type": "display_data"
    },
    {
     "data": {
      "text/markdown": [
       "dictionary value. If no value is requested after the option flag \"None\" had to be assigned to the value field."
      ],
      "text/plain": [
       "<IPython.core.display.Markdown object>"
      ]
     },
     "metadata": {},
     "output_type": "display_data"
    },
    {
     "data": {
      "text/markdown": [
       "* opt_list"
      ],
      "text/plain": [
       "<IPython.core.display.Markdown object>"
      ]
     },
     "metadata": {},
     "output_type": "display_data"
    },
    {
     "data": {
      "text/markdown": [
       "List of simple command line arguments"
      ],
      "text/plain": [
       "<IPython.core.display.Markdown object>"
      ]
     },
     "metadata": {},
     "output_type": "display_data"
    },
    {
     "data": {
      "text/markdown": [],
      "text/plain": [
       "<IPython.core.display.Markdown object>"
      ]
     },
     "metadata": {},
     "output_type": "display_data"
    }
   ],
   "source": [
    "jhelp(make_cmd_str, full=True)"
   ]
  },
  {
   "cell_type": "code",
   "execution_count": 125,
   "metadata": {
    "ExecuteTime": {
     "end_time": "2017-07-27T13:39:57.651315Z",
     "start_time": "2017-07-27T13:39:57.640042Z"
    },
    "hidden": true
   },
   "outputs": [
    {
     "data": {
      "text/plain": [
       "'bwa -i ../idx/seq.fa -b -t 6 ../read1 ../read2 '"
      ]
     },
     "execution_count": 125,
     "metadata": {},
     "output_type": "execute_result"
    }
   ],
   "source": [
    "make_cmd_str(\"bwa\", {\"-b\":None, \"-t\":6, \"-i\":\"../idx/seq.fa\"}, [\"../read1\", \"../read2\"])"
   ]
  },
  {
   "cell_type": "markdown",
   "metadata": {
    "heading_collapsed": true,
    "hidden": true
   },
   "source": [
    "## bash_basic"
   ]
  },
  {
   "cell_type": "code",
   "execution_count": 29,
   "metadata": {
    "ExecuteTime": {
     "end_time": "2017-11-27T17:06:27.033857Z",
     "start_time": "2017-11-27T17:06:27.027261Z"
    },
    "hidden": true,
    "init_cell": true
   },
   "outputs": [
    {
     "data": {
      "text/html": [
       "<b>bash_basic</b> (cmd, **kwargs)"
      ],
      "text/plain": [
       "<IPython.core.display.HTML object>"
      ]
     },
     "metadata": {},
     "output_type": "display_data"
    },
    {
     "data": {
      "text/markdown": [
       "Sent basic bash command"
      ],
      "text/plain": [
       "<IPython.core.display.Markdown object>"
      ]
     },
     "metadata": {},
     "output_type": "display_data"
    }
   ],
   "source": [
    "jhelp(bash_basic, full=True)"
   ]
  },
  {
   "cell_type": "code",
   "execution_count": 127,
   "metadata": {
    "ExecuteTime": {
     "end_time": "2017-07-27T13:40:02.833971Z",
     "start_time": "2017-07-27T13:40:02.800604Z"
    },
    "hidden": true
   },
   "outputs": [
    {
     "name": "stdout",
     "output_type": "stream",
     "text": [
      "total 308\n",
      "drwxrwxr-x 3 aleg aleg   4096 Jul 27 14:39 data\n",
      "-rw-rw-r-- 1 aleg aleg   1712 Jul 27 13:36 __init__.py\n",
      "drwxrwxr-x 2 aleg aleg   4096 Jul 27 14:31 __pycache__\n",
      "-rwxrwxrwx 1 aleg aleg  51863 Jul 27 14:30 pycl.py\n",
      "-rw-rw-r-- 1 aleg aleg  42998 Jul 27 11:19 pycl.pyc\n",
      "-rw-rw-r-- 1 aleg aleg 201524 Jul 27 14:39 test_pycl.ipynb\n",
      "\n",
      "\n",
      "None\n",
      "TTTT\n",
      "\n",
      "\n",
      "None\n",
      "\n",
      "\n",
      "None\n"
     ]
    }
   ],
   "source": [
    "print(bash_basic(\"ls -l\"))\n",
    "print(bash_basic(\"echo TTTT\"))\n",
    "print(bash_basic(\"grep ./data/RADAR_Secondary.txt\"))"
   ]
  },
  {
   "cell_type": "markdown",
   "metadata": {
    "hidden": true
   },
   "source": [
    "## bash"
   ]
  },
  {
   "cell_type": "code",
   "execution_count": 30,
   "metadata": {
    "ExecuteTime": {
     "end_time": "2017-11-27T17:06:27.069923Z",
     "start_time": "2017-11-27T17:06:27.035740Z"
    },
    "hidden": true,
    "init_cell": true
   },
   "outputs": [
    {
     "data": {
      "text/html": [
       "<b>bash</b> (cmd, live='stdout', print_stdout=True, ret_stdout=False, log_stdout=None, print_stderr=True, ret_stderr=False, log_stderr=None, **kwargs)"
      ],
      "text/plain": [
       "<IPython.core.display.HTML object>"
      ]
     },
     "metadata": {},
     "output_type": "display_data"
    },
    {
     "data": {
      "text/markdown": [],
      "text/plain": [
       "<IPython.core.display.Markdown object>"
      ]
     },
     "metadata": {},
     "output_type": "display_data"
    },
    {
     "data": {
      "text/markdown": [
       "More advanced version of bash calling with live printing of the standard output and possibilities to log the redirect"
      ],
      "text/plain": [
       "<IPython.core.display.Markdown object>"
      ]
     },
     "metadata": {},
     "output_type": "display_data"
    },
    {
     "data": {
      "text/markdown": [
       "the output and error as a string return or directly in files. If ret_stderr and ret_stdout are True a tuple will be returned and if"
      ],
      "text/plain": [
       "<IPython.core.display.Markdown object>"
      ]
     },
     "metadata": {},
     "output_type": "display_data"
    },
    {
     "data": {
      "text/markdown": [
       "both are False None will be returned"
      ],
      "text/plain": [
       "<IPython.core.display.Markdown object>"
      ]
     },
     "metadata": {},
     "output_type": "display_data"
    },
    {
     "data": {
      "text/markdown": [
       "* cmd"
      ],
      "text/plain": [
       "<IPython.core.display.Markdown object>"
      ]
     },
     "metadata": {},
     "output_type": "display_data"
    },
    {
     "data": {
      "text/markdown": [
       "A command line string formatted as a string"
      ],
      "text/plain": [
       "<IPython.core.display.Markdown object>"
      ]
     },
     "metadata": {},
     "output_type": "display_data"
    },
    {
     "data": {
      "text/markdown": [
       "* print_stdout"
      ],
      "text/plain": [
       "<IPython.core.display.Markdown object>"
      ]
     },
     "metadata": {},
     "output_type": "display_data"
    },
    {
     "data": {
      "text/markdown": [
       "If True the standard output will be LIVE printed through the system standard output stream"
      ],
      "text/plain": [
       "<IPython.core.display.Markdown object>"
      ]
     },
     "metadata": {},
     "output_type": "display_data"
    },
    {
     "data": {
      "text/markdown": [
       "* ret_stdout"
      ],
      "text/plain": [
       "<IPython.core.display.Markdown object>"
      ]
     },
     "metadata": {},
     "output_type": "display_data"
    },
    {
     "data": {
      "text/markdown": [
       "If True the standard output will be returned as a string"
      ],
      "text/plain": [
       "<IPython.core.display.Markdown object>"
      ]
     },
     "metadata": {},
     "output_type": "display_data"
    },
    {
     "data": {
      "text/markdown": [
       "* log_stdout"
      ],
      "text/plain": [
       "<IPython.core.display.Markdown object>"
      ]
     },
     "metadata": {},
     "output_type": "display_data"
    },
    {
     "data": {
      "text/markdown": [
       "If a filename is given, the standard output will logged in this file"
      ],
      "text/plain": [
       "<IPython.core.display.Markdown object>"
      ]
     },
     "metadata": {},
     "output_type": "display_data"
    },
    {
     "data": {
      "text/markdown": [
       "* print_stderr"
      ],
      "text/plain": [
       "<IPython.core.display.Markdown object>"
      ]
     },
     "metadata": {},
     "output_type": "display_data"
    },
    {
     "data": {
      "text/markdown": [
       "If True the standard error will be printed through the system standard error stream"
      ],
      "text/plain": [
       "<IPython.core.display.Markdown object>"
      ]
     },
     "metadata": {},
     "output_type": "display_data"
    },
    {
     "data": {
      "text/markdown": [
       "* ret_stderr"
      ],
      "text/plain": [
       "<IPython.core.display.Markdown object>"
      ]
     },
     "metadata": {},
     "output_type": "display_data"
    },
    {
     "data": {
      "text/markdown": [
       "If True the standard error will be returned as a string"
      ],
      "text/plain": [
       "<IPython.core.display.Markdown object>"
      ]
     },
     "metadata": {},
     "output_type": "display_data"
    },
    {
     "data": {
      "text/markdown": [
       "* log_stderr"
      ],
      "text/plain": [
       "<IPython.core.display.Markdown object>"
      ]
     },
     "metadata": {},
     "output_type": "display_data"
    },
    {
     "data": {
      "text/markdown": [
       "If a filename is given, the standard error will logged in this file"
      ],
      "text/plain": [
       "<IPython.core.display.Markdown object>"
      ]
     },
     "metadata": {},
     "output_type": "display_data"
    },
    {
     "data": {
      "text/markdown": [],
      "text/plain": [
       "<IPython.core.display.Markdown object>"
      ]
     },
     "metadata": {},
     "output_type": "display_data"
    }
   ],
   "source": [
    "jhelp(bash, full=True)"
   ]
  },
  {
   "cell_type": "code",
   "execution_count": 129,
   "metadata": {
    "ExecuteTime": {
     "end_time": "2017-07-27T13:40:13.674309Z",
     "start_time": "2017-07-27T13:40:13.660297Z"
    },
    "hidden": true
   },
   "outputs": [
    {
     "name": "stdout",
     "output_type": "stream",
     "text": [
      "data\n",
      "__init__.py\n",
      "__pycache__\n",
      "pycl.py\n",
      "pycl.pyc\n",
      "test_pycl.ipynb\n"
     ]
    },
    {
     "data": {
      "text/plain": [
       "'data\\n__init__.py\\n__pycache__\\npycl.py\\npycl.pyc\\ntest_pycl.ipynb\\n'"
      ]
     },
     "execution_count": 129,
     "metadata": {},
     "output_type": "execute_result"
    }
   ],
   "source": [
    "bash(\"ls\", print_stdout=True, ret_stdout=True,)"
   ]
  },
  {
   "cell_type": "code",
   "execution_count": 131,
   "metadata": {
    "ExecuteTime": {
     "end_time": "2017-07-27T13:41:09.793792Z",
     "start_time": "2017-07-27T13:41:05.760139Z"
    },
    "hidden": true
   },
   "outputs": [
    {
     "name": "stderr",
     "output_type": "stream",
     "text": [
      "ls: cannot access 'error': No such file or directory\n",
      "ls: cannot access 'error': No such file or directory\n",
      "ls: cannot access 'error': No such file or directory\n",
      "ls: cannot access 'error': No such file or directory\n",
      "Error code #2 during execution of the command : for i in 1 2 3 4; do echo $i && sleep 1 && ls error ;done\n"
     ]
    }
   ],
   "source": [
    "bash(\"for i in 1 2 3 4; do echo $i && sleep 1 && ls error ;done\", live=\"stderr\",  print_stdout=True, ret_stdout=True, print_stderr=True)"
   ]
  },
  {
   "cell_type": "code",
   "execution_count": 132,
   "metadata": {
    "ExecuteTime": {
     "end_time": "2017-07-27T13:41:15.531047Z",
     "start_time": "2017-07-27T13:41:15.506159Z"
    },
    "hidden": true
   },
   "outputs": [
    {
     "data": {
      "text/html": [
       "<p style=\"line-height:10px;\">data</p>"
      ],
      "text/plain": [
       "<IPython.core.display.HTML object>"
      ]
     },
     "metadata": {},
     "output_type": "display_data"
    },
    {
     "data": {
      "text/html": [
       "<p style=\"line-height:10px;\">__init__.py</p>"
      ],
      "text/plain": [
       "<IPython.core.display.HTML object>"
      ]
     },
     "metadata": {},
     "output_type": "display_data"
    },
    {
     "data": {
      "text/html": [
       "<p style=\"line-height:10px;\">__pycache__</p>"
      ],
      "text/plain": [
       "<IPython.core.display.HTML object>"
      ]
     },
     "metadata": {},
     "output_type": "display_data"
    },
    {
     "data": {
      "text/html": [
       "<p style=\"line-height:10px;\">pycl.py</p>"
      ],
      "text/plain": [
       "<IPython.core.display.HTML object>"
      ]
     },
     "metadata": {},
     "output_type": "display_data"
    },
    {
     "data": {
      "text/html": [
       "<p style=\"line-height:10px;\">pycl.pyc</p>"
      ],
      "text/plain": [
       "<IPython.core.display.HTML object>"
      ]
     },
     "metadata": {},
     "output_type": "display_data"
    },
    {
     "data": {
      "text/html": [
       "<p style=\"line-height:10px;\">test_pycl.ipynb</p>"
      ],
      "text/plain": [
       "<IPython.core.display.HTML object>"
      ]
     },
     "metadata": {},
     "output_type": "display_data"
    },
    {
     "data": {
      "text/html": [
       "<p>Only 6 lines in the file</p>"
      ],
      "text/plain": [
       "<IPython.core.display.HTML object>"
      ]
     },
     "metadata": {},
     "output_type": "display_data"
    }
   ],
   "source": [
    "bash(\"ls\", print_stdout=False, ret_stdout=False, log_stdout=\"./data/stdout.txt\")\n",
    "head(\"./data/stdout.txt\")"
   ]
  },
  {
   "cell_type": "markdown",
   "metadata": {
    "hidden": true
   },
   "source": [
    "## bash_update"
   ]
  },
  {
   "cell_type": "code",
   "execution_count": 31,
   "metadata": {
    "ExecuteTime": {
     "end_time": "2017-11-27T17:06:27.087745Z",
     "start_time": "2017-11-27T17:06:27.071789Z"
    },
    "hidden": true,
    "init_cell": true
   },
   "outputs": [
    {
     "data": {
      "text/html": [
       "<b>bash_update</b> (cmd, update_freq=1, **kwargs)"
      ],
      "text/plain": [
       "<IPython.core.display.HTML object>"
      ]
     },
     "metadata": {},
     "output_type": "display_data"
    },
    {
     "data": {
      "text/markdown": [],
      "text/plain": [
       "<IPython.core.display.Markdown object>"
      ]
     },
     "metadata": {},
     "output_type": "display_data"
    },
    {
     "data": {
      "text/markdown": [
       "FOR JUPYTER NOTEBOOK"
      ],
      "text/plain": [
       "<IPython.core.display.Markdown object>"
      ]
     },
     "metadata": {},
     "output_type": "display_data"
    },
    {
     "data": {
      "text/markdown": [
       "Run a bash command and print the output in the cell. The output is updated each time until the output is None."
      ],
      "text/plain": [
       "<IPython.core.display.Markdown object>"
      ]
     },
     "metadata": {},
     "output_type": "display_data"
    },
    {
     "data": {
      "text/markdown": [
       "This is suitable for monitoring tasks that log events until there is nothing else to print such as bjobs or bpeeks."
      ],
      "text/plain": [
       "<IPython.core.display.Markdown object>"
      ]
     },
     "metadata": {},
     "output_type": "display_data"
    },
    {
     "data": {
      "text/markdown": [
       "* cmd"
      ],
      "text/plain": [
       "<IPython.core.display.Markdown object>"
      ]
     },
     "metadata": {},
     "output_type": "display_data"
    },
    {
     "data": {
      "text/markdown": [
       "A command line string formatted as a string"
      ],
      "text/plain": [
       "<IPython.core.display.Markdown object>"
      ]
     },
     "metadata": {},
     "output_type": "display_data"
    },
    {
     "data": {
      "text/markdown": [
       "* update_freq"
      ],
      "text/plain": [
       "<IPython.core.display.Markdown object>"
      ]
     },
     "metadata": {},
     "output_type": "display_data"
    },
    {
     "data": {
      "text/markdown": [
       "The frequency of output updating in seconds [DEFAULT: 1]"
      ],
      "text/plain": [
       "<IPython.core.display.Markdown object>"
      ]
     },
     "metadata": {},
     "output_type": "display_data"
    },
    {
     "data": {
      "text/markdown": [],
      "text/plain": [
       "<IPython.core.display.Markdown object>"
      ]
     },
     "metadata": {},
     "output_type": "display_data"
    }
   ],
   "source": [
    "jhelp(bash_update, full=True)"
   ]
  },
  {
   "cell_type": "code",
   "execution_count": 151,
   "metadata": {
    "ExecuteTime": {
     "end_time": "2017-07-27T13:48:27.932062Z",
     "start_time": "2017-07-27T13:47:54.092128Z"
    },
    "hidden": true,
    "scrolled": true
   },
   "outputs": [
    {
     "name": "stdout",
     "output_type": "stream",
     "text": [
      "\u001b[?1l\u001b>\u001b[30m\u001b[42m  PID USER      PRI  NI  VIRT   RES   SHR S \u001b[30m\u001b[46mCPU% \u001b[30m\u001b[42mMEM%   TIME+  Command          \u001b[10;1H\u001b[30m\u001b[46m30033 aleg       20   0 26304  3980  3096 R 57.1  0.0  0:00.07 htop             \u001b[11;5H\u001b[m\u001b[m1 \u001b[30m\u001b[1mroot      \u001b[m\u001b[m 20   0 \u001b[36m 181M  6\u001b[m\u001b[m232 \u001b[36m 4\u001b[m\u001b[m080 S  0.0  0.0  0:43.99 /sbin/init splash\u001b[12;3H242 \u001b[30m\u001b[1mroot      \u001b[m\u001b[m 20   0 \u001b[36m68\u001b[m\u001b[m476 \u001b[36m33\u001b[m\u001b[m420 \u001b[36m28\u001b[m\u001b[m664 S  0.0  0.2  0:27.98 /lib/systemd/syst\u001b[13;3H299 \u001b[30m\u001b[1mroot      \u001b[m\u001b[m 20   0 \u001b[36m45\u001b[m\u001b[m592 \u001b[36m 4\u001b[m\u001b[m736 \u001b[36m 3\u001b[m\u001b[m036 S  0.0  0.0  0:00.27 /lib/systemd/syst\u001b[14;3H737 \u001b[30m\u001b[1msystemd-t \u001b[m\u001b[m 20   0 \u001b[36m 100M  2\u001b[m\u001b[m624 \u001b[36m 2\u001b[m\u001b[m388 S  0.0  0.0  0:00.00 \u001b[32m/lib/systemd/syst\u001b[15;3H\u001b[m\u001b[m671 \u001b[30m\u001b[1msystemd-t \u001b[m\u001b[m 20   0 \u001b[36m 100M  2\u001b[m\u001b[m624 \u001b[36m 2\u001b[m\u001b[m388 S  0.0  0.0  0:00.03 /lib/systemd/syst\u001b[16;3H783 \u001b[30m\u001b[1msyslog    \u001b[m\u001b[m 20   0 \u001b[36m 250M  3\u001b[m\u001b[m692 \u001b[36m 2\u001b[m\u001b[m688 S  0.0  0.0  0:03.85 \u001b[32m/usr/sbin/rsyslog\u001b[17;3H\u001b[m\u001b[m784 \u001b[30m\u001b[1msyslog    \u001b[m\u001b[m 20   0 \u001b[36m 250M  3\u001b[m\u001b[m692 \u001b[36m 2\u001b[m\u001b[m688 S  0.0  0.0  0:00.00 \u001b[32m/usr/sbin/rsyslog\u001b[18;3H\u001b[m\u001b[m785 \u001b[30m\u001b[1msyslog    \u001b[m\u001b[m 20   0 \u001b[36m 250M  3\u001b[m\u001b[m692 \u001b[36m 2\u001b[m\u001b[m688 S  0.0  0.0  0:03.79 \u001b[32m/usr/sbin/rsyslog\u001b[19;3H\u001b[m\u001b[m759 \u001b[30m\u001b[1msyslog    \u001b[m\u001b[m 20   0 \u001b[36m 250M  3\u001b[m\u001b[m692 \u001b[36m 2\u001b[m\u001b[m688 S  0.0  0.0  0:07.66 /usr/sbin/rsyslog\u001b[20;3H881 \u001b[30m\u001b[1mwhoopsie  \u001b[m\u001b[m 20   0 \u001b[36m 365M 12\u001b[m\u001b[m336 \u001b[36m10\u001b[m\u001b[m700 S  0.0  0.1  0:00.00 \u001b[32m/usr/bin/whoopsie\u001b[21;3H\u001b[m\u001b[m910 \u001b[30m\u001b[1mwhoopsie  \u001b[m\u001b[m 20   0 \u001b[36m 365M 12\u001b[m\u001b[m336 \u001b[36m10\u001b[m\u001b[m700 S  0.0  0.1  0:00.00 \u001b[32m/usr/bin/whoopsie\u001b[22;3H\u001b[m\u001b[m767 \u001b[30m\u001b[1mwhoopsie  \u001b[m\u001b[m 20   0 \u001b[36m 365M 12\u001b[m\u001b[m336 \u001b[36m10\u001b[m\u001b[m700 S  0.0  0.1  0:00.01 /usr/bin/whoopsie\u001b[23;3H936 \u001b[30m\u001b[1mroot      \u001b[m\u001b[m 20   0 \u001b[36m 162M  8\u001b[m\u001b[m936 \u001b[36m 8\u001b[m\u001b[m232 S  0.0  0.1  0:28.28 \u001b[32m/usr/sbin/thermal\u001b[24;1H\u001b[m\u001b[mF1\u001b[30m\u001b[46mHelp  \u001b[m\u001b[mF2\u001b[30m\u001b[46mSetup \u001b[m\u001b[mF3\u001b[30m\u001b[46mSearch\u001b[m\u001b[mF4\u001b[30m\u001b[46mFilter\u001b[m\u001b[mF5\u001b[30m\u001b[46mTree  \u001b[m\u001b[mF6\u001b[30m\u001b[46mSortBy\u001b[m\u001b[mF7\u001b[30m\u001b[46mNice -\u001b[m\u001b[mF8\u001b[30m\u001b[46mNice +\u001b[m\u001b[mF9\u001b[30m\u001b[46mKill  \u001b[m\u001b[mF10\u001b[30m\u001b[46mQui\u001b[4ht\u001b[4l\u001b[H\u001b[m\u001b[m\u001b[23B\u001b[J\u001b[?1000l\u001b[24;1H\u001b[2J\u001b[?47l\u001b8\n",
      "Stop monitoring\n",
      "\n"
     ]
    }
   ],
   "source": [
    "bash_update(\"htop\")"
   ]
  },
  {
   "cell_type": "markdown",
   "metadata": {
    "hidden": true
   },
   "source": [
    "---"
   ]
  },
  {
   "cell_type": "markdown",
   "metadata": {
    "heading_collapsed": true
   },
   "source": [
    "# DICTIONNARY FORMATTING"
   ]
  },
  {
   "cell_type": "markdown",
   "metadata": {
    "hidden": true
   },
   "source": [
    "## dict_to_md"
   ]
  },
  {
   "cell_type": "code",
   "execution_count": 32,
   "metadata": {
    "ExecuteTime": {
     "end_time": "2017-11-27T17:06:27.097846Z",
     "start_time": "2017-11-27T17:06:27.089491Z"
    },
    "hidden": true,
    "init_cell": true
   },
   "outputs": [
    {
     "data": {
      "text/html": [
       "<b>dict_to_md</b> (d, key_label='', value_label='', transpose=False, sort_by_key=False, sort_by_val=True, max_items=None, **kwargs)"
      ],
      "text/plain": [
       "<IPython.core.display.HTML object>"
      ]
     },
     "metadata": {},
     "output_type": "display_data"
    },
    {
     "data": {
      "text/markdown": [],
      "text/plain": [
       "<IPython.core.display.Markdown object>"
      ]
     },
     "metadata": {},
     "output_type": "display_data"
    },
    {
     "data": {
      "text/markdown": [
       "Transform a dict into a markdown formated table"
      ],
      "text/plain": [
       "<IPython.core.display.Markdown object>"
      ]
     },
     "metadata": {},
     "output_type": "display_data"
    },
    {
     "data": {
      "text/markdown": [],
      "text/plain": [
       "<IPython.core.display.Markdown object>"
      ]
     },
     "metadata": {},
     "output_type": "display_data"
    }
   ],
   "source": [
    "jhelp(dict_to_md, full=True)"
   ]
  },
  {
   "cell_type": "code",
   "execution_count": 157,
   "metadata": {
    "ExecuteTime": {
     "end_time": "2017-07-27T14:24:11.235666Z",
     "start_time": "2017-07-27T14:24:11.226180Z"
    },
    "hidden": true
   },
   "outputs": [
    {
     "data": {
      "text/markdown": [
       "|Letter|Number|\n",
       "|:---|:---|\n",
       "|e|76|\n",
       "|d|56|\n",
       "|b|14|\n",
       "|a|12|\n",
       "|c|8|\n"
      ],
      "text/plain": [
       "<IPython.core.display.Markdown object>"
      ]
     },
     "metadata": {},
     "output_type": "display_data"
    },
    {
     "data": {
      "text/markdown": [
       "|Letter|e|d|b|...|\n",
       "|:---|:---|:---|:---|:---|\n",
       "|Number|76|56|14|...|\n"
      ],
      "text/plain": [
       "<IPython.core.display.Markdown object>"
      ]
     },
     "metadata": {},
     "output_type": "display_data"
    }
   ],
   "source": [
    "d = {\"a\":12,\"b\":14,\"c\":8,\"d\":56,\"e\":76}\n",
    "display(Markdown(dict_to_md(d, \"Letter\", \"Number\", sort_by_val=True)))\n",
    "display(Markdown(dict_to_md(d, \"Letter\", \"Number\", transpose=True, max_items=3)))"
   ]
  },
  {
   "cell_type": "markdown",
   "metadata": {
    "hidden": true
   },
   "source": [
    "## dict_to_report"
   ]
  },
  {
   "cell_type": "code",
   "execution_count": 33,
   "metadata": {
    "ExecuteTime": {
     "end_time": "2017-11-27T17:06:27.107802Z",
     "start_time": "2017-11-27T17:06:27.100478Z"
    },
    "hidden": true,
    "init_cell": true
   },
   "outputs": [
    {
     "data": {
      "text/html": [
       "<b>dict_to_report</b> (d, tab='\\t', ntab=0, sep=':', sort_dict=True, max_items=None, **kwargs)"
      ],
      "text/plain": [
       "<IPython.core.display.HTML object>"
      ]
     },
     "metadata": {},
     "output_type": "display_data"
    },
    {
     "data": {
      "text/markdown": [],
      "text/plain": [
       "<IPython.core.display.Markdown object>"
      ]
     },
     "metadata": {},
     "output_type": "display_data"
    },
    {
     "data": {
      "text/markdown": [
       "Recursive function to return a text report from nested dict or OrderedDict objects"
      ],
      "text/plain": [
       "<IPython.core.display.Markdown object>"
      ]
     },
     "metadata": {},
     "output_type": "display_data"
    },
    {
     "data": {
      "text/markdown": [],
      "text/plain": [
       "<IPython.core.display.Markdown object>"
      ]
     },
     "metadata": {},
     "output_type": "display_data"
    }
   ],
   "source": [
    "jhelp(dict_to_report, full=True)"
   ]
  },
  {
   "cell_type": "code",
   "execution_count": 159,
   "metadata": {
    "ExecuteTime": {
     "end_time": "2017-07-27T14:55:44.638451Z",
     "start_time": "2017-07-27T14:55:44.626671Z"
    },
    "hidden": true
   },
   "outputs": [
    {
     "name": "stdout",
     "output_type": "stream",
     "text": [
      "a:12\n",
      "b:14\n",
      "c\n",
      " | c1:12\n",
      " | c2\n",
      " |  | c2.1:33221\n",
      " |  | c2.2:765\n",
      " | c3:32\n",
      " | c4:443\n",
      "d:56\n",
      "e:76\n",
      "\n",
      "a:12\n",
      "b:14\n",
      "c\n",
      "--c1:12\n",
      "--c2\n",
      "----c2.5:876543\n",
      "----c2.6:89765\n",
      "----c2.4:76433\n",
      "----c2.1:33221\n",
      "----...:...\n",
      "--c3:32\n",
      "--c4:443\n",
      "d:56\n",
      "e:76\n",
      "\n"
     ]
    }
   ],
   "source": [
    "d = {\"a\":12,\"b\":14,\"c\":{\"c1\":12,\"c2\":{\"c2.1\":33221,\"c2.2\":765},\"c3\":32,\"c4\":443},\"d\":56,\"e\":76}\n",
    "print(dict_to_report(d, tab=\" | \"))\n",
    "\n",
    "d = {\"a\":12,\"b\":14,\"c\":{\"c1\":12,\"c2\":{\"c2.1\":33221,\"c2.2\":765, \"c2.3\":7533,\"c2.4\":76433,\"c2.5\":876543,\"c2.6\":89765,\"c2.7\":8654},\"c3\":32,\"c4\":443},\"d\":56,\"e\":76}\n",
    "print(dict_to_report(d, tab=\"--\", max_items=4, sort_dict=True))"
   ]
  },
  {
   "cell_type": "markdown",
   "metadata": {
    "hidden": true
   },
   "source": [
    "---"
   ]
  },
  {
   "cell_type": "markdown",
   "metadata": {
    "heading_collapsed": true
   },
   "source": [
    "# TABLE FORMATTING"
   ]
  },
  {
   "cell_type": "markdown",
   "metadata": {
    "hidden": true
   },
   "source": [
    "## reformat_table"
   ]
  },
  {
   "cell_type": "code",
   "execution_count": 34,
   "metadata": {
    "ExecuteTime": {
     "end_time": "2017-11-27T17:06:27.177035Z",
     "start_time": "2017-11-27T17:06:27.110183Z"
    },
    "hidden": true,
    "init_cell": true
   },
   "outputs": [
    {
     "data": {
      "text/html": [
       "<b>reformat_table</b> (input_file, output_file='', return_df=False, init_template=[], final_template=[], header='', keep_original_header=True, header_from_final_template=False, replace_internal_space='_', replace_null_val='*', subst_dict={}, filter_dict=[], predicate=None, standard_template=None, verbose=False, **kwargs)"
      ],
      "text/plain": [
       "<IPython.core.display.HTML object>"
      ]
     },
     "metadata": {},
     "output_type": "display_data"
    },
    {
     "data": {
      "text/markdown": [],
      "text/plain": [
       "<IPython.core.display.Markdown object>"
      ]
     },
     "metadata": {},
     "output_type": "display_data"
    },
    {
     "data": {
      "text/markdown": [
       "Reformat a table given an initial and a final line templates indicated as a list where numbers"
      ],
      "text/plain": [
       "<IPython.core.display.Markdown object>"
      ]
     },
     "metadata": {},
     "output_type": "display_data"
    },
    {
     "data": {
      "text/markdown": [
       "indicate the data column and strings the formatting characters"
      ],
      "text/plain": [
       "<IPython.core.display.Markdown object>"
      ]
     },
     "metadata": {},
     "output_type": "display_data"
    },
    {
     "data": {
      "text/markdown": [],
      "text/plain": [
       "<IPython.core.display.Markdown object>"
      ]
     },
     "metadata": {},
     "output_type": "display_data"
    },
    {
     "data": {
      "text/markdown": [
       "*  input_file"
      ],
      "text/plain": [
       "<IPython.core.display.Markdown object>"
      ]
     },
     "metadata": {},
     "output_type": "display_data"
    },
    {
     "data": {
      "text/markdown": [
       "A file with a structured text formatting (gzipped or not)"
      ],
      "text/plain": [
       "<IPython.core.display.Markdown object>"
      ]
     },
     "metadata": {},
     "output_type": "display_data"
    },
    {
     "data": {
      "text/markdown": [
       "*  output_file"
      ],
      "text/plain": [
       "<IPython.core.display.Markdown object>"
      ]
     },
     "metadata": {},
     "output_type": "display_data"
    },
    {
     "data": {
      "text/markdown": [
       "A file path to output the reformatted table (if empty will not write in a file)"
      ],
      "text/plain": [
       "<IPython.core.display.Markdown object>"
      ]
     },
     "metadata": {},
     "output_type": "display_data"
    },
    {
     "data": {
      "text/markdown": [
       "*  return_df"
      ],
      "text/plain": [
       "<IPython.core.display.Markdown object>"
      ]
     },
     "metadata": {},
     "output_type": "display_data"
    },
    {
     "data": {
      "text/markdown": [
       "If true will return a pandas dataframe containing the reformated table (Third party pandas package required) by default the columns"
      ],
      "text/plain": [
       "<IPython.core.display.Markdown object>"
      ]
     },
     "metadata": {},
     "output_type": "display_data"
    },
    {
     "data": {
      "text/markdown": [
       "will be names after the final template [DEFAULT:False]"
      ],
      "text/plain": [
       "<IPython.core.display.Markdown object>"
      ]
     },
     "metadata": {},
     "output_type": "display_data"
    },
    {
     "data": {
      "text/markdown": [
       "*  init_template"
      ],
      "text/plain": [
       "<IPython.core.display.Markdown object>"
      ]
     },
     "metadata": {},
     "output_type": "display_data"
    },
    {
     "data": {
      "text/markdown": [
       "A list of indexes and separators describing the structure of the input file"
      ],
      "text/plain": [
       "<IPython.core.display.Markdown object>"
      ]
     },
     "metadata": {},
     "output_type": "display_data"
    },
    {
     "data": {
      "text/markdown": [
       "Example initial line = \"chr1    631539    631540    Squires|id1    0    +\""
      ],
      "text/plain": [
       "<IPython.core.display.Markdown object>"
      ]
     },
     "metadata": {},
     "output_type": "display_data"
    },
    {
     "data": {
      "text/markdown": [
       "Initial template = [0,\"\t\",1,\"\t\",2,\"\t\",3,\"|\",4,\"\t\",5,\"\t\",6]"
      ],
      "text/plain": [
       "<IPython.core.display.Markdown object>"
      ]
     },
     "metadata": {},
     "output_type": "display_data"
    },
    {
     "data": {
      "text/markdown": [
       "Alternatively, instead of the numbers, string indexes can be used, but they need to be enclosed in curly brackets to"
      ],
      "text/plain": [
       "<IPython.core.display.Markdown object>"
      ]
     },
     "metadata": {},
     "output_type": "display_data"
    },
    {
     "data": {
      "text/markdown": [
       "differentiate them from the separators. This greatly simplify the writing of the final template."
      ],
      "text/plain": [
       "<IPython.core.display.Markdown object>"
      ]
     },
     "metadata": {},
     "output_type": "display_data"
    },
    {
     "data": {
      "text/markdown": [
       "Example initial line = \"chr1    631539    631540    Squires|id1    0    +\""
      ],
      "text/plain": [
       "<IPython.core.display.Markdown object>"
      ]
     },
     "metadata": {},
     "output_type": "display_data"
    },
    {
     "data": {
      "text/markdown": [
       "Initial template = [\"{chrom}\",\"\t\",\"{start}\",\"\t\",\"{end}\",\"|\",\"{name}\",\"\t\",\"{score}\",\"\t\",\"{strand}\"]"
      ],
      "text/plain": [
       "<IPython.core.display.Markdown object>"
      ]
     },
     "metadata": {},
     "output_type": "display_data"
    },
    {
     "data": {
      "text/markdown": [
       "*  final_template"
      ],
      "text/plain": [
       "<IPython.core.display.Markdown object>"
      ]
     },
     "metadata": {},
     "output_type": "display_data"
    },
    {
     "data": {
      "text/markdown": [
       "A list of indexes and separators describing the required structure of the output file. Name indexes need to match indexes of the"
      ],
      "text/plain": [
       "<IPython.core.display.Markdown object>"
      ]
     },
     "metadata": {},
     "output_type": "display_data"
    },
    {
     "data": {
      "text/markdown": [
       "init_template and have to follow the same synthax  [DEFAULT:Same that init template]"
      ],
      "text/plain": [
       "<IPython.core.display.Markdown object>"
      ]
     },
     "metadata": {},
     "output_type": "display_data"
    },
    {
     "data": {
      "text/markdown": [
       "Example final line = \"chr1    631539    631540    m5C|-|HeLa|22344696    -    -\""
      ],
      "text/plain": [
       "<IPython.core.display.Markdown object>"
      ]
     },
     "metadata": {},
     "output_type": "display_data"
    },
    {
     "data": {
      "text/markdown": [
       "Final template = [0,\"\t\",1,\"\t\",2,\"\tm5C|-|HeLa|22344696\t-\t\",6]"
      ],
      "text/plain": [
       "<IPython.core.display.Markdown object>"
      ]
     },
     "metadata": {},
     "output_type": "display_data"
    },
    {
     "data": {
      "text/markdown": [
       "*  header"
      ],
      "text/plain": [
       "<IPython.core.display.Markdown object>"
      ]
     },
     "metadata": {},
     "output_type": "display_data"
    },
    {
     "data": {
      "text/markdown": [
       "A string to write as a file header at the beginning of the file"
      ],
      "text/plain": [
       "<IPython.core.display.Markdown object>"
      ]
     },
     "metadata": {},
     "output_type": "display_data"
    },
    {
     "data": {
      "text/markdown": [
       "*  keep_original_header"
      ],
      "text/plain": [
       "<IPython.core.display.Markdown object>"
      ]
     },
     "metadata": {},
     "output_type": "display_data"
    },
    {
     "data": {
      "text/markdown": [
       "If True the original header of the input file will be copied at the beginning of the output file [DEFAULT:True]"
      ],
      "text/plain": [
       "<IPython.core.display.Markdown object>"
      ]
     },
     "metadata": {},
     "output_type": "display_data"
    },
    {
     "data": {
      "text/markdown": [
       "*  header_from_final_template"
      ],
      "text/plain": [
       "<IPython.core.display.Markdown object>"
      ]
     },
     "metadata": {},
     "output_type": "display_data"
    },
    {
     "data": {
      "text/markdown": [
       "Generate a header according to the name or number of the fields given in the final_template [DEFAULT:True]"
      ],
      "text/plain": [
       "<IPython.core.display.Markdown object>"
      ]
     },
     "metadata": {},
     "output_type": "display_data"
    },
    {
     "data": {
      "text/markdown": [
       "*  replace_internal_space"
      ],
      "text/plain": [
       "<IPython.core.display.Markdown object>"
      ]
     },
     "metadata": {},
     "output_type": "display_data"
    },
    {
     "data": {
      "text/markdown": [
       "All internal blank space will be replaced by this character [DEFAULT:\"_\"]"
      ],
      "text/plain": [
       "<IPython.core.display.Markdown object>"
      ]
     },
     "metadata": {},
     "output_type": "display_data"
    },
    {
     "data": {
      "text/markdown": [
       "*  replace_null_val"
      ],
      "text/plain": [
       "<IPython.core.display.Markdown object>"
      ]
     },
     "metadata": {},
     "output_type": "display_data"
    },
    {
     "data": {
      "text/markdown": [
       "Field with no value will be replaced by this character [DEFAULT:\"*\"]"
      ],
      "text/plain": [
       "<IPython.core.display.Markdown object>"
      ]
     },
     "metadata": {},
     "output_type": "display_data"
    },
    {
     "data": {
      "text/markdown": [
       "*  subst_dict"
      ],
      "text/plain": [
       "<IPython.core.display.Markdown object>"
      ]
     },
     "metadata": {},
     "output_type": "display_data"
    },
    {
     "data": {
      "text/markdown": [
       "Nested dictionary of substitution per position to replace specific values by others [DEFAULT:None]"
      ],
      "text/plain": [
       "<IPython.core.display.Markdown object>"
      ]
     },
     "metadata": {},
     "output_type": "display_data"
    },
    {
     "data": {
      "text/markdown": [
       "Example: { 0:{\"chr1\":\"1\",\"chr2\":\"2\"}, 3:{\"Squires\":\"5376774764\",\"Li\":\"27664684\"}}"
      ],
      "text/plain": [
       "<IPython.core.display.Markdown object>"
      ]
     },
     "metadata": {},
     "output_type": "display_data"
    },
    {
     "data": {
      "text/markdown": [
       "*  filter_dict"
      ],
      "text/plain": [
       "<IPython.core.display.Markdown object>"
      ]
     },
     "metadata": {},
     "output_type": "display_data"
    },
    {
     "data": {
      "text/markdown": [
       "A dictionary of list per position  to filter out lines  with specific values [DEFAULT:None]"
      ],
      "text/plain": [
       "<IPython.core.display.Markdown object>"
      ]
     },
     "metadata": {},
     "output_type": "display_data"
    },
    {
     "data": {
      "text/markdown": [
       "Example: { 0:[\"chr2\", \"chr4\"], 1:[\"46767\", \"87765\"], 5:[\"76559\", \"77543\"]}"
      ],
      "text/plain": [
       "<IPython.core.display.Markdown object>"
      ]
     },
     "metadata": {},
     "output_type": "display_data"
    },
    {
     "data": {
      "text/markdown": [
       "*  predicate"
      ],
      "text/plain": [
       "<IPython.core.display.Markdown object>"
      ]
     },
     "metadata": {},
     "output_type": "display_data"
    },
    {
     "data": {
      "text/markdown": [
       "A lambda predicate function for more advance filtering operations [DEFAULT:None]"
      ],
      "text/plain": [
       "<IPython.core.display.Markdown object>"
      ]
     },
     "metadata": {},
     "output_type": "display_data"
    },
    {
     "data": {
      "text/markdown": [
       "Example:  lambda val_dict: abs(int(val_dict[1])-int(val_dict[2])) <= 2000"
      ],
      "text/plain": [
       "<IPython.core.display.Markdown object>"
      ]
     },
     "metadata": {},
     "output_type": "display_data"
    },
    {
     "data": {
      "text/markdown": [
       "*  standard_template"
      ],
      "text/plain": [
       "<IPython.core.display.Markdown object>"
      ]
     },
     "metadata": {},
     "output_type": "display_data"
    },
    {
     "data": {
      "text/markdown": [
       "Existing standard template to parse the file  instead of providing one manually. List of saved templates:"
      ],
      "text/plain": [
       "<IPython.core.display.Markdown object>"
      ]
     },
     "metadata": {},
     "output_type": "display_data"
    },
    {
     "data": {
      "text/markdown": [
       "- \"gff3_ens_gene\" = Template for ensembl gff3 fields. Select only the genes lines and decompose to individual elements."
      ],
      "text/plain": [
       "<IPython.core.display.Markdown object>"
      ]
     },
     "metadata": {},
     "output_type": "display_data"
    },
    {
     "data": {
      "text/markdown": [
       "- \"gff3_ens_transcript\" = Template for ensembl gff3 fields. Select only the transcript lines and decompose to individual elements."
      ],
      "text/plain": [
       "<IPython.core.display.Markdown object>"
      ]
     },
     "metadata": {},
     "output_type": "display_data"
    },
    {
     "data": {
      "text/markdown": [
       "- \"gtf_ens_gene\" = Template for ensembl gft fields. Select only the genes lines and decompose to individual elements"
      ],
      "text/plain": [
       "<IPython.core.display.Markdown object>"
      ]
     },
     "metadata": {},
     "output_type": "display_data"
    },
    {
     "data": {
      "text/markdown": [
       "* verbose"
      ],
      "text/plain": [
       "<IPython.core.display.Markdown object>"
      ]
     },
     "metadata": {},
     "output_type": "display_data"
    },
    {
     "data": {
      "text/markdown": [
       "If True will print detailed information [DEFAULT:False]"
      ],
      "text/plain": [
       "<IPython.core.display.Markdown object>"
      ]
     },
     "metadata": {},
     "output_type": "display_data"
    },
    {
     "data": {
      "text/markdown": [],
      "text/plain": [
       "<IPython.core.display.Markdown object>"
      ]
     },
     "metadata": {},
     "output_type": "display_data"
    }
   ],
   "source": [
    "jhelp(reformat_table, full = True)"
   ]
  },
  {
   "cell_type": "code",
   "execution_count": 161,
   "metadata": {
    "ExecuteTime": {
     "end_time": "2017-07-27T14:55:54.825785Z",
     "start_time": "2017-07-27T14:55:54.785000Z"
    },
    "hidden": true
   },
   "outputs": [
    {
     "data": {
      "text/html": [
       "<p style=\"line-height:10px;\">0&emsp;# Transcriptome-wide map of m5C [hg38 coordinates]</p>"
      ],
      "text/plain": [
       "<IPython.core.display.HTML object>"
      ]
     },
     "metadata": {},
     "output_type": "display_data"
    },
    {
     "data": {
      "text/html": [
       "<p style=\"line-height:10px;\">1&emsp;# Reference: Squires et al., Nucleic Acids Res. 40, 5023 (2012) [PMID 22344696, DOI 10.1093/nar/gks144]</p>"
      ],
      "text/plain": [
       "<IPython.core.display.HTML object>"
      ]
     },
     "metadata": {},
     "output_type": "display_data"
    },
    {
     "data": {
      "text/html": [
       "<p style=\"line-height:10px;\">2&emsp;#</p>"
      ],
      "text/plain": [
       "<IPython.core.display.HTML object>"
      ]
     },
     "metadata": {},
     "output_type": "display_data"
    },
    {
     "data": {
      "text/html": [
       "<p style=\"line-height:10px;\">...</p>"
      ],
      "text/plain": [
       "<IPython.core.display.HTML object>"
      ]
     },
     "metadata": {},
     "output_type": "display_data"
    },
    {
     "data": {
      "text/html": [
       "<p style=\"line-height:10px;\">197&emsp;chr1&emsp;19311959&emsp;19311960&emsp;Squires|id185&emsp;0&emsp;-</p>"
      ],
      "text/plain": [
       "<IPython.core.display.HTML object>"
      ]
     },
     "metadata": {},
     "output_type": "display_data"
    },
    {
     "data": {
      "text/html": [
       "<p style=\"line-height:10px;\">198&emsp;chr1&emsp;19608342&emsp;19608343&emsp;Squires|id186&emsp;0&emsp;+</p>"
      ],
      "text/plain": [
       "<IPython.core.display.HTML object>"
      ]
     },
     "metadata": {},
     "output_type": "display_data"
    },
    {
     "data": {
      "text/html": [
       "<p style=\"line-height:10px;\">199&emsp;chr1&emsp;19608343&emsp;19608344&emsp;Squires|id187&emsp;0&emsp;+</p>"
      ],
      "text/plain": [
       "<IPython.core.display.HTML object>"
      ]
     },
     "metadata": {},
     "output_type": "display_data"
    },
    {
     "data": {
      "text/html": [
       "<p style=\"line-height:10px;\">0&emsp;# New header</p>"
      ],
      "text/plain": [
       "<IPython.core.display.HTML object>"
      ]
     },
     "metadata": {},
     "output_type": "display_data"
    },
    {
     "data": {
      "text/html": [
       "<p style=\"line-height:10px;\">1&emsp;chr1&emsp;631539&emsp;631540&emsp;m5C|*|HeLa|22344696&emsp;-&emsp;+</p>"
      ],
      "text/plain": [
       "<IPython.core.display.HTML object>"
      ]
     },
     "metadata": {},
     "output_type": "display_data"
    },
    {
     "data": {
      "text/html": [
       "<p style=\"line-height:10px;\">2&emsp;chr1&emsp;631540&emsp;631541&emsp;m5C|*|HeLa|22344696&emsp;-&emsp;+</p>"
      ],
      "text/plain": [
       "<IPython.core.display.HTML object>"
      ]
     },
     "metadata": {},
     "output_type": "display_data"
    },
    {
     "data": {
      "text/html": [
       "<p style=\"line-height:10px;\">...</p>"
      ],
      "text/plain": [
       "<IPython.core.display.HTML object>"
      ]
     },
     "metadata": {},
     "output_type": "display_data"
    },
    {
     "data": {
      "text/html": [
       "<p style=\"line-height:10px;\">192&emsp;chr1&emsp;19311959&emsp;19311960&emsp;m5C|*|HeLa|22344696&emsp;-&emsp;-</p>"
      ],
      "text/plain": [
       "<IPython.core.display.HTML object>"
      ]
     },
     "metadata": {},
     "output_type": "display_data"
    },
    {
     "data": {
      "text/html": [
       "<p style=\"line-height:10px;\">193&emsp;chr1&emsp;19608342&emsp;19608343&emsp;m5C|*|HeLa|22344696&emsp;-&emsp;+</p>"
      ],
      "text/plain": [
       "<IPython.core.display.HTML object>"
      ]
     },
     "metadata": {},
     "output_type": "display_data"
    },
    {
     "data": {
      "text/html": [
       "<p style=\"line-height:10px;\">194&emsp;chr1&emsp;19608343&emsp;19608344&emsp;m5C|*|HeLa|22344696&emsp;-&emsp;+</p>"
      ],
      "text/plain": [
       "<IPython.core.display.HTML object>"
      ]
     },
     "metadata": {},
     "output_type": "display_data"
    }
   ],
   "source": [
    "# With numeric index\n",
    "reformat_table(\n",
    "    input_file=\"./data/Small_m5C_Squires_hg38.bed\",\n",
    "    output_file=\"./data/Small_m5C_Squires_hg38_reformat.bed\",\n",
    "    init_template=[0,\"\\t\",1,\"\\t\",2,\"\\t\",3,\"|\",4,\"\\t\",5,\"\\t\",6],\n",
    "    final_template=[0,\"\\t\",1,\"\\t\",2,\"\\tm5C|*|HeLa|22344696\\t-\\t\",6],\n",
    "    replace_internal_space='_',\n",
    "    replace_null_val=\"*\",\n",
    "    keep_original_header=False,\n",
    "    header=\"# New header\\n\"\n",
    "    )\n",
    "\n",
    "linerange (\"./data/Small_m5C_Squires_hg38.bed\")\n",
    "linerange (\"./data/Small_m5C_Squires_hg38_reformat.bed\")"
   ]
  },
  {
   "cell_type": "code",
   "execution_count": 162,
   "metadata": {
    "ExecuteTime": {
     "end_time": "2017-07-27T14:56:00.597619Z",
     "start_time": "2017-07-27T14:56:00.499263Z"
    },
    "hidden": true
   },
   "outputs": [
    {
     "name": "stdout",
     "output_type": "stream",
     "text": [
      "Enumerated named argument list:\n",
      "\tfilter_dict: []\n",
      "\treplace_internal_space: _\n",
      "\theader: # New header\n",
      "\n",
      "\toutput_file: ./data/Small_m5C_Squires_hg38_reformat.bed\n",
      "\tstandard_template: None\n",
      "\tsubst_dict: {}\n",
      "\theader_from_final_template: False\n",
      "\treturn_df: False\n",
      "\tinput_file: ./data/Small_m5C_Squires_hg38.bed\n",
      "\tkeep_original_header: False\n",
      "\tpredicate: None\n",
      "\tfinal_template: ['{start}', '\\t', '{end}', '\\tadditional_informations\\t', '{name}']\n",
      "\tverbose: True\n",
      "\tinit_template: ['{chrom}', '\\t', '{start}', '\\t', '{end}', '|', '{name}', '\\t', '{score}', '\\t', '{strand}']\n",
      "\treplace_null_val: *\n",
      "Initial template values\n",
      "chrom\tstart\tend|name\tscore\tstrand\n",
      "Final template values\n",
      "start\tend\tadditional_informations\tname\n",
      "194 Lines processed\t194 Lines pass\t0 Lines filtered out\t0 Lines fail\n"
     ]
    },
    {
     "data": {
      "text/html": [
       "<p style=\"line-height:10px;\">0&emsp;# Transcriptome-wide map of m5C [hg38 coordinates]</p>"
      ],
      "text/plain": [
       "<IPython.core.display.HTML object>"
      ]
     },
     "metadata": {},
     "output_type": "display_data"
    },
    {
     "data": {
      "text/html": [
       "<p style=\"line-height:10px;\">1&emsp;# Reference: Squires et al., Nucleic Acids Res. 40, 5023 (2012) [PMID 22344696, DOI 10.1093/nar/gks144]</p>"
      ],
      "text/plain": [
       "<IPython.core.display.HTML object>"
      ]
     },
     "metadata": {},
     "output_type": "display_data"
    },
    {
     "data": {
      "text/html": [
       "<p style=\"line-height:10px;\">2&emsp;#</p>"
      ],
      "text/plain": [
       "<IPython.core.display.HTML object>"
      ]
     },
     "metadata": {},
     "output_type": "display_data"
    },
    {
     "data": {
      "text/html": [
       "<p style=\"line-height:10px;\">...</p>"
      ],
      "text/plain": [
       "<IPython.core.display.HTML object>"
      ]
     },
     "metadata": {},
     "output_type": "display_data"
    },
    {
     "data": {
      "text/html": [
       "<p style=\"line-height:10px;\">197&emsp;chr1&emsp;19311959&emsp;19311960&emsp;Squires|id185&emsp;0&emsp;-</p>"
      ],
      "text/plain": [
       "<IPython.core.display.HTML object>"
      ]
     },
     "metadata": {},
     "output_type": "display_data"
    },
    {
     "data": {
      "text/html": [
       "<p style=\"line-height:10px;\">198&emsp;chr1&emsp;19608342&emsp;19608343&emsp;Squires|id186&emsp;0&emsp;+</p>"
      ],
      "text/plain": [
       "<IPython.core.display.HTML object>"
      ]
     },
     "metadata": {},
     "output_type": "display_data"
    },
    {
     "data": {
      "text/html": [
       "<p style=\"line-height:10px;\">199&emsp;chr1&emsp;19608343&emsp;19608344&emsp;Squires|id187&emsp;0&emsp;+</p>"
      ],
      "text/plain": [
       "<IPython.core.display.HTML object>"
      ]
     },
     "metadata": {},
     "output_type": "display_data"
    },
    {
     "data": {
      "text/html": [
       "<p style=\"line-height:10px;\">0&emsp;# New header</p>"
      ],
      "text/plain": [
       "<IPython.core.display.HTML object>"
      ]
     },
     "metadata": {},
     "output_type": "display_data"
    },
    {
     "data": {
      "text/html": [
       "<p style=\"line-height:10px;\">1&emsp;631539&emsp;631540&emsp;Squires&emsp;additional_informations&emsp;id1</p>"
      ],
      "text/plain": [
       "<IPython.core.display.HTML object>"
      ]
     },
     "metadata": {},
     "output_type": "display_data"
    },
    {
     "data": {
      "text/html": [
       "<p style=\"line-height:10px;\">2&emsp;631540&emsp;631541&emsp;Squires&emsp;additional_informations&emsp;id2</p>"
      ],
      "text/plain": [
       "<IPython.core.display.HTML object>"
      ]
     },
     "metadata": {},
     "output_type": "display_data"
    },
    {
     "data": {
      "text/html": [
       "<p style=\"line-height:10px;\">...</p>"
      ],
      "text/plain": [
       "<IPython.core.display.HTML object>"
      ]
     },
     "metadata": {},
     "output_type": "display_data"
    },
    {
     "data": {
      "text/html": [
       "<p style=\"line-height:10px;\">192&emsp;19311959&emsp;19311960&emsp;Squires&emsp;additional_informations&emsp;id185</p>"
      ],
      "text/plain": [
       "<IPython.core.display.HTML object>"
      ]
     },
     "metadata": {},
     "output_type": "display_data"
    },
    {
     "data": {
      "text/html": [
       "<p style=\"line-height:10px;\">193&emsp;19608342&emsp;19608343&emsp;Squires&emsp;additional_informations&emsp;id186</p>"
      ],
      "text/plain": [
       "<IPython.core.display.HTML object>"
      ]
     },
     "metadata": {},
     "output_type": "display_data"
    },
    {
     "data": {
      "text/html": [
       "<p style=\"line-height:10px;\">194&emsp;19608343&emsp;19608344&emsp;Squires&emsp;additional_informations&emsp;id187</p>"
      ],
      "text/plain": [
       "<IPython.core.display.HTML object>"
      ]
     },
     "metadata": {},
     "output_type": "display_data"
    }
   ],
   "source": [
    "# With str index\n",
    "reformat_table(\n",
    "    input_file=\"./data/Small_m5C_Squires_hg38.bed\",\n",
    "    output_file=\"./data/Small_m5C_Squires_hg38_reformat.bed\",\n",
    "    init_template=[\"{chrom}\",\"\\t\",\"{start}\",\"\\t\",\"{end}\",\"|\",\"{name}\",\"\\t\",\"{score}\",\"\\t\",\"{strand}\"],\n",
    "    final_template=[\"{start}\",\"\\t\",\"{end}\",\"\\tadditional_informations\\t\",\"{name}\"],\n",
    "    replace_internal_space='_',\n",
    "    replace_null_val=\"*\",\n",
    "    keep_original_header=False,\n",
    "    header=\"# New header\\n\",\n",
    "    verbose=True\n",
    "    )\n",
    "\n",
    "linerange (\"./data/Small_m5C_Squires_hg38.bed\")\n",
    "linerange (\"./data/Small_m5C_Squires_hg38_reformat.bed\")"
   ]
  },
  {
   "cell_type": "code",
   "execution_count": 163,
   "metadata": {
    "ExecuteTime": {
     "end_time": "2017-07-27T14:57:43.959191Z",
     "start_time": "2017-07-27T14:57:43.903710Z"
    },
    "hidden": true
   },
   "outputs": [
    {
     "name": "stdout",
     "output_type": "stream",
     "text": [
      "Enumerated named argument list:\n",
      "\tfilter_dict: {18: ['intron']}\n",
      "\treplace_internal_space: _\n",
      "\theader: \n",
      "\toutput_file: ./data/Small_editing_Peng_hg38_reformat.bed\n",
      "\tstandard_template: None\n",
      "\tsubst_dict: {0: {'chr2': '2', 'chr1': '1'}, 3: {'Peng': '22344696'}}\n",
      "\theader_from_final_template: False\n",
      "\treturn_df: False\n",
      "\tinput_file: ./data/Small_editing_Peng_hg38.bed\n",
      "\tkeep_original_header: True\n",
      "\tpredicate: None\n",
      "\tfinal_template: [0, '\\t', 1, '\\t', 2, '\\t', 9, '>', 10, '|', 3, '|HeLa|', 19, '\\t', 11, '\\t', 21]\n",
      "\tverbose: True\n",
      "\tinit_template: [0, '\\t', 1, '\\t', 2, '\\t', 3, '|', 4, '|', 5, '|', 6, '|', 7, '|', 8, '|', 9, '->', 10, '|', 11, '%|', 12, '|', 13, '|', 14, '|', 15, '|', 16, '|', 17, '|', 18, '|', 19, '\\t', 20, '\\t', 21]\n",
      "\treplace_null_val: *\n",
      "Initial template values\n",
      "0\t1\t2\t3|4|5|6|7|8|9->10|11%|12|13|14|15|16|17|18|19\t20\t21\n",
      "Final template values\n",
      "0\t1\t2\t9>10|3|HeLa|19\t11\t21\n",
      "194 Lines processed\t139 Lines pass\t55 Lines filtered out\t0 Lines fail\n"
     ]
    },
    {
     "data": {
      "text/html": [
       "<p style=\"line-height:10px;\">0&emsp;# Transcriptome-wide map of editing sites [hg38 coordinates]</p>"
      ],
      "text/plain": [
       "<IPython.core.display.HTML object>"
      ]
     },
     "metadata": {},
     "output_type": "display_data"
    },
    {
     "data": {
      "text/html": [
       "<p style=\"line-height:10px;\">1&emsp;# Reference: Peng et al., Nat. Biotechnol. 30, 253 (2012) [PMID 22327324, DOI 10.1038/nbt.2122]</p>"
      ],
      "text/plain": [
       "<IPython.core.display.HTML object>"
      ]
     },
     "metadata": {},
     "output_type": "display_data"
    },
    {
     "data": {
      "text/html": [
       "<p style=\"line-height:10px;\">2&emsp;#</p>"
      ],
      "text/plain": [
       "<IPython.core.display.HTML object>"
      ]
     },
     "metadata": {},
     "output_type": "display_data"
    },
    {
     "data": {
      "text/html": [
       "<p style=\"line-height:10px;\">...</p>"
      ],
      "text/plain": [
       "<IPython.core.display.HTML object>"
      ]
     },
     "metadata": {},
     "output_type": "display_data"
    },
    {
     "data": {
      "text/html": [
       "<p style=\"line-height:10px;\">197&emsp;chr1&emsp;9173454&emsp;9173455&emsp;Peng|chr1|9156101|-|T|Y|A->G|35.14%|99|T|24|C|13|37|intergenic|-&emsp;0&emsp;-</p>"
      ],
      "text/plain": [
       "<IPython.core.display.HTML object>"
      ]
     },
     "metadata": {},
     "output_type": "display_data"
    },
    {
     "data": {
      "text/html": [
       "<p style=\"line-height:10px;\">198&emsp;chr1&emsp;9173533&emsp;9173534&emsp;Peng|chr1|9156180|-|T|Y|A->G|24.10%|61|T|148|C|47|195|intergenic|-&emsp;0&emsp;-</p>"
      ],
      "text/plain": [
       "<IPython.core.display.HTML object>"
      ]
     },
     "metadata": {},
     "output_type": "display_data"
    },
    {
     "data": {
      "text/html": [
       "<p style=\"line-height:10px;\">199&emsp;chr1&emsp;9173535&emsp;9173536&emsp;Peng|chr1|9156182|-|T|Y|A->G|66.15%|99|C|129|T|66|195|intergenic|-&emsp;0&emsp;-</p>"
      ],
      "text/plain": [
       "<IPython.core.display.HTML object>"
      ]
     },
     "metadata": {},
     "output_type": "display_data"
    },
    {
     "data": {
      "text/html": [
       "<p style=\"line-height:10px;\">0&emsp;# Transcriptome-wide map of editing sites [hg38 coordinates]</p>"
      ],
      "text/plain": [
       "<IPython.core.display.HTML object>"
      ]
     },
     "metadata": {},
     "output_type": "display_data"
    },
    {
     "data": {
      "text/html": [
       "<p style=\"line-height:10px;\">1&emsp;# Reference: Peng et al., Nat. Biotechnol. 30, 253 (2012) [PMID 22327324, DOI 10.1038/nbt.2122]</p>"
      ],
      "text/plain": [
       "<IPython.core.display.HTML object>"
      ]
     },
     "metadata": {},
     "output_type": "display_data"
    },
    {
     "data": {
      "text/html": [
       "<p style=\"line-height:10px;\">2&emsp;#</p>"
      ],
      "text/plain": [
       "<IPython.core.display.HTML object>"
      ]
     },
     "metadata": {},
     "output_type": "display_data"
    },
    {
     "data": {
      "text/html": [
       "<p style=\"line-height:10px;\">...</p>"
      ],
      "text/plain": [
       "<IPython.core.display.HTML object>"
      ]
     },
     "metadata": {},
     "output_type": "display_data"
    },
    {
     "data": {
      "text/html": [
       "<p style=\"line-height:10px;\">142&emsp;1&emsp;9173454&emsp;9173455&emsp;A>G|22344696|HeLa|-&emsp;35.14&emsp;-</p>"
      ],
      "text/plain": [
       "<IPython.core.display.HTML object>"
      ]
     },
     "metadata": {},
     "output_type": "display_data"
    },
    {
     "data": {
      "text/html": [
       "<p style=\"line-height:10px;\">143&emsp;1&emsp;9173533&emsp;9173534&emsp;A>G|22344696|HeLa|-&emsp;24.10&emsp;-</p>"
      ],
      "text/plain": [
       "<IPython.core.display.HTML object>"
      ]
     },
     "metadata": {},
     "output_type": "display_data"
    },
    {
     "data": {
      "text/html": [
       "<p style=\"line-height:10px;\">144&emsp;1&emsp;9173535&emsp;9173536&emsp;A>G|22344696|HeLa|-&emsp;66.15&emsp;-</p>"
      ],
      "text/plain": [
       "<IPython.core.display.HTML object>"
      ]
     },
     "metadata": {},
     "output_type": "display_data"
    }
   ],
   "source": [
    "subst_dict = {0:{\"chr1\":\"1\", \"chr2\":\"2\"}, 3:{\"Peng\":\"22344696\"}}\n",
    "filter_dict = {18:[\"intron\"]}\n",
    "input_file=\"./data/Small_editing_Peng_hg38.bed\"\n",
    "output_file=\"./data/Small_editing_Peng_hg38_reformat.bed\"\n",
    "\n",
    "reformat_table(\n",
    "    input_file, output_file,\n",
    "    init_template=[0,\"\\t\",1,\"\\t\",2,\"\\t\",3,\"|\",4,\"|\",5,\"|\",6,\"|\",7,\"|\",8,\"|\",9,\"->\",10,\"|\",11,\"%|\",12,\"|\",13,\"|\",14,\"|\",15,\"|\",16,\"|\",17,\"|\",18,\"|\",19,\"\\t\",20,\"\\t\",21],\n",
    "    final_template=[0,\"\\t\",1,\"\\t\",2,\"\\t\",9,\">\",10,\"|\",3,\"|HeLa|\",19,\"\\t\",11,\"\\t\",21],\n",
    "    replace_internal_space='_',\n",
    "    replace_null_val=\"*\",\n",
    "    subst_dict = subst_dict,\n",
    "    filter_dict = filter_dict,\n",
    "    verbose=True\n",
    "    )\n",
    "\n",
    "linerange (input_file)\n",
    "linerange (output_file)"
   ]
  },
  {
   "cell_type": "code",
   "execution_count": 164,
   "metadata": {
    "ExecuteTime": {
     "end_time": "2017-07-27T14:57:54.974147Z",
     "start_time": "2017-07-27T14:57:54.695459Z"
    },
    "hidden": true
   },
   "outputs": [
    {
     "name": "stdout",
     "output_type": "stream",
     "text": [
      "Enumerated named argument list:\n",
      "\tfilter_dict: []\n",
      "\treplace_internal_space: _\n",
      "\theader: \n",
      "\toutput_file: \n",
      "\tstandard_template: None\n",
      "\tsubst_dict: {}\n",
      "\theader_from_final_template: False\n",
      "\treturn_df: True\n",
      "\tinput_file: ./data/Small_editing_Peng_hg38.bed\n",
      "\tkeep_original_header: True\n",
      "\tpredicate: None\n",
      "\tfinal_template: []\n",
      "\tverbose: True\n",
      "\tinit_template: [0, '\\t', 1, '\\t', 2, '\\t', 3, '|', 4, '|', 5, '|', 6, '|', 7, '|', 8, '|', 9, '->', 10, '|', 11, '%|', 12, '|', 13, '|', 14, '|', 15, '|', 16, '|', 17, '|', 18, '|', 19, '\\t', 20, '\\t', 21]\n",
      "\treplace_null_val: *\n",
      "No final template given. Create final template from init template\n",
      "Initial template values\n",
      "0\t1\t2\t3|4|5|6|7|8|9->10|11%|12|13|14|15|16|17|18|19\t20\t21\n",
      "Final template values\n",
      "0\t1\t2\t3|4|5|6|7|8|9->10|11%|12|13|14|15|16|17|18|19\t20\t21\n"
     ]
    },
    {
     "data": {
      "text/html": [
       "<p style=\"line-height:10px;\"># Transcriptome-wide map of editing sites [hg38 coordinates]</p>"
      ],
      "text/plain": [
       "<IPython.core.display.HTML object>"
      ]
     },
     "metadata": {},
     "output_type": "display_data"
    },
    {
     "data": {
      "text/html": [
       "<p style=\"line-height:10px;\"># Reference: Peng et al., Nat. Biotechnol. 30, 253 (2012) [PMID 22327324, DOI 10.1038/nbt.2122]</p>"
      ],
      "text/plain": [
       "<IPython.core.display.HTML object>"
      ]
     },
     "metadata": {},
     "output_type": "display_data"
    },
    {
     "data": {
      "text/html": [
       "<p style=\"line-height:10px;\">#</p>"
      ],
      "text/plain": [
       "<IPython.core.display.HTML object>"
      ]
     },
     "metadata": {},
     "output_type": "display_data"
    },
    {
     "data": {
      "text/html": [
       "<p style=\"line-height:10px;\"># Data cleaned and converted to BED6, coordinate conversion to hg38 using liftOver.</p>"
      ],
      "text/plain": [
       "<IPython.core.display.HTML object>"
      ]
     },
     "metadata": {},
     "output_type": "display_data"
    },
    {
     "data": {
      "text/html": [
       "<p style=\"line-height:10px;\"># Maintainer: Maurits Evers (maurits.evers@anu.edu.au)</p>"
      ],
      "text/plain": [
       "<IPython.core.display.HTML object>"
      ]
     },
     "metadata": {},
     "output_type": "display_data"
    },
    {
     "data": {
      "text/html": [
       "<p style=\"line-height:10px;\">#</p>"
      ],
      "text/plain": [
       "<IPython.core.display.HTML object>"
      ]
     },
     "metadata": {},
     "output_type": "display_data"
    },
    {
     "data": {
      "text/html": [
       "<p style=\"line-height:10px;\">chr1&emsp;1102535&emsp;1102536&emsp;Peng|chr1|1027779|-|T|Y|A->G|66.67%|37|C|6|T|3|9|intron|C1orf159&emsp;0&emsp;-</p>"
      ],
      "text/plain": [
       "<IPython.core.display.HTML object>"
      ]
     },
     "metadata": {},
     "output_type": "display_data"
    },
    {
     "data": {
      "text/html": [
       "<p style=\"line-height:10px;\">chr1&emsp;1221501&emsp;1221502&emsp;Peng|chr1|1146745|-|T|Y|A->G|36.59%|99|T|26|C|15|42|intron|SDF4&emsp;0&emsp;-</p>"
      ],
      "text/plain": [
       "<IPython.core.display.HTML object>"
      ]
     },
     "metadata": {},
     "output_type": "display_data"
    },
    {
     "data": {
      "text/html": [
       "<p style=\"line-height:10px;\">chr1&emsp;1222079&emsp;1222080&emsp;Peng|chr1|1147323|-|T|Y|A->G|22.73%|94|T|51|C|15|66|intron|SDF4&emsp;0&emsp;-</p>"
      ],
      "text/plain": [
       "<IPython.core.display.HTML object>"
      ]
     },
     "metadata": {},
     "output_type": "display_data"
    },
    {
     "data": {
      "text/html": [
       "<p style=\"line-height:10px;\">chr1&emsp;1251840&emsp;1251841&emsp;Peng|chr1|1177084|-|T|Y|A->G|56.25%|99|C|9|T|7|16|intergenic|-&emsp;0&emsp;-</p>"
      ],
      "text/plain": [
       "<IPython.core.display.HTML object>"
      ]
     },
     "metadata": {},
     "output_type": "display_data"
    },
    {
     "data": {
      "text/html": [
       "<p style=\"line-height:10px;\">chr1&emsp;1252243&emsp;1252244&emsp;Peng|chr1|1177487|-|T|Y|A->G|19.44%|30|T|29|C|7|36|intergenic|-&emsp;0&emsp;-</p>"
      ],
      "text/plain": [
       "<IPython.core.display.HTML object>"
      ]
     },
     "metadata": {},
     "output_type": "display_data"
    },
    {
     "name": "stdout",
     "output_type": "stream",
     "text": [
      "None\n"
     ]
    },
    {
     "data": {
      "text/html": [
       "<div>\n",
       "<style>\n",
       "    .dataframe thead tr:only-child th {\n",
       "        text-align: right;\n",
       "    }\n",
       "\n",
       "    .dataframe thead th {\n",
       "        text-align: left;\n",
       "    }\n",
       "\n",
       "    .dataframe tbody tr th {\n",
       "        vertical-align: top;\n",
       "    }\n",
       "</style>\n",
       "<table border=\"1\" class=\"dataframe\">\n",
       "  <thead>\n",
       "    <tr style=\"text-align: right;\">\n",
       "      <th></th>\n",
       "      <th>0</th>\n",
       "      <th>1</th>\n",
       "      <th>2</th>\n",
       "      <th>3</th>\n",
       "      <th>4</th>\n",
       "      <th>5</th>\n",
       "      <th>6</th>\n",
       "      <th>7</th>\n",
       "      <th>8</th>\n",
       "      <th>9</th>\n",
       "      <th>...</th>\n",
       "      <th>12</th>\n",
       "      <th>13</th>\n",
       "      <th>14</th>\n",
       "      <th>15</th>\n",
       "      <th>16</th>\n",
       "      <th>17</th>\n",
       "      <th>18</th>\n",
       "      <th>19</th>\n",
       "      <th>20</th>\n",
       "      <th>21</th>\n",
       "    </tr>\n",
       "  </thead>\n",
       "  <tbody>\n",
       "    <tr>\n",
       "      <th>0</th>\n",
       "      <td>chr1</td>\n",
       "      <td>1102535</td>\n",
       "      <td>1102536</td>\n",
       "      <td>Peng</td>\n",
       "      <td>chr1</td>\n",
       "      <td>1027779</td>\n",
       "      <td>-</td>\n",
       "      <td>T</td>\n",
       "      <td>Y</td>\n",
       "      <td>A</td>\n",
       "      <td>...</td>\n",
       "      <td>37</td>\n",
       "      <td>C</td>\n",
       "      <td>6</td>\n",
       "      <td>T</td>\n",
       "      <td>3</td>\n",
       "      <td>9</td>\n",
       "      <td>intron</td>\n",
       "      <td>C1orf159</td>\n",
       "      <td>0</td>\n",
       "      <td>-</td>\n",
       "    </tr>\n",
       "    <tr>\n",
       "      <th>1</th>\n",
       "      <td>chr1</td>\n",
       "      <td>1221501</td>\n",
       "      <td>1221502</td>\n",
       "      <td>Peng</td>\n",
       "      <td>chr1</td>\n",
       "      <td>1146745</td>\n",
       "      <td>-</td>\n",
       "      <td>T</td>\n",
       "      <td>Y</td>\n",
       "      <td>A</td>\n",
       "      <td>...</td>\n",
       "      <td>99</td>\n",
       "      <td>T</td>\n",
       "      <td>26</td>\n",
       "      <td>C</td>\n",
       "      <td>15</td>\n",
       "      <td>42</td>\n",
       "      <td>intron</td>\n",
       "      <td>SDF4</td>\n",
       "      <td>0</td>\n",
       "      <td>-</td>\n",
       "    </tr>\n",
       "    <tr>\n",
       "      <th>2</th>\n",
       "      <td>chr1</td>\n",
       "      <td>1222079</td>\n",
       "      <td>1222080</td>\n",
       "      <td>Peng</td>\n",
       "      <td>chr1</td>\n",
       "      <td>1147323</td>\n",
       "      <td>-</td>\n",
       "      <td>T</td>\n",
       "      <td>Y</td>\n",
       "      <td>A</td>\n",
       "      <td>...</td>\n",
       "      <td>94</td>\n",
       "      <td>T</td>\n",
       "      <td>51</td>\n",
       "      <td>C</td>\n",
       "      <td>15</td>\n",
       "      <td>66</td>\n",
       "      <td>intron</td>\n",
       "      <td>SDF4</td>\n",
       "      <td>0</td>\n",
       "      <td>-</td>\n",
       "    </tr>\n",
       "    <tr>\n",
       "      <th>3</th>\n",
       "      <td>chr1</td>\n",
       "      <td>1251840</td>\n",
       "      <td>1251841</td>\n",
       "      <td>Peng</td>\n",
       "      <td>chr1</td>\n",
       "      <td>1177084</td>\n",
       "      <td>-</td>\n",
       "      <td>T</td>\n",
       "      <td>Y</td>\n",
       "      <td>A</td>\n",
       "      <td>...</td>\n",
       "      <td>99</td>\n",
       "      <td>C</td>\n",
       "      <td>9</td>\n",
       "      <td>T</td>\n",
       "      <td>7</td>\n",
       "      <td>16</td>\n",
       "      <td>intergenic</td>\n",
       "      <td>-</td>\n",
       "      <td>0</td>\n",
       "      <td>-</td>\n",
       "    </tr>\n",
       "    <tr>\n",
       "      <th>4</th>\n",
       "      <td>chr1</td>\n",
       "      <td>1252243</td>\n",
       "      <td>1252244</td>\n",
       "      <td>Peng</td>\n",
       "      <td>chr1</td>\n",
       "      <td>1177487</td>\n",
       "      <td>-</td>\n",
       "      <td>T</td>\n",
       "      <td>Y</td>\n",
       "      <td>A</td>\n",
       "      <td>...</td>\n",
       "      <td>30</td>\n",
       "      <td>T</td>\n",
       "      <td>29</td>\n",
       "      <td>C</td>\n",
       "      <td>7</td>\n",
       "      <td>36</td>\n",
       "      <td>intergenic</td>\n",
       "      <td>-</td>\n",
       "      <td>0</td>\n",
       "      <td>-</td>\n",
       "    </tr>\n",
       "  </tbody>\n",
       "</table>\n",
       "<p>5 rows × 22 columns</p>\n",
       "</div>"
      ],
      "text/plain": [
       "      0        1        2     3     4        5  6  7  8  9 ...  12 13  14 15  \\\n",
       "0  chr1  1102535  1102536  Peng  chr1  1027779  -  T  Y  A ...  37  C   6  T   \n",
       "1  chr1  1221501  1221502  Peng  chr1  1146745  -  T  Y  A ...  99  T  26  C   \n",
       "2  chr1  1222079  1222080  Peng  chr1  1147323  -  T  Y  A ...  94  T  51  C   \n",
       "3  chr1  1251840  1251841  Peng  chr1  1177084  -  T  Y  A ...  99  C   9  T   \n",
       "4  chr1  1252243  1252244  Peng  chr1  1177487  -  T  Y  A ...  30  T  29  C   \n",
       "\n",
       "   16  17          18        19 20 21  \n",
       "0   3   9      intron  C1orf159  0  -  \n",
       "1  15  42      intron      SDF4  0  -  \n",
       "2  15  66      intron      SDF4  0  -  \n",
       "3   7  16  intergenic         -  0  -  \n",
       "4   7  36  intergenic         -  0  -  \n",
       "\n",
       "[5 rows x 22 columns]"
      ]
     },
     "execution_count": 164,
     "metadata": {},
     "output_type": "execute_result"
    }
   ],
   "source": [
    "input_file=\"./data/Small_editing_Peng_hg38.bed\"\n",
    "\n",
    "df = reformat_table(\n",
    "    input_file,\n",
    "    return_df=True,\n",
    "    init_template=[0,\"\\t\",1,\"\\t\",2,\"\\t\",3,\"|\",4,\"|\",5,\"|\",6,\"|\",7,\"|\",8,\"|\",9,\"->\",10,\"|\",11,\"%|\",12,\"|\",13,\"|\",14,\"|\",15,\"|\",16,\"|\",17,\"|\",18,\"|\",19,\"\\t\",20,\"\\t\",21],\n",
    "    replace_internal_space='_',\n",
    "    replace_null_val=\"*\",\n",
    "    verbose=True)\n",
    "\n",
    "print(head(input_file, 11))\n",
    "\n",
    "df.head()"
   ]
  },
  {
   "cell_type": "code",
   "execution_count": 165,
   "metadata": {
    "ExecuteTime": {
     "end_time": "2017-07-27T14:57:59.823395Z",
     "start_time": "2017-07-27T14:57:56.557660Z"
    },
    "hidden": true
   },
   "outputs": [
    {
     "name": "stdout",
     "output_type": "stream",
     "text": [
      "Enumerated named argument list:\n",
      "\tfilter_dict: []\n",
      "\treplace_internal_space: _\n",
      "\theader: \n",
      "\toutput_file: \n",
      "\tstandard_template: gff3_ens_transcript\n",
      "\tsubst_dict: {}\n",
      "\theader_from_final_template: True\n",
      "\treturn_df: True\n",
      "\tinput_file: ./data/gencode_sample.gff3\n",
      "\tkeep_original_header: False\n",
      "\tpredicate: None\n",
      "\tfinal_template: []\n",
      "\tverbose: True\n",
      "\tinit_template: []\n",
      "\treplace_null_val: *\n",
      "Using gff3 ensembl transcript template. Non-transcript features will be filtered out\n",
      "No final template given. Create final template from init template\n",
      "Initial template values\n",
      "seqid\tsource\ttype\tstart\tend\tscore\tstrand\tphase\tID=ID;Parent=Parent;gene_id=gene_id;transcript_id=transcript_id;gene_type=gene_type;gene_status=gene_status;gene_name=gene_name;transcript_type=transcript_type;transcript_status=transcript_status;transcript_name=transcript_name;level=level;transcript_support_level=transcript_support_level;tag=tag;havana_gene=havana_gene;havana_transcript=havana_transcript\n",
      "Final template values\n",
      "seqid\tsource\ttype\tstart\tend\tscore\tstrand\tphase\tID=ID;Parent=Parent;gene_id=gene_id;transcript_id=transcript_id;gene_type=gene_type;gene_status=gene_status;gene_name=gene_name;transcript_type=transcript_type;transcript_status=transcript_status;transcript_name=transcript_name;level=level;transcript_support_level=transcript_support_level;tag=tag;havana_gene=havana_gene;havana_transcript=havana_transcript\n"
     ]
    },
    {
     "data": {
      "text/html": [
       "<p style=\"line-height:10px;\">##gff-version 3</p>"
      ],
      "text/plain": [
       "<IPython.core.display.HTML object>"
      ]
     },
     "metadata": {},
     "output_type": "display_data"
    },
    {
     "data": {
      "text/html": [
       "<p style=\"line-height:10px;\">#description: evidence-based annotation of the human genome (GRCh38), version 24 (Ensembl 83) - long non-coding RNAs</p>"
      ],
      "text/plain": [
       "<IPython.core.display.HTML object>"
      ]
     },
     "metadata": {},
     "output_type": "display_data"
    },
    {
     "data": {
      "text/html": [
       "<p style=\"line-height:10px;\">#provider: GENCODE</p>"
      ],
      "text/plain": [
       "<IPython.core.display.HTML object>"
      ]
     },
     "metadata": {},
     "output_type": "display_data"
    },
    {
     "data": {
      "text/html": [
       "<p style=\"line-height:10px;\">#contact: gencode-help@sanger.ac.uk</p>"
      ],
      "text/plain": [
       "<IPython.core.display.HTML object>"
      ]
     },
     "metadata": {},
     "output_type": "display_data"
    },
    {
     "data": {
      "text/html": [
       "<p style=\"line-height:10px;\">#format: gff3</p>"
      ],
      "text/plain": [
       "<IPython.core.display.HTML object>"
      ]
     },
     "metadata": {},
     "output_type": "display_data"
    },
    {
     "data": {
      "text/html": [
       "<p style=\"line-height:10px;\">#date: 2015-12-03</p>"
      ],
      "text/plain": [
       "<IPython.core.display.HTML object>"
      ]
     },
     "metadata": {},
     "output_type": "display_data"
    },
    {
     "data": {
      "text/html": [
       "<p style=\"line-height:10px;\">##sequence-region chr1 1 248956422</p>"
      ],
      "text/plain": [
       "<IPython.core.display.HTML object>"
      ]
     },
     "metadata": {},
     "output_type": "display_data"
    },
    {
     "data": {
      "text/html": [
       "<p style=\"line-height:10px;\">chr1&emsp;HAVANA&emsp;gene&emsp;29554&emsp;31109&emsp;.&emsp;+&emsp;.&emsp;ID=ENSG00000243485.3;gene_id=ENSG00000243485.3;gene_type=lincRNA;gene_status=KNOWN;gene_name=RP11-34P13.3;level=2;tag=ncRNA_host;havana_gene=OTTHUMG00000000959.2</p>"
      ],
      "text/plain": [
       "<IPython.core.display.HTML object>"
      ]
     },
     "metadata": {},
     "output_type": "display_data"
    },
    {
     "data": {
      "text/html": [
       "<p style=\"line-height:10px;\">chr1&emsp;HAVANA&emsp;transcript&emsp;29554&emsp;31097&emsp;.&emsp;+&emsp;.&emsp;ID=ENST00000473358.1;Parent=ENSG00000243485.3;gene_id=ENSG00000243485.3;transcript_id=ENST00000473358.1;gene_type=lincRNA;gene_status=KNOWN;gene_name=RP11-34P13.3;transcript_type=lincRNA;transcript_status=KNOWN;transcript_name=RP11-34P13.3-001;level=2;transcript_support_level=5;tag=not_best_in_genome_evidence,dotter_confirmed,basic;havana_gene=OTTHUMG00000000959.2;havana_transcript=OTTHUMT00000002840.1</p>"
      ],
      "text/plain": [
       "<IPython.core.display.HTML object>"
      ]
     },
     "metadata": {},
     "output_type": "display_data"
    },
    {
     "data": {
      "text/html": [
       "<p style=\"line-height:10px;\">chr1&emsp;HAVANA&emsp;exon&emsp;29554&emsp;30039&emsp;.&emsp;+&emsp;.&emsp;ID=exon:ENST00000473358.1:1;Parent=ENST00000473358.1;gene_id=ENSG00000243485.3;transcript_id=ENST00000473358.1;gene_type=lincRNA;gene_status=KNOWN;gene_name=RP11-34P13.3;transcript_type=lincRNA;transcript_status=KNOWN;transcript_name=RP11-34P13.3-001;exon_number=1;exon_id=ENSE00001947070.1;level=2;transcript_support_level=5;havana_gene=OTTHUMG00000000959.2;havana_transcript=OTTHUMT00000002840.1;tag=not_best_in_genome_evidence,dotter_confirmed,basic</p>"
      ],
      "text/plain": [
       "<IPython.core.display.HTML object>"
      ]
     },
     "metadata": {},
     "output_type": "display_data"
    },
    {
     "data": {
      "text/html": [
       "<p style=\"line-height:10px;\">chr1&emsp;HAVANA&emsp;exon&emsp;30564&emsp;30667&emsp;.&emsp;+&emsp;.&emsp;ID=exon:ENST00000473358.1:2;Parent=ENST00000473358.1;gene_id=ENSG00000243485.3;transcript_id=ENST00000473358.1;gene_type=lincRNA;gene_status=KNOWN;gene_name=RP11-34P13.3;transcript_type=lincRNA;transcript_status=KNOWN;transcript_name=RP11-34P13.3-001;exon_number=2;exon_id=ENSE00001922571.1;level=2;transcript_support_level=5;havana_gene=OTTHUMG00000000959.2;havana_transcript=OTTHUMT00000002840.1;tag=not_best_in_genome_evidence,dotter_confirmed,basic</p>"
      ],
      "text/plain": [
       "<IPython.core.display.HTML object>"
      ]
     },
     "metadata": {},
     "output_type": "display_data"
    },
    {
     "name": "stdout",
     "output_type": "stream",
     "text": [
      "None\n"
     ]
    },
    {
     "data": {
      "text/html": [
       "<div>\n",
       "<style>\n",
       "    .dataframe thead tr:only-child th {\n",
       "        text-align: right;\n",
       "    }\n",
       "\n",
       "    .dataframe thead th {\n",
       "        text-align: left;\n",
       "    }\n",
       "\n",
       "    .dataframe tbody tr th {\n",
       "        vertical-align: top;\n",
       "    }\n",
       "</style>\n",
       "<table border=\"1\" class=\"dataframe\">\n",
       "  <thead>\n",
       "    <tr style=\"text-align: right;\">\n",
       "      <th></th>\n",
       "      <th>seqid</th>\n",
       "      <th>source</th>\n",
       "      <th>type</th>\n",
       "      <th>start</th>\n",
       "      <th>end</th>\n",
       "      <th>score</th>\n",
       "      <th>strand</th>\n",
       "      <th>phase</th>\n",
       "      <th>ID</th>\n",
       "      <th>Parent</th>\n",
       "      <th>...</th>\n",
       "      <th>gene_status</th>\n",
       "      <th>gene_name</th>\n",
       "      <th>transcript_type</th>\n",
       "      <th>transcript_status</th>\n",
       "      <th>transcript_name</th>\n",
       "      <th>level</th>\n",
       "      <th>transcript_support_level</th>\n",
       "      <th>tag</th>\n",
       "      <th>havana_gene</th>\n",
       "      <th>havana_transcript</th>\n",
       "    </tr>\n",
       "  </thead>\n",
       "  <tbody>\n",
       "    <tr>\n",
       "      <th>0</th>\n",
       "      <td>chr1</td>\n",
       "      <td>HAVANA</td>\n",
       "      <td>transcript</td>\n",
       "      <td>29554</td>\n",
       "      <td>31097</td>\n",
       "      <td>.</td>\n",
       "      <td>+</td>\n",
       "      <td>.</td>\n",
       "      <td>ENST00000473358.1</td>\n",
       "      <td>ENSG00000243485.3</td>\n",
       "      <td>...</td>\n",
       "      <td>KNOWN</td>\n",
       "      <td>RP11-34P13.3</td>\n",
       "      <td>lincRNA</td>\n",
       "      <td>KNOWN</td>\n",
       "      <td>RP11-34P13.3-001</td>\n",
       "      <td>2</td>\n",
       "      <td>5</td>\n",
       "      <td>not_best_in_genome_evidence,dotter_confirmed,b...</td>\n",
       "      <td>OTTHUMG00000000959.2</td>\n",
       "      <td>OTTHUMT00000002840.1</td>\n",
       "    </tr>\n",
       "    <tr>\n",
       "      <th>1</th>\n",
       "      <td>chr1</td>\n",
       "      <td>HAVANA</td>\n",
       "      <td>transcript</td>\n",
       "      <td>30267</td>\n",
       "      <td>31109</td>\n",
       "      <td>.</td>\n",
       "      <td>+</td>\n",
       "      <td>.</td>\n",
       "      <td>ENST00000469289.1</td>\n",
       "      <td>ENSG00000243485.3</td>\n",
       "      <td>...</td>\n",
       "      <td>KNOWN</td>\n",
       "      <td>RP11-34P13.3</td>\n",
       "      <td>lincRNA</td>\n",
       "      <td>KNOWN</td>\n",
       "      <td>RP11-34P13.3-002</td>\n",
       "      <td>2</td>\n",
       "      <td>5</td>\n",
       "      <td>not_best_in_genome_evidence,basic</td>\n",
       "      <td>OTTHUMG00000000959.2</td>\n",
       "      <td>OTTHUMT00000002841.2</td>\n",
       "    </tr>\n",
       "    <tr>\n",
       "      <th>2</th>\n",
       "      <td>chr1</td>\n",
       "      <td>HAVANA</td>\n",
       "      <td>transcript</td>\n",
       "      <td>34554</td>\n",
       "      <td>36081</td>\n",
       "      <td>.</td>\n",
       "      <td>-</td>\n",
       "      <td>.</td>\n",
       "      <td>ENST00000417324.1</td>\n",
       "      <td>ENSG00000237613.2</td>\n",
       "      <td>...</td>\n",
       "      <td>KNOWN</td>\n",
       "      <td>FAM138A</td>\n",
       "      <td>lincRNA</td>\n",
       "      <td>KNOWN</td>\n",
       "      <td>FAM138A-001</td>\n",
       "      <td>2</td>\n",
       "      <td>1</td>\n",
       "      <td>basic</td>\n",
       "      <td>OTTHUMG00000000960.1</td>\n",
       "      <td>OTTHUMT00000002842.1</td>\n",
       "    </tr>\n",
       "    <tr>\n",
       "      <th>3</th>\n",
       "      <td>chr1</td>\n",
       "      <td>HAVANA</td>\n",
       "      <td>transcript</td>\n",
       "      <td>35245</td>\n",
       "      <td>36073</td>\n",
       "      <td>.</td>\n",
       "      <td>-</td>\n",
       "      <td>.</td>\n",
       "      <td>ENST00000461467.1</td>\n",
       "      <td>ENSG00000237613.2</td>\n",
       "      <td>...</td>\n",
       "      <td>KNOWN</td>\n",
       "      <td>FAM138A</td>\n",
       "      <td>lincRNA</td>\n",
       "      <td>KNOWN</td>\n",
       "      <td>FAM138A-002</td>\n",
       "      <td>2</td>\n",
       "      <td>3;havana_gene=OTTHUMG00000000960.1;havana_tran...</td>\n",
       "      <td>*</td>\n",
       "      <td>*</td>\n",
       "      <td>*</td>\n",
       "    </tr>\n",
       "    <tr>\n",
       "      <th>4</th>\n",
       "      <td>chr1</td>\n",
       "      <td>HAVANA</td>\n",
       "      <td>transcript</td>\n",
       "      <td>89295</td>\n",
       "      <td>120932</td>\n",
       "      <td>.</td>\n",
       "      <td>-</td>\n",
       "      <td>.</td>\n",
       "      <td>ENST00000466430.5</td>\n",
       "      <td>ENSG00000238009.6</td>\n",
       "      <td>...</td>\n",
       "      <td>KNOWN</td>\n",
       "      <td>RP11-34P13.7</td>\n",
       "      <td>lincRNA</td>\n",
       "      <td>KNOWN</td>\n",
       "      <td>RP11-34P13.7-001</td>\n",
       "      <td>2</td>\n",
       "      <td>5</td>\n",
       "      <td>not_best_in_genome_evidence,basic</td>\n",
       "      <td>OTTHUMG00000001096.2</td>\n",
       "      <td>OTTHUMT00000003225.1</td>\n",
       "    </tr>\n",
       "  </tbody>\n",
       "</table>\n",
       "<p>5 rows × 23 columns</p>\n",
       "</div>"
      ],
      "text/plain": [
       "  seqid  source        type  start     end score strand phase  \\\n",
       "0  chr1  HAVANA  transcript  29554   31097     .      +     .   \n",
       "1  chr1  HAVANA  transcript  30267   31109     .      +     .   \n",
       "2  chr1  HAVANA  transcript  34554   36081     .      -     .   \n",
       "3  chr1  HAVANA  transcript  35245   36073     .      -     .   \n",
       "4  chr1  HAVANA  transcript  89295  120932     .      -     .   \n",
       "\n",
       "                  ID             Parent          ...          gene_status  \\\n",
       "0  ENST00000473358.1  ENSG00000243485.3          ...                KNOWN   \n",
       "1  ENST00000469289.1  ENSG00000243485.3          ...                KNOWN   \n",
       "2  ENST00000417324.1  ENSG00000237613.2          ...                KNOWN   \n",
       "3  ENST00000461467.1  ENSG00000237613.2          ...                KNOWN   \n",
       "4  ENST00000466430.5  ENSG00000238009.6          ...                KNOWN   \n",
       "\n",
       "      gene_name transcript_type transcript_status   transcript_name level  \\\n",
       "0  RP11-34P13.3         lincRNA             KNOWN  RP11-34P13.3-001     2   \n",
       "1  RP11-34P13.3         lincRNA             KNOWN  RP11-34P13.3-002     2   \n",
       "2       FAM138A         lincRNA             KNOWN       FAM138A-001     2   \n",
       "3       FAM138A         lincRNA             KNOWN       FAM138A-002     2   \n",
       "4  RP11-34P13.7         lincRNA             KNOWN  RP11-34P13.7-001     2   \n",
       "\n",
       "                            transcript_support_level  \\\n",
       "0                                                  5   \n",
       "1                                                  5   \n",
       "2                                                  1   \n",
       "3  3;havana_gene=OTTHUMG00000000960.1;havana_tran...   \n",
       "4                                                  5   \n",
       "\n",
       "                                                 tag           havana_gene  \\\n",
       "0  not_best_in_genome_evidence,dotter_confirmed,b...  OTTHUMG00000000959.2   \n",
       "1                  not_best_in_genome_evidence,basic  OTTHUMG00000000959.2   \n",
       "2                                              basic  OTTHUMG00000000960.1   \n",
       "3                                                  *                     *   \n",
       "4                  not_best_in_genome_evidence,basic  OTTHUMG00000001096.2   \n",
       "\n",
       "      havana_transcript  \n",
       "0  OTTHUMT00000002840.1  \n",
       "1  OTTHUMT00000002841.2  \n",
       "2  OTTHUMT00000002842.1  \n",
       "3                     *  \n",
       "4  OTTHUMT00000003225.1  \n",
       "\n",
       "[5 rows x 23 columns]"
      ]
     },
     "execution_count": 165,
     "metadata": {},
     "output_type": "execute_result"
    }
   ],
   "source": [
    "input_file = \"./data/gencode_sample.gff3\"\n",
    "\n",
    "df = reformat_table(\n",
    "    input_file,\n",
    "    return_df=True,\n",
    "    standard_template=\"gff3_ens_transcript\", \n",
    "    keep_original_header=False,\n",
    "    header_from_final_template= True,\n",
    "    verbose=True\n",
    "    )\n",
    "\n",
    "print(head(input_file, 11))\n",
    "df.head()"
   ]
  },
  {
   "cell_type": "markdown",
   "metadata": {
    "heading_collapsed": true
   },
   "source": [
    "# WEB TOOLS"
   ]
  },
  {
   "cell_type": "markdown",
   "metadata": {
    "hidden": true
   },
   "source": [
    "## url_exist"
   ]
  },
  {
   "cell_type": "code",
   "execution_count": 35,
   "metadata": {
    "ExecuteTime": {
     "end_time": "2017-11-27T17:06:27.187537Z",
     "start_time": "2017-11-27T17:06:27.179331Z"
    },
    "hidden": true,
    "init_cell": true
   },
   "outputs": [
    {
     "data": {
      "text/html": [
       "<b>url_exist</b> (url, **kwargs)"
      ],
      "text/plain": [
       "<IPython.core.display.HTML object>"
      ]
     },
     "metadata": {},
     "output_type": "display_data"
    },
    {
     "data": {
      "text/markdown": [],
      "text/plain": [
       "<IPython.core.display.Markdown object>"
      ]
     },
     "metadata": {},
     "output_type": "display_data"
    },
    {
     "data": {
      "text/markdown": [
       "Predicate verifying if an url exist without downloading all the link"
      ],
      "text/plain": [
       "<IPython.core.display.Markdown object>"
      ]
     },
     "metadata": {},
     "output_type": "display_data"
    },
    {
     "data": {
      "text/markdown": [],
      "text/plain": [
       "<IPython.core.display.Markdown object>"
      ]
     },
     "metadata": {},
     "output_type": "display_data"
    }
   ],
   "source": [
    "jhelp(url_exist, full=True)"
   ]
  },
  {
   "cell_type": "code",
   "execution_count": 167,
   "metadata": {
    "ExecuteTime": {
     "end_time": "2017-07-27T14:58:08.502328Z",
     "start_time": "2017-07-27T14:58:08.419744Z"
    },
    "hidden": true,
    "scrolled": true
   },
   "outputs": [
    {
     "data": {
      "text/plain": [
       "True"
      ]
     },
     "execution_count": 167,
     "metadata": {},
     "output_type": "execute_result"
    }
   ],
   "source": [
    "url_exist(\"http://www.google.com\") # When this one will be False it will probably be the end of the world"
   ]
  },
  {
   "cell_type": "code",
   "execution_count": 168,
   "metadata": {
    "ExecuteTime": {
     "end_time": "2017-07-27T14:58:09.071219Z",
     "start_time": "2017-07-27T14:58:09.041760Z"
    },
    "hidden": true
   },
   "outputs": [
    {
     "data": {
      "text/plain": [
       "False"
      ]
     },
     "execution_count": 168,
     "metadata": {},
     "output_type": "execute_result"
    }
   ],
   "source": [
    "url_exist(\"http://www.JUYGKUYHGJHFJ.com\")"
   ]
  },
  {
   "cell_type": "markdown",
   "metadata": {
    "hidden": true
   },
   "source": [
    "## wget"
   ]
  },
  {
   "cell_type": "code",
   "execution_count": 36,
   "metadata": {
    "ExecuteTime": {
     "end_time": "2017-11-27T17:06:27.208207Z",
     "start_time": "2017-11-27T17:06:27.189326Z"
    },
    "hidden": true,
    "init_cell": true
   },
   "outputs": [
    {
     "data": {
      "text/html": [
       "<b>wget</b> (url, out_name='', progress_block=100000000, **kwargs)"
      ],
      "text/plain": [
       "<IPython.core.display.HTML object>"
      ]
     },
     "metadata": {},
     "output_type": "display_data"
    },
    {
     "data": {
      "text/markdown": [],
      "text/plain": [
       "<IPython.core.display.Markdown object>"
      ]
     },
     "metadata": {},
     "output_type": "display_data"
    },
    {
     "data": {
      "text/markdown": [
       "Download a file from an URL to a local storage."
      ],
      "text/plain": [
       "<IPython.core.display.Markdown object>"
      ]
     },
     "metadata": {},
     "output_type": "display_data"
    },
    {
     "data": {
      "text/markdown": [
       "*  url"
      ],
      "text/plain": [
       "<IPython.core.display.Markdown object>"
      ]
     },
     "metadata": {},
     "output_type": "display_data"
    },
    {
     "data": {
      "text/markdown": [
       "A internet URL pointing to the file to download"
      ],
      "text/plain": [
       "<IPython.core.display.Markdown object>"
      ]
     },
     "metadata": {},
     "output_type": "display_data"
    },
    {
     "data": {
      "text/markdown": [
       "*  outname"
      ],
      "text/plain": [
       "<IPython.core.display.Markdown object>"
      ]
     },
     "metadata": {},
     "output_type": "display_data"
    },
    {
     "data": {
      "text/markdown": [
       "Name of the outfile where (facultative)"
      ],
      "text/plain": [
       "<IPython.core.display.Markdown object>"
      ]
     },
     "metadata": {},
     "output_type": "display_data"
    },
    {
     "data": {
      "text/markdown": [
       "*  progress_block"
      ],
      "text/plain": [
       "<IPython.core.display.Markdown object>"
      ]
     },
     "metadata": {},
     "output_type": "display_data"
    },
    {
     "data": {
      "text/markdown": [
       "size of the byte block for the progression of the download"
      ],
      "text/plain": [
       "<IPython.core.display.Markdown object>"
      ]
     },
     "metadata": {},
     "output_type": "display_data"
    },
    {
     "data": {
      "text/markdown": [],
      "text/plain": [
       "<IPython.core.display.Markdown object>"
      ]
     },
     "metadata": {},
     "output_type": "display_data"
    }
   ],
   "source": [
    "jhelp(wget, full=True)"
   ]
  },
  {
   "cell_type": "code",
   "execution_count": 170,
   "metadata": {
    "ExecuteTime": {
     "end_time": "2017-07-27T14:58:13.572201Z",
     "start_time": "2017-07-27T14:58:13.560832Z"
    },
    "hidden": true
   },
   "outputs": [
    {
     "name": "stdout",
     "output_type": "stream",
     "text": [
      "unknown url type: ''\n"
     ]
    }
   ],
   "source": [
    "outfile = wget(\"\")\n",
    "if outfile:\n",
    "    print(outfile)\n",
    "    remove(outfile)"
   ]
  },
  {
   "cell_type": "code",
   "execution_count": 173,
   "metadata": {
    "ExecuteTime": {
     "end_time": "2017-07-27T14:59:27.929242Z",
     "start_time": "2017-07-27T14:58:38.570499Z"
    },
    "hidden": true
   },
   "outputs": [
    {
     "name": "stdout",
     "output_type": "stream",
     "text": [
      "Downloading: https://www.encodeproject.org/files/ENCFF000HJC/@@download/ENCFF000HJC.bigWig\tBytes: 258930225\n",
      "50.0 MB Downloaded\t[19.31 %]\n",
      "100.0 MB Downloaded\t[38.62 %]\n",
      "150.0 MB Downloaded\t[57.93 %]\n",
      "200.0 MB Downloaded\t[77.24 %]\n",
      "250.0 MB Downloaded\t[96.55 %]\n",
      "258.9 MB Downloaded\t[100 %]\n",
      "test.bigWig\n"
     ]
    }
   ],
   "source": [
    "outfile = wget(\"https://www.encodeproject.org/files/ENCFF000HJC/@@download/ENCFF000HJC.bigWig\", \"test.bigWig\", 50000000)\n",
    "if outfile:\n",
    "    print(outfile)\n",
    "    remove(outfile)"
   ]
  },
  {
   "cell_type": "markdown",
   "metadata": {
    "hidden": true
   },
   "source": [
    "---\n",
    "# FUNCTION TOOLS"
   ]
  },
  {
   "cell_type": "markdown",
   "metadata": {
    "hidden": true
   },
   "source": [
    "## print_arg"
   ]
  },
  {
   "cell_type": "code",
   "execution_count": 37,
   "metadata": {
    "ExecuteTime": {
     "end_time": "2017-11-27T17:06:27.220086Z",
     "start_time": "2017-11-27T17:06:27.210943Z"
    },
    "hidden": true,
    "init_cell": true
   },
   "outputs": [
    {
     "data": {
      "text/html": [
       "<b>print_arg</b> (**kwargs)"
      ],
      "text/plain": [
       "<IPython.core.display.HTML object>"
      ]
     },
     "metadata": {},
     "output_type": "display_data"
    },
    {
     "data": {
      "text/markdown": [],
      "text/plain": [
       "<IPython.core.display.Markdown object>"
      ]
     },
     "metadata": {},
     "output_type": "display_data"
    },
    {
     "data": {
      "text/markdown": [
       "Print calling function named and unnamed arguments"
      ],
      "text/plain": [
       "<IPython.core.display.Markdown object>"
      ]
     },
     "metadata": {},
     "output_type": "display_data"
    },
    {
     "data": {
      "text/markdown": [],
      "text/plain": [
       "<IPython.core.display.Markdown object>"
      ]
     },
     "metadata": {},
     "output_type": "display_data"
    }
   ],
   "source": [
    "jhelp(print_arg, full=True)"
   ]
  },
  {
   "cell_type": "code",
   "execution_count": 175,
   "metadata": {
    "ExecuteTime": {
     "end_time": "2017-07-27T14:59:27.965480Z",
     "start_time": "2017-07-27T14:59:27.944288Z"
    },
    "hidden": true
   },
   "outputs": [
    {
     "name": "stdout",
     "output_type": "stream",
     "text": [
      "Enumerated named argument list:\n",
      "\tA: 1\n",
      "\tB: 2\n",
      "\tC: 3\n",
      "Unenumerated named arguments list:\n",
      "\tz: 65\n",
      "\tx: 100\n",
      "Unnamed positional arguments list:\n",
      "\t5\n"
     ]
    }
   ],
   "source": [
    "def test (A,B,C=7,*args, **kwarg):\n",
    "    print_arg()\n",
    "\n",
    "test(1,2,3,5, z=65, x=100)"
   ]
  },
  {
   "cell_type": "markdown",
   "metadata": {
    "collapsed": true,
    "heading_collapsed": true
   },
   "source": [
    "# SSH TOOLS"
   ]
  },
  {
   "cell_type": "markdown",
   "metadata": {
    "collapsed": true,
    "heading_collapsed": true,
    "hidden": true
   },
   "source": [
    "## scp"
   ]
  },
  {
   "cell_type": "code",
   "execution_count": 38,
   "metadata": {
    "ExecuteTime": {
     "end_time": "2017-11-27T17:06:27.247092Z",
     "start_time": "2017-11-27T17:06:27.222152Z"
    },
    "hidden": true,
    "init_cell": true
   },
   "outputs": [
    {
     "data": {
      "text/html": [
       "<b>scp</b> (hostname, local_file, remote_dir, username=None, rsa_private_key=None, ssh_config='~/.ssh/config', verbose=False, **kwargs)"
      ],
      "text/plain": [
       "<IPython.core.display.HTML object>"
      ]
     },
     "metadata": {},
     "output_type": "display_data"
    },
    {
     "data": {
      "text/markdown": [],
      "text/plain": [
       "<IPython.core.display.Markdown object>"
      ]
     },
     "metadata": {},
     "output_type": "display_data"
    },
    {
     "data": {
      "text/markdown": [
       "Copy a file over ssh in a target remote directory"
      ],
      "text/plain": [
       "<IPython.core.display.Markdown object>"
      ]
     },
     "metadata": {},
     "output_type": "display_data"
    },
    {
     "data": {
      "text/markdown": [
       "* hostname"
      ],
      "text/plain": [
       "<IPython.core.display.Markdown object>"
      ]
     },
     "metadata": {},
     "output_type": "display_data"
    },
    {
     "data": {
      "text/markdown": [
       "Name of the host ssh server"
      ],
      "text/plain": [
       "<IPython.core.display.Markdown object>"
      ]
     },
     "metadata": {},
     "output_type": "display_data"
    },
    {
     "data": {
      "text/markdown": [
       "* username"
      ],
      "text/plain": [
       "<IPython.core.display.Markdown object>"
      ]
     },
     "metadata": {},
     "output_type": "display_data"
    },
    {
     "data": {
      "text/markdown": [
       "name of the user"
      ],
      "text/plain": [
       "<IPython.core.display.Markdown object>"
      ]
     },
     "metadata": {},
     "output_type": "display_data"
    },
    {
     "data": {
      "text/markdown": [
       "* rsa_private_key"
      ],
      "text/plain": [
       "<IPython.core.display.Markdown object>"
      ]
     },
     "metadata": {},
     "output_type": "display_data"
    },
    {
     "data": {
      "text/markdown": [
       "path to the rsa private key"
      ],
      "text/plain": [
       "<IPython.core.display.Markdown object>"
      ]
     },
     "metadata": {},
     "output_type": "display_data"
    },
    {
     "data": {
      "text/markdown": [
       "* local_file"
      ],
      "text/plain": [
       "<IPython.core.display.Markdown object>"
      ]
     },
     "metadata": {},
     "output_type": "display_data"
    },
    {
     "data": {
      "text/markdown": [
       "path to the local file"
      ],
      "text/plain": [
       "<IPython.core.display.Markdown object>"
      ]
     },
     "metadata": {},
     "output_type": "display_data"
    },
    {
     "data": {
      "text/markdown": [
       "* remote_dir"
      ],
      "text/plain": [
       "<IPython.core.display.Markdown object>"
      ]
     },
     "metadata": {},
     "output_type": "display_data"
    },
    {
     "data": {
      "text/markdown": [
       "path to the target directory"
      ],
      "text/plain": [
       "<IPython.core.display.Markdown object>"
      ]
     },
     "metadata": {},
     "output_type": "display_data"
    },
    {
     "data": {
      "text/markdown": [
       "* ssh_config"
      ],
      "text/plain": [
       "<IPython.core.display.Markdown object>"
      ]
     },
     "metadata": {},
     "output_type": "display_data"
    },
    {
     "data": {
      "text/markdown": [
       "use as an alternative method instead of giving the username and rsa_private_key. Will fetch them from the config file directly"
      ],
      "text/plain": [
       "<IPython.core.display.Markdown object>"
      ]
     },
     "metadata": {},
     "output_type": "display_data"
    },
    {
     "data": {
      "text/markdown": [],
      "text/plain": [
       "<IPython.core.display.Markdown object>"
      ]
     },
     "metadata": {},
     "output_type": "display_data"
    }
   ],
   "source": [
    "jhelp(scp, full=True)"
   ]
  },
  {
   "cell_type": "code",
   "execution_count": 177,
   "metadata": {
    "ExecuteTime": {
     "end_time": "2017-07-27T14:59:28.638728Z",
     "start_time": "2017-07-27T14:59:27.999111Z"
    },
    "hidden": true
   },
   "outputs": [
    {
     "name": "stdout",
     "output_type": "stream",
     "text": [
      "Establishing SSH connection to: ebi-cli-001.ebi.ac.uk ...\n",
      "... Success!\n",
      "Assuming ./test exists\n",
      "Copying local file from ../README.md to ebi-cli-001.ebi.ac.uk:./test/README.md\n",
      "All operations complete!\n"
     ]
    }
   ],
   "source": [
    "scp(hostname=\"ebi-cli-001.ebi.ac.uk\", local_file=\"../README.md\", remote_dir=\"~/test\", username=\"aleg\", rsa_private_key=\"/home/aleg/.ssh/ebi_rsa\")"
   ]
  },
  {
   "cell_type": "code",
   "execution_count": 178,
   "metadata": {
    "ExecuteTime": {
     "end_time": "2017-07-27T14:59:28.994271Z",
     "start_time": "2017-07-27T14:59:28.650518Z"
    },
    "hidden": true
   },
   "outputs": [
    {
     "name": "stdout",
     "output_type": "stream",
     "text": [
      "Parse the ssh config file\n",
      "Establishing SSH connection to: ebi-cli-001.ebi.ac.uk ...\n",
      "... Success!\n",
      "Assuming ./test exists\n",
      "Copying local file from ../README.md to ebi-cli-001.ebi.ac.uk:./test/README.md\n",
      "All operations complete!\n"
     ]
    }
   ],
   "source": [
    "scp(hostname=\"ebi\", local_file=\"../README.md\", remote_dir=\"~/test\")"
   ]
  },
  {
   "cell_type": "markdown",
   "metadata": {},
   "source": [
    "# Package Tools"
   ]
  },
  {
   "cell_type": "markdown",
   "metadata": {},
   "source": [
    "## get_package_file"
   ]
  },
  {
   "cell_type": "code",
   "execution_count": 37,
   "metadata": {
    "ExecuteTime": {
     "end_time": "2017-07-27T15:51:44.973412Z",
     "start_time": "2017-07-27T15:51:44.959481Z"
    },
    "scrolled": true
   },
   "outputs": [
    {
     "data": {
      "text/html": [
       "<b>get_package_file</b> (package, fp='')"
      ],
      "text/plain": [
       "<IPython.core.display.HTML object>"
      ]
     },
     "metadata": {},
     "output_type": "display_data"
    },
    {
     "data": {
      "text/markdown": [],
      "text/plain": [
       "<IPython.core.display.Markdown object>"
      ]
     },
     "metadata": {},
     "output_type": "display_data"
    },
    {
     "data": {
      "text/markdown": [
       "Verify the existence of a file from the package data and return a file path"
      ],
      "text/plain": [
       "<IPython.core.display.Markdown object>"
      ]
     },
     "metadata": {},
     "output_type": "display_data"
    },
    {
     "data": {
      "text/markdown": [
       "* package"
      ],
      "text/plain": [
       "<IPython.core.display.Markdown object>"
      ]
     },
     "metadata": {},
     "output_type": "display_data"
    },
    {
     "data": {
      "text/markdown": [
       "Name of the package"
      ],
      "text/plain": [
       "<IPython.core.display.Markdown object>"
      ]
     },
     "metadata": {},
     "output_type": "display_data"
    },
    {
     "data": {
      "text/markdown": [
       "* fp"
      ],
      "text/plain": [
       "<IPython.core.display.Markdown object>"
      ]
     },
     "metadata": {},
     "output_type": "display_data"
    },
    {
     "data": {
      "text/markdown": [
       "Relative path to the file in the package. Usually package_name/data/file_name"
      ],
      "text/plain": [
       "<IPython.core.display.Markdown object>"
      ]
     },
     "metadata": {},
     "output_type": "display_data"
    },
    {
     "data": {
      "text/markdown": [],
      "text/plain": [
       "<IPython.core.display.Markdown object>"
      ]
     },
     "metadata": {},
     "output_type": "display_data"
    }
   ],
   "source": [
    "jhelp(get_package_file, full=True)"
   ]
  },
  {
   "cell_type": "code",
   "execution_count": 40,
   "metadata": {
    "ExecuteTime": {
     "end_time": "2017-07-27T15:52:27.084756Z",
     "start_time": "2017-07-27T15:52:27.072261Z"
    },
    "scrolled": false
   },
   "outputs": [
    {
     "name": "stdout",
     "output_type": "stream",
     "text": [
      "------- \n",
      "-------- test_pycl.ipynb\n",
      "-------- pycl.pyc\n",
      "-------- __init__.py\n",
      "-------- pycl.py\n",
      "------- .ipynb_checkpoints\n",
      "-------- test_pycl-checkpoint.ipynb\n",
      "------- data\n",
      "-------- Small_m5C_Squires_hg38.bed\n",
      "-------- gencode_sample.gff3\n",
      "-------- RADAR_clean.txt\n",
      "-------- RADAR_Secondary.txt.gz\n",
      "-------- Small_m5C_Squires_hg38_reformat.bed\n",
      "-------- stdout.txt\n",
      "-------- Small_editing_Peng_hg38_reformat.bed\n",
      "-------- RADAR_Secondary.txt\n",
      "-------- RADAR_Main.txt\n",
      "-------- Small_editing_Peng_hg38.bed\n",
      "-------- RADAR_Secondary_copy.txt\n",
      "-------- test_dir\n",
      "------- __pycache__\n",
      "-------- pycl.cpython-35.pyc\n",
      "-------- __init__.cpython-35.pyc\n"
     ]
    },
    {
     "data": {
      "text/plain": [
       "'/home/aleg/Programming/Python3/pycl/pycl/'"
      ]
     },
     "execution_count": 40,
     "metadata": {},
     "output_type": "execute_result"
    }
   ],
   "source": [
    "get_package_file(\"pycl\", \"pycl/\")"
   ]
  },
  {
   "cell_type": "code",
   "execution_count": 37,
   "metadata": {
    "ExecuteTime": {
     "end_time": "2017-07-27T15:53:31.603822Z",
     "start_time": "2017-07-27T15:53:31.583070Z"
    },
    "scrolled": false
   },
   "outputs": [
    {
     "data": {
      "text/plain": [
       "'/home/aleg/Programming/Python3/pycl/pycl/data/Small_m5C_Squires_hg38.bed'"
      ]
     },
     "execution_count": 37,
     "metadata": {},
     "output_type": "execute_result"
    }
   ],
   "source": [
    "get_backage_file(\"pycl\", \"pycl/data/Small_m5C_Squires_hg38.bed\")"
   ]
  },
  {
   "cell_type": "markdown",
   "metadata": {},
   "source": [
    "# SAM/BAM TOOLS"
   ]
  },
  {
   "cell_type": "code",
   "execution_count": 39,
   "metadata": {
    "ExecuteTime": {
     "end_time": "2017-08-21T14:29:44.448295",
     "start_time": "2017-08-21T14:29:44.423179Z"
    }
   },
   "outputs": [
    {
     "data": {
      "text/html": [
       "<b>bam_sample</b> (fp_in, fp_out, n_reads, verbose=False, **kwargs)"
      ],
      "text/plain": [
       "<IPython.core.display.HTML object>"
      ]
     },
     "metadata": {},
     "output_type": "display_data"
    },
    {
     "data": {
      "text/markdown": [],
      "text/plain": [
       "<IPython.core.display.Markdown object>"
      ]
     },
     "metadata": {},
     "output_type": "display_data"
    },
    {
     "data": {
      "text/markdown": [
       "Sample reads from a SAM/BAM file and write in a new file"
      ],
      "text/plain": [
       "<IPython.core.display.Markdown object>"
      ]
     },
     "metadata": {},
     "output_type": "display_data"
    },
    {
     "data": {
      "text/markdown": [
       "* fp_in"
      ],
      "text/plain": [
       "<IPython.core.display.Markdown object>"
      ]
     },
     "metadata": {},
     "output_type": "display_data"
    },
    {
     "data": {
      "text/markdown": [
       "Path to the input file in .bam/.sam/.cram (the format will be infered from extension)"
      ],
      "text/plain": [
       "<IPython.core.display.Markdown object>"
      ]
     },
     "metadata": {},
     "output_type": "display_data"
    },
    {
     "data": {
      "text/markdown": [
       "* fp_out"
      ],
      "text/plain": [
       "<IPython.core.display.Markdown object>"
      ]
     },
     "metadata": {},
     "output_type": "display_data"
    },
    {
     "data": {
      "text/markdown": [
       "Path to the output file in .bam/.sam/.cram (the format will be infered from extension)"
      ],
      "text/plain": [
       "<IPython.core.display.Markdown object>"
      ]
     },
     "metadata": {},
     "output_type": "display_data"
    },
    {
     "data": {
      "text/markdown": [
       "* n_reads"
      ],
      "text/plain": [
       "<IPython.core.display.Markdown object>"
      ]
     },
     "metadata": {},
     "output_type": "display_data"
    },
    {
     "data": {
      "text/markdown": [
       "number of reads to sample"
      ],
      "text/plain": [
       "<IPython.core.display.Markdown object>"
      ]
     },
     "metadata": {},
     "output_type": "display_data"
    },
    {
     "data": {
      "text/markdown": [],
      "text/plain": [
       "<IPython.core.display.Markdown object>"
      ]
     },
     "metadata": {},
     "output_type": "display_data"
    }
   ],
   "source": [
    "jhelp(bam_sample, full=True)"
   ]
  },
  {
   "cell_type": "code",
   "execution_count": 40,
   "metadata": {
    "ExecuteTime": {
     "end_time": "2017-08-21T15:28:20.537502",
     "start_time": "2017-08-21T15:28:20.494274Z"
    }
   },
   "outputs": [
    {
     "name": "stdout",
     "output_type": "stream",
     "text": [
      "Found 5000 reads in input file\n",
      "Wrote 100 reads in output file\n"
     ]
    },
    {
     "data": {
      "text/html": [
       "<p style=\"line-height:10px;\">30&emsp;@SQ&emsp;SN:GL000208.1&emsp;LN:92689</p>"
      ],
      "text/plain": [
       "<IPython.core.display.HTML object>"
      ]
     },
     "metadata": {},
     "output_type": "display_data"
    },
    {
     "data": {
      "text/html": [
       "<p style=\"line-height:10px;\">37&emsp;@SQ&emsp;SN:GL000221.1&emsp;LN:155397</p>"
      ],
      "text/plain": [
       "<IPython.core.display.HTML object>"
      ]
     },
     "metadata": {},
     "output_type": "display_data"
    },
    {
     "data": {
      "text/html": [
       "<p style=\"line-height:10px;\">67&emsp;@SQ&emsp;SN:KI270372.1&emsp;LN:1650</p>"
      ],
      "text/plain": [
       "<IPython.core.display.HTML object>"
      ]
     },
     "metadata": {},
     "output_type": "display_data"
    },
    {
     "data": {
      "text/html": [
       "<p style=\"line-height:10px;\">106&emsp;@SQ&emsp;SN:KI270465.1&emsp;LN:1774</p>"
      ],
      "text/plain": [
       "<IPython.core.display.HTML object>"
      ]
     },
     "metadata": {},
     "output_type": "display_data"
    },
    {
     "data": {
      "text/html": [
       "<p style=\"line-height:10px;\">121&emsp;@SQ&emsp;SN:KI270521.1&emsp;LN:7642</p>"
      ],
      "text/plain": [
       "<IPython.core.display.HTML object>"
      ]
     },
     "metadata": {},
     "output_type": "display_data"
    },
    {
     "data": {
      "text/html": [
       "<p style=\"line-height:10px;\">154&emsp;@SQ&emsp;SN:KI270718.1&emsp;LN:38054</p>"
      ],
      "text/plain": [
       "<IPython.core.display.HTML object>"
      ]
     },
     "metadata": {},
     "output_type": "display_data"
    },
    {
     "data": {
      "text/html": [
       "<p style=\"line-height:10px;\">212&emsp;chr11|87566014|87566074|+|7722.2&emsp;256&emsp;chr5&emsp;146861373&emsp;0&emsp;61M&emsp;*&emsp;0&emsp;0&emsp;*&emsp;*&emsp;NM:i:5&emsp;MD:Z:7G0T11G0T32G6&emsp;AS:i:3...</p>"
      ],
      "text/plain": [
       "<IPython.core.display.HTML object>"
      ]
     },
     "metadata": {},
     "output_type": "display_data"
    },
    {
     "data": {
      "text/html": [
       "<p style=\"line-height:10px;\">215&emsp;chr12|123515445|123515505|-|10900.7&emsp;256&emsp;chr12&emsp;12307661&emsp;0&emsp;43M18H&emsp;*&emsp;0&emsp;0&emsp;*&emsp;*&emsp;NM:i:0&emsp;MD:Z:43&emsp;AS:i:43</p>"
      ],
      "text/plain": [
       "<IPython.core.display.HTML object>"
      ]
     },
     "metadata": {},
     "output_type": "display_data"
    },
    {
     "data": {
      "text/html": [
       "<p style=\"line-height:10px;\">229&emsp;chr15|89509191|89509251|+|16024.9&emsp;256&emsp;chr15&emsp;89509127&emsp;0&emsp;19M2D42M&emsp;*&emsp;0&emsp;0&emsp;*&emsp;*&emsp;NM:i:3&emsp;MD:Z:1A17^TA42&emsp;AS:i...</p>"
      ],
      "text/plain": [
       "<IPython.core.display.HTML object>"
      ]
     },
     "metadata": {},
     "output_type": "display_data"
    },
    {
     "data": {
      "text/html": [
       "<p style=\"line-height:10px;\">249&emsp;chr19|52059080|52059117|-|24248.21&emsp;256&emsp;chrX&emsp;30029758&emsp;0&emsp;38M&emsp;*&emsp;0&emsp;0&emsp;*&emsp;*&emsp;NM:i:0&emsp;MD:Z:38&emsp;AS:i:38</p>"
      ],
      "text/plain": [
       "<IPython.core.display.HTML object>"
      ]
     },
     "metadata": {},
     "output_type": "display_data"
    }
   ],
   "source": [
    "bam_sample(\"./data/sample.sam\", fp_out=\"./data/sample_100.sam\", n_reads=100, verbose=True)\n",
    "linesample(\"./data/sample_100.sam\", n_lines=10, max_char_line=100)"
   ]
  },
  {
   "cell_type": "code",
   "execution_count": 42,
   "metadata": {
    "ExecuteTime": {
     "end_time": "2017-08-21T15:29:06.457376",
     "start_time": "2017-08-21T15:29:06.323802Z"
    },
    "scrolled": false
   },
   "outputs": [
    {
     "name": "stdout",
     "output_type": "stream",
     "text": [
      "Found 5000 reads in input file\n",
      "Wrote 100 reads in output file\n",
      "chr1|485122|485182|-|48.11\t272\tchrY\t25386999\t0\t61M\t*\t0\t0\t*\t*\tNM:i:1\tMD:Z:51C9\tAS:i:56\r\n",
      "chr1|31539055|31539102|+|722.4\t272\tchr16\t9236842\t0\t9H39M\t*\t0\t0\t*\t*\tNM:i:0\tMD:Z:39\tAS:i:39\r\n",
      "chr1|164680345|164680405|+|2832.10\t0\tchr1\t164680345\t60\t61M\t*\t0\t0\tCTTTAGAATTACAGATTCATGAGGGATCTGATTTTATTTTCTTTTTCAACTTTAATTTTTG\tIIIIIIIIIIIIIIIIIIIIIIIIIIIIIIIIIIIIIIIIIIIIIIIIIIIIIIIIIIIII\tNM:i:0\tMD:Z:61\tAS:i:61\tXS:i:20\r\n",
      "chr1|167195442|167195490|-|2892.3\t256\tchr4\t156379504\t0\t49M\t*\t0\t0\t*\t*\tNM:i:0\tMD:Z:49\tAS:i:49\r\n",
      "chr1|174016114|174016174|-|2993.10\t256\tchr1\t17544335\t0\t48M13H\t*\t0\t0\t*\t*\tNM:i:0\tMD:Z:48\tAS:i:48\r\n",
      "chr1|185321267|185321327|-|3177.5\t272\tchr10\t89018205\t0\t61M\t*\t0\t0\t*\t*\tNM:i:1\tMD:Z:0A60\tAS:i:60\r\n",
      "chr10|3834681|3834738|+|4249.8\t0\tchr10\t3834681\t60\t58M\t*\t0\t0\tCAGTCTCCACCTCATCCAGAGGCGGTTAATAAATGCTCCCTCAATGGATGTCAAACAA\tIIIIIIIIIIIIIIIIIIIIIIIIIIIIIIIIIIIIIIIIIIIIIIIIIIIIIIIIII\tNM:i:0\tMD:Z:58\tAS:i:58\tXS:i:21\r\n",
      "chr10|26696011|26696071|-|4599.32\t272\tchr8\t9575255\t0\t25H36M\t*\t0\t0\t*\t*\tNM:i:1\tMD:Z:6T29\tAS:i:31\r\n",
      "chr10|79632122|79632182|-|5340.6\t256\tKI270728.1\t1012053\t0\t46M15H\t*\t0\t0\t*\t*\tNM:i:0\tMD:Z:46\tAS:i:46\r\n",
      "chr10|104326929|104326989|+|5725.21\t0\tchr10\t104326929\t60\t61M\t*\t0\t0\tAGTATCTGGAGGGAGTGTGGCCCTGATACCTTGATCCTGGTCTCCAGAACTGTGAAAATAA\tIIIIIIIIIIIIIIIIIIIIIIIIIIIIIIIIIIIIIIIIIIIIIIIIIIIIIIIIIIIII\tNM:i:0\tMD:Z:61\tAS:i:61\tXS:i:22\r\n"
     ]
    }
   ],
   "source": [
    "bam_sample(\"./data/sample.sam\", fp_out=\"./data/sample_100.bam\", n_reads=100, verbose=True)\n",
    "!samtools view \"./data/sample_100.bam\" | head"
   ]
  },
  {
   "cell_type": "code",
   "execution_count": 44,
   "metadata": {
    "ExecuteTime": {
     "end_time": "2017-08-21T15:29:53.330922",
     "start_time": "2017-08-21T15:29:53.326289Z"
    }
   },
   "outputs": [
    {
     "name": "stderr",
     "output_type": "stream",
     "text": [
      "/home/aleg/Programming/Python3/pycl/pycl/pycl.py:1630: UserWarning: Invalid input file format (.bam/.sam/.cram)\n",
      "  warnings.warn (\"Invalid input file format (.bam/.sam/.cram)\")\n"
     ]
    }
   ],
   "source": [
    "bam_sample(\"./data/sample.txt\", fp_out=\"./data/sample_100.bam\", n_reads=100, verbose=True)"
   ]
  },
  {
   "cell_type": "code",
   "execution_count": 39,
   "metadata": {
    "ExecuteTime": {
     "end_time": "2017-08-21T15:30:45.646566",
     "start_time": "2017-08-21T15:30:45.624940Z"
    }
   },
   "outputs": [
    {
     "name": "stderr",
     "output_type": "stream",
     "text": [
      "/home/aleg/Programming/Python3/pycl/pycl/pycl.py:1639: UserWarning: Invalid output file format (.bam/.sam/.cram)\n",
      "  warnings.warn (\"Invalid output file format (.bam/.sam/.cram)\")\n"
     ]
    }
   ],
   "source": [
    "bam_sample(\"./data/sample.sam\", fp_out=\"./data/sample_100.txt\", n_reads=100, verbose=True)"
   ]
  },
  {
   "cell_type": "markdown",
   "metadata": {},
   "source": [
    "# DNA SEQUENCE TOOLS"
   ]
  },
  {
   "cell_type": "markdown",
   "metadata": {},
   "source": [
    "## base_generator"
   ]
  },
  {
   "cell_type": "code",
   "execution_count": 39,
   "metadata": {
    "ExecuteTime": {
     "end_time": "2017-11-27T17:06:27.265013Z",
     "start_time": "2017-11-27T17:06:27.250226Z"
    },
    "init_cell": true,
    "scrolled": true
   },
   "outputs": [
    {
     "data": {
      "text/html": [
       "<b>base_generator</b> (bases=['A', 'T', 'C', 'G'], weights=[0.280788, 0.281691, 0.193973, 0.194773], **kwargs)"
      ],
      "text/plain": [
       "<IPython.core.display.HTML object>"
      ]
     },
     "metadata": {},
     "output_type": "display_data"
    },
    {
     "data": {
      "text/markdown": [],
      "text/plain": [
       "<IPython.core.display.Markdown object>"
      ]
     },
     "metadata": {},
     "output_type": "display_data"
    },
    {
     "data": {
      "text/markdown": [
       "Generator returning DNA/RNA bases according to a probability weightning"
      ],
      "text/plain": [
       "<IPython.core.display.Markdown object>"
      ]
     },
     "metadata": {},
     "output_type": "display_data"
    },
    {
     "data": {
      "text/markdown": [
       "* bases: list (default [\"A\",\"T\",\"C\",\"G\"])"
      ],
      "text/plain": [
       "<IPython.core.display.Markdown object>"
      ]
     },
     "metadata": {},
     "output_type": "display_data"
    },
    {
     "data": {
      "text/markdown": [
       "DNA RNA bases allowed"
      ],
      "text/plain": [
       "<IPython.core.display.Markdown object>"
      ]
     },
     "metadata": {},
     "output_type": "display_data"
    },
    {
     "data": {
      "text/markdown": [
       "* weights: list (default [0.280788,0.281691,0.193973,0.194773])"
      ],
      "text/plain": [
       "<IPython.core.display.Markdown object>"
      ]
     },
     "metadata": {},
     "output_type": "display_data"
    },
    {
     "data": {
      "text/markdown": [
       "Probability of each base to be returned. Should match the index of bases. The sum does not need to be equal to 1."
      ],
      "text/plain": [
       "<IPython.core.display.Markdown object>"
      ]
     },
     "metadata": {},
     "output_type": "display_data"
    },
    {
     "data": {
      "text/markdown": [
       "If the list is empty bases will be returned with a flat probability. The default values represent the frequency in the human"
      ],
      "text/plain": [
       "<IPython.core.display.Markdown object>"
      ]
     },
     "metadata": {},
     "output_type": "display_data"
    },
    {
     "data": {
      "text/markdown": [
       "genome (excluding N)."
      ],
      "text/plain": [
       "<IPython.core.display.Markdown object>"
      ]
     },
     "metadata": {},
     "output_type": "display_data"
    },
    {
     "data": {
      "text/markdown": [],
      "text/plain": [
       "<IPython.core.display.Markdown object>"
      ]
     },
     "metadata": {},
     "output_type": "display_data"
    }
   ],
   "source": [
    "jhelp(base_generator, full = True)"
   ]
  },
  {
   "cell_type": "code",
   "execution_count": 43,
   "metadata": {
    "ExecuteTime": {
     "end_time": "2017-09-25T11:55:29.352767",
     "start_time": "2017-09-25T11:55:29.345031Z"
    }
   },
   "outputs": [
    {
     "name": "stdout",
     "output_type": "stream",
     "text": [
      "C\n",
      "A\n",
      "G\n",
      "T\n",
      "A\n",
      "G\n",
      "A\n",
      "C\n",
      "A\n",
      "C\n"
     ]
    }
   ],
   "source": [
    "bg = base_generator()\n",
    "for i in range(10):\n",
    "    print (next(bg))"
   ]
  },
  {
   "cell_type": "code",
   "execution_count": 56,
   "metadata": {
    "ExecuteTime": {
     "end_time": "2017-09-25T11:56:39.476861",
     "start_time": "2017-09-25T11:56:39.462886Z"
    }
   },
   "outputs": [
    {
     "name": "stdout",
     "output_type": "stream",
     "text": [
      "A\n",
      "A\n",
      "T\n",
      "A\n",
      "T\n",
      "T\n",
      "T\n",
      "A\n",
      "N\n",
      "A\n"
     ]
    }
   ],
   "source": [
    "bg = base_generator(bases=['A', 'T', 'C', 'G', 'N'], weights=[0.8, 0.8, 0.2, 0.2, 0.1])\n",
    "for i in range(10):\n",
    "    print (next(bg))"
   ]
  },
  {
   "cell_type": "markdown",
   "metadata": {},
   "source": [
    "## make_sequence"
   ]
  },
  {
   "cell_type": "code",
   "execution_count": 40,
   "metadata": {
    "ExecuteTime": {
     "end_time": "2017-11-27T17:06:27.282552Z",
     "start_time": "2017-11-27T17:06:27.266855Z"
    },
    "init_cell": true
   },
   "outputs": [
    {
     "data": {
      "text/html": [
       "<b>make_sequence</b> (bases=['A', 'T', 'C', 'G'], weights=[0.280788, 0.281691, 0.193973, 0.194773], length=1000, **kwargs)"
      ],
      "text/plain": [
       "<IPython.core.display.HTML object>"
      ]
     },
     "metadata": {},
     "output_type": "display_data"
    },
    {
     "data": {
      "text/markdown": [],
      "text/plain": [
       "<IPython.core.display.Markdown object>"
      ]
     },
     "metadata": {},
     "output_type": "display_data"
    },
    {
     "data": {
      "text/markdown": [
       "return a sequence of DNA/RNA bases according to a probability weightning"
      ],
      "text/plain": [
       "<IPython.core.display.Markdown object>"
      ]
     },
     "metadata": {},
     "output_type": "display_data"
    },
    {
     "data": {
      "text/markdown": [
       "* bases: list (default [\"A\",\"T\",\"C\",\"G\"])"
      ],
      "text/plain": [
       "<IPython.core.display.Markdown object>"
      ]
     },
     "metadata": {},
     "output_type": "display_data"
    },
    {
     "data": {
      "text/markdown": [
       "DNA RNA bases allowed in the sequence"
      ],
      "text/plain": [
       "<IPython.core.display.Markdown object>"
      ]
     },
     "metadata": {},
     "output_type": "display_data"
    },
    {
     "data": {
      "text/markdown": [
       "* weights: list (default [0.280788,0.281691,0.193973,0.194773])"
      ],
      "text/plain": [
       "<IPython.core.display.Markdown object>"
      ]
     },
     "metadata": {},
     "output_type": "display_data"
    },
    {
     "data": {
      "text/markdown": [
       "Probability of each base to be returned. Should match the index of bases. The sum does not need to be equal to 1."
      ],
      "text/plain": [
       "<IPython.core.display.Markdown object>"
      ]
     },
     "metadata": {},
     "output_type": "display_data"
    },
    {
     "data": {
      "text/markdown": [
       "If the list is empty bases will be returned with a flat probability. The default values represent the frequency in the human"
      ],
      "text/plain": [
       "<IPython.core.display.Markdown object>"
      ]
     },
     "metadata": {},
     "output_type": "display_data"
    },
    {
     "data": {
      "text/markdown": [
       "genome (excluding N)."
      ],
      "text/plain": [
       "<IPython.core.display.Markdown object>"
      ]
     },
     "metadata": {},
     "output_type": "display_data"
    },
    {
     "data": {
      "text/markdown": [
       "* length: int (default 1000)"
      ],
      "text/plain": [
       "<IPython.core.display.Markdown object>"
      ]
     },
     "metadata": {},
     "output_type": "display_data"
    },
    {
     "data": {
      "text/markdown": [
       "length of the sequence to be returned"
      ],
      "text/plain": [
       "<IPython.core.display.Markdown object>"
      ]
     },
     "metadata": {},
     "output_type": "display_data"
    },
    {
     "data": {
      "text/markdown": [],
      "text/plain": [
       "<IPython.core.display.Markdown object>"
      ]
     },
     "metadata": {},
     "output_type": "display_data"
    }
   ],
   "source": [
    "jhelp(make_sequence, full=True)"
   ]
  },
  {
   "cell_type": "code",
   "execution_count": 58,
   "metadata": {
    "ExecuteTime": {
     "end_time": "2017-09-25T11:58:52.187126",
     "start_time": "2017-09-25T11:58:52.180319Z"
    },
    "scrolled": true
   },
   "outputs": [
    {
     "data": {
      "text/plain": [
       "'GGTTTACCCGGTGCCAATCCGTGATCACCGTGAAATAGCACCGTTTAGCATAGTCTTCAATACCATACAGGCGCGTAACCTACATTCGCATGAAATTCGCGGCTATTATGGCCTTATATTGCCCTCCTATTTCGTTTAGGGTCGTTAAATCGCGGTTCAACATGCAGGACCTCGGGCCGAGCGAGGAACCTGTAGTTACTCTTTCGCCCACCATTTGTTTATATTCTGACTGTGAAATTCTTGCCCTAAAATATCCTGCTCTTTGACCACTGTGGTTGGAGAGGCTCAATGAGTATATATAACAAATTTGCAATCAACCGGATGCATGAATCATGTTTTAACATTAATGTCCCTAGTGGCAAAATACAACGCGCTGCTATCTAGGCATATGATCCAGAGGCTATCGCACTGCTAGATTGTGTCTTCTTTACATTAAATTTATGTGCCTGTGACTAGGGTGCCCCGGTCAGGGTCGTTACCTCTAAAGACTGAAGCGTGCCCCTTCCAAGCCCCCAAGTTGCATAGACCCGTTTATTCGTTACAGATACGCCCTAGGCATACTGGGAAGAAGATTAAGGGTGGGCTGATAATATACATGCGTACGAGAGCCTCTTTGTCTGTCGCGATAGGGAGGTCTCAAGTAACCTCTACCCGATCGGATTATTTGGCTAAATTGCATCCTGCCAATAACACGTAAGGTCTATTCATGCAGCCGCATGGGTAGCGGGTCTGCCCATATAAGTACTCACTGACGGTTTGAGTACGTGGGATAATACAAAATATAGCGGGTCCAGGCTAGTGCCTGATGTCATAAAAACCTCAAAAGATACTCTCTCCTAGGGTAACATGGTATCTGTACGTAATACAGATGGCAAAAGGCGCTTAGCTACGAGCAAGGAAGAATAGAACTCCCAGTGCATTCAACTGTTTAGATCTCCACTGATAGTTCGCCAGCTCTATTTGATAAACTCCTACAACCACATAAAGATACGCAGAGCCA'"
      ]
     },
     "execution_count": 58,
     "metadata": {},
     "output_type": "execute_result"
    }
   ],
   "source": [
    "make_sequence()"
   ]
  },
  {
   "cell_type": "code",
   "execution_count": 60,
   "metadata": {
    "ExecuteTime": {
     "end_time": "2017-09-25T11:59:59.118321",
     "start_time": "2017-09-25T11:59:59.111814Z"
    }
   },
   "outputs": [
    {
     "data": {
      "text/plain": [
       "'GCTNTNTNTANANACCGAANCTTACANCCGTGCGATGCNTNGAGAAACTATGGCGATTTTTTNTNACCANACNGGNNNAANTNGGCCGCCTGAGTTGNAC'"
      ]
     },
     "execution_count": 60,
     "metadata": {},
     "output_type": "execute_result"
    }
   ],
   "source": [
    "make_sequence(bases=['A', 'T', 'C', 'G', 'N'], weights=[], length=100)"
   ]
  },
  {
   "cell_type": "code",
   "execution_count": 59,
   "metadata": {
    "ExecuteTime": {
     "end_time": "2017-09-25T11:59:09.193311",
     "start_time": "2017-09-25T11:59:09.188119Z"
    }
   },
   "outputs": [
    {
     "data": {
      "text/plain": [
       "'TAAATAATAATANCTTNTAATNAAACCATGTCTTTATGTATTNGTTTCTCTTATCTATATAATAGTAANAACATCTATTATNTAAAGCNACATGATTATT'"
      ]
     },
     "execution_count": 59,
     "metadata": {},
     "output_type": "execute_result"
    }
   ],
   "source": [
    "make_sequence(bases=['A', 'T', 'C', 'G', 'N'], weights=[0.8, 0.8, 0.2, 0.2, 0.1], length=100)"
   ]
  },
  {
   "cell_type": "markdown",
   "metadata": {
    "collapsed": true,
    "heading_collapsed": true
   },
   "source": [
    "# TEST AND DEV"
   ]
  },
  {
   "cell_type": "code",
   "execution_count": null,
   "metadata": {
    "collapsed": true,
    "hidden": true,
    "scrolled": true
   },
   "outputs": [],
   "source": []
  },
  {
   "cell_type": "code",
   "execution_count": null,
   "metadata": {
    "collapsed": true,
    "hidden": true,
    "scrolled": true
   },
   "outputs": [],
   "source": []
  },
  {
   "cell_type": "code",
   "execution_count": null,
   "metadata": {
    "collapsed": true,
    "hidden": true,
    "scrolled": true
   },
   "outputs": [],
   "source": []
  },
  {
   "cell_type": "code",
   "execution_count": null,
   "metadata": {
    "collapsed": true,
    "hidden": true,
    "scrolled": true
   },
   "outputs": [],
   "source": []
  },
  {
   "cell_type": "code",
   "execution_count": null,
   "metadata": {
    "collapsed": true,
    "hidden": true,
    "scrolled": true
   },
   "outputs": [],
   "source": []
  },
  {
   "cell_type": "code",
   "execution_count": null,
   "metadata": {
    "collapsed": true,
    "hidden": true,
    "scrolled": true
   },
   "outputs": [],
   "source": []
  },
  {
   "cell_type": "code",
   "execution_count": null,
   "metadata": {
    "collapsed": true,
    "hidden": true,
    "scrolled": true
   },
   "outputs": [],
   "source": []
  },
  {
   "cell_type": "code",
   "execution_count": null,
   "metadata": {
    "collapsed": true,
    "hidden": true,
    "scrolled": true
   },
   "outputs": [],
   "source": []
  },
  {
   "cell_type": "code",
   "execution_count": null,
   "metadata": {
    "collapsed": true,
    "hidden": true,
    "scrolled": true
   },
   "outputs": [],
   "source": []
  },
  {
   "cell_type": "code",
   "execution_count": null,
   "metadata": {
    "collapsed": true,
    "hidden": true,
    "scrolled": true
   },
   "outputs": [],
   "source": []
  },
  {
   "cell_type": "code",
   "execution_count": null,
   "metadata": {
    "collapsed": true,
    "hidden": true,
    "scrolled": true
   },
   "outputs": [],
   "source": []
  },
  {
   "cell_type": "code",
   "execution_count": null,
   "metadata": {
    "collapsed": true,
    "hidden": true,
    "scrolled": true
   },
   "outputs": [],
   "source": []
  },
  {
   "cell_type": "code",
   "execution_count": null,
   "metadata": {
    "collapsed": true,
    "hidden": true,
    "scrolled": true
   },
   "outputs": [],
   "source": []
  },
  {
   "cell_type": "code",
   "execution_count": null,
   "metadata": {
    "collapsed": true,
    "hidden": true,
    "scrolled": true
   },
   "outputs": [],
   "source": []
  },
  {
   "cell_type": "code",
   "execution_count": null,
   "metadata": {
    "collapsed": true,
    "hidden": true,
    "scrolled": true
   },
   "outputs": [],
   "source": []
  },
  {
   "cell_type": "code",
   "execution_count": null,
   "metadata": {
    "collapsed": true,
    "hidden": true,
    "scrolled": true
   },
   "outputs": [],
   "source": []
  },
  {
   "cell_type": "code",
   "execution_count": null,
   "metadata": {
    "collapsed": true,
    "hidden": true,
    "scrolled": true
   },
   "outputs": [],
   "source": []
  },
  {
   "cell_type": "code",
   "execution_count": null,
   "metadata": {
    "collapsed": true,
    "hidden": true,
    "scrolled": true
   },
   "outputs": [],
   "source": []
  },
  {
   "cell_type": "code",
   "execution_count": null,
   "metadata": {
    "collapsed": true,
    "hidden": true,
    "scrolled": true
   },
   "outputs": [],
   "source": []
  }
 ],
 "metadata": {
  "celltoolbar": "Initialisation Cell",
  "kernelspec": {
   "display_name": "Python 3",
   "language": "python",
   "name": "python3"
  },
  "language_info": {
   "codemirror_mode": {
    "name": "ipython",
    "version": 3
   },
   "file_extension": ".py",
   "mimetype": "text/x-python",
   "name": "python",
   "nbconvert_exporter": "python",
   "pygments_lexer": "ipython3",
   "version": "3.6.3"
  },
  "widgets": {
   "state": {},
   "version": "1.1.1"
  }
 },
 "nbformat": 4,
 "nbformat_minor": 1
}
